{
 "cells": [
  {
   "cell_type": "code",
   "execution_count": 29,
   "metadata": {
    "ExecuteTime": {
     "end_time": "2019-03-12T21:51:09.420887Z",
     "start_time": "2019-03-12T21:51:09.304966Z"
    }
   },
   "outputs": [],
   "source": [
    "## Run some preliminary models on cleaned visa perm data"
   ]
  },
  {
   "cell_type": "code",
   "execution_count": 30,
   "metadata": {
    "ExecuteTime": {
     "end_time": "2019-03-12T21:51:15.080180Z",
     "start_time": "2019-03-12T21:51:14.817439Z"
    }
   },
   "outputs": [],
   "source": [
    "import numpy as np\n",
    "import pandas as pd\n",
    "import matplotlib.pyplot as plt\n",
    "import seaborn as sns\n",
    "import pickle\n",
    "\n",
    "import warnings\n",
    "warnings.filterwarnings('ignore')\n",
    "\n",
    "%matplotlib inline"
   ]
  },
  {
   "cell_type": "code",
   "execution_count": 31,
   "metadata": {
    "ExecuteTime": {
     "end_time": "2019-03-12T21:51:19.641765Z",
     "start_time": "2019-03-12T21:51:19.163001Z"
    }
   },
   "outputs": [],
   "source": [
    "# # Unpickle\n",
    "perm_df = pd.read_pickle(\"./perm_clean_df.pkl\")"
   ]
  },
  {
   "cell_type": "code",
   "execution_count": 32,
   "metadata": {
    "ExecuteTime": {
     "end_time": "2019-03-12T21:51:23.486828Z",
     "start_time": "2019-03-12T21:51:23.371045Z"
    }
   },
   "outputs": [
    {
     "data": {
      "text/html": [
       "<div>\n",
       "<style scoped>\n",
       "    .dataframe tbody tr th:only-of-type {\n",
       "        vertical-align: middle;\n",
       "    }\n",
       "\n",
       "    .dataframe tbody tr th {\n",
       "        vertical-align: top;\n",
       "    }\n",
       "\n",
       "    .dataframe thead th {\n",
       "        text-align: right;\n",
       "    }\n",
       "</style>\n",
       "<table border=\"1\" class=\"dataframe\">\n",
       "  <thead>\n",
       "    <tr style=\"text-align: right;\">\n",
       "      <th></th>\n",
       "      <th>case_outcome</th>\n",
       "      <th>fiscal_year_of_application</th>\n",
       "      <th>processing_center</th>\n",
       "      <th>class_of_admission</th>\n",
       "      <th>country_of_citizenship</th>\n",
       "      <th>citizenship_same_as_birth</th>\n",
       "      <th>wage_for_job</th>\n",
       "      <th>job_soc_code</th>\n",
       "      <th>job_economic_sector</th>\n",
       "      <th>employer_completed_application</th>\n",
       "      <th>decision_month_year</th>\n",
       "      <th>applicant_highest_education</th>\n",
       "      <th>training_required</th>\n",
       "      <th>layoff_in_past_six_months</th>\n",
       "      <th>ownership_interest</th>\n",
       "      <th>employer_num_employees</th>\n",
       "      <th>worker_state_abv</th>\n",
       "      <th>job_same_state</th>\n",
       "      <th>has_required_experience</th>\n",
       "    </tr>\n",
       "  </thead>\n",
       "  <tbody>\n",
       "    <tr>\n",
       "      <th>0</th>\n",
       "      <td>1</td>\n",
       "      <td>2008</td>\n",
       "      <td>A</td>\n",
       "      <td>a1/a2</td>\n",
       "      <td>mauritania</td>\n",
       "      <td>1</td>\n",
       "      <td>53039.0</td>\n",
       "      <td>35</td>\n",
       "      <td>unclassified</td>\n",
       "      <td>0</td>\n",
       "      <td>200809</td>\n",
       "      <td>unknown</td>\n",
       "      <td>0</td>\n",
       "      <td>0</td>\n",
       "      <td>0</td>\n",
       "      <td>28602.038217</td>\n",
       "      <td>unknown</td>\n",
       "      <td>1</td>\n",
       "      <td>n</td>\n",
       "    </tr>\n",
       "    <tr>\n",
       "      <th>1</th>\n",
       "      <td>1</td>\n",
       "      <td>2008</td>\n",
       "      <td>C</td>\n",
       "      <td>a1/a2</td>\n",
       "      <td>pakistan</td>\n",
       "      <td>1</td>\n",
       "      <td>53039.0</td>\n",
       "      <td>19</td>\n",
       "      <td>unclassified</td>\n",
       "      <td>0</td>\n",
       "      <td>200711</td>\n",
       "      <td>unknown</td>\n",
       "      <td>0</td>\n",
       "      <td>0</td>\n",
       "      <td>0</td>\n",
       "      <td>28602.038217</td>\n",
       "      <td>unknown</td>\n",
       "      <td>1</td>\n",
       "      <td>n</td>\n",
       "    </tr>\n",
       "    <tr>\n",
       "      <th>2</th>\n",
       "      <td>0</td>\n",
       "      <td>2008</td>\n",
       "      <td>A</td>\n",
       "      <td>a3</td>\n",
       "      <td>philippines</td>\n",
       "      <td>1</td>\n",
       "      <td>53039.0</td>\n",
       "      <td>35</td>\n",
       "      <td>unclassified</td>\n",
       "      <td>0</td>\n",
       "      <td>200807</td>\n",
       "      <td>unknown</td>\n",
       "      <td>0</td>\n",
       "      <td>0</td>\n",
       "      <td>0</td>\n",
       "      <td>28602.038217</td>\n",
       "      <td>unknown</td>\n",
       "      <td>1</td>\n",
       "      <td>n</td>\n",
       "    </tr>\n",
       "    <tr>\n",
       "      <th>3</th>\n",
       "      <td>1</td>\n",
       "      <td>2008</td>\n",
       "      <td>A</td>\n",
       "      <td>a3</td>\n",
       "      <td>portugal</td>\n",
       "      <td>1</td>\n",
       "      <td>53039.0</td>\n",
       "      <td>47</td>\n",
       "      <td>unclassified</td>\n",
       "      <td>0</td>\n",
       "      <td>200710</td>\n",
       "      <td>unknown</td>\n",
       "      <td>0</td>\n",
       "      <td>0</td>\n",
       "      <td>0</td>\n",
       "      <td>28602.038217</td>\n",
       "      <td>unknown</td>\n",
       "      <td>1</td>\n",
       "      <td>n</td>\n",
       "    </tr>\n",
       "    <tr>\n",
       "      <th>4</th>\n",
       "      <td>1</td>\n",
       "      <td>2008</td>\n",
       "      <td>A</td>\n",
       "      <td>b1</td>\n",
       "      <td>sierra leone</td>\n",
       "      <td>1</td>\n",
       "      <td>53039.0</td>\n",
       "      <td>99</td>\n",
       "      <td>unclassified</td>\n",
       "      <td>0</td>\n",
       "      <td>200809</td>\n",
       "      <td>unknown</td>\n",
       "      <td>0</td>\n",
       "      <td>0</td>\n",
       "      <td>0</td>\n",
       "      <td>28602.038217</td>\n",
       "      <td>unknown</td>\n",
       "      <td>1</td>\n",
       "      <td>n</td>\n",
       "    </tr>\n",
       "  </tbody>\n",
       "</table>\n",
       "</div>"
      ],
      "text/plain": [
       "  case_outcome fiscal_year_of_application processing_center  \\\n",
       "0            1                       2008                 A   \n",
       "1            1                       2008                 C   \n",
       "2            0                       2008                 A   \n",
       "3            1                       2008                 A   \n",
       "4            1                       2008                 A   \n",
       "\n",
       "  class_of_admission country_of_citizenship citizenship_same_as_birth  \\\n",
       "0              a1/a2             mauritania                         1   \n",
       "1              a1/a2               pakistan                         1   \n",
       "2                 a3            philippines                         1   \n",
       "3                 a3               portugal                         1   \n",
       "4                 b1           sierra leone                         1   \n",
       "\n",
       "   wage_for_job job_soc_code job_economic_sector  \\\n",
       "0       53039.0           35        unclassified   \n",
       "1       53039.0           19        unclassified   \n",
       "2       53039.0           35        unclassified   \n",
       "3       53039.0           47        unclassified   \n",
       "4       53039.0           99        unclassified   \n",
       "\n",
       "  employer_completed_application decision_month_year  \\\n",
       "0                              0              200809   \n",
       "1                              0              200711   \n",
       "2                              0              200807   \n",
       "3                              0              200710   \n",
       "4                              0              200809   \n",
       "\n",
       "  applicant_highest_education training_required layoff_in_past_six_months  \\\n",
       "0                     unknown                 0                         0   \n",
       "1                     unknown                 0                         0   \n",
       "2                     unknown                 0                         0   \n",
       "3                     unknown                 0                         0   \n",
       "4                     unknown                 0                         0   \n",
       "\n",
       "  ownership_interest  employer_num_employees worker_state_abv job_same_state  \\\n",
       "0                  0            28602.038217          unknown              1   \n",
       "1                  0            28602.038217          unknown              1   \n",
       "2                  0            28602.038217          unknown              1   \n",
       "3                  0            28602.038217          unknown              1   \n",
       "4                  0            28602.038217          unknown              1   \n",
       "\n",
       "  has_required_experience  \n",
       "0                       n  \n",
       "1                       n  \n",
       "2                       n  \n",
       "3                       n  \n",
       "4                       n  "
      ]
     },
     "execution_count": 32,
     "metadata": {},
     "output_type": "execute_result"
    }
   ],
   "source": [
    "perm_df.head()"
   ]
  },
  {
   "cell_type": "code",
   "execution_count": 33,
   "metadata": {
    "ExecuteTime": {
     "end_time": "2019-03-12T21:54:21.050600Z",
     "start_time": "2019-03-12T21:54:20.926360Z"
    }
   },
   "outputs": [
    {
     "name": "stdout",
     "output_type": "stream",
     "text": [
      " Certified: 90.66%\n",
      " Denied: 9.34%\n"
     ]
    }
   ],
   "source": [
    "print(f\" Certified: {((perm_df.case_outcome.value_counts()[0]/perm_df.case_outcome.count())*100).round(2)}%\")\n",
    "print(f\" Denied: {((perm_df.case_outcome.value_counts()[1]/perm_df.case_outcome.count())*100).round(2)}%\")"
   ]
  },
  {
   "cell_type": "code",
   "execution_count": 35,
   "metadata": {
    "ExecuteTime": {
     "end_time": "2019-03-12T21:55:11.745630Z",
     "start_time": "2019-03-12T21:55:11.314913Z"
    }
   },
   "outputs": [
    {
     "name": "stdout",
     "output_type": "stream",
     "text": [
      "<class 'pandas.core.frame.DataFrame'>\n",
      "RangeIndex: 848252 entries, 0 to 848251\n",
      "Data columns (total 19 columns):\n",
      "case_outcome                      848252 non-null category\n",
      "fiscal_year_of_application        848252 non-null category\n",
      "processing_center                 848252 non-null category\n",
      "class_of_admission                848252 non-null category\n",
      "country_of_citizenship            848252 non-null object\n",
      "citizenship_same_as_birth         848252 non-null category\n",
      "wage_for_job                      848252 non-null float64\n",
      "job_soc_code                      848252 non-null category\n",
      "job_economic_sector               848252 non-null object\n",
      "employer_completed_application    848252 non-null category\n",
      "decision_month_year               848252 non-null category\n",
      "applicant_highest_education       848252 non-null category\n",
      "training_required                 848252 non-null category\n",
      "layoff_in_past_six_months         848252 non-null category\n",
      "ownership_interest                848252 non-null category\n",
      "employer_num_employees            848252 non-null float64\n",
      "worker_state_abv                  848252 non-null category\n",
      "job_same_state                    848252 non-null category\n",
      "has_required_experience           848252 non-null category\n",
      "dtypes: category(15), float64(2), object(2)\n",
      "memory usage: 38.8+ MB\n"
     ]
    }
   ],
   "source": [
    "perm_df.info()"
   ]
  },
  {
   "cell_type": "code",
   "execution_count": 37,
   "metadata": {
    "ExecuteTime": {
     "end_time": "2019-03-12T21:57:58.488060Z",
     "start_time": "2019-03-12T21:57:58.454522Z"
    }
   },
   "outputs": [
    {
     "data": {
      "text/html": [
       "<div>\n",
       "<style scoped>\n",
       "    .dataframe tbody tr th:only-of-type {\n",
       "        vertical-align: middle;\n",
       "    }\n",
       "\n",
       "    .dataframe tbody tr th {\n",
       "        vertical-align: top;\n",
       "    }\n",
       "\n",
       "    .dataframe thead th {\n",
       "        text-align: right;\n",
       "    }\n",
       "</style>\n",
       "<table border=\"1\" class=\"dataframe\">\n",
       "  <thead>\n",
       "    <tr style=\"text-align: right;\">\n",
       "      <th></th>\n",
       "      <th>case_outcome</th>\n",
       "      <th>fiscal_year_of_application</th>\n",
       "      <th>processing_center</th>\n",
       "      <th>class_of_admission</th>\n",
       "      <th>country_of_citizenship</th>\n",
       "      <th>citizenship_same_as_birth</th>\n",
       "      <th>wage_for_job</th>\n",
       "      <th>job_soc_code</th>\n",
       "      <th>job_economic_sector</th>\n",
       "      <th>employer_completed_application</th>\n",
       "      <th>decision_month_year</th>\n",
       "      <th>applicant_highest_education</th>\n",
       "      <th>training_required</th>\n",
       "      <th>layoff_in_past_six_months</th>\n",
       "      <th>ownership_interest</th>\n",
       "      <th>employer_num_employees</th>\n",
       "      <th>worker_state_abv</th>\n",
       "      <th>job_same_state</th>\n",
       "      <th>has_required_experience</th>\n",
       "    </tr>\n",
       "  </thead>\n",
       "  <tbody>\n",
       "    <tr>\n",
       "      <th>0</th>\n",
       "      <td>1</td>\n",
       "      <td>2008</td>\n",
       "      <td>A</td>\n",
       "      <td>a1/a2</td>\n",
       "      <td>mauritania</td>\n",
       "      <td>1</td>\n",
       "      <td>53039.0</td>\n",
       "      <td>35</td>\n",
       "      <td>unclassified</td>\n",
       "      <td>0</td>\n",
       "      <td>200809</td>\n",
       "      <td>unknown</td>\n",
       "      <td>0</td>\n",
       "      <td>0</td>\n",
       "      <td>0</td>\n",
       "      <td>28602.038217</td>\n",
       "      <td>unknown</td>\n",
       "      <td>1</td>\n",
       "      <td>n</td>\n",
       "    </tr>\n",
       "    <tr>\n",
       "      <th>1</th>\n",
       "      <td>1</td>\n",
       "      <td>2008</td>\n",
       "      <td>C</td>\n",
       "      <td>a1/a2</td>\n",
       "      <td>pakistan</td>\n",
       "      <td>1</td>\n",
       "      <td>53039.0</td>\n",
       "      <td>19</td>\n",
       "      <td>unclassified</td>\n",
       "      <td>0</td>\n",
       "      <td>200711</td>\n",
       "      <td>unknown</td>\n",
       "      <td>0</td>\n",
       "      <td>0</td>\n",
       "      <td>0</td>\n",
       "      <td>28602.038217</td>\n",
       "      <td>unknown</td>\n",
       "      <td>1</td>\n",
       "      <td>n</td>\n",
       "    </tr>\n",
       "    <tr>\n",
       "      <th>2</th>\n",
       "      <td>0</td>\n",
       "      <td>2008</td>\n",
       "      <td>A</td>\n",
       "      <td>a3</td>\n",
       "      <td>philippines</td>\n",
       "      <td>1</td>\n",
       "      <td>53039.0</td>\n",
       "      <td>35</td>\n",
       "      <td>unclassified</td>\n",
       "      <td>0</td>\n",
       "      <td>200807</td>\n",
       "      <td>unknown</td>\n",
       "      <td>0</td>\n",
       "      <td>0</td>\n",
       "      <td>0</td>\n",
       "      <td>28602.038217</td>\n",
       "      <td>unknown</td>\n",
       "      <td>1</td>\n",
       "      <td>n</td>\n",
       "    </tr>\n",
       "    <tr>\n",
       "      <th>3</th>\n",
       "      <td>1</td>\n",
       "      <td>2008</td>\n",
       "      <td>A</td>\n",
       "      <td>a3</td>\n",
       "      <td>portugal</td>\n",
       "      <td>1</td>\n",
       "      <td>53039.0</td>\n",
       "      <td>47</td>\n",
       "      <td>unclassified</td>\n",
       "      <td>0</td>\n",
       "      <td>200710</td>\n",
       "      <td>unknown</td>\n",
       "      <td>0</td>\n",
       "      <td>0</td>\n",
       "      <td>0</td>\n",
       "      <td>28602.038217</td>\n",
       "      <td>unknown</td>\n",
       "      <td>1</td>\n",
       "      <td>n</td>\n",
       "    </tr>\n",
       "    <tr>\n",
       "      <th>4</th>\n",
       "      <td>1</td>\n",
       "      <td>2008</td>\n",
       "      <td>A</td>\n",
       "      <td>b1</td>\n",
       "      <td>sierra leone</td>\n",
       "      <td>1</td>\n",
       "      <td>53039.0</td>\n",
       "      <td>99</td>\n",
       "      <td>unclassified</td>\n",
       "      <td>0</td>\n",
       "      <td>200809</td>\n",
       "      <td>unknown</td>\n",
       "      <td>0</td>\n",
       "      <td>0</td>\n",
       "      <td>0</td>\n",
       "      <td>28602.038217</td>\n",
       "      <td>unknown</td>\n",
       "      <td>1</td>\n",
       "      <td>n</td>\n",
       "    </tr>\n",
       "  </tbody>\n",
       "</table>\n",
       "</div>"
      ],
      "text/plain": [
       "  case_outcome fiscal_year_of_application processing_center  \\\n",
       "0            1                       2008                 A   \n",
       "1            1                       2008                 C   \n",
       "2            0                       2008                 A   \n",
       "3            1                       2008                 A   \n",
       "4            1                       2008                 A   \n",
       "\n",
       "  class_of_admission country_of_citizenship citizenship_same_as_birth  \\\n",
       "0              a1/a2             mauritania                         1   \n",
       "1              a1/a2               pakistan                         1   \n",
       "2                 a3            philippines                         1   \n",
       "3                 a3               portugal                         1   \n",
       "4                 b1           sierra leone                         1   \n",
       "\n",
       "   wage_for_job job_soc_code job_economic_sector  \\\n",
       "0       53039.0           35        unclassified   \n",
       "1       53039.0           19        unclassified   \n",
       "2       53039.0           35        unclassified   \n",
       "3       53039.0           47        unclassified   \n",
       "4       53039.0           99        unclassified   \n",
       "\n",
       "  employer_completed_application decision_month_year  \\\n",
       "0                              0              200809   \n",
       "1                              0              200711   \n",
       "2                              0              200807   \n",
       "3                              0              200710   \n",
       "4                              0              200809   \n",
       "\n",
       "  applicant_highest_education training_required layoff_in_past_six_months  \\\n",
       "0                     unknown                 0                         0   \n",
       "1                     unknown                 0                         0   \n",
       "2                     unknown                 0                         0   \n",
       "3                     unknown                 0                         0   \n",
       "4                     unknown                 0                         0   \n",
       "\n",
       "  ownership_interest  employer_num_employees worker_state_abv job_same_state  \\\n",
       "0                  0            28602.038217          unknown              1   \n",
       "1                  0            28602.038217          unknown              1   \n",
       "2                  0            28602.038217          unknown              1   \n",
       "3                  0            28602.038217          unknown              1   \n",
       "4                  0            28602.038217          unknown              1   \n",
       "\n",
       "  has_required_experience  \n",
       "0                       n  \n",
       "1                       n  \n",
       "2                       n  \n",
       "3                       n  \n",
       "4                       n  "
      ]
     },
     "execution_count": 37,
     "metadata": {},
     "output_type": "execute_result"
    }
   ],
   "source": [
    "perm_df.head()"
   ]
  },
  {
   "cell_type": "markdown",
   "metadata": {},
   "source": [
    "### Get dummies"
   ]
  },
  {
   "cell_type": "code",
   "execution_count": 39,
   "metadata": {
    "ExecuteTime": {
     "end_time": "2019-03-12T22:00:17.768553Z",
     "start_time": "2019-03-12T22:00:13.096211Z"
    }
   },
   "outputs": [],
   "source": [
    "perm_dummied = perm_df.join(pd.get_dummies(perm_df[['fiscal_year_of_application', 'processing_center', 'class_of_admission', 'country_of_citizenship', 'job_soc_code', 'job_economic_sector', 'decision_month_year', 'applicant_highest_education', 'worker_state_abv', 'has_required_experience']], drop_first=True))\n",
    "\n"
   ]
  },
  {
   "cell_type": "code",
   "execution_count": 43,
   "metadata": {
    "ExecuteTime": {
     "end_time": "2019-03-12T22:01:33.858826Z",
     "start_time": "2019-03-12T22:01:33.369467Z"
    }
   },
   "outputs": [],
   "source": [
    "perm_dummied.drop(['fiscal_year_of_application', 'processing_center', 'class_of_admission', 'country_of_citizenship', 'job_soc_code', 'job_economic_sector', 'decision_month_year', 'applicant_highest_education', 'worker_state_abv', 'has_required_experience'], axis=1, inplace=True)\n"
   ]
  },
  {
   "cell_type": "code",
   "execution_count": 44,
   "metadata": {
    "ExecuteTime": {
     "end_time": "2019-03-12T22:01:38.716845Z",
     "start_time": "2019-03-12T22:01:38.677229Z"
    }
   },
   "outputs": [
    {
     "data": {
      "text/html": [
       "<div>\n",
       "<style scoped>\n",
       "    .dataframe tbody tr th:only-of-type {\n",
       "        vertical-align: middle;\n",
       "    }\n",
       "\n",
       "    .dataframe tbody tr th {\n",
       "        vertical-align: top;\n",
       "    }\n",
       "\n",
       "    .dataframe thead th {\n",
       "        text-align: right;\n",
       "    }\n",
       "</style>\n",
       "<table border=\"1\" class=\"dataframe\">\n",
       "  <thead>\n",
       "    <tr style=\"text-align: right;\">\n",
       "      <th></th>\n",
       "      <th>case_outcome</th>\n",
       "      <th>citizenship_same_as_birth</th>\n",
       "      <th>wage_for_job</th>\n",
       "      <th>employer_completed_application</th>\n",
       "      <th>training_required</th>\n",
       "      <th>layoff_in_past_six_months</th>\n",
       "      <th>ownership_interest</th>\n",
       "      <th>employer_num_employees</th>\n",
       "      <th>job_same_state</th>\n",
       "      <th>fiscal_year_of_application_2009</th>\n",
       "      <th>...</th>\n",
       "      <th>worker_state_abv_VA</th>\n",
       "      <th>worker_state_abv_VI</th>\n",
       "      <th>worker_state_abv_VT</th>\n",
       "      <th>worker_state_abv_WA</th>\n",
       "      <th>worker_state_abv_WI</th>\n",
       "      <th>worker_state_abv_WV</th>\n",
       "      <th>worker_state_abv_WY</th>\n",
       "      <th>worker_state_abv_unknown</th>\n",
       "      <th>has_required_experience_n</th>\n",
       "      <th>has_required_experience_y</th>\n",
       "    </tr>\n",
       "  </thead>\n",
       "  <tbody>\n",
       "    <tr>\n",
       "      <th>0</th>\n",
       "      <td>1</td>\n",
       "      <td>1</td>\n",
       "      <td>53039.0</td>\n",
       "      <td>0</td>\n",
       "      <td>0</td>\n",
       "      <td>0</td>\n",
       "      <td>0</td>\n",
       "      <td>28602.038217</td>\n",
       "      <td>1</td>\n",
       "      <td>0</td>\n",
       "      <td>...</td>\n",
       "      <td>0</td>\n",
       "      <td>0</td>\n",
       "      <td>0</td>\n",
       "      <td>0</td>\n",
       "      <td>0</td>\n",
       "      <td>0</td>\n",
       "      <td>0</td>\n",
       "      <td>1</td>\n",
       "      <td>1</td>\n",
       "      <td>0</td>\n",
       "    </tr>\n",
       "    <tr>\n",
       "      <th>1</th>\n",
       "      <td>1</td>\n",
       "      <td>1</td>\n",
       "      <td>53039.0</td>\n",
       "      <td>0</td>\n",
       "      <td>0</td>\n",
       "      <td>0</td>\n",
       "      <td>0</td>\n",
       "      <td>28602.038217</td>\n",
       "      <td>1</td>\n",
       "      <td>0</td>\n",
       "      <td>...</td>\n",
       "      <td>0</td>\n",
       "      <td>0</td>\n",
       "      <td>0</td>\n",
       "      <td>0</td>\n",
       "      <td>0</td>\n",
       "      <td>0</td>\n",
       "      <td>0</td>\n",
       "      <td>1</td>\n",
       "      <td>1</td>\n",
       "      <td>0</td>\n",
       "    </tr>\n",
       "    <tr>\n",
       "      <th>2</th>\n",
       "      <td>0</td>\n",
       "      <td>1</td>\n",
       "      <td>53039.0</td>\n",
       "      <td>0</td>\n",
       "      <td>0</td>\n",
       "      <td>0</td>\n",
       "      <td>0</td>\n",
       "      <td>28602.038217</td>\n",
       "      <td>1</td>\n",
       "      <td>0</td>\n",
       "      <td>...</td>\n",
       "      <td>0</td>\n",
       "      <td>0</td>\n",
       "      <td>0</td>\n",
       "      <td>0</td>\n",
       "      <td>0</td>\n",
       "      <td>0</td>\n",
       "      <td>0</td>\n",
       "      <td>1</td>\n",
       "      <td>1</td>\n",
       "      <td>0</td>\n",
       "    </tr>\n",
       "    <tr>\n",
       "      <th>3</th>\n",
       "      <td>1</td>\n",
       "      <td>1</td>\n",
       "      <td>53039.0</td>\n",
       "      <td>0</td>\n",
       "      <td>0</td>\n",
       "      <td>0</td>\n",
       "      <td>0</td>\n",
       "      <td>28602.038217</td>\n",
       "      <td>1</td>\n",
       "      <td>0</td>\n",
       "      <td>...</td>\n",
       "      <td>0</td>\n",
       "      <td>0</td>\n",
       "      <td>0</td>\n",
       "      <td>0</td>\n",
       "      <td>0</td>\n",
       "      <td>0</td>\n",
       "      <td>0</td>\n",
       "      <td>1</td>\n",
       "      <td>1</td>\n",
       "      <td>0</td>\n",
       "    </tr>\n",
       "    <tr>\n",
       "      <th>4</th>\n",
       "      <td>1</td>\n",
       "      <td>1</td>\n",
       "      <td>53039.0</td>\n",
       "      <td>0</td>\n",
       "      <td>0</td>\n",
       "      <td>0</td>\n",
       "      <td>0</td>\n",
       "      <td>28602.038217</td>\n",
       "      <td>1</td>\n",
       "      <td>0</td>\n",
       "      <td>...</td>\n",
       "      <td>0</td>\n",
       "      <td>0</td>\n",
       "      <td>0</td>\n",
       "      <td>0</td>\n",
       "      <td>0</td>\n",
       "      <td>0</td>\n",
       "      <td>0</td>\n",
       "      <td>1</td>\n",
       "      <td>1</td>\n",
       "      <td>0</td>\n",
       "    </tr>\n",
       "  </tbody>\n",
       "</table>\n",
       "<p>5 rows × 545 columns</p>\n",
       "</div>"
      ],
      "text/plain": [
       "  case_outcome citizenship_same_as_birth  wage_for_job  \\\n",
       "0            1                         1       53039.0   \n",
       "1            1                         1       53039.0   \n",
       "2            0                         1       53039.0   \n",
       "3            1                         1       53039.0   \n",
       "4            1                         1       53039.0   \n",
       "\n",
       "  employer_completed_application training_required layoff_in_past_six_months  \\\n",
       "0                              0                 0                         0   \n",
       "1                              0                 0                         0   \n",
       "2                              0                 0                         0   \n",
       "3                              0                 0                         0   \n",
       "4                              0                 0                         0   \n",
       "\n",
       "  ownership_interest  employer_num_employees job_same_state  \\\n",
       "0                  0            28602.038217              1   \n",
       "1                  0            28602.038217              1   \n",
       "2                  0            28602.038217              1   \n",
       "3                  0            28602.038217              1   \n",
       "4                  0            28602.038217              1   \n",
       "\n",
       "   fiscal_year_of_application_2009  ...  worker_state_abv_VA  \\\n",
       "0                                0  ...                    0   \n",
       "1                                0  ...                    0   \n",
       "2                                0  ...                    0   \n",
       "3                                0  ...                    0   \n",
       "4                                0  ...                    0   \n",
       "\n",
       "   worker_state_abv_VI  worker_state_abv_VT  worker_state_abv_WA  \\\n",
       "0                    0                    0                    0   \n",
       "1                    0                    0                    0   \n",
       "2                    0                    0                    0   \n",
       "3                    0                    0                    0   \n",
       "4                    0                    0                    0   \n",
       "\n",
       "   worker_state_abv_WI  worker_state_abv_WV  worker_state_abv_WY  \\\n",
       "0                    0                    0                    0   \n",
       "1                    0                    0                    0   \n",
       "2                    0                    0                    0   \n",
       "3                    0                    0                    0   \n",
       "4                    0                    0                    0   \n",
       "\n",
       "   worker_state_abv_unknown  has_required_experience_n  \\\n",
       "0                         1                          1   \n",
       "1                         1                          1   \n",
       "2                         1                          1   \n",
       "3                         1                          1   \n",
       "4                         1                          1   \n",
       "\n",
       "   has_required_experience_y  \n",
       "0                          0  \n",
       "1                          0  \n",
       "2                          0  \n",
       "3                          0  \n",
       "4                          0  \n",
       "\n",
       "[5 rows x 545 columns]"
      ]
     },
     "execution_count": 44,
     "metadata": {},
     "output_type": "execute_result"
    }
   ],
   "source": [
    "perm_dummied.head()"
   ]
  },
  {
   "cell_type": "markdown",
   "metadata": {},
   "source": [
    "### Run logistic regression (no oversample)"
   ]
  },
  {
   "cell_type": "code",
   "execution_count": 45,
   "metadata": {
    "ExecuteTime": {
     "end_time": "2019-03-12T22:02:29.226535Z",
     "start_time": "2019-03-12T22:02:29.216830Z"
    }
   },
   "outputs": [],
   "source": [
    "from sklearn.model_selection import train_test_split"
   ]
  },
  {
   "cell_type": "code",
   "execution_count": 46,
   "metadata": {
    "ExecuteTime": {
     "end_time": "2019-03-12T22:02:36.286855Z",
     "start_time": "2019-03-12T22:02:33.566032Z"
    }
   },
   "outputs": [],
   "source": [
    "X = perm_dummied.drop('case_outcome', axis=1)\n",
    "y = perm_dummied['case_outcome']\n",
    "\n",
    "X_train, X_hold_out, y_train, y_hold_out = train_test_split(X, y, test_size=.20, random_state=14)"
   ]
  },
  {
   "cell_type": "code",
   "execution_count": 47,
   "metadata": {
    "ExecuteTime": {
     "end_time": "2019-03-12T22:02:42.259875Z",
     "start_time": "2019-03-12T22:02:42.239914Z"
    }
   },
   "outputs": [
    {
     "data": {
      "text/plain": [
       "Counter({0: 153634, 1: 16017})"
      ]
     },
     "execution_count": 47,
     "metadata": {},
     "output_type": "execute_result"
    }
   ],
   "source": [
    "from collections import Counter\n",
    "Counter(y_hold_out)"
   ]
  },
  {
   "cell_type": "code",
   "execution_count": 49,
   "metadata": {
    "ExecuteTime": {
     "end_time": "2019-03-12T22:05:49.595408Z",
     "start_time": "2019-03-12T22:05:49.591943Z"
    }
   },
   "outputs": [],
   "source": [
    "from sklearn.linear_model import LogisticRegression, LogisticRegressionCV"
   ]
  },
  {
   "cell_type": "code",
   "execution_count": 64,
   "metadata": {
    "ExecuteTime": {
     "end_time": "2019-03-12T22:20:00.354965Z",
     "start_time": "2019-03-12T22:17:06.829764Z"
    }
   },
   "outputs": [],
   "source": [
    "# Log Reg with Cross Validation\n",
    "lr_cv = LogisticRegressionCV(random_state=14).fit(X_train, y_train)\n",
    "lr_cv_predprob = lr_cv.predict_proba(X_hold_out)\n",
    "lr_cv_pred= lr_cv.predict(X_hold_out)"
   ]
  },
  {
   "cell_type": "code",
   "execution_count": 55,
   "metadata": {
    "ExecuteTime": {
     "end_time": "2019-03-12T22:09:32.454884Z",
     "start_time": "2019-03-12T22:08:07.469128Z"
    }
   },
   "outputs": [],
   "source": [
    "# Log Reg on train and validation data\n",
    "lr = LogisticRegression(random_state=28).fit(X_train, y_train)\n",
    "lr_predprob = lr.predict_proba(X_hold_out)\n",
    "lr_pred = lr.predict(X_hold_out)"
   ]
  },
  {
   "cell_type": "code",
   "execution_count": 56,
   "metadata": {
    "ExecuteTime": {
     "end_time": "2019-03-12T22:09:37.560086Z",
     "start_time": "2019-03-12T22:09:37.018368Z"
    }
   },
   "outputs": [
    {
     "data": {
      "text/plain": [
       "<Figure size 720x504 with 0 Axes>"
      ]
     },
     "execution_count": 56,
     "metadata": {},
     "output_type": "execute_result"
    },
    {
     "data": {
      "image/png": "[encoded data removed]",
      "text/plain": [
       "<Figure size 432x288 with 2 Axes>"
      ]
     },
     "metadata": {
      "needs_background": "light"
     },
     "output_type": "display_data"
    },
    {
     "data": {
      "text/plain": [
       "<Figure size 720x504 with 0 Axes>"
      ]
     },
     "metadata": {},
     "output_type": "display_data"
    }
   ],
   "source": [
    "# Print confusion matrix\n",
    "from sklearn.metrics import accuracy_score, precision_score, recall_score, f1_score, roc_curve, roc_auc_score, confusion_matrix\n",
    "\n",
    "cm = confusion_matrix(y_hold_out, lr_pred)\n",
    "print_confusion_matrix(cm, [\"Certified\", \"Denied\"])"
   ]
  },
  {
   "cell_type": "code",
   "execution_count": 67,
   "metadata": {
    "ExecuteTime": {
     "end_time": "2019-03-12T22:27:43.150866Z",
     "start_time": "2019-03-12T22:24:42.891978Z"
    }
   },
   "outputs": [
    {
     "data": {
      "text/plain": [
       "'Accuracy: 0.906 \\n    Precision: 0.0 \\n    Recall: 0.0 \\n    F1: 0.0'"
      ]
     },
     "execution_count": 67,
     "metadata": {},
     "output_type": "execute_result"
    }
   ],
   "source": [
    "log_reg_errors(y_hold_out, lr_cv_pred, X_train, y_train)"
   ]
  },
  {
   "cell_type": "markdown",
   "metadata": {},
   "source": [
    "### Address class imbalance - Oversampling"
   ]
  },
  {
   "cell_type": "code",
   "execution_count": 57,
   "metadata": {
    "ExecuteTime": {
     "end_time": "2019-03-12T22:10:06.458883Z",
     "start_time": "2019-03-12T22:10:06.356512Z"
    }
   },
   "outputs": [],
   "source": [
    "from imblearn.over_sampling import RandomOverSampler"
   ]
  },
  {
   "cell_type": "code",
   "execution_count": 58,
   "metadata": {
    "ExecuteTime": {
     "end_time": "2019-03-12T22:12:27.633917Z",
     "start_time": "2019-03-12T22:10:10.570419Z"
    }
   },
   "outputs": [],
   "source": [
    "ros = RandomOverSampler(random_state=27)\n",
    "X_resampled, y_resampled = ros.fit_sample(X, y)"
   ]
  },
  {
   "cell_type": "code",
   "execution_count": 59,
   "metadata": {
    "ExecuteTime": {
     "end_time": "2019-03-12T22:12:33.001368Z",
     "start_time": "2019-03-12T22:12:32.942973Z"
    }
   },
   "outputs": [
    {
     "data": {
      "text/plain": [
       "{0: 769009, 1: 769009}"
      ]
     },
     "execution_count": 59,
     "metadata": {},
     "output_type": "execute_result"
    }
   ],
   "source": [
    "values, counts = np.unique(y_resampled, return_counts=True)\n",
    "dict(zip(values, counts))"
   ]
  },
  {
   "cell_type": "code",
   "execution_count": 60,
   "metadata": {
    "ExecuteTime": {
     "end_time": "2019-03-12T22:12:37.947839Z",
     "start_time": "2019-03-12T22:12:37.536242Z"
    }
   },
   "outputs": [
    {
     "data": {
      "text/plain": [
       "Counter({1: 769009, 0: 769009})"
      ]
     },
     "execution_count": 60,
     "metadata": {},
     "output_type": "execute_result"
    }
   ],
   "source": [
    "from collections import Counter\n",
    "Counter(y_resampled)"
   ]
  },
  {
   "cell_type": "code",
   "execution_count": 61,
   "metadata": {
    "ExecuteTime": {
     "end_time": "2019-03-12T22:13:37.981057Z",
     "start_time": "2019-03-12T22:12:42.454624Z"
    }
   },
   "outputs": [],
   "source": [
    "X_res_train, X_res_hold_out, y_res_train, y_res_hold_out = train_test_split(X_resampled, y_resampled, test_size=.20, random_state=14)"
   ]
  },
  {
   "cell_type": "code",
   "execution_count": 62,
   "metadata": {
    "ExecuteTime": {
     "end_time": "2019-03-12T22:15:07.149455Z",
     "start_time": "2019-03-12T22:13:43.157116Z"
    }
   },
   "outputs": [],
   "source": [
    "# Log Reg on train and validation data\n",
    "lr = LogisticRegression(random_state=28).fit(X_res_train, y_res_train)\n",
    "lr_predprob = lr.predict_proba(X_res_hold_out)\n",
    "lr_pred = lr.predict(X_res_hold_out)"
   ]
  },
  {
   "cell_type": "code",
   "execution_count": 63,
   "metadata": {
    "ExecuteTime": {
     "end_time": "2019-03-12T22:15:14.072837Z",
     "start_time": "2019-03-12T22:15:13.211757Z"
    }
   },
   "outputs": [
    {
     "data": {
      "text/plain": [
       "<Figure size 720x504 with 0 Axes>"
      ]
     },
     "execution_count": 63,
     "metadata": {},
     "output_type": "execute_result"
    },
    {
     "data": {
      "image/png": "[encoded data removed]",
      "text/plain": [
       "<Figure size 432x288 with 2 Axes>"
      ]
     },
     "metadata": {
      "needs_background": "light"
     },
     "output_type": "display_data"
    },
    {
     "data": {
      "text/plain": [
       "<Figure size 720x504 with 0 Axes>"
      ]
     },
     "metadata": {},
     "output_type": "display_data"
    }
   ],
   "source": [
    "cm = confusion_matrix(y_res_hold_out, lr_pred)\n",
    "print_confusion_matrix(cm, [\"Certified\", \"Denied\"])"
   ]
  },
  {
   "cell_type": "code",
   "execution_count": 68,
   "metadata": {
    "ExecuteTime": {
     "end_time": "2019-03-12T22:37:29.100195Z",
     "start_time": "2019-03-12T22:31:08.440520Z"
    }
   },
   "outputs": [],
   "source": [
    "# Log Reg with Cross Validation\n",
    "lr_cv = LogisticRegressionCV(random_state=14).fit(X_res_train, y_res_train)\n",
    "lr_cv_predprob = lr_cv.predict_proba(X_res_hold_out)\n",
    "lr_cv_pred= lr_cv.predict(X_res_hold_out)"
   ]
  },
  {
   "cell_type": "code",
   "execution_count": 70,
   "metadata": {
    "ExecuteTime": {
     "end_time": "2019-03-12T22:46:12.170859Z",
     "start_time": "2019-03-12T22:42:11.178915Z"
    }
   },
   "outputs": [
    {
     "data": {
      "text/plain": [
       "'Accuracy: 0.507 \\n    Precision: 0.517 \\n    Recall: 0.159 \\n    F1: 0.243'"
      ]
     },
     "execution_count": 70,
     "metadata": {},
     "output_type": "execute_result"
    }
   ],
   "source": [
    "log_reg_errors(y_res_hold_out, lr_cv_pred, X_res_train, y_res_train)"
   ]
  },
  {
   "cell_type": "markdown",
   "metadata": {},
   "source": [
    "### Functions"
   ]
  },
  {
   "cell_type": "code",
   "execution_count": 53,
   "metadata": {
    "ExecuteTime": {
     "end_time": "2019-03-12T22:07:41.150263Z",
     "start_time": "2019-03-12T22:07:41.136731Z"
    }
   },
   "outputs": [],
   "source": [
    "def print_confusion_matrix(confusion_matrix, class_names, figsize = (10,7), fontsize=14):\n",
    "    \"\"\"Prints a confusion matrix, as returned by sklearn.metrics.confusion_matrix, as a heatmap.\n",
    "    \n",
    "    Arguments\n",
    "    ---------\n",
    "    confusion_matrix: numpy.ndarray\n",
    "        The numpy.ndarray object returned from a call to sklearn.metrics.confusion_matrix. \n",
    "        Similarly constructed ndarrays can also be used.\n",
    "    class_names: list\n",
    "        An ordered list of class names, in the order they index the given confusion matrix.\n",
    "    figsize: tuple\n",
    "        A 2-long tuple, the first value determining the horizontal size of the ouputted figure,\n",
    "        the second determining the vertical size. Defaults to (10,7).\n",
    "    fontsize: int\n",
    "        Font size for axes labels. Defaults to 14.\n",
    "        \n",
    "    Returns\n",
    "    -------\n",
    "    matplotlib.figure.Figure\n",
    "        The resulting confusion matrix figure\n",
    "    \"\"\"\n",
    "    df_cm = pd.DataFrame(confusion_matrix, index=class_names, columns=class_names) \n",
    "    try:\n",
    "        heatmap = sns.heatmap(df_cm, annot=True, fmt=\"d\")\n",
    "    except ValueError:\n",
    "        raise ValueError(\"Confusion matrix values must be integers.\")\n",
    "    heatmap.yaxis.set_ticklabels(heatmap.yaxis.get_ticklabels(), rotation=0, ha='right', fontsize=fontsize)\n",
    "    heatmap.xaxis.set_ticklabels(heatmap.xaxis.get_ticklabels(), rotation=45, ha='right', fontsize=fontsize)\n",
    "    plt.ylabel('True label')\n",
    "    plt.xlabel('Predicted label');\n",
    "    return plt.figure(figsize=figsize);"
   ]
  },
  {
   "cell_type": "code",
   "execution_count": 66,
   "metadata": {
    "ExecuteTime": {
     "end_time": "2019-03-12T22:24:35.997467Z",
     "start_time": "2019-03-12T22:24:35.984484Z"
    }
   },
   "outputs": [],
   "source": [
    "def log_reg_errors(y_val, prediction, x_train, y_train):\n",
    "\n",
    "    '''Returns Accuracy, Precision, Recall and F1 Scores for Logistic \n",
    "    Regression and Cross Validation models. \n",
    "    \n",
    "    Inputs: Y validation data\n",
    "            Logistic Regression Predictions\n",
    "            X training data\n",
    "            Y training data'''\n",
    "    \n",
    "    cross_val_model = LogisticRegressionCV(random_state=14).fit(x_train, y_train)\n",
    "    \n",
    "    accuracy = (accuracy_score(y_val, prediction)).round(3)\n",
    "    #cross_val_acc = (cross_val_score(cross_val_model, x_train, y_train)).mean().round(3)\n",
    "    precision = (precision_score(y_val, prediction)).round(3)\n",
    "    #cross_val_prec = (cross_val_score(cross_val_model, x_train, y_train, scoring='precision')).mean().round(3)\n",
    "    recall = (recall_score(y_val, prediction)).round(3)\n",
    "    #cross_val_recall = (cross_val_score(cross_val_model, x_train, y_train, scoring='recall')).mean().round(3)\n",
    "    f1 = (f1_score(y_val, prediction)).round(3)\n",
    "    #cross_val_f1 = (cross_val_score(cross_val_model, x_train, y_train, scoring='f1')).mean().round(3)\n",
    "    \n",
    "    return(f'''Accuracy: {accuracy} \n",
    "    Precision: {precision} \n",
    "    Recall: {recall} \n",
    "    F1: {f1}''')"
   ]
  },
  {
   "cell_type": "code",
   "execution_count": null,
   "metadata": {},
   "outputs": [],
   "source": []
  }
 ],
 "metadata": {
  "kernelspec": {
   "display_name": "Python 3",
   "language": "python",
   "name": "python3"
  },
  "language_info": {
   "codemirror_mode": {
    "name": "ipython",
    "version": 3
   },
   "file_extension": ".py",
   "mimetype": "text/x-python",
   "name": "python",
   "nbconvert_exporter": "python",
   "pygments_lexer": "ipython3",
   "version": "3.6.8"
  },
  "toc": {
   "base_numbering": 1,
   "nav_menu": {},
   "number_sections": true,
   "sideBar": true,
   "skip_h1_title": false,
   "title_cell": "Table of Contents",
   "title_sidebar": "Contents",
   "toc_cell": false,
   "toc_position": {},
   "toc_section_display": true,
   "toc_window_display": false
  },
  "varInspector": {
   "cols": {
    "lenName": 16,
    "lenType": 16,
    "lenVar": 40
   },
   "kernels_config": {
    "python": {
     "delete_cmd_postfix": "",
     "delete_cmd_prefix": "del ",
     "library": "var_list.py",
     "varRefreshCmd": "print(var_dic_list())"
    },
    "r": {
     "delete_cmd_postfix": ") ",
     "delete_cmd_prefix": "rm(",
     "library": "var_list.r",
     "varRefreshCmd": "cat(var_dic_list()) "
    }
   },
   "types_to_exclude": [
    "module",
    "function",
    "builtin_function_or_method",
    "instance",
    "_Feature"
   ],
   "window_display": false
  }
 },
 "nbformat": 4,
 "nbformat_minor": 2
}
