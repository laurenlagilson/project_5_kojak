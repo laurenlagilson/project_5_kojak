{
 "cells": [
  {
   "cell_type": "code",
   "execution_count": 171,
   "metadata": {
    "ExecuteTime": {
     "end_time": "2019-03-17T18:36:32.915764Z",
     "start_time": "2019-03-17T18:36:32.838099Z"
    }
   },
   "outputs": [],
   "source": [
    "import numpy as np\n",
    "import pandas as pd\n",
    "import matplotlib.pyplot as plt\n",
    "import seaborn as sns\n",
    "import pickle\n",
    "import operator\n",
    "\n",
    "from collections import Counter\n",
    "\n",
    "from sklearn.linear_model import LogisticRegression, LogisticRegressionCV\n",
    "from sklearn.tree import DecisionTreeClassifier\n",
    "from sklearn.ensemble import RandomForestClassifier\n",
    "from sklearn.metrics import accuracy_score, precision_score, recall_score, f1_score, roc_curve, roc_auc_score, confusion_matrix\n",
    "from imblearn.over_sampling import RandomOverSampler\n",
    "from imblearn.under_sampling import RandomUnderSampler\n",
    "from sklearn.model_selection import train_test_split, cross_val_score\n",
    "\n",
    "import warnings\n",
    "warnings.filterwarnings('ignore')\n",
    "\n",
    "%matplotlib inline"
   ]
  },
  {
   "cell_type": "code",
   "execution_count": 39,
   "metadata": {
    "ExecuteTime": {
     "end_time": "2019-03-17T16:43:59.882308Z",
     "start_time": "2019-03-17T16:43:59.556048Z"
    }
   },
   "outputs": [],
   "source": [
    "perm_df = pd.read_pickle(\"./final_clean_df.pkl\")"
   ]
  },
  {
   "cell_type": "code",
   "execution_count": 40,
   "metadata": {
    "ExecuteTime": {
     "end_time": "2019-03-17T16:44:02.138760Z",
     "start_time": "2019-03-17T16:44:01.347608Z"
    }
   },
   "outputs": [],
   "source": [
    "perm_df.dropna(inplace=True)"
   ]
  },
  {
   "cell_type": "code",
   "execution_count": 41,
   "metadata": {
    "ExecuteTime": {
     "end_time": "2019-03-17T16:44:03.529538Z",
     "start_time": "2019-03-17T16:44:03.491917Z"
    }
   },
   "outputs": [
    {
     "name": "stdout",
     "output_type": "stream",
     "text": [
      " Certified: 90.68%\n",
      " Denied: 9.32%\n"
     ]
    }
   ],
   "source": [
    "print(f\" Certified: {((perm_df.case_outcome.value_counts()[0]/perm_df.case_outcome.count())*100).round(2)}%\")\n",
    "print(f\" Denied: {((perm_df.case_outcome.value_counts()[1]/perm_df.case_outcome.count())*100).round(2)}%\")"
   ]
  },
  {
   "cell_type": "code",
   "execution_count": 42,
   "metadata": {
    "ExecuteTime": {
     "end_time": "2019-03-17T16:44:04.902317Z",
     "start_time": "2019-03-17T16:44:04.859812Z"
    },
    "scrolled": true
   },
   "outputs": [
    {
     "data": {
      "text/html": [
       "<div>\n",
       "<style scoped>\n",
       "    .dataframe tbody tr th:only-of-type {\n",
       "        vertical-align: middle;\n",
       "    }\n",
       "\n",
       "    .dataframe tbody tr th {\n",
       "        vertical-align: top;\n",
       "    }\n",
       "\n",
       "    .dataframe thead th {\n",
       "        text-align: right;\n",
       "    }\n",
       "</style>\n",
       "<table border=\"1\" class=\"dataframe\">\n",
       "  <thead>\n",
       "    <tr style=\"text-align: right;\">\n",
       "      <th></th>\n",
       "      <th>case_outcome</th>\n",
       "      <th>fiscal_year_of_application</th>\n",
       "      <th>processing_center</th>\n",
       "      <th>class_of_admission</th>\n",
       "      <th>country_of_citizenship</th>\n",
       "      <th>citizenship_same_as_birth</th>\n",
       "      <th>wage_for_job</th>\n",
       "      <th>job_soc_code</th>\n",
       "      <th>job_economic_sector</th>\n",
       "      <th>employer_completed_application</th>\n",
       "      <th>...</th>\n",
       "      <th>employer_num_employees</th>\n",
       "      <th>worker_state_abv</th>\n",
       "      <th>job_same_state</th>\n",
       "      <th>has_required_experience</th>\n",
       "      <th>gdp</th>\n",
       "      <th>employment</th>\n",
       "      <th>gov_expen</th>\n",
       "      <th>percentage_of_immigrants</th>\n",
       "      <th>net_migration</th>\n",
       "      <th>political_party</th>\n",
       "    </tr>\n",
       "  </thead>\n",
       "  <tbody>\n",
       "    <tr>\n",
       "      <th>0</th>\n",
       "      <td>1</td>\n",
       "      <td>2008</td>\n",
       "      <td>A</td>\n",
       "      <td>a1/a2</td>\n",
       "      <td>MRT</td>\n",
       "      <td>1</td>\n",
       "      <td>53039.0</td>\n",
       "      <td>35</td>\n",
       "      <td>unclassified</td>\n",
       "      <td>0</td>\n",
       "      <td>...</td>\n",
       "      <td>28602</td>\n",
       "      <td>unknown</td>\n",
       "      <td>1</td>\n",
       "      <td>n</td>\n",
       "      <td>3.36</td>\n",
       "      <td>13.74</td>\n",
       "      <td>4.23</td>\n",
       "      <td>1.84</td>\n",
       "      <td>10005.0</td>\n",
       "      <td>1</td>\n",
       "    </tr>\n",
       "    <tr>\n",
       "      <th>1</th>\n",
       "      <td>1</td>\n",
       "      <td>2008</td>\n",
       "      <td>C</td>\n",
       "      <td>a1/a2</td>\n",
       "      <td>PAK</td>\n",
       "      <td>1</td>\n",
       "      <td>53039.0</td>\n",
       "      <td>19</td>\n",
       "      <td>unclassified</td>\n",
       "      <td>0</td>\n",
       "      <td>...</td>\n",
       "      <td>28602</td>\n",
       "      <td>unknown</td>\n",
       "      <td>1</td>\n",
       "      <td>n</td>\n",
       "      <td>152.39</td>\n",
       "      <td>40.94</td>\n",
       "      <td>2.64</td>\n",
       "      <td>2.07</td>\n",
       "      <td>-1396377.0</td>\n",
       "      <td>1</td>\n",
       "    </tr>\n",
       "    <tr>\n",
       "      <th>2</th>\n",
       "      <td>0</td>\n",
       "      <td>2008</td>\n",
       "      <td>A</td>\n",
       "      <td>a3</td>\n",
       "      <td>PHL</td>\n",
       "      <td>1</td>\n",
       "      <td>53039.0</td>\n",
       "      <td>35</td>\n",
       "      <td>unclassified</td>\n",
       "      <td>0</td>\n",
       "      <td>...</td>\n",
       "      <td>28602</td>\n",
       "      <td>unknown</td>\n",
       "      <td>1</td>\n",
       "      <td>n</td>\n",
       "      <td>149.36</td>\n",
       "      <td>38.22</td>\n",
       "      <td>2.60</td>\n",
       "      <td>0.30</td>\n",
       "      <td>-1500002.0</td>\n",
       "      <td>1</td>\n",
       "    </tr>\n",
       "    <tr>\n",
       "      <th>3</th>\n",
       "      <td>1</td>\n",
       "      <td>2008</td>\n",
       "      <td>A</td>\n",
       "      <td>a3</td>\n",
       "      <td>PRT</td>\n",
       "      <td>1</td>\n",
       "      <td>53039.0</td>\n",
       "      <td>47</td>\n",
       "      <td>unclassified</td>\n",
       "      <td>0</td>\n",
       "      <td>...</td>\n",
       "      <td>28602</td>\n",
       "      <td>unknown</td>\n",
       "      <td>1</td>\n",
       "      <td>n</td>\n",
       "      <td>240.17</td>\n",
       "      <td>34.41</td>\n",
       "      <td>4.92</td>\n",
       "      <td>7.36</td>\n",
       "      <td>92133.0</td>\n",
       "      <td>1</td>\n",
       "    </tr>\n",
       "    <tr>\n",
       "      <th>4</th>\n",
       "      <td>1</td>\n",
       "      <td>2008</td>\n",
       "      <td>A</td>\n",
       "      <td>b1</td>\n",
       "      <td>SLE</td>\n",
       "      <td>1</td>\n",
       "      <td>53039.0</td>\n",
       "      <td>99</td>\n",
       "      <td>unclassified</td>\n",
       "      <td>0</td>\n",
       "      <td>...</td>\n",
       "      <td>28602</td>\n",
       "      <td>unknown</td>\n",
       "      <td>1</td>\n",
       "      <td>n</td>\n",
       "      <td>2.16</td>\n",
       "      <td>13.74</td>\n",
       "      <td>2.56</td>\n",
       "      <td>2.95</td>\n",
       "      <td>60000.0</td>\n",
       "      <td>1</td>\n",
       "    </tr>\n",
       "  </tbody>\n",
       "</table>\n",
       "<p>5 rows × 25 columns</p>\n",
       "</div>"
      ],
      "text/plain": [
       "  case_outcome fiscal_year_of_application processing_center  \\\n",
       "0            1                       2008                 A   \n",
       "1            1                       2008                 C   \n",
       "2            0                       2008                 A   \n",
       "3            1                       2008                 A   \n",
       "4            1                       2008                 A   \n",
       "\n",
       "  class_of_admission country_of_citizenship citizenship_same_as_birth  \\\n",
       "0              a1/a2                    MRT                         1   \n",
       "1              a1/a2                    PAK                         1   \n",
       "2                 a3                    PHL                         1   \n",
       "3                 a3                    PRT                         1   \n",
       "4                 b1                    SLE                         1   \n",
       "\n",
       "   wage_for_job job_soc_code job_economic_sector  \\\n",
       "0       53039.0           35        unclassified   \n",
       "1       53039.0           19        unclassified   \n",
       "2       53039.0           35        unclassified   \n",
       "3       53039.0           47        unclassified   \n",
       "4       53039.0           99        unclassified   \n",
       "\n",
       "  employer_completed_application  ... employer_num_employees worker_state_abv  \\\n",
       "0                              0  ...                  28602          unknown   \n",
       "1                              0  ...                  28602          unknown   \n",
       "2                              0  ...                  28602          unknown   \n",
       "3                              0  ...                  28602          unknown   \n",
       "4                              0  ...                  28602          unknown   \n",
       "\n",
       "  job_same_state has_required_experience     gdp  employment gov_expen  \\\n",
       "0              1                       n    3.36       13.74      4.23   \n",
       "1              1                       n  152.39       40.94      2.64   \n",
       "2              1                       n  149.36       38.22      2.60   \n",
       "3              1                       n  240.17       34.41      4.92   \n",
       "4              1                       n    2.16       13.74      2.56   \n",
       "\n",
       "  percentage_of_immigrants net_migration  political_party  \n",
       "0                     1.84       10005.0                1  \n",
       "1                     2.07    -1396377.0                1  \n",
       "2                     0.30    -1500002.0                1  \n",
       "3                     7.36       92133.0                1  \n",
       "4                     2.95       60000.0                1  \n",
       "\n",
       "[5 rows x 25 columns]"
      ]
     },
     "execution_count": 42,
     "metadata": {},
     "output_type": "execute_result"
    }
   ],
   "source": [
    "perm_df.head()"
   ]
  },
  {
   "cell_type": "code",
   "execution_count": 43,
   "metadata": {
    "ExecuteTime": {
     "end_time": "2019-03-17T16:44:13.622063Z",
     "start_time": "2019-03-17T16:44:13.067173Z"
    }
   },
   "outputs": [
    {
     "name": "stdout",
     "output_type": "stream",
     "text": [
      "<class 'pandas.core.frame.DataFrame'>\n",
      "Int64Index: 848083 entries, 0 to 848085\n",
      "Data columns (total 25 columns):\n",
      "case_outcome                      848083 non-null category\n",
      "fiscal_year_of_application        848083 non-null object\n",
      "processing_center                 848083 non-null category\n",
      "class_of_admission                848083 non-null category\n",
      "country_of_citizenship            848083 non-null object\n",
      "citizenship_same_as_birth         848083 non-null category\n",
      "wage_for_job                      848083 non-null float64\n",
      "job_soc_code                      848083 non-null category\n",
      "job_economic_sector               848083 non-null object\n",
      "employer_completed_application    848083 non-null category\n",
      "decision_month_year               848083 non-null category\n",
      "applicant_highest_education       848083 non-null category\n",
      "training_required                 848083 non-null category\n",
      "layoff_in_past_six_months         848083 non-null category\n",
      "ownership_interest                848083 non-null category\n",
      "employer_num_employees            848083 non-null int64\n",
      "worker_state_abv                  848083 non-null category\n",
      "job_same_state                    848083 non-null category\n",
      "has_required_experience           848083 non-null category\n",
      "gdp                               848083 non-null float64\n",
      "employment                        848083 non-null float64\n",
      "gov_expen                         848083 non-null float64\n",
      "percentage_of_immigrants          848083 non-null float64\n",
      "net_migration                     848083 non-null float64\n",
      "political_party                   848083 non-null category\n",
      "dtypes: category(15), float64(6), int64(1), object(3)\n",
      "memory usage: 84.1+ MB\n"
     ]
    }
   ],
   "source": [
    "perm_df.info()"
   ]
  },
  {
   "cell_type": "markdown",
   "metadata": {},
   "source": [
    "### Get dummies"
   ]
  },
  {
   "cell_type": "code",
   "execution_count": 44,
   "metadata": {
    "ExecuteTime": {
     "end_time": "2019-03-17T16:44:59.785841Z",
     "start_time": "2019-03-17T16:44:55.148925Z"
    }
   },
   "outputs": [],
   "source": [
    "perm_dummied = perm_df.join(pd.get_dummies(perm_df[['fiscal_year_of_application', 'processing_center', 'class_of_admission', 'country_of_citizenship', 'job_soc_code', 'job_economic_sector', 'decision_month_year', 'applicant_highest_education', 'worker_state_abv', 'has_required_experience']], drop_first=True))\n"
   ]
  },
  {
   "cell_type": "code",
   "execution_count": 45,
   "metadata": {
    "ExecuteTime": {
     "end_time": "2019-03-17T16:45:04.560519Z",
     "start_time": "2019-03-17T16:45:01.950428Z"
    }
   },
   "outputs": [],
   "source": [
    "perm_dummied.drop(['fiscal_year_of_application', 'processing_center', 'class_of_admission', 'country_of_citizenship', 'job_soc_code', 'job_economic_sector', 'decision_month_year', 'applicant_highest_education', 'worker_state_abv', 'has_required_experience'], axis=1, inplace=True)\n"
   ]
  },
  {
   "cell_type": "code",
   "execution_count": 47,
   "metadata": {
    "ExecuteTime": {
     "end_time": "2019-03-17T16:45:26.832298Z",
     "start_time": "2019-03-17T16:45:26.820224Z"
    }
   },
   "outputs": [
    {
     "data": {
      "text/plain": [
       "['case_outcome',\n",
       " 'citizenship_same_as_birth',\n",
       " 'wage_for_job',\n",
       " 'employer_completed_application',\n",
       " 'training_required',\n",
       " 'layoff_in_past_six_months',\n",
       " 'ownership_interest',\n",
       " 'employer_num_employees',\n",
       " 'job_same_state',\n",
       " 'gdp',\n",
       " 'employment',\n",
       " 'gov_expen',\n",
       " 'percentage_of_immigrants',\n",
       " 'net_migration',\n",
       " 'political_party',\n",
       " 'fiscal_year_of_application_2009',\n",
       " 'fiscal_year_of_application_2010',\n",
       " 'fiscal_year_of_application_2011',\n",
       " 'fiscal_year_of_application_2012',\n",
       " 'fiscal_year_of_application_2013',\n",
       " 'fiscal_year_of_application_2014',\n",
       " 'fiscal_year_of_application_2015',\n",
       " 'fiscal_year_of_application_2016',\n",
       " 'fiscal_year_of_application_2017',\n",
       " 'fiscal_year_of_application_2018',\n",
       " 'fiscal_year_of_application_2019',\n",
       " 'processing_center_C',\n",
       " 'class_of_admission_a3',\n",
       " 'class_of_admission_aos',\n",
       " 'class_of_admission_aos/h1b',\n",
       " 'class_of_admission_b1',\n",
       " 'class_of_admission_b2',\n",
       " 'class_of_admission_c1',\n",
       " 'class_of_admission_c3',\n",
       " 'class_of_admission_d1',\n",
       " 'class_of_admission_d2',\n",
       " 'class_of_admission_e1',\n",
       " 'class_of_admission_e2',\n",
       " 'class_of_admission_e3',\n",
       " 'class_of_admission_ewi',\n",
       " 'class_of_admission_f1',\n",
       " 'class_of_admission_f2',\n",
       " 'class_of_admission_g1',\n",
       " 'class_of_admission_g2',\n",
       " 'class_of_admission_g3',\n",
       " 'class_of_admission_g4',\n",
       " 'class_of_admission_g5',\n",
       " 'class_of_admission_h1a',\n",
       " 'class_of_admission_h1b',\n",
       " 'class_of_admission_h1b/i485 app',\n",
       " 'class_of_admission_h1b1',\n",
       " 'class_of_admission_h1c',\n",
       " 'class_of_admission_h2a',\n",
       " 'class_of_admission_h2b',\n",
       " 'class_of_admission_h3',\n",
       " 'class_of_admission_h4',\n",
       " 'class_of_admission_i',\n",
       " 'class_of_admission_j1',\n",
       " 'class_of_admission_j2',\n",
       " 'class_of_admission_k1',\n",
       " 'class_of_admission_k2',\n",
       " 'class_of_admission_k3',\n",
       " 'class_of_admission_l1',\n",
       " 'class_of_admission_l1b',\n",
       " 'class_of_admission_l2',\n",
       " 'class_of_admission_m1',\n",
       " 'class_of_admission_m2',\n",
       " 'class_of_admission_n',\n",
       " 'class_of_admission_not in usa',\n",
       " 'class_of_admission_o1',\n",
       " 'class_of_admission_o2',\n",
       " 'class_of_admission_o3',\n",
       " 'class_of_admission_oos',\n",
       " 'class_of_admission_p1',\n",
       " 'class_of_admission_p2',\n",
       " 'class_of_admission_p3',\n",
       " 'class_of_admission_p4',\n",
       " 'class_of_admission_parol',\n",
       " 'class_of_admission_parolee',\n",
       " 'class_of_admission_q',\n",
       " 'class_of_admission_r1',\n",
       " 'class_of_admission_r2',\n",
       " 'class_of_admission_s6',\n",
       " 'class_of_admission_t1',\n",
       " 'class_of_admission_td',\n",
       " 'class_of_admission_tn',\n",
       " 'class_of_admission_tps',\n",
       " 'class_of_admission_u1',\n",
       " 'class_of_admission_u3',\n",
       " 'class_of_admission_u4',\n",
       " 'class_of_admission_unknown',\n",
       " 'class_of_admission_v1',\n",
       " 'class_of_admission_v2',\n",
       " 'class_of_admission_vwb',\n",
       " 'class_of_admission_vwt',\n",
       " 'country_of_citizenship_AGO',\n",
       " 'country_of_citizenship_ALB',\n",
       " 'country_of_citizenship_AND',\n",
       " 'country_of_citizenship_ARE',\n",
       " 'country_of_citizenship_ARG',\n",
       " 'country_of_citizenship_ARM',\n",
       " 'country_of_citizenship_ATG',\n",
       " 'country_of_citizenship_AUS',\n",
       " 'country_of_citizenship_AUT',\n",
       " 'country_of_citizenship_AZE',\n",
       " 'country_of_citizenship_BDI',\n",
       " 'country_of_citizenship_BEL',\n",
       " 'country_of_citizenship_BEN',\n",
       " 'country_of_citizenship_BFA',\n",
       " 'country_of_citizenship_BGD',\n",
       " 'country_of_citizenship_BGR',\n",
       " 'country_of_citizenship_BHR',\n",
       " 'country_of_citizenship_BHS',\n",
       " 'country_of_citizenship_BIH',\n",
       " 'country_of_citizenship_BLR',\n",
       " 'country_of_citizenship_BLZ',\n",
       " 'country_of_citizenship_BMU',\n",
       " 'country_of_citizenship_BOL',\n",
       " 'country_of_citizenship_BRA',\n",
       " 'country_of_citizenship_BRB',\n",
       " 'country_of_citizenship_BRN',\n",
       " 'country_of_citizenship_BTN',\n",
       " 'country_of_citizenship_BWA',\n",
       " 'country_of_citizenship_CAF',\n",
       " 'country_of_citizenship_CAN',\n",
       " 'country_of_citizenship_CHE',\n",
       " 'country_of_citizenship_CHL',\n",
       " 'country_of_citizenship_CHN',\n",
       " 'country_of_citizenship_CIV',\n",
       " 'country_of_citizenship_CMR',\n",
       " 'country_of_citizenship_COD',\n",
       " 'country_of_citizenship_COG',\n",
       " 'country_of_citizenship_COL',\n",
       " 'country_of_citizenship_COM',\n",
       " 'country_of_citizenship_CPV',\n",
       " 'country_of_citizenship_CRI',\n",
       " 'country_of_citizenship_CUB',\n",
       " 'country_of_citizenship_CYM',\n",
       " 'country_of_citizenship_CYP',\n",
       " 'country_of_citizenship_CZE',\n",
       " 'country_of_citizenship_DEU',\n",
       " 'country_of_citizenship_DMA',\n",
       " 'country_of_citizenship_DNK',\n",
       " 'country_of_citizenship_DOM',\n",
       " 'country_of_citizenship_DZA',\n",
       " 'country_of_citizenship_ECU',\n",
       " 'country_of_citizenship_EGY',\n",
       " 'country_of_citizenship_ERI',\n",
       " 'country_of_citizenship_ESP',\n",
       " 'country_of_citizenship_EST',\n",
       " 'country_of_citizenship_ETH',\n",
       " 'country_of_citizenship_FIN',\n",
       " 'country_of_citizenship_FJI',\n",
       " 'country_of_citizenship_FRA',\n",
       " 'country_of_citizenship_FSM',\n",
       " 'country_of_citizenship_GAB',\n",
       " 'country_of_citizenship_GBR',\n",
       " 'country_of_citizenship_GEO',\n",
       " 'country_of_citizenship_GHA',\n",
       " 'country_of_citizenship_GIN',\n",
       " 'country_of_citizenship_GMB',\n",
       " 'country_of_citizenship_GNB',\n",
       " 'country_of_citizenship_GNQ',\n",
       " 'country_of_citizenship_GRC',\n",
       " 'country_of_citizenship_GRD',\n",
       " 'country_of_citizenship_GTM',\n",
       " 'country_of_citizenship_GUY',\n",
       " 'country_of_citizenship_HKG',\n",
       " 'country_of_citizenship_HND',\n",
       " 'country_of_citizenship_HRV',\n",
       " 'country_of_citizenship_HTI',\n",
       " 'country_of_citizenship_HUN',\n",
       " 'country_of_citizenship_IDN',\n",
       " 'country_of_citizenship_IND',\n",
       " 'country_of_citizenship_IRL',\n",
       " 'country_of_citizenship_IRN',\n",
       " 'country_of_citizenship_IRQ',\n",
       " 'country_of_citizenship_ISL',\n",
       " 'country_of_citizenship_ISR',\n",
       " 'country_of_citizenship_ITA',\n",
       " 'country_of_citizenship_JAM',\n",
       " 'country_of_citizenship_JOR',\n",
       " 'country_of_citizenship_JPN',\n",
       " 'country_of_citizenship_KAZ',\n",
       " 'country_of_citizenship_KEN',\n",
       " 'country_of_citizenship_KGZ',\n",
       " 'country_of_citizenship_KHM',\n",
       " 'country_of_citizenship_KIR',\n",
       " 'country_of_citizenship_KNA',\n",
       " 'country_of_citizenship_KOR',\n",
       " 'country_of_citizenship_KWT',\n",
       " 'country_of_citizenship_LAO',\n",
       " 'country_of_citizenship_LBN',\n",
       " 'country_of_citizenship_LBR',\n",
       " 'country_of_citizenship_LBY',\n",
       " 'country_of_citizenship_LCA',\n",
       " 'country_of_citizenship_LIE',\n",
       " 'country_of_citizenship_LKA',\n",
       " 'country_of_citizenship_LSO',\n",
       " 'country_of_citizenship_LTU',\n",
       " 'country_of_citizenship_LUX',\n",
       " 'country_of_citizenship_LVA',\n",
       " 'country_of_citizenship_MAC',\n",
       " 'country_of_citizenship_MAR',\n",
       " 'country_of_citizenship_MCO',\n",
       " 'country_of_citizenship_MDA',\n",
       " 'country_of_citizenship_MDG',\n",
       " 'country_of_citizenship_MDV',\n",
       " 'country_of_citizenship_MEX',\n",
       " 'country_of_citizenship_MHL',\n",
       " 'country_of_citizenship_MKD',\n",
       " 'country_of_citizenship_MLI',\n",
       " 'country_of_citizenship_MLT',\n",
       " 'country_of_citizenship_MMR',\n",
       " 'country_of_citizenship_MNE',\n",
       " 'country_of_citizenship_MNG',\n",
       " 'country_of_citizenship_MOZ',\n",
       " 'country_of_citizenship_MRT',\n",
       " 'country_of_citizenship_MUS',\n",
       " 'country_of_citizenship_MWI',\n",
       " 'country_of_citizenship_MYS',\n",
       " 'country_of_citizenship_NAM',\n",
       " 'country_of_citizenship_NER',\n",
       " 'country_of_citizenship_NGA',\n",
       " 'country_of_citizenship_NIC',\n",
       " 'country_of_citizenship_NLD',\n",
       " 'country_of_citizenship_NOR',\n",
       " 'country_of_citizenship_NPL',\n",
       " 'country_of_citizenship_NRU',\n",
       " 'country_of_citizenship_NZL',\n",
       " 'country_of_citizenship_OMN',\n",
       " 'country_of_citizenship_PAK',\n",
       " 'country_of_citizenship_PAN',\n",
       " 'country_of_citizenship_PER',\n",
       " 'country_of_citizenship_PHL',\n",
       " 'country_of_citizenship_PNG',\n",
       " 'country_of_citizenship_POL',\n",
       " 'country_of_citizenship_PRK',\n",
       " 'country_of_citizenship_PRT',\n",
       " 'country_of_citizenship_PRY',\n",
       " 'country_of_citizenship_PSE',\n",
       " 'country_of_citizenship_QAT',\n",
       " 'country_of_citizenship_ROU',\n",
       " 'country_of_citizenship_RUS',\n",
       " 'country_of_citizenship_RWA',\n",
       " 'country_of_citizenship_SAU',\n",
       " 'country_of_citizenship_SDN',\n",
       " 'country_of_citizenship_SEN',\n",
       " 'country_of_citizenship_SGP',\n",
       " 'country_of_citizenship_SLB',\n",
       " 'country_of_citizenship_SLE',\n",
       " 'country_of_citizenship_SLV',\n",
       " 'country_of_citizenship_SOM',\n",
       " 'country_of_citizenship_SRB',\n",
       " 'country_of_citizenship_SSD',\n",
       " 'country_of_citizenship_STP',\n",
       " 'country_of_citizenship_SUR',\n",
       " 'country_of_citizenship_SVK',\n",
       " 'country_of_citizenship_SVN',\n",
       " 'country_of_citizenship_SWE',\n",
       " 'country_of_citizenship_SWZ',\n",
       " 'country_of_citizenship_SYC',\n",
       " 'country_of_citizenship_SYR',\n",
       " 'country_of_citizenship_TCA',\n",
       " 'country_of_citizenship_TCD',\n",
       " 'country_of_citizenship_TGO',\n",
       " 'country_of_citizenship_THA',\n",
       " 'country_of_citizenship_TJK',\n",
       " 'country_of_citizenship_TKM',\n",
       " 'country_of_citizenship_TON',\n",
       " 'country_of_citizenship_TTO',\n",
       " 'country_of_citizenship_TUN',\n",
       " 'country_of_citizenship_TUR',\n",
       " 'country_of_citizenship_TZA',\n",
       " 'country_of_citizenship_UGA',\n",
       " 'country_of_citizenship_UKR',\n",
       " 'country_of_citizenship_URY',\n",
       " 'country_of_citizenship_USA',\n",
       " 'country_of_citizenship_UZB',\n",
       " 'country_of_citizenship_VCT',\n",
       " 'country_of_citizenship_VEN',\n",
       " 'country_of_citizenship_VGB',\n",
       " 'country_of_citizenship_VNM',\n",
       " 'country_of_citizenship_VUT',\n",
       " 'country_of_citizenship_WSM',\n",
       " 'country_of_citizenship_XKX',\n",
       " 'country_of_citizenship_YEM',\n",
       " 'country_of_citizenship_ZAF',\n",
       " 'country_of_citizenship_ZMB',\n",
       " 'country_of_citizenship_ZWE',\n",
       " 'job_soc_code_11',\n",
       " 'job_soc_code_13',\n",
       " 'job_soc_code_15',\n",
       " 'job_soc_code_17',\n",
       " 'job_soc_code_19',\n",
       " 'job_soc_code_20',\n",
       " 'job_soc_code_21',\n",
       " 'job_soc_code_23',\n",
       " 'job_soc_code_25',\n",
       " 'job_soc_code_27',\n",
       " 'job_soc_code_29',\n",
       " 'job_soc_code_30',\n",
       " 'job_soc_code_31',\n",
       " 'job_soc_code_33',\n",
       " 'job_soc_code_35',\n",
       " 'job_soc_code_37',\n",
       " 'job_soc_code_39',\n",
       " 'job_soc_code_41',\n",
       " 'job_soc_code_43',\n",
       " 'job_soc_code_45',\n",
       " 'job_soc_code_47',\n",
       " 'job_soc_code_49',\n",
       " 'job_soc_code_51',\n",
       " 'job_soc_code_53',\n",
       " 'job_soc_code_55',\n",
       " 'job_soc_code_90',\n",
       " 'job_soc_code_91',\n",
       " 'job_soc_code_99',\n",
       " 'job_economic_sector_aerospace',\n",
       " 'job_economic_sector_agribusiness',\n",
       " 'job_economic_sector_automotive',\n",
       " 'job_economic_sector_biotechnology',\n",
       " 'job_economic_sector_construction',\n",
       " 'job_economic_sector_educational services',\n",
       " 'job_economic_sector_energy',\n",
       " 'job_economic_sector_fiunclassifiedce',\n",
       " 'job_economic_sector_geospatial',\n",
       " 'job_economic_sector_health care',\n",
       " 'job_economic_sector_homeland security',\n",
       " 'job_economic_sector_hospitality',\n",
       " 'job_economic_sector_it',\n",
       " 'job_economic_sector_other economic sector',\n",
       " 'job_economic_sector_retail',\n",
       " 'job_economic_sector_transportation',\n",
       " 'job_economic_sector_unclassified',\n",
       " 'decision_month_year_200711',\n",
       " 'decision_month_year_200712',\n",
       " 'decision_month_year_200801',\n",
       " 'decision_month_year_200802',\n",
       " 'decision_month_year_200803',\n",
       " 'decision_month_year_200804',\n",
       " 'decision_month_year_200805',\n",
       " 'decision_month_year_200806',\n",
       " 'decision_month_year_200807',\n",
       " 'decision_month_year_200808',\n",
       " 'decision_month_year_200809',\n",
       " 'decision_month_year_200810',\n",
       " 'decision_month_year_200811',\n",
       " 'decision_month_year_200812',\n",
       " 'decision_month_year_200901',\n",
       " 'decision_month_year_200902',\n",
       " 'decision_month_year_200903',\n",
       " 'decision_month_year_200904',\n",
       " 'decision_month_year_200905',\n",
       " 'decision_month_year_200906',\n",
       " 'decision_month_year_200907',\n",
       " 'decision_month_year_200908',\n",
       " 'decision_month_year_200909',\n",
       " 'decision_month_year_200910',\n",
       " 'decision_month_year_200911',\n",
       " 'decision_month_year_200912',\n",
       " 'decision_month_year_201001',\n",
       " 'decision_month_year_201002',\n",
       " 'decision_month_year_201003',\n",
       " 'decision_month_year_201004',\n",
       " 'decision_month_year_201005',\n",
       " 'decision_month_year_201006',\n",
       " 'decision_month_year_201007',\n",
       " 'decision_month_year_201008',\n",
       " 'decision_month_year_201009',\n",
       " 'decision_month_year_201010',\n",
       " 'decision_month_year_201011',\n",
       " 'decision_month_year_201012',\n",
       " 'decision_month_year_201101',\n",
       " 'decision_month_year_201102',\n",
       " 'decision_month_year_201103',\n",
       " 'decision_month_year_201104',\n",
       " 'decision_month_year_201105',\n",
       " 'decision_month_year_201106',\n",
       " 'decision_month_year_201107',\n",
       " 'decision_month_year_201108',\n",
       " 'decision_month_year_201109',\n",
       " 'decision_month_year_201110',\n",
       " 'decision_month_year_201111',\n",
       " 'decision_month_year_201112',\n",
       " 'decision_month_year_201201',\n",
       " 'decision_month_year_201202',\n",
       " 'decision_month_year_201203',\n",
       " 'decision_month_year_201204',\n",
       " 'decision_month_year_201205',\n",
       " 'decision_month_year_201206',\n",
       " 'decision_month_year_201207',\n",
       " 'decision_month_year_201208',\n",
       " 'decision_month_year_201209',\n",
       " 'decision_month_year_201210',\n",
       " 'decision_month_year_201211',\n",
       " 'decision_month_year_201212',\n",
       " 'decision_month_year_201301',\n",
       " 'decision_month_year_201302',\n",
       " 'decision_month_year_201303',\n",
       " 'decision_month_year_201304',\n",
       " 'decision_month_year_201305',\n",
       " 'decision_month_year_201306',\n",
       " 'decision_month_year_201307',\n",
       " 'decision_month_year_201308',\n",
       " 'decision_month_year_201309',\n",
       " 'decision_month_year_201310',\n",
       " 'decision_month_year_201311',\n",
       " 'decision_month_year_201312',\n",
       " 'decision_month_year_201401',\n",
       " 'decision_month_year_201402',\n",
       " 'decision_month_year_201403',\n",
       " 'decision_month_year_201404',\n",
       " 'decision_month_year_201405',\n",
       " 'decision_month_year_201406',\n",
       " 'decision_month_year_201407',\n",
       " 'decision_month_year_201408',\n",
       " 'decision_month_year_201409',\n",
       " 'decision_month_year_201410',\n",
       " 'decision_month_year_201411',\n",
       " 'decision_month_year_201412',\n",
       " 'decision_month_year_201501',\n",
       " 'decision_month_year_201502',\n",
       " 'decision_month_year_201503',\n",
       " 'decision_month_year_201504',\n",
       " 'decision_month_year_201505',\n",
       " 'decision_month_year_201506',\n",
       " 'decision_month_year_201507',\n",
       " 'decision_month_year_201508',\n",
       " 'decision_month_year_201509',\n",
       " 'decision_month_year_201510',\n",
       " 'decision_month_year_201511',\n",
       " 'decision_month_year_201512',\n",
       " 'decision_month_year_201601',\n",
       " 'decision_month_year_201602',\n",
       " 'decision_month_year_201603',\n",
       " 'decision_month_year_201604',\n",
       " 'decision_month_year_201605',\n",
       " 'decision_month_year_201606',\n",
       " 'decision_month_year_201607',\n",
       " 'decision_month_year_201608',\n",
       " 'decision_month_year_201609',\n",
       " 'decision_month_year_201610',\n",
       " 'decision_month_year_201611',\n",
       " 'decision_month_year_201612',\n",
       " 'decision_month_year_201701',\n",
       " 'decision_month_year_201702',\n",
       " 'decision_month_year_201703',\n",
       " 'decision_month_year_201704',\n",
       " 'decision_month_year_201705',\n",
       " 'decision_month_year_201706',\n",
       " 'decision_month_year_201707',\n",
       " 'decision_month_year_201708',\n",
       " 'decision_month_year_201709',\n",
       " 'decision_month_year_201710',\n",
       " 'decision_month_year_201711',\n",
       " 'decision_month_year_201712',\n",
       " 'decision_month_year_201801',\n",
       " 'decision_month_year_201802',\n",
       " 'decision_month_year_201803',\n",
       " 'decision_month_year_201804',\n",
       " 'decision_month_year_201805',\n",
       " 'decision_month_year_201806',\n",
       " 'decision_month_year_201807',\n",
       " 'decision_month_year_201808',\n",
       " 'decision_month_year_201809',\n",
       " 'decision_month_year_201810',\n",
       " 'decision_month_year_201811',\n",
       " 'decision_month_year_201812',\n",
       " \"applicant_highest_education_bachelor's\",\n",
       " 'applicant_highest_education_doctorate',\n",
       " 'applicant_highest_education_high school',\n",
       " \"applicant_highest_education_master's\",\n",
       " 'applicant_highest_education_none',\n",
       " 'applicant_highest_education_other',\n",
       " 'applicant_highest_education_unknown',\n",
       " 'worker_state_abv_AL',\n",
       " 'worker_state_abv_AR',\n",
       " 'worker_state_abv_AS',\n",
       " 'worker_state_abv_AZ',\n",
       " 'worker_state_abv_CA',\n",
       " 'worker_state_abv_CO',\n",
       " 'worker_state_abv_CT',\n",
       " 'worker_state_abv_DC',\n",
       " 'worker_state_abv_DE',\n",
       " 'worker_state_abv_FL',\n",
       " 'worker_state_abv_GA',\n",
       " 'worker_state_abv_GU',\n",
       " 'worker_state_abv_HI',\n",
       " 'worker_state_abv_IA',\n",
       " 'worker_state_abv_ID',\n",
       " 'worker_state_abv_IL',\n",
       " 'worker_state_abv_IN',\n",
       " 'worker_state_abv_KS',\n",
       " 'worker_state_abv_KY',\n",
       " 'worker_state_abv_LA',\n",
       " 'worker_state_abv_MA',\n",
       " 'worker_state_abv_MD',\n",
       " 'worker_state_abv_ME',\n",
       " 'worker_state_abv_MH',\n",
       " 'worker_state_abv_MI',\n",
       " 'worker_state_abv_MN',\n",
       " 'worker_state_abv_MO',\n",
       " 'worker_state_abv_MP',\n",
       " 'worker_state_abv_MS',\n",
       " 'worker_state_abv_MT',\n",
       " 'worker_state_abv_NC',\n",
       " 'worker_state_abv_ND',\n",
       " 'worker_state_abv_NE',\n",
       " 'worker_state_abv_NH',\n",
       " 'worker_state_abv_NJ',\n",
       " 'worker_state_abv_NM',\n",
       " 'worker_state_abv_NV',\n",
       " 'worker_state_abv_NY',\n",
       " 'worker_state_abv_OH',\n",
       " 'worker_state_abv_OK',\n",
       " 'worker_state_abv_OR',\n",
       " 'worker_state_abv_PA',\n",
       " 'worker_state_abv_PR',\n",
       " 'worker_state_abv_RI',\n",
       " 'worker_state_abv_SC',\n",
       " 'worker_state_abv_SD',\n",
       " 'worker_state_abv_TN',\n",
       " 'worker_state_abv_TX',\n",
       " 'worker_state_abv_UT',\n",
       " 'worker_state_abv_VA',\n",
       " 'worker_state_abv_VI',\n",
       " 'worker_state_abv_VT',\n",
       " 'worker_state_abv_WA',\n",
       " 'worker_state_abv_WI',\n",
       " 'worker_state_abv_WV',\n",
       " 'worker_state_abv_WY',\n",
       " 'worker_state_abv_unknown',\n",
       " 'has_required_experience_n',\n",
       " 'has_required_experience_y']"
      ]
     },
     "execution_count": 47,
     "metadata": {},
     "output_type": "execute_result"
    }
   ],
   "source": [
    "list(perm_dummied.columns)"
   ]
  },
  {
   "cell_type": "markdown",
   "metadata": {},
   "source": [
    "### Oversample"
   ]
  },
  {
   "cell_type": "code",
   "execution_count": 48,
   "metadata": {
    "ExecuteTime": {
     "end_time": "2019-03-17T16:46:10.763263Z",
     "start_time": "2019-03-17T16:46:10.370486Z"
    }
   },
   "outputs": [],
   "source": [
    "# Split into X and y\n",
    "X = perm_dummied.drop('case_outcome', axis=1)\n",
    "y = perm_dummied['case_outcome']"
   ]
  },
  {
   "cell_type": "code",
   "execution_count": 11,
   "metadata": {
    "ExecuteTime": {
     "end_time": "2019-03-17T15:08:09.029726Z",
     "start_time": "2019-03-17T15:08:08.930564Z"
    }
   },
   "outputs": [
    {
     "data": {
      "text/plain": [
       "Counter({1: 79083, 0: 769000})"
      ]
     },
     "execution_count": 11,
     "metadata": {},
     "output_type": "execute_result"
    }
   ],
   "source": [
    "Counter(y)"
   ]
  },
  {
   "cell_type": "code",
   "execution_count": null,
   "metadata": {
    "ExecuteTime": {
     "start_time": "2019-03-17T15:02:54.403Z"
    }
   },
   "outputs": [],
   "source": [
    "# Over sample y (only 9% denied)\n",
    "ros = RandomOverSampler(random_state=27)\n",
    "X_oversample, y_oversample = ros.fit_sample(X, y)"
   ]
  },
  {
   "cell_type": "code",
   "execution_count": null,
   "metadata": {
    "ExecuteTime": {
     "start_time": "2019-03-17T15:02:54.945Z"
    }
   },
   "outputs": [],
   "source": [
    "# Check classes are equal\n",
    "Counter(y_resampled)"
   ]
  },
  {
   "cell_type": "markdown",
   "metadata": {},
   "source": [
    "### Undersample"
   ]
  },
  {
   "cell_type": "code",
   "execution_count": 140,
   "metadata": {
    "ExecuteTime": {
     "end_time": "2019-03-17T18:13:19.259747Z",
     "start_time": "2019-03-17T18:13:19.248129Z"
    }
   },
   "outputs": [],
   "source": [
    "# function to undersample and split data\n",
    "def SplitData(X, y):\n",
    "    \n",
    "    # undersample (over sampling is too computationally expensive)\n",
    "    rus = RandomUnderSampler(random_state=27)\n",
    "    X_undersample, y_undersample = rus.fit_sample(X,y)\n",
    "    \n",
    "    # Split out 80% for training\n",
    "    X_training, X_hold_out, y_training, y_hold_out = train_test_split(X_undersample, y_undersample, test_size=.20, random_state=27)\n",
    "    \n",
    "    # Spliting training data into train and val\n",
    "    X_train, X_val, y_train, y_val= train_test_split(X_training, y_training, test_size=.25, random_state=27)\n",
    "    \n",
    "    labels = ['X_training', 'X_hold_out', 'y_training', 'y_hold_out', 'X_train', 'X_val', 'y_train', 'y_val']\n",
    "    split_data_list = (X_training, X_hold_out, y_training, y_hold_out, X_train, X_val, y_train, y_val)\n",
    "    \n",
    "    return dict(zip(labels, split_data_list))"
   ]
  },
  {
   "cell_type": "markdown",
   "metadata": {},
   "source": [
    "**Variables:**  \n",
    "X_train / y_train - TRAINING DATA  - (60%)  \n",
    "X_val / y_val - VALIDATION DATA  - (20%)  \n",
    "\n",
    "X_training / y_training - FULL TRAINING SET (for final model)  - (80%)  \n",
    "X_hold_out / y_hold_out - TESTING DATA (for final model) - (20%)"
   ]
  },
  {
   "cell_type": "markdown",
   "metadata": {},
   "source": [
    "### Logistic Regression - all features"
   ]
  },
  {
   "cell_type": "code",
   "execution_count": 151,
   "metadata": {
    "ExecuteTime": {
     "end_time": "2019-03-17T18:21:06.780504Z",
     "start_time": "2019-03-17T18:19:19.077929Z"
    }
   },
   "outputs": [],
   "source": [
    "# Split into X and y (everything)\n",
    "X = perm_dummied.drop('case_outcome', axis=1)\n",
    "y = perm_dummied['case_outcome']\n",
    "\n",
    "# Split data using all features\n",
    "all_features = SplitData(X,y)"
   ]
  },
  {
   "cell_type": "code",
   "execution_count": 152,
   "metadata": {
    "ExecuteTime": {
     "end_time": "2019-03-17T18:21:13.686917Z",
     "start_time": "2019-03-17T18:21:09.777637Z"
    }
   },
   "outputs": [],
   "source": [
    "# Log Reg on train and validation data\n",
    "lr = LogisticRegression(random_state=27).fit(all_features['X_train'], all_features['y_train'])\n",
    "lr_predprob = lr.predict_proba(all_features['X_val'])\n",
    "lr_pred = lr.predict(all_features['X_val'])"
   ]
  },
  {
   "cell_type": "code",
   "execution_count": 153,
   "metadata": {
    "ExecuteTime": {
     "end_time": "2019-03-17T18:21:26.476458Z",
     "start_time": "2019-03-17T18:21:13.689402Z"
    }
   },
   "outputs": [
    {
     "data": {
      "text/plain": [
       "'Accuracy: 0.507 \\n    Precision: 0.529 \\n    Recall: 0.139 \\n    F1: 0.22'"
      ]
     },
     "execution_count": 153,
     "metadata": {},
     "output_type": "execute_result"
    }
   ],
   "source": [
    "log_reg_errors(all_features['y_val'], lr_pred, all_features['X_train'], all_features['y_train'])"
   ]
  },
  {
   "cell_type": "code",
   "execution_count": 154,
   "metadata": {
    "ExecuteTime": {
     "end_time": "2019-03-17T18:21:30.223449Z",
     "start_time": "2019-03-17T18:21:29.930110Z"
    }
   },
   "outputs": [
    {
     "data": {
      "text/plain": [
       "<Figure size 720x504 with 0 Axes>"
      ]
     },
     "execution_count": 154,
     "metadata": {},
     "output_type": "execute_result"
    },
    {
     "data": {
      "image/png": "[encoded data removed]",
      "text/plain": [
       "<Figure size 432x288 with 2 Axes>"
      ]
     },
     "metadata": {
      "needs_background": "light"
     },
     "output_type": "display_data"
    },
    {
     "data": {
      "text/plain": [
       "<Figure size 720x504 with 0 Axes>"
      ]
     },
     "metadata": {},
     "output_type": "display_data"
    }
   ],
   "source": [
    "cm = confusion_matrix(all_features['y_val'], lr_pred)\n",
    "print_confusion_matrix(cm, [\"Certified\", \"Denied\"])"
   ]
  },
  {
   "cell_type": "markdown",
   "metadata": {},
   "source": [
    "### Decision Tree - all features"
   ]
  },
  {
   "cell_type": "code",
   "execution_count": 155,
   "metadata": {
    "ExecuteTime": {
     "end_time": "2019-03-17T18:21:44.788881Z",
     "start_time": "2019-03-17T18:21:31.829936Z"
    }
   },
   "outputs": [],
   "source": [
    "dtc = DecisionTreeClassifier(random_state=27).fit(all_features['X_train'], all_features['y_train'])\n",
    "y_pred_dtc_prob = dtc.predict_proba(all_features['X_val'])\n",
    "y_pred_dtc = dtc.predict(all_features['X_val'])"
   ]
  },
  {
   "cell_type": "code",
   "execution_count": 156,
   "metadata": {
    "ExecuteTime": {
     "end_time": "2019-03-17T18:23:36.815193Z",
     "start_time": "2019-03-17T18:21:46.404719Z"
    }
   },
   "outputs": [
    {
     "name": "stdout",
     "output_type": "stream",
     "text": [
      "Decision Tree Av Accuracy: 0.696\n",
      "Decision Tree Av Precision: 0.697\n",
      "Decision Tree Av Recall: 0.696\n",
      "Decision Tree Av F1: 0.696\n"
     ]
    }
   ],
   "source": [
    "# Decision Tree Error Metrics\n",
    "print(f\"Decision Tree Av Accuracy: {(cross_val_score(dtc, all_features['X_train'], all_features['y_train'])).mean().round(3)}\")\n",
    "print(f\"Decision Tree Av Precision: {(cross_val_score(dtc, all_features['X_train'], all_features['y_train'], scoring='precision')).mean().round(3)}\")\n",
    "print(f\"Decision Tree Av Recall: {(cross_val_score(dtc, all_features['X_train'], all_features['y_train'], scoring='recall')).mean().round(3)}\")\n",
    "print(f\"Decision Tree Av F1: {(cross_val_score(dtc, all_features['X_train'], all_features['y_train'], scoring='f1')).mean().round(3)}\")"
   ]
  },
  {
   "cell_type": "code",
   "execution_count": 157,
   "metadata": {
    "ExecuteTime": {
     "end_time": "2019-03-17T18:23:38.719424Z",
     "start_time": "2019-03-17T18:23:38.463576Z"
    }
   },
   "outputs": [
    {
     "data": {
      "text/plain": [
       "<Figure size 720x504 with 0 Axes>"
      ]
     },
     "execution_count": 157,
     "metadata": {},
     "output_type": "execute_result"
    },
    {
     "data": {
      "image/png": "[encoded data removed]",
      "text/plain": [
       "<Figure size 432x288 with 2 Axes>"
      ]
     },
     "metadata": {
      "needs_background": "light"
     },
     "output_type": "display_data"
    },
    {
     "data": {
      "text/plain": [
       "<Figure size 720x504 with 0 Axes>"
      ]
     },
     "metadata": {},
     "output_type": "display_data"
    }
   ],
   "source": [
    "dtc_cm = confusion_matrix(all_features['y_val'], y_pred_dtc)\n",
    "print_confusion_matrix(dtc_cm, [\"Certified\", \"Denied\"])"
   ]
  },
  {
   "cell_type": "code",
   "execution_count": 158,
   "metadata": {
    "ExecuteTime": {
     "end_time": "2019-03-17T18:23:40.293721Z",
     "start_time": "2019-03-17T18:23:40.284004Z"
    }
   },
   "outputs": [],
   "source": [
    "# Get feature importance\n",
    "features = list(dtc.feature_importances_.round(3))\n",
    "column_names = list(perm_dummied.columns.drop('case_outcome'))\n",
    "importance = dict(zip(column_names, features))\n",
    "ordered_importance = sorted(importance.items(), key=operator.itemgetter(1), reverse=True)"
   ]
  },
  {
   "cell_type": "code",
   "execution_count": 159,
   "metadata": {
    "ExecuteTime": {
     "end_time": "2019-03-17T18:23:41.918788Z",
     "start_time": "2019-03-17T18:23:41.876754Z"
    }
   },
   "outputs": [
    {
     "data": {
      "text/plain": [
       "[('wage_for_job', 0.353),\n",
       " ('employer_num_employees', 0.07),\n",
       " ('gdp', 0.027),\n",
       " ('employment', 0.027),\n",
       " ('worker_state_abv_unknown', 0.023),\n",
       " ('class_of_admission_h1b', 0.02),\n",
       " ('net_migration', 0.018),\n",
       " ('gov_expen', 0.017),\n",
       " ('percentage_of_immigrants', 0.015),\n",
       " ('job_soc_code_15', 0.008),\n",
       " ('employer_completed_application', 0.006),\n",
       " ('job_soc_code_17', 0.006),\n",
       " ('job_economic_sector_other economic sector', 0.006),\n",
       " ('has_required_experience_y', 0.006),\n",
       " ('processing_center_C', 0.005),\n",
       " ('job_soc_code_11', 0.005),\n",
       " ('job_soc_code_13', 0.005),\n",
       " ('job_economic_sector_it', 0.005),\n",
       " ('applicant_highest_education_unknown', 0.005),\n",
       " ('political_party', 0.004),\n",
       " ('class_of_admission_unknown', 0.004),\n",
       " ('job_soc_code_29', 0.004),\n",
       " ('has_required_experience_n', 0.004),\n",
       " ('job_same_state', 0.003),\n",
       " ('fiscal_year_of_application_2011', 0.003),\n",
       " ('class_of_admission_f1', 0.003),\n",
       " ('country_of_citizenship_PHL', 0.003),\n",
       " ('job_soc_code_19', 0.003),\n",
       " ('job_soc_code_25', 0.003),\n",
       " ('job_soc_code_51', 0.003),\n",
       " ('job_economic_sector_fiunclassifiedce', 0.003),\n",
       " ('job_economic_sector_retail', 0.003),\n",
       " ('job_economic_sector_unclassified', 0.003),\n",
       " ('decision_month_year_201011', 0.003),\n",
       " ('decision_month_year_201012', 0.003),\n",
       " (\"applicant_highest_education_bachelor's\", 0.003),\n",
       " (\"applicant_highest_education_master's\", 0.003),\n",
       " ('worker_state_abv_CA', 0.003),\n",
       " ('worker_state_abv_TX', 0.003),\n",
       " ('training_required', 0.002),\n",
       " ('fiscal_year_of_application_2009', 0.002),\n",
       " ('fiscal_year_of_application_2010', 0.002),\n",
       " ('fiscal_year_of_application_2012', 0.002),\n",
       " ('fiscal_year_of_application_2014', 0.002),\n",
       " ('fiscal_year_of_application_2016', 0.002),\n",
       " ('fiscal_year_of_application_2017', 0.002),\n",
       " ('class_of_admission_b2', 0.002),\n",
       " ('class_of_admission_l1', 0.002),\n",
       " ('class_of_admission_not in usa', 0.002),\n",
       " ('country_of_citizenship_IND', 0.002),\n",
       " ('country_of_citizenship_KOR', 0.002),\n",
       " ('job_soc_code_27', 0.002),\n",
       " ('job_soc_code_35', 0.002),\n",
       " ('job_soc_code_41', 0.002),\n",
       " ('job_soc_code_43', 0.002),\n",
       " ('job_soc_code_53', 0.002),\n",
       " ('job_economic_sector_aerospace', 0.002),\n",
       " ('job_economic_sector_educational services', 0.002),\n",
       " ('job_economic_sector_health care', 0.002),\n",
       " ('job_economic_sector_hospitality', 0.002),\n",
       " ('decision_month_year_200711', 0.002),\n",
       " ('decision_month_year_200712', 0.002),\n",
       " ('decision_month_year_200801', 0.002),\n",
       " ('decision_month_year_200802', 0.002),\n",
       " ('decision_month_year_200803', 0.002),\n",
       " ('decision_month_year_200804', 0.002),\n",
       " ('decision_month_year_200805', 0.002),\n",
       " ('decision_month_year_200806', 0.002),\n",
       " ('decision_month_year_200809', 0.002),\n",
       " ('decision_month_year_200904', 0.002),\n",
       " ('decision_month_year_200912', 0.002),\n",
       " ('decision_month_year_201001', 0.002),\n",
       " ('decision_month_year_201002', 0.002),\n",
       " ('decision_month_year_201003', 0.002),\n",
       " ('decision_month_year_201004', 0.002),\n",
       " ('decision_month_year_201005', 0.002),\n",
       " ('decision_month_year_201006', 0.002),\n",
       " ('decision_month_year_201007', 0.002),\n",
       " ('decision_month_year_201008', 0.002),\n",
       " ('decision_month_year_201009', 0.002),\n",
       " ('decision_month_year_201010', 0.002),\n",
       " ('decision_month_year_201101', 0.002),\n",
       " ('decision_month_year_201102', 0.002),\n",
       " ('decision_month_year_201103', 0.002),\n",
       " ('decision_month_year_201105', 0.002),\n",
       " ('decision_month_year_201203', 0.002),\n",
       " ('decision_month_year_201205', 0.002),\n",
       " ('decision_month_year_201206', 0.002),\n",
       " ('decision_month_year_201207', 0.002),\n",
       " ('decision_month_year_201208', 0.002),\n",
       " ('decision_month_year_201209', 0.002),\n",
       " ('decision_month_year_201309', 0.002),\n",
       " ('decision_month_year_201311', 0.002),\n",
       " ('decision_month_year_201403', 0.002),\n",
       " ('decision_month_year_201404', 0.002),\n",
       " ('decision_month_year_201405', 0.002),\n",
       " ('decision_month_year_201409', 0.002),\n",
       " ('decision_month_year_201509', 0.002),\n",
       " ('decision_month_year_201510', 0.002),\n",
       " ('decision_month_year_201603', 0.002),\n",
       " ('decision_month_year_201608', 0.002),\n",
       " ('decision_month_year_201609', 0.002),\n",
       " ('decision_month_year_201704', 0.002),\n",
       " ('decision_month_year_201803', 0.002),\n",
       " ('decision_month_year_201804', 0.002),\n",
       " ('decision_month_year_201806', 0.002),\n",
       " ('decision_month_year_201808', 0.002),\n",
       " ('decision_month_year_201809', 0.002),\n",
       " ('applicant_highest_education_doctorate', 0.002),\n",
       " ('applicant_highest_education_high school', 0.002),\n",
       " ('applicant_highest_education_none', 0.002),\n",
       " ('worker_state_abv_IL', 0.002),\n",
       " ('worker_state_abv_NJ', 0.002),\n",
       " ('worker_state_abv_NY', 0.002),\n",
       " ('worker_state_abv_VA', 0.002),\n",
       " ('citizenship_same_as_birth', 0.001),\n",
       " ('layoff_in_past_six_months', 0.001),\n",
       " ('ownership_interest', 0.001),\n",
       " ('fiscal_year_of_application_2013', 0.001),\n",
       " ('fiscal_year_of_application_2015', 0.001),\n",
       " ('fiscal_year_of_application_2018', 0.001),\n",
       " ('class_of_admission_b1', 0.001),\n",
       " ('class_of_admission_e2', 0.001),\n",
       " ('class_of_admission_ewi', 0.001),\n",
       " ('class_of_admission_f2', 0.001),\n",
       " ('class_of_admission_h1b1', 0.001),\n",
       " ('class_of_admission_h4', 0.001),\n",
       " ('class_of_admission_j1', 0.001),\n",
       " ('class_of_admission_parolee', 0.001),\n",
       " ('class_of_admission_tn', 0.001),\n",
       " ('country_of_citizenship_ARG', 0.001),\n",
       " ('country_of_citizenship_CAN', 0.001),\n",
       " ('country_of_citizenship_CHN', 0.001),\n",
       " ('country_of_citizenship_COL', 0.001),\n",
       " ('country_of_citizenship_DEU', 0.001),\n",
       " ('country_of_citizenship_GBR', 0.001),\n",
       " ('country_of_citizenship_MEX', 0.001),\n",
       " ('country_of_citizenship_NPL', 0.001),\n",
       " ('country_of_citizenship_TUR', 0.001),\n",
       " ('country_of_citizenship_VEN', 0.001),\n",
       " ('job_soc_code_21', 0.001),\n",
       " ('job_soc_code_37', 0.001),\n",
       " ('job_soc_code_39', 0.001),\n",
       " ('job_soc_code_47', 0.001),\n",
       " ('job_soc_code_49', 0.001),\n",
       " ('job_economic_sector_automotive', 0.001),\n",
       " ('job_economic_sector_construction', 0.001),\n",
       " ('job_economic_sector_energy', 0.001),\n",
       " ('job_economic_sector_transportation', 0.001),\n",
       " ('decision_month_year_200807', 0.001),\n",
       " ('decision_month_year_200808', 0.001),\n",
       " ('decision_month_year_200812', 0.001),\n",
       " ('decision_month_year_200901', 0.001),\n",
       " ('decision_month_year_200902', 0.001),\n",
       " ('decision_month_year_200903', 0.001),\n",
       " ('decision_month_year_200905', 0.001),\n",
       " ('decision_month_year_200906', 0.001),\n",
       " ('decision_month_year_200909', 0.001),\n",
       " ('decision_month_year_200910', 0.001),\n",
       " ('decision_month_year_200911', 0.001),\n",
       " ('decision_month_year_201104', 0.001),\n",
       " ('decision_month_year_201106', 0.001),\n",
       " ('decision_month_year_201107', 0.001),\n",
       " ('decision_month_year_201108', 0.001),\n",
       " ('decision_month_year_201109', 0.001),\n",
       " ('decision_month_year_201110', 0.001),\n",
       " ('decision_month_year_201111', 0.001),\n",
       " ('decision_month_year_201112', 0.001),\n",
       " ('decision_month_year_201201', 0.001),\n",
       " ('decision_month_year_201202', 0.001),\n",
       " ('decision_month_year_201204', 0.001),\n",
       " ('decision_month_year_201210', 0.001),\n",
       " ('decision_month_year_201211', 0.001),\n",
       " ('decision_month_year_201212', 0.001),\n",
       " ('decision_month_year_201301', 0.001),\n",
       " ('decision_month_year_201302', 0.001),\n",
       " ('decision_month_year_201303', 0.001),\n",
       " ('decision_month_year_201304', 0.001),\n",
       " ('decision_month_year_201305', 0.001),\n",
       " ('decision_month_year_201306', 0.001),\n",
       " ('decision_month_year_201307', 0.001),\n",
       " ('decision_month_year_201308', 0.001),\n",
       " ('decision_month_year_201310', 0.001),\n",
       " ('decision_month_year_201312', 0.001),\n",
       " ('decision_month_year_201401', 0.001),\n",
       " ('decision_month_year_201402', 0.001),\n",
       " ('decision_month_year_201406', 0.001),\n",
       " ('decision_month_year_201407', 0.001),\n",
       " ('decision_month_year_201408', 0.001),\n",
       " ('decision_month_year_201410', 0.001),\n",
       " ('decision_month_year_201411', 0.001),\n",
       " ('decision_month_year_201412', 0.001),\n",
       " ('decision_month_year_201501', 0.001),\n",
       " ('decision_month_year_201502', 0.001),\n",
       " ('decision_month_year_201503', 0.001),\n",
       " ('decision_month_year_201504', 0.001),\n",
       " ('decision_month_year_201505', 0.001),\n",
       " ('decision_month_year_201506', 0.001),\n",
       " ('decision_month_year_201507', 0.001),\n",
       " ('decision_month_year_201508', 0.001),\n",
       " ('decision_month_year_201511', 0.001),\n",
       " ('decision_month_year_201512', 0.001),\n",
       " ('decision_month_year_201601', 0.001),\n",
       " ('decision_month_year_201602', 0.001),\n",
       " ('decision_month_year_201604', 0.001),\n",
       " ('decision_month_year_201605', 0.001),\n",
       " ('decision_month_year_201606', 0.001),\n",
       " ('decision_month_year_201607', 0.001),\n",
       " ('decision_month_year_201610', 0.001),\n",
       " ('decision_month_year_201611', 0.001),\n",
       " ('decision_month_year_201612', 0.001),\n",
       " ('decision_month_year_201701', 0.001),\n",
       " ('decision_month_year_201702', 0.001),\n",
       " ('decision_month_year_201703', 0.001),\n",
       " ('decision_month_year_201705', 0.001),\n",
       " ('decision_month_year_201706', 0.001),\n",
       " ('decision_month_year_201707', 0.001),\n",
       " ('decision_month_year_201708', 0.001),\n",
       " ('decision_month_year_201709', 0.001),\n",
       " ('decision_month_year_201710', 0.001),\n",
       " ('decision_month_year_201711', 0.001),\n",
       " ('decision_month_year_201712', 0.001),\n",
       " ('decision_month_year_201801', 0.001),\n",
       " ('decision_month_year_201802', 0.001),\n",
       " ('decision_month_year_201805', 0.001),\n",
       " ('decision_month_year_201807', 0.001),\n",
       " ('decision_month_year_201812', 0.001),\n",
       " ('applicant_highest_education_other', 0.001),\n",
       " ('worker_state_abv_AZ', 0.001),\n",
       " ('worker_state_abv_CO', 0.001),\n",
       " ('worker_state_abv_CT', 0.001),\n",
       " ('worker_state_abv_FL', 0.001),\n",
       " ('worker_state_abv_GA', 0.001),\n",
       " ('worker_state_abv_IN', 0.001),\n",
       " ('worker_state_abv_MA', 0.001),\n",
       " ('worker_state_abv_MD', 0.001),\n",
       " ('worker_state_abv_MI', 0.001),\n",
       " ('worker_state_abv_MO', 0.001),\n",
       " ('worker_state_abv_NC', 0.001),\n",
       " ('worker_state_abv_OH', 0.001),\n",
       " ('worker_state_abv_OR', 0.001),\n",
       " ('worker_state_abv_PA', 0.001),\n",
       " ('worker_state_abv_TN', 0.001),\n",
       " ('worker_state_abv_WA', 0.001),\n",
       " ('fiscal_year_of_application_2019', 0.0),\n",
       " ('class_of_admission_a3', 0.0),\n",
       " ('class_of_admission_aos', 0.0),\n",
       " ('class_of_admission_aos/h1b', 0.0),\n",
       " ('class_of_admission_c1', 0.0),\n",
       " ('class_of_admission_c3', 0.0),\n",
       " ('class_of_admission_d1', 0.0),\n",
       " ('class_of_admission_d2', 0.0),\n",
       " ('class_of_admission_e1', 0.0),\n",
       " ('class_of_admission_e3', 0.0),\n",
       " ('class_of_admission_g1', 0.0),\n",
       " ('class_of_admission_g2', 0.0),\n",
       " ('class_of_admission_g3', 0.0),\n",
       " ('class_of_admission_g4', 0.0),\n",
       " ('class_of_admission_g5', 0.0),\n",
       " ('class_of_admission_h1a', 0.0),\n",
       " ('class_of_admission_h1b/i485 app', 0.0),\n",
       " ('class_of_admission_h1c', 0.0),\n",
       " ('class_of_admission_h2a', 0.0),\n",
       " ('class_of_admission_h2b', 0.0),\n",
       " ('class_of_admission_h3', 0.0),\n",
       " ('class_of_admission_i', 0.0),\n",
       " ('class_of_admission_j2', 0.0),\n",
       " ('class_of_admission_k1', 0.0),\n",
       " ('class_of_admission_k2', 0.0),\n",
       " ('class_of_admission_k3', 0.0),\n",
       " ('class_of_admission_l1b', 0.0),\n",
       " ('class_of_admission_l2', 0.0),\n",
       " ('class_of_admission_m1', 0.0),\n",
       " ('class_of_admission_m2', 0.0),\n",
       " ('class_of_admission_n', 0.0),\n",
       " ('class_of_admission_o1', 0.0),\n",
       " ('class_of_admission_o2', 0.0),\n",
       " ('class_of_admission_o3', 0.0),\n",
       " ('class_of_admission_oos', 0.0),\n",
       " ('class_of_admission_p1', 0.0),\n",
       " ('class_of_admission_p2', 0.0),\n",
       " ('class_of_admission_p3', 0.0),\n",
       " ('class_of_admission_p4', 0.0),\n",
       " ('class_of_admission_parol', 0.0),\n",
       " ('class_of_admission_q', 0.0),\n",
       " ('class_of_admission_r1', 0.0),\n",
       " ('class_of_admission_r2', 0.0),\n",
       " ('class_of_admission_s6', 0.0),\n",
       " ('class_of_admission_t1', 0.0),\n",
       " ('class_of_admission_td', 0.0),\n",
       " ('class_of_admission_tps', 0.0),\n",
       " ('class_of_admission_u1', 0.0),\n",
       " ('class_of_admission_u3', 0.0),\n",
       " ('class_of_admission_u4', 0.0),\n",
       " ('class_of_admission_v1', 0.0),\n",
       " ('class_of_admission_v2', 0.0),\n",
       " ('class_of_admission_vwb', 0.0),\n",
       " ('class_of_admission_vwt', 0.0),\n",
       " ('country_of_citizenship_AGO', 0.0),\n",
       " ('country_of_citizenship_ALB', 0.0),\n",
       " ('country_of_citizenship_AND', 0.0),\n",
       " ('country_of_citizenship_ARE', 0.0),\n",
       " ('country_of_citizenship_ARM', 0.0),\n",
       " ('country_of_citizenship_ATG', 0.0),\n",
       " ('country_of_citizenship_AUS', 0.0),\n",
       " ('country_of_citizenship_AUT', 0.0),\n",
       " ('country_of_citizenship_AZE', 0.0),\n",
       " ('country_of_citizenship_BDI', 0.0),\n",
       " ('country_of_citizenship_BEL', 0.0),\n",
       " ('country_of_citizenship_BEN', 0.0),\n",
       " ('country_of_citizenship_BFA', 0.0),\n",
       " ('country_of_citizenship_BGD', 0.0),\n",
       " ('country_of_citizenship_BGR', 0.0),\n",
       " ('country_of_citizenship_BHR', 0.0),\n",
       " ('country_of_citizenship_BHS', 0.0),\n",
       " ('country_of_citizenship_BIH', 0.0),\n",
       " ('country_of_citizenship_BLR', 0.0),\n",
       " ('country_of_citizenship_BLZ', 0.0),\n",
       " ('country_of_citizenship_BMU', 0.0),\n",
       " ('country_of_citizenship_BOL', 0.0),\n",
       " ('country_of_citizenship_BRA', 0.0),\n",
       " ('country_of_citizenship_BRB', 0.0),\n",
       " ('country_of_citizenship_BRN', 0.0),\n",
       " ('country_of_citizenship_BTN', 0.0),\n",
       " ('country_of_citizenship_BWA', 0.0),\n",
       " ('country_of_citizenship_CAF', 0.0),\n",
       " ('country_of_citizenship_CHE', 0.0),\n",
       " ('country_of_citizenship_CHL', 0.0),\n",
       " ('country_of_citizenship_CIV', 0.0),\n",
       " ('country_of_citizenship_CMR', 0.0),\n",
       " ('country_of_citizenship_COD', 0.0),\n",
       " ('country_of_citizenship_COG', 0.0),\n",
       " ('country_of_citizenship_COM', 0.0),\n",
       " ('country_of_citizenship_CPV', 0.0),\n",
       " ('country_of_citizenship_CRI', 0.0),\n",
       " ('country_of_citizenship_CUB', 0.0),\n",
       " ('country_of_citizenship_CYM', 0.0),\n",
       " ('country_of_citizenship_CYP', 0.0),\n",
       " ('country_of_citizenship_CZE', 0.0),\n",
       " ('country_of_citizenship_DMA', 0.0),\n",
       " ('country_of_citizenship_DNK', 0.0),\n",
       " ('country_of_citizenship_DOM', 0.0),\n",
       " ('country_of_citizenship_DZA', 0.0),\n",
       " ('country_of_citizenship_ECU', 0.0),\n",
       " ('country_of_citizenship_EGY', 0.0),\n",
       " ('country_of_citizenship_ERI', 0.0),\n",
       " ('country_of_citizenship_ESP', 0.0),\n",
       " ('country_of_citizenship_EST', 0.0),\n",
       " ('country_of_citizenship_ETH', 0.0),\n",
       " ('country_of_citizenship_FIN', 0.0),\n",
       " ('country_of_citizenship_FJI', 0.0),\n",
       " ('country_of_citizenship_FRA', 0.0),\n",
       " ('country_of_citizenship_FSM', 0.0),\n",
       " ('country_of_citizenship_GAB', 0.0),\n",
       " ('country_of_citizenship_GEO', 0.0),\n",
       " ('country_of_citizenship_GHA', 0.0),\n",
       " ('country_of_citizenship_GIN', 0.0),\n",
       " ('country_of_citizenship_GMB', 0.0),\n",
       " ('country_of_citizenship_GNB', 0.0),\n",
       " ('country_of_citizenship_GNQ', 0.0),\n",
       " ('country_of_citizenship_GRC', 0.0),\n",
       " ('country_of_citizenship_GRD', 0.0),\n",
       " ('country_of_citizenship_GTM', 0.0),\n",
       " ('country_of_citizenship_GUY', 0.0),\n",
       " ('country_of_citizenship_HKG', 0.0),\n",
       " ('country_of_citizenship_HND', 0.0),\n",
       " ('country_of_citizenship_HRV', 0.0),\n",
       " ('country_of_citizenship_HTI', 0.0),\n",
       " ('country_of_citizenship_HUN', 0.0),\n",
       " ('country_of_citizenship_IDN', 0.0),\n",
       " ('country_of_citizenship_IRL', 0.0),\n",
       " ('country_of_citizenship_IRN', 0.0),\n",
       " ('country_of_citizenship_IRQ', 0.0),\n",
       " ('country_of_citizenship_ISL', 0.0),\n",
       " ('country_of_citizenship_ISR', 0.0),\n",
       " ('country_of_citizenship_ITA', 0.0),\n",
       " ('country_of_citizenship_JAM', 0.0),\n",
       " ('country_of_citizenship_JOR', 0.0),\n",
       " ('country_of_citizenship_JPN', 0.0),\n",
       " ('country_of_citizenship_KAZ', 0.0),\n",
       " ('country_of_citizenship_KEN', 0.0),\n",
       " ('country_of_citizenship_KGZ', 0.0),\n",
       " ('country_of_citizenship_KHM', 0.0),\n",
       " ('country_of_citizenship_KIR', 0.0),\n",
       " ('country_of_citizenship_KNA', 0.0),\n",
       " ('country_of_citizenship_KWT', 0.0),\n",
       " ('country_of_citizenship_LAO', 0.0),\n",
       " ('country_of_citizenship_LBN', 0.0),\n",
       " ('country_of_citizenship_LBR', 0.0),\n",
       " ('country_of_citizenship_LBY', 0.0),\n",
       " ('country_of_citizenship_LCA', 0.0),\n",
       " ('country_of_citizenship_LIE', 0.0),\n",
       " ('country_of_citizenship_LKA', 0.0),\n",
       " ('country_of_citizenship_LSO', 0.0),\n",
       " ('country_of_citizenship_LTU', 0.0),\n",
       " ('country_of_citizenship_LUX', 0.0),\n",
       " ('country_of_citizenship_LVA', 0.0),\n",
       " ('country_of_citizenship_MAC', 0.0),\n",
       " ('country_of_citizenship_MAR', 0.0),\n",
       " ('country_of_citizenship_MCO', 0.0),\n",
       " ('country_of_citizenship_MDA', 0.0),\n",
       " ('country_of_citizenship_MDG', 0.0),\n",
       " ('country_of_citizenship_MDV', 0.0),\n",
       " ('country_of_citizenship_MHL', 0.0),\n",
       " ('country_of_citizenship_MKD', 0.0),\n",
       " ('country_of_citizenship_MLI', 0.0),\n",
       " ('country_of_citizenship_MLT', 0.0),\n",
       " ('country_of_citizenship_MMR', 0.0),\n",
       " ('country_of_citizenship_MNE', 0.0),\n",
       " ('country_of_citizenship_MNG', 0.0),\n",
       " ('country_of_citizenship_MOZ', 0.0),\n",
       " ('country_of_citizenship_MRT', 0.0),\n",
       " ('country_of_citizenship_MUS', 0.0),\n",
       " ('country_of_citizenship_MWI', 0.0),\n",
       " ('country_of_citizenship_MYS', 0.0),\n",
       " ('country_of_citizenship_NAM', 0.0),\n",
       " ('country_of_citizenship_NER', 0.0),\n",
       " ('country_of_citizenship_NGA', 0.0),\n",
       " ('country_of_citizenship_NIC', 0.0),\n",
       " ('country_of_citizenship_NLD', 0.0),\n",
       " ('country_of_citizenship_NOR', 0.0),\n",
       " ('country_of_citizenship_NRU', 0.0),\n",
       " ('country_of_citizenship_NZL', 0.0),\n",
       " ('country_of_citizenship_OMN', 0.0),\n",
       " ('country_of_citizenship_PAK', 0.0),\n",
       " ('country_of_citizenship_PAN', 0.0),\n",
       " ('country_of_citizenship_PER', 0.0),\n",
       " ('country_of_citizenship_PNG', 0.0),\n",
       " ('country_of_citizenship_POL', 0.0),\n",
       " ('country_of_citizenship_PRK', 0.0),\n",
       " ('country_of_citizenship_PRT', 0.0),\n",
       " ('country_of_citizenship_PRY', 0.0),\n",
       " ('country_of_citizenship_PSE', 0.0),\n",
       " ('country_of_citizenship_QAT', 0.0),\n",
       " ('country_of_citizenship_ROU', 0.0),\n",
       " ('country_of_citizenship_RUS', 0.0),\n",
       " ('country_of_citizenship_RWA', 0.0),\n",
       " ('country_of_citizenship_SAU', 0.0),\n",
       " ('country_of_citizenship_SDN', 0.0),\n",
       " ('country_of_citizenship_SEN', 0.0),\n",
       " ('country_of_citizenship_SGP', 0.0),\n",
       " ('country_of_citizenship_SLB', 0.0),\n",
       " ('country_of_citizenship_SLE', 0.0),\n",
       " ('country_of_citizenship_SLV', 0.0),\n",
       " ('country_of_citizenship_SOM', 0.0),\n",
       " ('country_of_citizenship_SRB', 0.0),\n",
       " ('country_of_citizenship_SSD', 0.0),\n",
       " ('country_of_citizenship_STP', 0.0),\n",
       " ('country_of_citizenship_SUR', 0.0),\n",
       " ('country_of_citizenship_SVK', 0.0),\n",
       " ('country_of_citizenship_SVN', 0.0),\n",
       " ('country_of_citizenship_SWE', 0.0),\n",
       " ('country_of_citizenship_SWZ', 0.0),\n",
       " ('country_of_citizenship_SYC', 0.0),\n",
       " ('country_of_citizenship_SYR', 0.0),\n",
       " ('country_of_citizenship_TCA', 0.0),\n",
       " ('country_of_citizenship_TCD', 0.0),\n",
       " ('country_of_citizenship_TGO', 0.0),\n",
       " ('country_of_citizenship_THA', 0.0),\n",
       " ('country_of_citizenship_TJK', 0.0),\n",
       " ('country_of_citizenship_TKM', 0.0),\n",
       " ('country_of_citizenship_TON', 0.0),\n",
       " ('country_of_citizenship_TTO', 0.0),\n",
       " ('country_of_citizenship_TUN', 0.0),\n",
       " ('country_of_citizenship_TZA', 0.0),\n",
       " ('country_of_citizenship_UGA', 0.0),\n",
       " ('country_of_citizenship_UKR', 0.0),\n",
       " ('country_of_citizenship_URY', 0.0),\n",
       " ('country_of_citizenship_USA', 0.0),\n",
       " ('country_of_citizenship_UZB', 0.0),\n",
       " ('country_of_citizenship_VCT', 0.0),\n",
       " ('country_of_citizenship_VGB', 0.0),\n",
       " ('country_of_citizenship_VNM', 0.0),\n",
       " ('country_of_citizenship_VUT', 0.0),\n",
       " ('country_of_citizenship_WSM', 0.0),\n",
       " ('country_of_citizenship_XKX', 0.0),\n",
       " ('country_of_citizenship_YEM', 0.0),\n",
       " ('country_of_citizenship_ZAF', 0.0),\n",
       " ('country_of_citizenship_ZMB', 0.0),\n",
       " ('country_of_citizenship_ZWE', 0.0),\n",
       " ('job_soc_code_20', 0.0),\n",
       " ('job_soc_code_23', 0.0),\n",
       " ('job_soc_code_30', 0.0),\n",
       " ('job_soc_code_31', 0.0),\n",
       " ('job_soc_code_33', 0.0),\n",
       " ('job_soc_code_45', 0.0),\n",
       " ('job_soc_code_55', 0.0),\n",
       " ('job_soc_code_90', 0.0),\n",
       " ('job_soc_code_91', 0.0),\n",
       " ('job_soc_code_99', 0.0),\n",
       " ('job_economic_sector_agribusiness', 0.0),\n",
       " ('job_economic_sector_biotechnology', 0.0),\n",
       " ('job_economic_sector_geospatial', 0.0),\n",
       " ('job_economic_sector_homeland security', 0.0),\n",
       " ('decision_month_year_200810', 0.0),\n",
       " ('decision_month_year_200811', 0.0),\n",
       " ('decision_month_year_200907', 0.0),\n",
       " ('decision_month_year_200908', 0.0),\n",
       " ('decision_month_year_201810', 0.0),\n",
       " ('decision_month_year_201811', 0.0),\n",
       " ('worker_state_abv_AL', 0.0),\n",
       " ('worker_state_abv_AR', 0.0),\n",
       " ('worker_state_abv_AS', 0.0),\n",
       " ('worker_state_abv_DC', 0.0),\n",
       " ('worker_state_abv_DE', 0.0),\n",
       " ('worker_state_abv_GU', 0.0),\n",
       " ('worker_state_abv_HI', 0.0),\n",
       " ('worker_state_abv_IA', 0.0),\n",
       " ('worker_state_abv_ID', 0.0),\n",
       " ('worker_state_abv_KS', 0.0),\n",
       " ('worker_state_abv_KY', 0.0),\n",
       " ('worker_state_abv_LA', 0.0),\n",
       " ('worker_state_abv_ME', 0.0),\n",
       " ('worker_state_abv_MH', 0.0),\n",
       " ('worker_state_abv_MN', 0.0),\n",
       " ('worker_state_abv_MP', 0.0),\n",
       " ('worker_state_abv_MS', 0.0),\n",
       " ('worker_state_abv_MT', 0.0),\n",
       " ('worker_state_abv_ND', 0.0),\n",
       " ('worker_state_abv_NE', 0.0),\n",
       " ('worker_state_abv_NH', 0.0),\n",
       " ('worker_state_abv_NM', 0.0),\n",
       " ('worker_state_abv_NV', 0.0),\n",
       " ('worker_state_abv_OK', 0.0),\n",
       " ('worker_state_abv_PR', 0.0),\n",
       " ('worker_state_abv_RI', 0.0),\n",
       " ('worker_state_abv_SC', 0.0),\n",
       " ('worker_state_abv_SD', 0.0),\n",
       " ('worker_state_abv_UT', 0.0),\n",
       " ('worker_state_abv_VI', 0.0),\n",
       " ('worker_state_abv_VT', 0.0),\n",
       " ('worker_state_abv_WI', 0.0),\n",
       " ('worker_state_abv_WV', 0.0),\n",
       " ('worker_state_abv_WY', 0.0)]"
      ]
     },
     "execution_count": 159,
     "metadata": {},
     "output_type": "execute_result"
    }
   ],
   "source": [
    "ordered_importance"
   ]
  },
  {
   "cell_type": "code",
   "execution_count": 160,
   "metadata": {
    "ExecuteTime": {
     "end_time": "2019-03-17T18:23:43.542276Z",
     "start_time": "2019-03-17T18:23:43.525204Z"
    }
   },
   "outputs": [
    {
     "data": {
      "text/plain": [
       "244"
      ]
     },
     "execution_count": 160,
     "metadata": {},
     "output_type": "execute_result"
    }
   ],
   "source": [
    "# Assess importance and return features with 1%+ importance\n",
    "most_important = [k for k,v in importance.items() if v >= 0.001]\n",
    "len(most_important)"
   ]
  },
  {
   "cell_type": "code",
   "execution_count": 84,
   "metadata": {
    "ExecuteTime": {
     "end_time": "2019-03-17T17:26:09.664361Z",
     "start_time": "2019-03-17T17:26:09.661436Z"
    }
   },
   "outputs": [],
   "source": [
    "## wage_for_job for most important feature for splits - 0.353 (35% time for splits)"
   ]
  },
  {
   "cell_type": "markdown",
   "metadata": {},
   "source": [
    "### Resplit with new data - just most important features"
   ]
  },
  {
   "cell_type": "markdown",
   "metadata": {},
   "source": [
    "- Using just most important features didn't improve."
   ]
  },
  {
   "cell_type": "code",
   "execution_count": 161,
   "metadata": {
    "ExecuteTime": {
     "end_time": "2019-03-17T18:23:45.640066Z",
     "start_time": "2019-03-17T18:23:45.105946Z"
    }
   },
   "outputs": [],
   "source": [
    "X_most_important = perm_dummied[most_important]\n",
    "y_most_important = perm_dummied['case_outcome']"
   ]
  },
  {
   "cell_type": "code",
   "execution_count": 162,
   "metadata": {
    "ExecuteTime": {
     "end_time": "2019-03-17T18:24:18.641646Z",
     "start_time": "2019-03-17T18:23:47.246807Z"
    },
    "scrolled": false
   },
   "outputs": [],
   "source": [
    "most_important_features = SplitData(X_most_important, y_most_important)"
   ]
  },
  {
   "cell_type": "code",
   "execution_count": 163,
   "metadata": {
    "ExecuteTime": {
     "end_time": "2019-03-17T18:25:45.916414Z",
     "start_time": "2019-03-17T18:25:39.214832Z"
    }
   },
   "outputs": [],
   "source": [
    "dtc = DecisionTreeClassifier(random_state=14).fit(most_important_features['X_train'], most_important_features['y_train'])\n",
    "y_pred_dtc_prob = dtc.predict_proba(most_important_features['X_val'])\n",
    "y_pred_dtc = dtc.predict(most_important_features['X_val'])"
   ]
  },
  {
   "cell_type": "code",
   "execution_count": 165,
   "metadata": {
    "ExecuteTime": {
     "end_time": "2019-03-17T18:27:21.131784Z",
     "start_time": "2019-03-17T18:26:27.427440Z"
    }
   },
   "outputs": [
    {
     "name": "stdout",
     "output_type": "stream",
     "text": [
      "Decision Tree Av Accuracy: 0.695\n",
      "Decision Tree Av Precision: 0.695\n",
      "Decision Tree Av Recall: 0.695\n",
      "Decision Tree Av F1: 0.695\n"
     ]
    }
   ],
   "source": [
    "# Decision Tree Error Metrics\n",
    "print(f\"Decision Tree Av Accuracy: {(cross_val_score(dtc, most_important_features['X_train'], most_important_features['y_train'])).mean().round(3)}\")\n",
    "print(f\"Decision Tree Av Precision: {(cross_val_score(dtc, most_important_features['X_train'], most_important_features['y_train'], scoring='precision')).mean().round(3)}\")\n",
    "print(f\"Decision Tree Av Recall: {(cross_val_score(dtc, most_important_features['X_train'], most_important_features['y_train'], scoring='recall')).mean().round(3)}\")\n",
    "print(f\"Decision Tree Av F1: {(cross_val_score(dtc, most_important_features['X_train'], most_important_features['y_train'], scoring='f1')).mean().round(3)}\")"
   ]
  },
  {
   "cell_type": "code",
   "execution_count": 166,
   "metadata": {
    "ExecuteTime": {
     "end_time": "2019-03-17T18:27:23.059649Z",
     "start_time": "2019-03-17T18:27:22.757255Z"
    }
   },
   "outputs": [
    {
     "data": {
      "text/plain": [
       "<Figure size 720x504 with 0 Axes>"
      ]
     },
     "execution_count": 166,
     "metadata": {},
     "output_type": "execute_result"
    },
    {
     "data": {
      "image/png": "[encoded data removed]",
      "text/plain": [
       "<Figure size 432x288 with 2 Axes>"
      ]
     },
     "metadata": {
      "needs_background": "light"
     },
     "output_type": "display_data"
    },
    {
     "data": {
      "text/plain": [
       "<Figure size 720x504 with 0 Axes>"
      ]
     },
     "metadata": {},
     "output_type": "display_data"
    }
   ],
   "source": [
    "dtc_cm = confusion_matrix(y_val, y_pred_dtc)\n",
    "print_confusion_matrix(dtc_cm, [\"Certified\", \"Denied\"])"
   ]
  },
  {
   "cell_type": "code",
   "execution_count": 169,
   "metadata": {
    "ExecuteTime": {
     "end_time": "2019-03-17T18:28:26.710408Z",
     "start_time": "2019-03-17T18:28:26.705440Z"
    }
   },
   "outputs": [],
   "source": [
    "# Get feature importance\n",
    "features = list(dtc.feature_importances_.round(3))\n",
    "importance = dict(zip(X_most_important, features))\n",
    "ordered_importance = sorted(importance.items(), key=operator.itemgetter(1), reverse=True)"
   ]
  },
  {
   "cell_type": "code",
   "execution_count": 170,
   "metadata": {
    "ExecuteTime": {
     "end_time": "2019-03-17T18:28:28.450904Z",
     "start_time": "2019-03-17T18:28:28.425877Z"
    }
   },
   "outputs": [
    {
     "data": {
      "text/plain": [
       "[('wage_for_job', 0.357),\n",
       " ('employer_num_employees', 0.073),\n",
       " ('gdp', 0.03),\n",
       " ('employment', 0.03),\n",
       " ('worker_state_abv_unknown', 0.023),\n",
       " ('net_migration', 0.02),\n",
       " ('class_of_admission_h1b', 0.02),\n",
       " ('gov_expen', 0.018),\n",
       " ('percentage_of_immigrants', 0.017),\n",
       " ('job_soc_code_15', 0.009),\n",
       " ('employer_completed_application', 0.006),\n",
       " ('job_soc_code_17', 0.006),\n",
       " ('job_economic_sector_other economic sector', 0.006),\n",
       " ('has_required_experience_y', 0.006),\n",
       " ('processing_center_C', 0.005),\n",
       " ('job_soc_code_11', 0.005),\n",
       " ('job_soc_code_13', 0.005),\n",
       " ('job_economic_sector_it', 0.005),\n",
       " ('applicant_highest_education_unknown', 0.005),\n",
       " ('political_party', 0.004),\n",
       " ('class_of_admission_unknown', 0.004),\n",
       " ('job_soc_code_25', 0.004),\n",
       " ('worker_state_abv_CA', 0.004),\n",
       " ('has_required_experience_n', 0.004),\n",
       " ('job_same_state', 0.003),\n",
       " ('fiscal_year_of_application_2011', 0.003),\n",
       " ('class_of_admission_f1', 0.003),\n",
       " ('country_of_citizenship_PHL', 0.003),\n",
       " ('job_soc_code_19', 0.003),\n",
       " ('job_soc_code_27', 0.003),\n",
       " ('job_soc_code_29', 0.003),\n",
       " ('job_soc_code_51', 0.003),\n",
       " ('job_economic_sector_fiunclassifiedce', 0.003),\n",
       " ('job_economic_sector_health care', 0.003),\n",
       " ('job_economic_sector_unclassified', 0.003),\n",
       " ('decision_month_year_201003', 0.003),\n",
       " ('decision_month_year_201011', 0.003),\n",
       " ('decision_month_year_201012', 0.003),\n",
       " (\"applicant_highest_education_bachelor's\", 0.003),\n",
       " (\"applicant_highest_education_master's\", 0.003),\n",
       " ('worker_state_abv_NJ', 0.003),\n",
       " ('worker_state_abv_TX', 0.003),\n",
       " ('training_required', 0.002),\n",
       " ('layoff_in_past_six_months', 0.002),\n",
       " ('fiscal_year_of_application_2009', 0.002),\n",
       " ('fiscal_year_of_application_2010', 0.002),\n",
       " ('fiscal_year_of_application_2014', 0.002),\n",
       " ('fiscal_year_of_application_2015', 0.002),\n",
       " ('fiscal_year_of_application_2016', 0.002),\n",
       " ('fiscal_year_of_application_2017', 0.002),\n",
       " ('class_of_admission_b2', 0.002),\n",
       " ('class_of_admission_e2', 0.002),\n",
       " ('class_of_admission_l1', 0.002),\n",
       " ('class_of_admission_not in usa', 0.002),\n",
       " ('country_of_citizenship_IND', 0.002),\n",
       " ('country_of_citizenship_KOR', 0.002),\n",
       " ('job_soc_code_35', 0.002),\n",
       " ('job_soc_code_41', 0.002),\n",
       " ('job_soc_code_43', 0.002),\n",
       " ('job_economic_sector_aerospace', 0.002),\n",
       " ('job_economic_sector_educational services', 0.002),\n",
       " ('job_economic_sector_hospitality', 0.002),\n",
       " ('job_economic_sector_retail', 0.002),\n",
       " ('decision_month_year_200711', 0.002),\n",
       " ('decision_month_year_200712', 0.002),\n",
       " ('decision_month_year_200801', 0.002),\n",
       " ('decision_month_year_200802', 0.002),\n",
       " ('decision_month_year_200803', 0.002),\n",
       " ('decision_month_year_200804', 0.002),\n",
       " ('decision_month_year_200805', 0.002),\n",
       " ('decision_month_year_200806', 0.002),\n",
       " ('decision_month_year_200809', 0.002),\n",
       " ('decision_month_year_200904', 0.002),\n",
       " ('decision_month_year_200912', 0.002),\n",
       " ('decision_month_year_201001', 0.002),\n",
       " ('decision_month_year_201002', 0.002),\n",
       " ('decision_month_year_201004', 0.002),\n",
       " ('decision_month_year_201005', 0.002),\n",
       " ('decision_month_year_201006', 0.002),\n",
       " ('decision_month_year_201007', 0.002),\n",
       " ('decision_month_year_201008', 0.002),\n",
       " ('decision_month_year_201009', 0.002),\n",
       " ('decision_month_year_201010', 0.002),\n",
       " ('decision_month_year_201101', 0.002),\n",
       " ('decision_month_year_201102', 0.002),\n",
       " ('decision_month_year_201103', 0.002),\n",
       " ('decision_month_year_201104', 0.002),\n",
       " ('decision_month_year_201105', 0.002),\n",
       " ('decision_month_year_201106', 0.002),\n",
       " ('decision_month_year_201110', 0.002),\n",
       " ('decision_month_year_201203', 0.002),\n",
       " ('decision_month_year_201204', 0.002),\n",
       " ('decision_month_year_201205', 0.002),\n",
       " ('decision_month_year_201206', 0.002),\n",
       " ('decision_month_year_201207', 0.002),\n",
       " ('decision_month_year_201208', 0.002),\n",
       " ('decision_month_year_201209', 0.002),\n",
       " ('decision_month_year_201305', 0.002),\n",
       " ('decision_month_year_201309', 0.002),\n",
       " ('decision_month_year_201401', 0.002),\n",
       " ('decision_month_year_201403', 0.002),\n",
       " ('decision_month_year_201404', 0.002),\n",
       " ('decision_month_year_201504', 0.002),\n",
       " ('decision_month_year_201506', 0.002),\n",
       " ('decision_month_year_201509', 0.002),\n",
       " ('decision_month_year_201510', 0.002),\n",
       " ('decision_month_year_201604', 0.002),\n",
       " ('decision_month_year_201608', 0.002),\n",
       " ('decision_month_year_201609', 0.002),\n",
       " ('decision_month_year_201704', 0.002),\n",
       " ('decision_month_year_201707', 0.002),\n",
       " ('decision_month_year_201804', 0.002),\n",
       " ('decision_month_year_201805', 0.002),\n",
       " ('decision_month_year_201806', 0.002),\n",
       " ('decision_month_year_201808', 0.002),\n",
       " ('decision_month_year_201809', 0.002),\n",
       " ('applicant_highest_education_doctorate', 0.002),\n",
       " ('applicant_highest_education_high school', 0.002),\n",
       " ('applicant_highest_education_none', 0.002),\n",
       " ('applicant_highest_education_other', 0.002),\n",
       " ('worker_state_abv_FL', 0.002),\n",
       " ('worker_state_abv_GA', 0.002),\n",
       " ('worker_state_abv_IL', 0.002),\n",
       " ('worker_state_abv_NY', 0.002),\n",
       " ('worker_state_abv_PA', 0.002),\n",
       " ('worker_state_abv_VA', 0.002),\n",
       " ('citizenship_same_as_birth', 0.001),\n",
       " ('ownership_interest', 0.001),\n",
       " ('fiscal_year_of_application_2012', 0.001),\n",
       " ('fiscal_year_of_application_2013', 0.001),\n",
       " ('fiscal_year_of_application_2018', 0.001),\n",
       " ('class_of_admission_b1', 0.001),\n",
       " ('class_of_admission_ewi', 0.001),\n",
       " ('class_of_admission_f2', 0.001),\n",
       " ('class_of_admission_h1b1', 0.001),\n",
       " ('class_of_admission_h4', 0.001),\n",
       " ('class_of_admission_j1', 0.001),\n",
       " ('class_of_admission_parolee', 0.001),\n",
       " ('class_of_admission_tn', 0.001),\n",
       " ('country_of_citizenship_ARG', 0.001),\n",
       " ('country_of_citizenship_CAN', 0.001),\n",
       " ('country_of_citizenship_CHN', 0.001),\n",
       " ('country_of_citizenship_COL', 0.001),\n",
       " ('country_of_citizenship_GBR', 0.001),\n",
       " ('country_of_citizenship_MEX', 0.001),\n",
       " ('country_of_citizenship_TUR', 0.001),\n",
       " ('job_soc_code_21', 0.001),\n",
       " ('job_soc_code_37', 0.001),\n",
       " ('job_soc_code_39', 0.001),\n",
       " ('job_soc_code_47', 0.001),\n",
       " ('job_soc_code_49', 0.001),\n",
       " ('job_soc_code_53', 0.001),\n",
       " ('job_economic_sector_automotive', 0.001),\n",
       " ('job_economic_sector_construction', 0.001),\n",
       " ('job_economic_sector_energy', 0.001),\n",
       " ('job_economic_sector_transportation', 0.001),\n",
       " ('decision_month_year_200807', 0.001),\n",
       " ('decision_month_year_200808', 0.001),\n",
       " ('decision_month_year_200812', 0.001),\n",
       " ('decision_month_year_200901', 0.001),\n",
       " ('decision_month_year_200902', 0.001),\n",
       " ('decision_month_year_200903', 0.001),\n",
       " ('decision_month_year_200905', 0.001),\n",
       " ('decision_month_year_200906', 0.001),\n",
       " ('decision_month_year_200909', 0.001),\n",
       " ('decision_month_year_200910', 0.001),\n",
       " ('decision_month_year_200911', 0.001),\n",
       " ('decision_month_year_201107', 0.001),\n",
       " ('decision_month_year_201108', 0.001),\n",
       " ('decision_month_year_201109', 0.001),\n",
       " ('decision_month_year_201111', 0.001),\n",
       " ('decision_month_year_201112', 0.001),\n",
       " ('decision_month_year_201201', 0.001),\n",
       " ('decision_month_year_201202', 0.001),\n",
       " ('decision_month_year_201210', 0.001),\n",
       " ('decision_month_year_201211', 0.001),\n",
       " ('decision_month_year_201212', 0.001),\n",
       " ('decision_month_year_201301', 0.001),\n",
       " ('decision_month_year_201302', 0.001),\n",
       " ('decision_month_year_201303', 0.001),\n",
       " ('decision_month_year_201304', 0.001),\n",
       " ('decision_month_year_201306', 0.001),\n",
       " ('decision_month_year_201307', 0.001),\n",
       " ('decision_month_year_201308', 0.001),\n",
       " ('decision_month_year_201310', 0.001),\n",
       " ('decision_month_year_201311', 0.001),\n",
       " ('decision_month_year_201312', 0.001),\n",
       " ('decision_month_year_201402', 0.001),\n",
       " ('decision_month_year_201405', 0.001),\n",
       " ('decision_month_year_201406', 0.001),\n",
       " ('decision_month_year_201407', 0.001),\n",
       " ('decision_month_year_201408', 0.001),\n",
       " ('decision_month_year_201409', 0.001),\n",
       " ('decision_month_year_201410', 0.001),\n",
       " ('decision_month_year_201411', 0.001),\n",
       " ('decision_month_year_201412', 0.001),\n",
       " ('decision_month_year_201501', 0.001),\n",
       " ('decision_month_year_201502', 0.001),\n",
       " ('decision_month_year_201503', 0.001),\n",
       " ('decision_month_year_201505', 0.001),\n",
       " ('decision_month_year_201507', 0.001),\n",
       " ('decision_month_year_201508', 0.001),\n",
       " ('decision_month_year_201511', 0.001),\n",
       " ('decision_month_year_201512', 0.001),\n",
       " ('decision_month_year_201601', 0.001),\n",
       " ('decision_month_year_201602', 0.001),\n",
       " ('decision_month_year_201603', 0.001),\n",
       " ('decision_month_year_201605', 0.001),\n",
       " ('decision_month_year_201606', 0.001),\n",
       " ('decision_month_year_201607', 0.001),\n",
       " ('decision_month_year_201610', 0.001),\n",
       " ('decision_month_year_201611', 0.001),\n",
       " ('decision_month_year_201612', 0.001),\n",
       " ('decision_month_year_201701', 0.001),\n",
       " ('decision_month_year_201702', 0.001),\n",
       " ('decision_month_year_201703', 0.001),\n",
       " ('decision_month_year_201705', 0.001),\n",
       " ('decision_month_year_201706', 0.001),\n",
       " ('decision_month_year_201708', 0.001),\n",
       " ('decision_month_year_201709', 0.001),\n",
       " ('decision_month_year_201710', 0.001),\n",
       " ('decision_month_year_201711', 0.001),\n",
       " ('decision_month_year_201712', 0.001),\n",
       " ('decision_month_year_201801', 0.001),\n",
       " ('decision_month_year_201802', 0.001),\n",
       " ('decision_month_year_201803', 0.001),\n",
       " ('decision_month_year_201807', 0.001),\n",
       " ('decision_month_year_201812', 0.001),\n",
       " ('worker_state_abv_AZ', 0.001),\n",
       " ('worker_state_abv_CO', 0.001),\n",
       " ('worker_state_abv_CT', 0.001),\n",
       " ('worker_state_abv_IN', 0.001),\n",
       " ('worker_state_abv_MA', 0.001),\n",
       " ('worker_state_abv_MD', 0.001),\n",
       " ('worker_state_abv_MI', 0.001),\n",
       " ('worker_state_abv_MO', 0.001),\n",
       " ('worker_state_abv_NC', 0.001),\n",
       " ('worker_state_abv_OH', 0.001),\n",
       " ('worker_state_abv_OR', 0.001),\n",
       " ('worker_state_abv_TN', 0.001),\n",
       " ('worker_state_abv_WA', 0.001),\n",
       " ('country_of_citizenship_DEU', 0.0),\n",
       " ('country_of_citizenship_NPL', 0.0),\n",
       " ('country_of_citizenship_VEN', 0.0)]"
      ]
     },
     "execution_count": 170,
     "metadata": {},
     "output_type": "execute_result"
    }
   ],
   "source": [
    "ordered_importance"
   ]
  },
  {
   "cell_type": "markdown",
   "metadata": {},
   "source": [
    "### Random Forest - using all features"
   ]
  },
  {
   "cell_type": "code",
   "execution_count": 175,
   "metadata": {
    "ExecuteTime": {
     "end_time": "2019-03-17T18:41:04.757761Z",
     "start_time": "2019-03-17T18:40:52.036741Z"
    }
   },
   "outputs": [],
   "source": [
    "randfor = RandomForestClassifier(random_state=27, max_depth=3, n_estimators=100).fit(all_features['X_train'], all_features['y_train'])\n",
    "y_pred_randfor_prob = randfor.predict_proba(all_features['X_val'])\n",
    "y_pred_randfor = randfor.predict(all_features['X_val'])"
   ]
  },
  {
   "cell_type": "code",
   "execution_count": 178,
   "metadata": {
    "ExecuteTime": {
     "end_time": "2019-03-17T18:48:31.698425Z",
     "start_time": "2019-03-17T18:48:31.690999Z"
    }
   },
   "outputs": [
    {
     "data": {
      "text/plain": [
       "array([[0.66367373, 0.33632627],\n",
       "       [0.51215815, 0.48784185],\n",
       "       [0.52916537, 0.47083463],\n",
       "       ...,\n",
       "       [0.66207115, 0.33792885],\n",
       "       [0.54362874, 0.45637126],\n",
       "       [0.65048254, 0.34951746]])"
      ]
     },
     "execution_count": 178,
     "metadata": {},
     "output_type": "execute_result"
    }
   ],
   "source": [
    "y_pred_randfor_prob"
   ]
  },
  {
   "cell_type": "code",
   "execution_count": 177,
   "metadata": {
    "ExecuteTime": {
     "end_time": "2019-03-17T18:45:32.401406Z",
     "start_time": "2019-03-17T18:43:44.178014Z"
    }
   },
   "outputs": [
    {
     "name": "stdout",
     "output_type": "stream",
     "text": [
      "Random Forest Av Accuracy: 0.688\n",
      "Random Forest Av Precision: 0.695\n",
      "Random Forest Av Recall: 0.672\n",
      "Random Forest Av F1: 0.683\n"
     ]
    }
   ],
   "source": [
    "# Random Forest Error Metrics\n",
    "print(f\"Random Forest Av Accuracy: {(cross_val_score(randfor, all_features['X_train'], all_features['y_train'])).mean().round(3)}\")\n",
    "print(f\"Random Forest Av Precision: {(cross_val_score(randfor, all_features['X_train'], all_features['y_train'], scoring='precision')).mean().round(3)}\")\n",
    "print(f\"Random Forest Av Recall: {(cross_val_score(randfor, all_features['X_train'], all_features['y_train'], scoring='recall')).mean().round(3)}\")\n",
    "print(f\"Random Forest Av F1: {(cross_val_score(randfor, all_features['X_train'], all_features['y_train'], scoring='f1')).mean().round(3)}\")"
   ]
  },
  {
   "cell_type": "code",
   "execution_count": 176,
   "metadata": {
    "ExecuteTime": {
     "end_time": "2019-03-17T18:42:11.007270Z",
     "start_time": "2019-03-17T18:42:10.738666Z"
    }
   },
   "outputs": [
    {
     "data": {
      "text/plain": [
       "<Figure size 720x504 with 0 Axes>"
      ]
     },
     "execution_count": 176,
     "metadata": {},
     "output_type": "execute_result"
    },
    {
     "data": {
      "image/png": "[encoded data removed]",
      "text/plain": [
       "<Figure size 432x288 with 2 Axes>"
      ]
     },
     "metadata": {
      "needs_background": "light"
     },
     "output_type": "display_data"
    },
    {
     "data": {
      "text/plain": [
       "<Figure size 720x504 with 0 Axes>"
      ]
     },
     "metadata": {},
     "output_type": "display_data"
    }
   ],
   "source": [
    "rfc_cm = confusion_matrix(all_features['y_val'], y_pred_randfor)\n",
    "print_confusion_matrix(rfc_cm, [\"Certified\", \"Denied\"])"
   ]
  },
  {
   "cell_type": "markdown",
   "metadata": {},
   "source": [
    "### Tune hyperparameters on random forest"
   ]
  },
  {
   "cell_type": "markdown",
   "metadata": {},
   "source": [
    "### Using Randomised Search"
   ]
  },
  {
   "cell_type": "code",
   "execution_count": 179,
   "metadata": {
    "ExecuteTime": {
     "end_time": "2019-03-17T18:56:51.020221Z",
     "start_time": "2019-03-17T18:56:51.013254Z"
    }
   },
   "outputs": [],
   "source": [
    "rf = RandomForestClassifier(random_state=27)"
   ]
  },
  {
   "cell_type": "code",
   "execution_count": 180,
   "metadata": {
    "ExecuteTime": {
     "end_time": "2019-03-17T18:57:05.209667Z",
     "start_time": "2019-03-17T18:57:05.203991Z"
    }
   },
   "outputs": [
    {
     "data": {
      "text/plain": [
       "{'bootstrap': True,\n",
       " 'class_weight': None,\n",
       " 'criterion': 'gini',\n",
       " 'max_depth': None,\n",
       " 'max_features': 'auto',\n",
       " 'max_leaf_nodes': None,\n",
       " 'min_impurity_decrease': 0.0,\n",
       " 'min_impurity_split': None,\n",
       " 'min_samples_leaf': 1,\n",
       " 'min_samples_split': 2,\n",
       " 'min_weight_fraction_leaf': 0.0,\n",
       " 'n_estimators': 'warn',\n",
       " 'n_jobs': None,\n",
       " 'oob_score': False,\n",
       " 'random_state': 27,\n",
       " 'verbose': 0,\n",
       " 'warm_start': False}"
      ]
     },
     "execution_count": 180,
     "metadata": {},
     "output_type": "execute_result"
    }
   ],
   "source": [
    "rf.get_params()"
   ]
  },
  {
   "cell_type": "code",
   "execution_count": 181,
   "metadata": {
    "ExecuteTime": {
     "end_time": "2019-03-17T18:57:29.567933Z",
     "start_time": "2019-03-17T18:57:29.564463Z"
    }
   },
   "outputs": [],
   "source": [
    "from sklearn.model_selection import RandomizedSearchCV"
   ]
  },
  {
   "cell_type": "code",
   "execution_count": 189,
   "metadata": {
    "ExecuteTime": {
     "end_time": "2019-03-17T19:23:17.644913Z",
     "start_time": "2019-03-17T19:23:17.634709Z"
    }
   },
   "outputs": [],
   "source": [
    "# Number of trees in random forest\n",
    "n_estimators = [int(x) for x in np.linspace(100, 1000, 10)]\n",
    "\n",
    "# Number of features to consider at every split\n",
    "max_features = ['auto', 'sqrt']\n",
    "\n",
    "# Maximum number of levels in tree\n",
    "max_depth = [int(x) for x in np.linspace(10, 50, num=5)]\n",
    "max_depth.append(None)\n",
    "\n",
    "# Minimum number of samples required to a split a node\n",
    "min_samples_split = [2, 5, 10]\n",
    "\n",
    "# Minimum number of sample required at each leaf node\n",
    "min_samples_leaf = [1, 2, 4]\n",
    "\n",
    "# Method of selecting samples for training each tree\n",
    "bootstrap = [True, False]"
   ]
  },
  {
   "cell_type": "code",
   "execution_count": 190,
   "metadata": {
    "ExecuteTime": {
     "end_time": "2019-03-17T19:23:20.018022Z",
     "start_time": "2019-03-17T19:23:20.013536Z"
    }
   },
   "outputs": [],
   "source": [
    "# Create the random grid: \n",
    "random_grid = {'n_estimators': n_estimators,\n",
    "              'max_features': max_features,\n",
    "              'max_depth': max_depth,\n",
    "              'min_samples_split': min_samples_split,\n",
    "              'min_samples_leaf': min_samples_leaf,\n",
    "              'bootstrap': bootstrap}"
   ]
  },
  {
   "cell_type": "code",
   "execution_count": 191,
   "metadata": {
    "ExecuteTime": {
     "end_time": "2019-03-17T19:23:21.715266Z",
     "start_time": "2019-03-17T19:23:21.706972Z"
    }
   },
   "outputs": [
    {
     "data": {
      "text/plain": [
       "{'n_estimators': [100, 200, 300, 400, 500, 600, 700, 800, 900, 1000],\n",
       " 'max_features': ['auto', 'sqrt'],\n",
       " 'max_depth': [10, 20, 30, 40, 50, None],\n",
       " 'min_samples_split': [2, 5, 10],\n",
       " 'min_samples_leaf': [1, 2, 4],\n",
       " 'bootstrap': [True, False]}"
      ]
     },
     "execution_count": 191,
     "metadata": {},
     "output_type": "execute_result"
    }
   ],
   "source": [
    "random_grid"
   ]
  },
  {
   "cell_type": "code",
   "execution_count": 192,
   "metadata": {
    "ExecuteTime": {
     "end_time": "2019-03-17T19:23:31.535209Z",
     "start_time": "2019-03-17T19:23:31.530758Z"
    }
   },
   "outputs": [],
   "source": [
    "rf_random = RandomForestClassifier()\n",
    "# Random search of parameters, using 3 fold cross_val\n",
    "# search across 100 different combinations\n",
    "rf_random = RandomizedSearchCV(estimator=rf, param_distributions=random_grid, n_iter=50, cv=3, random_state=27, n_jobs=1)"
   ]
  },
  {
   "cell_type": "code",
   "execution_count": 193,
   "metadata": {
    "ExecuteTime": {
     "end_time": "2019-03-17T19:26:36.255267Z",
     "start_time": "2019-03-17T19:23:35.323121Z"
    }
   },
   "outputs": [
    {
     "ename": "KeyboardInterrupt",
     "evalue": "",
     "output_type": "error",
     "traceback": [
      "\u001b[0;31m---------------------------------------------------------------------------\u001b[0m",
      "\u001b[0;31mKeyboardInterrupt\u001b[0m                         Traceback (most recent call last)",
      "\u001b[0;32m<ipython-input-193-e06b1c5a68e3>\u001b[0m in \u001b[0;36m<module>\u001b[0;34m\u001b[0m\n\u001b[0;32m----> 1\u001b[0;31m \u001b[0mrf_random\u001b[0m\u001b[0;34m.\u001b[0m\u001b[0mfit\u001b[0m\u001b[0;34m(\u001b[0m\u001b[0mall_features\u001b[0m\u001b[0;34m[\u001b[0m\u001b[0;34m'X_train'\u001b[0m\u001b[0;34m]\u001b[0m\u001b[0;34m,\u001b[0m \u001b[0mall_features\u001b[0m\u001b[0;34m[\u001b[0m\u001b[0;34m'y_train'\u001b[0m\u001b[0;34m]\u001b[0m\u001b[0;34m)\u001b[0m\u001b[0;34m\u001b[0m\u001b[0;34m\u001b[0m\u001b[0m\n\u001b[0m",
      "\u001b[0;32m/anaconda3/lib/python3.6/site-packages/sklearn/model_selection/_search.py\u001b[0m in \u001b[0;36mfit\u001b[0;34m(self, X, y, groups, **fit_params)\u001b[0m\n\u001b[1;32m    720\u001b[0m                 \u001b[0;32mreturn\u001b[0m \u001b[0mresults_container\u001b[0m\u001b[0;34m[\u001b[0m\u001b[0;36m0\u001b[0m\u001b[0;34m]\u001b[0m\u001b[0;34m\u001b[0m\u001b[0;34m\u001b[0m\u001b[0m\n\u001b[1;32m    721\u001b[0m \u001b[0;34m\u001b[0m\u001b[0m\n\u001b[0;32m--> 722\u001b[0;31m             \u001b[0mself\u001b[0m\u001b[0;34m.\u001b[0m\u001b[0m_run_search\u001b[0m\u001b[0;34m(\u001b[0m\u001b[0mevaluate_candidates\u001b[0m\u001b[0;34m)\u001b[0m\u001b[0;34m\u001b[0m\u001b[0;34m\u001b[0m\u001b[0m\n\u001b[0m\u001b[1;32m    723\u001b[0m \u001b[0;34m\u001b[0m\u001b[0m\n\u001b[1;32m    724\u001b[0m         \u001b[0mresults\u001b[0m \u001b[0;34m=\u001b[0m \u001b[0mresults_container\u001b[0m\u001b[0;34m[\u001b[0m\u001b[0;36m0\u001b[0m\u001b[0;34m]\u001b[0m\u001b[0;34m\u001b[0m\u001b[0;34m\u001b[0m\u001b[0m\n",
      "\u001b[0;32m/anaconda3/lib/python3.6/site-packages/sklearn/model_selection/_search.py\u001b[0m in \u001b[0;36m_run_search\u001b[0;34m(self, evaluate_candidates)\u001b[0m\n\u001b[1;32m   1513\u001b[0m         evaluate_candidates(ParameterSampler(\n\u001b[1;32m   1514\u001b[0m             \u001b[0mself\u001b[0m\u001b[0;34m.\u001b[0m\u001b[0mparam_distributions\u001b[0m\u001b[0;34m,\u001b[0m \u001b[0mself\u001b[0m\u001b[0;34m.\u001b[0m\u001b[0mn_iter\u001b[0m\u001b[0;34m,\u001b[0m\u001b[0;34m\u001b[0m\u001b[0;34m\u001b[0m\u001b[0m\n\u001b[0;32m-> 1515\u001b[0;31m             random_state=self.random_state))\n\u001b[0m",
      "\u001b[0;32m/anaconda3/lib/python3.6/site-packages/sklearn/model_selection/_search.py\u001b[0m in \u001b[0;36mevaluate_candidates\u001b[0;34m(candidate_params)\u001b[0m\n\u001b[1;32m    709\u001b[0m                                \u001b[0;32mfor\u001b[0m \u001b[0mparameters\u001b[0m\u001b[0;34m,\u001b[0m \u001b[0;34m(\u001b[0m\u001b[0mtrain\u001b[0m\u001b[0;34m,\u001b[0m \u001b[0mtest\u001b[0m\u001b[0;34m)\u001b[0m\u001b[0;34m\u001b[0m\u001b[0;34m\u001b[0m\u001b[0m\n\u001b[1;32m    710\u001b[0m                                in product(candidate_params,\n\u001b[0;32m--> 711\u001b[0;31m                                           cv.split(X, y, groups)))\n\u001b[0m\u001b[1;32m    712\u001b[0m \u001b[0;34m\u001b[0m\u001b[0m\n\u001b[1;32m    713\u001b[0m                 \u001b[0mall_candidate_params\u001b[0m\u001b[0;34m.\u001b[0m\u001b[0mextend\u001b[0m\u001b[0;34m(\u001b[0m\u001b[0mcandidate_params\u001b[0m\u001b[0;34m)\u001b[0m\u001b[0;34m\u001b[0m\u001b[0;34m\u001b[0m\u001b[0m\n",
      "\u001b[0;32m/anaconda3/lib/python3.6/site-packages/sklearn/externals/joblib/parallel.py\u001b[0m in \u001b[0;36m__call__\u001b[0;34m(self, iterable)\u001b[0m\n\u001b[1;32m    915\u001b[0m             \u001b[0;31m# remaining jobs.\u001b[0m\u001b[0;34m\u001b[0m\u001b[0;34m\u001b[0m\u001b[0;34m\u001b[0m\u001b[0m\n\u001b[1;32m    916\u001b[0m             \u001b[0mself\u001b[0m\u001b[0;34m.\u001b[0m\u001b[0m_iterating\u001b[0m \u001b[0;34m=\u001b[0m \u001b[0;32mFalse\u001b[0m\u001b[0;34m\u001b[0m\u001b[0;34m\u001b[0m\u001b[0m\n\u001b[0;32m--> 917\u001b[0;31m             \u001b[0;32mif\u001b[0m \u001b[0mself\u001b[0m\u001b[0;34m.\u001b[0m\u001b[0mdispatch_one_batch\u001b[0m\u001b[0;34m(\u001b[0m\u001b[0miterator\u001b[0m\u001b[0;34m)\u001b[0m\u001b[0;34m:\u001b[0m\u001b[0;34m\u001b[0m\u001b[0;34m\u001b[0m\u001b[0m\n\u001b[0m\u001b[1;32m    918\u001b[0m                 \u001b[0mself\u001b[0m\u001b[0;34m.\u001b[0m\u001b[0m_iterating\u001b[0m \u001b[0;34m=\u001b[0m \u001b[0mself\u001b[0m\u001b[0;34m.\u001b[0m\u001b[0m_original_iterator\u001b[0m \u001b[0;32mis\u001b[0m \u001b[0;32mnot\u001b[0m \u001b[0;32mNone\u001b[0m\u001b[0;34m\u001b[0m\u001b[0;34m\u001b[0m\u001b[0m\n\u001b[1;32m    919\u001b[0m \u001b[0;34m\u001b[0m\u001b[0m\n",
      "\u001b[0;32m/anaconda3/lib/python3.6/site-packages/sklearn/externals/joblib/parallel.py\u001b[0m in \u001b[0;36mdispatch_one_batch\u001b[0;34m(self, iterator)\u001b[0m\n\u001b[1;32m    757\u001b[0m                 \u001b[0;32mreturn\u001b[0m \u001b[0;32mFalse\u001b[0m\u001b[0;34m\u001b[0m\u001b[0;34m\u001b[0m\u001b[0m\n\u001b[1;32m    758\u001b[0m             \u001b[0;32melse\u001b[0m\u001b[0;34m:\u001b[0m\u001b[0;34m\u001b[0m\u001b[0;34m\u001b[0m\u001b[0m\n\u001b[0;32m--> 759\u001b[0;31m                 \u001b[0mself\u001b[0m\u001b[0;34m.\u001b[0m\u001b[0m_dispatch\u001b[0m\u001b[0;34m(\u001b[0m\u001b[0mtasks\u001b[0m\u001b[0;34m)\u001b[0m\u001b[0;34m\u001b[0m\u001b[0;34m\u001b[0m\u001b[0m\n\u001b[0m\u001b[1;32m    760\u001b[0m                 \u001b[0;32mreturn\u001b[0m \u001b[0;32mTrue\u001b[0m\u001b[0;34m\u001b[0m\u001b[0;34m\u001b[0m\u001b[0m\n\u001b[1;32m    761\u001b[0m \u001b[0;34m\u001b[0m\u001b[0m\n",
      "\u001b[0;32m/anaconda3/lib/python3.6/site-packages/sklearn/externals/joblib/parallel.py\u001b[0m in \u001b[0;36m_dispatch\u001b[0;34m(self, batch)\u001b[0m\n\u001b[1;32m    714\u001b[0m         \u001b[0;32mwith\u001b[0m \u001b[0mself\u001b[0m\u001b[0;34m.\u001b[0m\u001b[0m_lock\u001b[0m\u001b[0;34m:\u001b[0m\u001b[0;34m\u001b[0m\u001b[0;34m\u001b[0m\u001b[0m\n\u001b[1;32m    715\u001b[0m             \u001b[0mjob_idx\u001b[0m \u001b[0;34m=\u001b[0m \u001b[0mlen\u001b[0m\u001b[0;34m(\u001b[0m\u001b[0mself\u001b[0m\u001b[0;34m.\u001b[0m\u001b[0m_jobs\u001b[0m\u001b[0;34m)\u001b[0m\u001b[0;34m\u001b[0m\u001b[0;34m\u001b[0m\u001b[0m\n\u001b[0;32m--> 716\u001b[0;31m             \u001b[0mjob\u001b[0m \u001b[0;34m=\u001b[0m \u001b[0mself\u001b[0m\u001b[0;34m.\u001b[0m\u001b[0m_backend\u001b[0m\u001b[0;34m.\u001b[0m\u001b[0mapply_async\u001b[0m\u001b[0;34m(\u001b[0m\u001b[0mbatch\u001b[0m\u001b[0;34m,\u001b[0m \u001b[0mcallback\u001b[0m\u001b[0;34m=\u001b[0m\u001b[0mcb\u001b[0m\u001b[0;34m)\u001b[0m\u001b[0;34m\u001b[0m\u001b[0;34m\u001b[0m\u001b[0m\n\u001b[0m\u001b[1;32m    717\u001b[0m             \u001b[0;31m# A job can complete so quickly than its callback is\u001b[0m\u001b[0;34m\u001b[0m\u001b[0;34m\u001b[0m\u001b[0;34m\u001b[0m\u001b[0m\n\u001b[1;32m    718\u001b[0m             \u001b[0;31m# called before we get here, causing self._jobs to\u001b[0m\u001b[0;34m\u001b[0m\u001b[0;34m\u001b[0m\u001b[0;34m\u001b[0m\u001b[0m\n",
      "\u001b[0;32m/anaconda3/lib/python3.6/site-packages/sklearn/externals/joblib/_parallel_backends.py\u001b[0m in \u001b[0;36mapply_async\u001b[0;34m(self, func, callback)\u001b[0m\n\u001b[1;32m    180\u001b[0m     \u001b[0;32mdef\u001b[0m \u001b[0mapply_async\u001b[0m\u001b[0;34m(\u001b[0m\u001b[0mself\u001b[0m\u001b[0;34m,\u001b[0m \u001b[0mfunc\u001b[0m\u001b[0;34m,\u001b[0m \u001b[0mcallback\u001b[0m\u001b[0;34m=\u001b[0m\u001b[0;32mNone\u001b[0m\u001b[0;34m)\u001b[0m\u001b[0;34m:\u001b[0m\u001b[0;34m\u001b[0m\u001b[0;34m\u001b[0m\u001b[0m\n\u001b[1;32m    181\u001b[0m         \u001b[0;34m\"\"\"Schedule a func to be run\"\"\"\u001b[0m\u001b[0;34m\u001b[0m\u001b[0;34m\u001b[0m\u001b[0m\n\u001b[0;32m--> 182\u001b[0;31m         \u001b[0mresult\u001b[0m \u001b[0;34m=\u001b[0m \u001b[0mImmediateResult\u001b[0m\u001b[0;34m(\u001b[0m\u001b[0mfunc\u001b[0m\u001b[0;34m)\u001b[0m\u001b[0;34m\u001b[0m\u001b[0;34m\u001b[0m\u001b[0m\n\u001b[0m\u001b[1;32m    183\u001b[0m         \u001b[0;32mif\u001b[0m \u001b[0mcallback\u001b[0m\u001b[0;34m:\u001b[0m\u001b[0;34m\u001b[0m\u001b[0;34m\u001b[0m\u001b[0m\n\u001b[1;32m    184\u001b[0m             \u001b[0mcallback\u001b[0m\u001b[0;34m(\u001b[0m\u001b[0mresult\u001b[0m\u001b[0;34m)\u001b[0m\u001b[0;34m\u001b[0m\u001b[0;34m\u001b[0m\u001b[0m\n",
      "\u001b[0;32m/anaconda3/lib/python3.6/site-packages/sklearn/externals/joblib/_parallel_backends.py\u001b[0m in \u001b[0;36m__init__\u001b[0;34m(self, batch)\u001b[0m\n\u001b[1;32m    547\u001b[0m         \u001b[0;31m# Don't delay the application, to avoid keeping the input\u001b[0m\u001b[0;34m\u001b[0m\u001b[0;34m\u001b[0m\u001b[0;34m\u001b[0m\u001b[0m\n\u001b[1;32m    548\u001b[0m         \u001b[0;31m# arguments in memory\u001b[0m\u001b[0;34m\u001b[0m\u001b[0;34m\u001b[0m\u001b[0;34m\u001b[0m\u001b[0m\n\u001b[0;32m--> 549\u001b[0;31m         \u001b[0mself\u001b[0m\u001b[0;34m.\u001b[0m\u001b[0mresults\u001b[0m \u001b[0;34m=\u001b[0m \u001b[0mbatch\u001b[0m\u001b[0;34m(\u001b[0m\u001b[0;34m)\u001b[0m\u001b[0;34m\u001b[0m\u001b[0;34m\u001b[0m\u001b[0m\n\u001b[0m\u001b[1;32m    550\u001b[0m \u001b[0;34m\u001b[0m\u001b[0m\n\u001b[1;32m    551\u001b[0m     \u001b[0;32mdef\u001b[0m \u001b[0mget\u001b[0m\u001b[0;34m(\u001b[0m\u001b[0mself\u001b[0m\u001b[0;34m)\u001b[0m\u001b[0;34m:\u001b[0m\u001b[0;34m\u001b[0m\u001b[0;34m\u001b[0m\u001b[0m\n",
      "\u001b[0;32m/anaconda3/lib/python3.6/site-packages/sklearn/externals/joblib/parallel.py\u001b[0m in \u001b[0;36m__call__\u001b[0;34m(self)\u001b[0m\n\u001b[1;32m    223\u001b[0m         \u001b[0;32mwith\u001b[0m \u001b[0mparallel_backend\u001b[0m\u001b[0;34m(\u001b[0m\u001b[0mself\u001b[0m\u001b[0;34m.\u001b[0m\u001b[0m_backend\u001b[0m\u001b[0;34m,\u001b[0m \u001b[0mn_jobs\u001b[0m\u001b[0;34m=\u001b[0m\u001b[0mself\u001b[0m\u001b[0;34m.\u001b[0m\u001b[0m_n_jobs\u001b[0m\u001b[0;34m)\u001b[0m\u001b[0;34m:\u001b[0m\u001b[0;34m\u001b[0m\u001b[0;34m\u001b[0m\u001b[0m\n\u001b[1;32m    224\u001b[0m             return [func(*args, **kwargs)\n\u001b[0;32m--> 225\u001b[0;31m                     for func, args, kwargs in self.items]\n\u001b[0m\u001b[1;32m    226\u001b[0m \u001b[0;34m\u001b[0m\u001b[0m\n\u001b[1;32m    227\u001b[0m     \u001b[0;32mdef\u001b[0m \u001b[0m__len__\u001b[0m\u001b[0;34m(\u001b[0m\u001b[0mself\u001b[0m\u001b[0;34m)\u001b[0m\u001b[0;34m:\u001b[0m\u001b[0;34m\u001b[0m\u001b[0;34m\u001b[0m\u001b[0m\n",
      "\u001b[0;32m/anaconda3/lib/python3.6/site-packages/sklearn/externals/joblib/parallel.py\u001b[0m in \u001b[0;36m<listcomp>\u001b[0;34m(.0)\u001b[0m\n\u001b[1;32m    223\u001b[0m         \u001b[0;32mwith\u001b[0m \u001b[0mparallel_backend\u001b[0m\u001b[0;34m(\u001b[0m\u001b[0mself\u001b[0m\u001b[0;34m.\u001b[0m\u001b[0m_backend\u001b[0m\u001b[0;34m,\u001b[0m \u001b[0mn_jobs\u001b[0m\u001b[0;34m=\u001b[0m\u001b[0mself\u001b[0m\u001b[0;34m.\u001b[0m\u001b[0m_n_jobs\u001b[0m\u001b[0;34m)\u001b[0m\u001b[0;34m:\u001b[0m\u001b[0;34m\u001b[0m\u001b[0;34m\u001b[0m\u001b[0m\n\u001b[1;32m    224\u001b[0m             return [func(*args, **kwargs)\n\u001b[0;32m--> 225\u001b[0;31m                     for func, args, kwargs in self.items]\n\u001b[0m\u001b[1;32m    226\u001b[0m \u001b[0;34m\u001b[0m\u001b[0m\n\u001b[1;32m    227\u001b[0m     \u001b[0;32mdef\u001b[0m \u001b[0m__len__\u001b[0m\u001b[0;34m(\u001b[0m\u001b[0mself\u001b[0m\u001b[0;34m)\u001b[0m\u001b[0;34m:\u001b[0m\u001b[0;34m\u001b[0m\u001b[0;34m\u001b[0m\u001b[0m\n",
      "\u001b[0;32m/anaconda3/lib/python3.6/site-packages/sklearn/model_selection/_validation.py\u001b[0m in \u001b[0;36m_fit_and_score\u001b[0;34m(estimator, X, y, scorer, train, test, verbose, parameters, fit_params, return_train_score, return_parameters, return_n_test_samples, return_times, return_estimator, error_score)\u001b[0m\n\u001b[1;32m    526\u001b[0m             \u001b[0mestimator\u001b[0m\u001b[0;34m.\u001b[0m\u001b[0mfit\u001b[0m\u001b[0;34m(\u001b[0m\u001b[0mX_train\u001b[0m\u001b[0;34m,\u001b[0m \u001b[0;34m**\u001b[0m\u001b[0mfit_params\u001b[0m\u001b[0;34m)\u001b[0m\u001b[0;34m\u001b[0m\u001b[0;34m\u001b[0m\u001b[0m\n\u001b[1;32m    527\u001b[0m         \u001b[0;32melse\u001b[0m\u001b[0;34m:\u001b[0m\u001b[0;34m\u001b[0m\u001b[0;34m\u001b[0m\u001b[0m\n\u001b[0;32m--> 528\u001b[0;31m             \u001b[0mestimator\u001b[0m\u001b[0;34m.\u001b[0m\u001b[0mfit\u001b[0m\u001b[0;34m(\u001b[0m\u001b[0mX_train\u001b[0m\u001b[0;34m,\u001b[0m \u001b[0my_train\u001b[0m\u001b[0;34m,\u001b[0m \u001b[0;34m**\u001b[0m\u001b[0mfit_params\u001b[0m\u001b[0;34m)\u001b[0m\u001b[0;34m\u001b[0m\u001b[0;34m\u001b[0m\u001b[0m\n\u001b[0m\u001b[1;32m    529\u001b[0m \u001b[0;34m\u001b[0m\u001b[0m\n\u001b[1;32m    530\u001b[0m     \u001b[0;32mexcept\u001b[0m \u001b[0mException\u001b[0m \u001b[0;32mas\u001b[0m \u001b[0me\u001b[0m\u001b[0;34m:\u001b[0m\u001b[0;34m\u001b[0m\u001b[0;34m\u001b[0m\u001b[0m\n",
      "\u001b[0;32m/anaconda3/lib/python3.6/site-packages/sklearn/ensemble/forest.py\u001b[0m in \u001b[0;36mfit\u001b[0;34m(self, X, y, sample_weight)\u001b[0m\n\u001b[1;32m    331\u001b[0m                     \u001b[0mt\u001b[0m\u001b[0;34m,\u001b[0m \u001b[0mself\u001b[0m\u001b[0;34m,\u001b[0m \u001b[0mX\u001b[0m\u001b[0;34m,\u001b[0m \u001b[0my\u001b[0m\u001b[0;34m,\u001b[0m \u001b[0msample_weight\u001b[0m\u001b[0;34m,\u001b[0m \u001b[0mi\u001b[0m\u001b[0;34m,\u001b[0m \u001b[0mlen\u001b[0m\u001b[0;34m(\u001b[0m\u001b[0mtrees\u001b[0m\u001b[0;34m)\u001b[0m\u001b[0;34m,\u001b[0m\u001b[0;34m\u001b[0m\u001b[0;34m\u001b[0m\u001b[0m\n\u001b[1;32m    332\u001b[0m                     verbose=self.verbose, class_weight=self.class_weight)\n\u001b[0;32m--> 333\u001b[0;31m                 for i, t in enumerate(trees))\n\u001b[0m\u001b[1;32m    334\u001b[0m \u001b[0;34m\u001b[0m\u001b[0m\n\u001b[1;32m    335\u001b[0m             \u001b[0;31m# Collect newly grown trees\u001b[0m\u001b[0;34m\u001b[0m\u001b[0;34m\u001b[0m\u001b[0;34m\u001b[0m\u001b[0m\n",
      "\u001b[0;32m/anaconda3/lib/python3.6/site-packages/sklearn/externals/joblib/parallel.py\u001b[0m in \u001b[0;36m__call__\u001b[0;34m(self, iterable)\u001b[0m\n\u001b[1;32m    918\u001b[0m                 \u001b[0mself\u001b[0m\u001b[0;34m.\u001b[0m\u001b[0m_iterating\u001b[0m \u001b[0;34m=\u001b[0m \u001b[0mself\u001b[0m\u001b[0;34m.\u001b[0m\u001b[0m_original_iterator\u001b[0m \u001b[0;32mis\u001b[0m \u001b[0;32mnot\u001b[0m \u001b[0;32mNone\u001b[0m\u001b[0;34m\u001b[0m\u001b[0;34m\u001b[0m\u001b[0m\n\u001b[1;32m    919\u001b[0m \u001b[0;34m\u001b[0m\u001b[0m\n\u001b[0;32m--> 920\u001b[0;31m             \u001b[0;32mwhile\u001b[0m \u001b[0mself\u001b[0m\u001b[0;34m.\u001b[0m\u001b[0mdispatch_one_batch\u001b[0m\u001b[0;34m(\u001b[0m\u001b[0miterator\u001b[0m\u001b[0;34m)\u001b[0m\u001b[0;34m:\u001b[0m\u001b[0;34m\u001b[0m\u001b[0;34m\u001b[0m\u001b[0m\n\u001b[0m\u001b[1;32m    921\u001b[0m                 \u001b[0;32mpass\u001b[0m\u001b[0;34m\u001b[0m\u001b[0;34m\u001b[0m\u001b[0m\n\u001b[1;32m    922\u001b[0m \u001b[0;34m\u001b[0m\u001b[0m\n",
      "\u001b[0;32m/anaconda3/lib/python3.6/site-packages/sklearn/externals/joblib/parallel.py\u001b[0m in \u001b[0;36mdispatch_one_batch\u001b[0;34m(self, iterator)\u001b[0m\n\u001b[1;32m    757\u001b[0m                 \u001b[0;32mreturn\u001b[0m \u001b[0;32mFalse\u001b[0m\u001b[0;34m\u001b[0m\u001b[0;34m\u001b[0m\u001b[0m\n\u001b[1;32m    758\u001b[0m             \u001b[0;32melse\u001b[0m\u001b[0;34m:\u001b[0m\u001b[0;34m\u001b[0m\u001b[0;34m\u001b[0m\u001b[0m\n\u001b[0;32m--> 759\u001b[0;31m                 \u001b[0mself\u001b[0m\u001b[0;34m.\u001b[0m\u001b[0m_dispatch\u001b[0m\u001b[0;34m(\u001b[0m\u001b[0mtasks\u001b[0m\u001b[0;34m)\u001b[0m\u001b[0;34m\u001b[0m\u001b[0;34m\u001b[0m\u001b[0m\n\u001b[0m\u001b[1;32m    760\u001b[0m                 \u001b[0;32mreturn\u001b[0m \u001b[0;32mTrue\u001b[0m\u001b[0;34m\u001b[0m\u001b[0;34m\u001b[0m\u001b[0m\n\u001b[1;32m    761\u001b[0m \u001b[0;34m\u001b[0m\u001b[0m\n",
      "\u001b[0;32m/anaconda3/lib/python3.6/site-packages/sklearn/externals/joblib/parallel.py\u001b[0m in \u001b[0;36m_dispatch\u001b[0;34m(self, batch)\u001b[0m\n\u001b[1;32m    714\u001b[0m         \u001b[0;32mwith\u001b[0m \u001b[0mself\u001b[0m\u001b[0;34m.\u001b[0m\u001b[0m_lock\u001b[0m\u001b[0;34m:\u001b[0m\u001b[0;34m\u001b[0m\u001b[0;34m\u001b[0m\u001b[0m\n\u001b[1;32m    715\u001b[0m             \u001b[0mjob_idx\u001b[0m \u001b[0;34m=\u001b[0m \u001b[0mlen\u001b[0m\u001b[0;34m(\u001b[0m\u001b[0mself\u001b[0m\u001b[0;34m.\u001b[0m\u001b[0m_jobs\u001b[0m\u001b[0;34m)\u001b[0m\u001b[0;34m\u001b[0m\u001b[0;34m\u001b[0m\u001b[0m\n\u001b[0;32m--> 716\u001b[0;31m             \u001b[0mjob\u001b[0m \u001b[0;34m=\u001b[0m \u001b[0mself\u001b[0m\u001b[0;34m.\u001b[0m\u001b[0m_backend\u001b[0m\u001b[0;34m.\u001b[0m\u001b[0mapply_async\u001b[0m\u001b[0;34m(\u001b[0m\u001b[0mbatch\u001b[0m\u001b[0;34m,\u001b[0m \u001b[0mcallback\u001b[0m\u001b[0;34m=\u001b[0m\u001b[0mcb\u001b[0m\u001b[0;34m)\u001b[0m\u001b[0;34m\u001b[0m\u001b[0;34m\u001b[0m\u001b[0m\n\u001b[0m\u001b[1;32m    717\u001b[0m             \u001b[0;31m# A job can complete so quickly than its callback is\u001b[0m\u001b[0;34m\u001b[0m\u001b[0;34m\u001b[0m\u001b[0;34m\u001b[0m\u001b[0m\n\u001b[1;32m    718\u001b[0m             \u001b[0;31m# called before we get here, causing self._jobs to\u001b[0m\u001b[0;34m\u001b[0m\u001b[0;34m\u001b[0m\u001b[0;34m\u001b[0m\u001b[0m\n",
      "\u001b[0;32m/anaconda3/lib/python3.6/site-packages/sklearn/externals/joblib/_parallel_backends.py\u001b[0m in \u001b[0;36mapply_async\u001b[0;34m(self, func, callback)\u001b[0m\n\u001b[1;32m    180\u001b[0m     \u001b[0;32mdef\u001b[0m \u001b[0mapply_async\u001b[0m\u001b[0;34m(\u001b[0m\u001b[0mself\u001b[0m\u001b[0;34m,\u001b[0m \u001b[0mfunc\u001b[0m\u001b[0;34m,\u001b[0m \u001b[0mcallback\u001b[0m\u001b[0;34m=\u001b[0m\u001b[0;32mNone\u001b[0m\u001b[0;34m)\u001b[0m\u001b[0;34m:\u001b[0m\u001b[0;34m\u001b[0m\u001b[0;34m\u001b[0m\u001b[0m\n\u001b[1;32m    181\u001b[0m         \u001b[0;34m\"\"\"Schedule a func to be run\"\"\"\u001b[0m\u001b[0;34m\u001b[0m\u001b[0;34m\u001b[0m\u001b[0m\n\u001b[0;32m--> 182\u001b[0;31m         \u001b[0mresult\u001b[0m \u001b[0;34m=\u001b[0m \u001b[0mImmediateResult\u001b[0m\u001b[0;34m(\u001b[0m\u001b[0mfunc\u001b[0m\u001b[0;34m)\u001b[0m\u001b[0;34m\u001b[0m\u001b[0;34m\u001b[0m\u001b[0m\n\u001b[0m\u001b[1;32m    183\u001b[0m         \u001b[0;32mif\u001b[0m \u001b[0mcallback\u001b[0m\u001b[0;34m:\u001b[0m\u001b[0;34m\u001b[0m\u001b[0;34m\u001b[0m\u001b[0m\n\u001b[1;32m    184\u001b[0m             \u001b[0mcallback\u001b[0m\u001b[0;34m(\u001b[0m\u001b[0mresult\u001b[0m\u001b[0;34m)\u001b[0m\u001b[0;34m\u001b[0m\u001b[0;34m\u001b[0m\u001b[0m\n",
      "\u001b[0;32m/anaconda3/lib/python3.6/site-packages/sklearn/externals/joblib/_parallel_backends.py\u001b[0m in \u001b[0;36m__init__\u001b[0;34m(self, batch)\u001b[0m\n\u001b[1;32m    547\u001b[0m         \u001b[0;31m# Don't delay the application, to avoid keeping the input\u001b[0m\u001b[0;34m\u001b[0m\u001b[0;34m\u001b[0m\u001b[0;34m\u001b[0m\u001b[0m\n\u001b[1;32m    548\u001b[0m         \u001b[0;31m# arguments in memory\u001b[0m\u001b[0;34m\u001b[0m\u001b[0;34m\u001b[0m\u001b[0;34m\u001b[0m\u001b[0m\n\u001b[0;32m--> 549\u001b[0;31m         \u001b[0mself\u001b[0m\u001b[0;34m.\u001b[0m\u001b[0mresults\u001b[0m \u001b[0;34m=\u001b[0m \u001b[0mbatch\u001b[0m\u001b[0;34m(\u001b[0m\u001b[0;34m)\u001b[0m\u001b[0;34m\u001b[0m\u001b[0;34m\u001b[0m\u001b[0m\n\u001b[0m\u001b[1;32m    550\u001b[0m \u001b[0;34m\u001b[0m\u001b[0m\n\u001b[1;32m    551\u001b[0m     \u001b[0;32mdef\u001b[0m \u001b[0mget\u001b[0m\u001b[0;34m(\u001b[0m\u001b[0mself\u001b[0m\u001b[0;34m)\u001b[0m\u001b[0;34m:\u001b[0m\u001b[0;34m\u001b[0m\u001b[0;34m\u001b[0m\u001b[0m\n",
      "\u001b[0;32m/anaconda3/lib/python3.6/site-packages/sklearn/externals/joblib/parallel.py\u001b[0m in \u001b[0;36m__call__\u001b[0;34m(self)\u001b[0m\n\u001b[1;32m    223\u001b[0m         \u001b[0;32mwith\u001b[0m \u001b[0mparallel_backend\u001b[0m\u001b[0;34m(\u001b[0m\u001b[0mself\u001b[0m\u001b[0;34m.\u001b[0m\u001b[0m_backend\u001b[0m\u001b[0;34m,\u001b[0m \u001b[0mn_jobs\u001b[0m\u001b[0;34m=\u001b[0m\u001b[0mself\u001b[0m\u001b[0;34m.\u001b[0m\u001b[0m_n_jobs\u001b[0m\u001b[0;34m)\u001b[0m\u001b[0;34m:\u001b[0m\u001b[0;34m\u001b[0m\u001b[0;34m\u001b[0m\u001b[0m\n\u001b[1;32m    224\u001b[0m             return [func(*args, **kwargs)\n\u001b[0;32m--> 225\u001b[0;31m                     for func, args, kwargs in self.items]\n\u001b[0m\u001b[1;32m    226\u001b[0m \u001b[0;34m\u001b[0m\u001b[0m\n\u001b[1;32m    227\u001b[0m     \u001b[0;32mdef\u001b[0m \u001b[0m__len__\u001b[0m\u001b[0;34m(\u001b[0m\u001b[0mself\u001b[0m\u001b[0;34m)\u001b[0m\u001b[0;34m:\u001b[0m\u001b[0;34m\u001b[0m\u001b[0;34m\u001b[0m\u001b[0m\n",
      "\u001b[0;32m/anaconda3/lib/python3.6/site-packages/sklearn/externals/joblib/parallel.py\u001b[0m in \u001b[0;36m<listcomp>\u001b[0;34m(.0)\u001b[0m\n\u001b[1;32m    223\u001b[0m         \u001b[0;32mwith\u001b[0m \u001b[0mparallel_backend\u001b[0m\u001b[0;34m(\u001b[0m\u001b[0mself\u001b[0m\u001b[0;34m.\u001b[0m\u001b[0m_backend\u001b[0m\u001b[0;34m,\u001b[0m \u001b[0mn_jobs\u001b[0m\u001b[0;34m=\u001b[0m\u001b[0mself\u001b[0m\u001b[0;34m.\u001b[0m\u001b[0m_n_jobs\u001b[0m\u001b[0;34m)\u001b[0m\u001b[0;34m:\u001b[0m\u001b[0;34m\u001b[0m\u001b[0;34m\u001b[0m\u001b[0m\n\u001b[1;32m    224\u001b[0m             return [func(*args, **kwargs)\n\u001b[0;32m--> 225\u001b[0;31m                     for func, args, kwargs in self.items]\n\u001b[0m\u001b[1;32m    226\u001b[0m \u001b[0;34m\u001b[0m\u001b[0m\n\u001b[1;32m    227\u001b[0m     \u001b[0;32mdef\u001b[0m \u001b[0m__len__\u001b[0m\u001b[0;34m(\u001b[0m\u001b[0mself\u001b[0m\u001b[0;34m)\u001b[0m\u001b[0;34m:\u001b[0m\u001b[0;34m\u001b[0m\u001b[0;34m\u001b[0m\u001b[0m\n",
      "\u001b[0;32m/anaconda3/lib/python3.6/site-packages/sklearn/ensemble/forest.py\u001b[0m in \u001b[0;36m_parallel_build_trees\u001b[0;34m(tree, forest, X, y, sample_weight, tree_idx, n_trees, verbose, class_weight)\u001b[0m\n\u001b[1;32m    117\u001b[0m             \u001b[0mcurr_sample_weight\u001b[0m \u001b[0;34m*=\u001b[0m \u001b[0mcompute_sample_weight\u001b[0m\u001b[0;34m(\u001b[0m\u001b[0;34m'balanced'\u001b[0m\u001b[0;34m,\u001b[0m \u001b[0my\u001b[0m\u001b[0;34m,\u001b[0m \u001b[0mindices\u001b[0m\u001b[0;34m)\u001b[0m\u001b[0;34m\u001b[0m\u001b[0;34m\u001b[0m\u001b[0m\n\u001b[1;32m    118\u001b[0m \u001b[0;34m\u001b[0m\u001b[0m\n\u001b[0;32m--> 119\u001b[0;31m         \u001b[0mtree\u001b[0m\u001b[0;34m.\u001b[0m\u001b[0mfit\u001b[0m\u001b[0;34m(\u001b[0m\u001b[0mX\u001b[0m\u001b[0;34m,\u001b[0m \u001b[0my\u001b[0m\u001b[0;34m,\u001b[0m \u001b[0msample_weight\u001b[0m\u001b[0;34m=\u001b[0m\u001b[0mcurr_sample_weight\u001b[0m\u001b[0;34m,\u001b[0m \u001b[0mcheck_input\u001b[0m\u001b[0;34m=\u001b[0m\u001b[0;32mFalse\u001b[0m\u001b[0;34m)\u001b[0m\u001b[0;34m\u001b[0m\u001b[0;34m\u001b[0m\u001b[0m\n\u001b[0m\u001b[1;32m    120\u001b[0m     \u001b[0;32melse\u001b[0m\u001b[0;34m:\u001b[0m\u001b[0;34m\u001b[0m\u001b[0;34m\u001b[0m\u001b[0m\n\u001b[1;32m    121\u001b[0m         \u001b[0mtree\u001b[0m\u001b[0;34m.\u001b[0m\u001b[0mfit\u001b[0m\u001b[0;34m(\u001b[0m\u001b[0mX\u001b[0m\u001b[0;34m,\u001b[0m \u001b[0my\u001b[0m\u001b[0;34m,\u001b[0m \u001b[0msample_weight\u001b[0m\u001b[0;34m=\u001b[0m\u001b[0msample_weight\u001b[0m\u001b[0;34m,\u001b[0m \u001b[0mcheck_input\u001b[0m\u001b[0;34m=\u001b[0m\u001b[0;32mFalse\u001b[0m\u001b[0;34m)\u001b[0m\u001b[0;34m\u001b[0m\u001b[0;34m\u001b[0m\u001b[0m\n",
      "\u001b[0;32m/anaconda3/lib/python3.6/site-packages/sklearn/tree/tree.py\u001b[0m in \u001b[0;36mfit\u001b[0;34m(self, X, y, sample_weight, check_input, X_idx_sorted)\u001b[0m\n\u001b[1;32m    799\u001b[0m             \u001b[0msample_weight\u001b[0m\u001b[0;34m=\u001b[0m\u001b[0msample_weight\u001b[0m\u001b[0;34m,\u001b[0m\u001b[0;34m\u001b[0m\u001b[0;34m\u001b[0m\u001b[0m\n\u001b[1;32m    800\u001b[0m             \u001b[0mcheck_input\u001b[0m\u001b[0;34m=\u001b[0m\u001b[0mcheck_input\u001b[0m\u001b[0;34m,\u001b[0m\u001b[0;34m\u001b[0m\u001b[0;34m\u001b[0m\u001b[0m\n\u001b[0;32m--> 801\u001b[0;31m             X_idx_sorted=X_idx_sorted)\n\u001b[0m\u001b[1;32m    802\u001b[0m         \u001b[0;32mreturn\u001b[0m \u001b[0mself\u001b[0m\u001b[0;34m\u001b[0m\u001b[0;34m\u001b[0m\u001b[0m\n\u001b[1;32m    803\u001b[0m \u001b[0;34m\u001b[0m\u001b[0m\n",
      "\u001b[0;32m/anaconda3/lib/python3.6/site-packages/sklearn/tree/tree.py\u001b[0m in \u001b[0;36mfit\u001b[0;34m(self, X, y, sample_weight, check_input, X_idx_sorted)\u001b[0m\n\u001b[1;32m    364\u001b[0m                                            min_impurity_split)\n\u001b[1;32m    365\u001b[0m \u001b[0;34m\u001b[0m\u001b[0m\n\u001b[0;32m--> 366\u001b[0;31m         \u001b[0mbuilder\u001b[0m\u001b[0;34m.\u001b[0m\u001b[0mbuild\u001b[0m\u001b[0;34m(\u001b[0m\u001b[0mself\u001b[0m\u001b[0;34m.\u001b[0m\u001b[0mtree_\u001b[0m\u001b[0;34m,\u001b[0m \u001b[0mX\u001b[0m\u001b[0;34m,\u001b[0m \u001b[0my\u001b[0m\u001b[0;34m,\u001b[0m \u001b[0msample_weight\u001b[0m\u001b[0;34m,\u001b[0m \u001b[0mX_idx_sorted\u001b[0m\u001b[0;34m)\u001b[0m\u001b[0;34m\u001b[0m\u001b[0;34m\u001b[0m\u001b[0m\n\u001b[0m\u001b[1;32m    367\u001b[0m \u001b[0;34m\u001b[0m\u001b[0m\n\u001b[1;32m    368\u001b[0m         \u001b[0;32mif\u001b[0m \u001b[0mself\u001b[0m\u001b[0;34m.\u001b[0m\u001b[0mn_outputs_\u001b[0m \u001b[0;34m==\u001b[0m \u001b[0;36m1\u001b[0m\u001b[0;34m:\u001b[0m\u001b[0;34m\u001b[0m\u001b[0;34m\u001b[0m\u001b[0m\n",
      "\u001b[0;31mKeyboardInterrupt\u001b[0m: "
     ]
    }
   ],
   "source": [
    "rf_random.fit(all_features['X_train'], all_features['y_train'])"
   ]
  },
  {
   "cell_type": "code",
   "execution_count": null,
   "metadata": {
    "ExecuteTime": {
     "end_time": "2019-03-17T19:26:36.268043Z",
     "start_time": "2019-03-17T19:23:37.901Z"
    }
   },
   "outputs": [],
   "source": [
    "rf_random.best_params_"
   ]
  },
  {
   "cell_type": "markdown",
   "metadata": {},
   "source": [
    "### Using GridSearch"
   ]
  },
  {
   "cell_type": "code",
   "execution_count": 194,
   "metadata": {
    "ExecuteTime": {
     "end_time": "2019-03-17T19:26:40.374780Z",
     "start_time": "2019-03-17T19:26:40.366382Z"
    }
   },
   "outputs": [],
   "source": [
    "from sklearn.model_selection import GridSearch"
   ]
  },
  {
   "cell_type": "code",
   "execution_count": 196,
   "metadata": {
    "ExecuteTime": {
     "end_time": "2019-03-17T19:26:53.280911Z",
     "start_time": "2019-03-17T19:26:53.276089Z"
    }
   },
   "outputs": [],
   "source": [
    "param_grid = {\n",
    "    'bootstrap': [True],\n",
    "    'max_depth': [80,90,100,110],\n",
    "    'max_features':[2,3],\n",
    "    'min_samples_leaf':[3,4,5],\n",
    "    'min_samples_split':[8,10,12],\n",
    "    'n_estimators':[100,200,500,1000]\n",
    "}"
   ]
  },
  {
   "cell_type": "code",
   "execution_count": 198,
   "metadata": {
    "ExecuteTime": {
     "end_time": "2019-03-17T19:27:11.224454Z",
     "start_time": "2019-03-17T19:27:11.217136Z"
    }
   },
   "outputs": [],
   "source": [
    "grid_search = GridSearchCV(estimator = rf, param_grid = param_grid, cv=3, n_jobs = -1, verbose=2)"
   ]
  },
  {
   "cell_type": "code",
   "execution_count": null,
   "metadata": {
    "ExecuteTime": {
     "start_time": "2019-03-17T19:27:12.915Z"
    }
   },
   "outputs": [
    {
     "name": "stdout",
     "output_type": "stream",
     "text": [
      "Fitting 3 folds for each of 288 candidates, totalling 864 fits\n"
     ]
    },
    {
     "name": "stderr",
     "output_type": "stream",
     "text": [
      "[Parallel(n_jobs=-1)]: Using backend LokyBackend with 8 concurrent workers.\n",
      "[Parallel(n_jobs=-1)]: Done  25 tasks      | elapsed:  6.2min\n"
     ]
    }
   ],
   "source": [
    "grid_search.fit(all_features['X_train'], all_features['y_train'])"
   ]
  },
  {
   "cell_type": "code",
   "execution_count": null,
   "metadata": {
    "ExecuteTime": {
     "start_time": "2019-03-17T19:27:18.329Z"
    }
   },
   "outputs": [],
   "source": [
    "grid_search.best_params_"
   ]
  },
  {
   "cell_type": "code",
   "execution_count": null,
   "metadata": {
    "ExecuteTime": {
     "start_time": "2019-03-17T19:29:03.504Z"
    }
   },
   "outputs": [],
   "source": [
    "best_grid = grid_search.best_estimator_"
   ]
  },
  {
   "cell_type": "code",
   "execution_count": null,
   "metadata": {
    "ExecuteTime": {
     "start_time": "2019-03-17T19:29:49.987Z"
    }
   },
   "outputs": [],
   "source": [
    "grid_accuracy = evaluate(best_grid, all_features['X_train'], all_features['y_train'])"
   ]
  },
  {
   "cell_type": "code",
   "execution_count": null,
   "metadata": {},
   "outputs": [],
   "source": []
  },
  {
   "cell_type": "code",
   "execution_count": null,
   "metadata": {},
   "outputs": [],
   "source": []
  },
  {
   "cell_type": "code",
   "execution_count": null,
   "metadata": {},
   "outputs": [],
   "source": []
  },
  {
   "cell_type": "markdown",
   "metadata": {},
   "source": [
    "### Functions"
   ]
  },
  {
   "cell_type": "code",
   "execution_count": 89,
   "metadata": {
    "ExecuteTime": {
     "end_time": "2019-03-17T17:27:52.028460Z",
     "start_time": "2019-03-17T17:27:52.020360Z"
    }
   },
   "outputs": [],
   "source": [
    "def print_confusion_matrix(confusion_matrix, class_names, figsize = (10,7), fontsize=14):\n",
    "    \"\"\"Prints a confusion matrix, as returned by sklearn.metrics.confusion_matrix, as a heatmap.\n",
    "    \n",
    "    Arguments\n",
    "    ---------\n",
    "    confusion_matrix: numpy.ndarray\n",
    "        The numpy.ndarray object returned from a call to sklearn.metrics.confusion_matrix. \n",
    "        Similarly constructed ndarrays can also be used.\n",
    "    class_names: list\n",
    "        An ordered list of class names, in the order they index the given confusion matrix.\n",
    "    figsize: tuple\n",
    "        A 2-long tuple, the first value determining the horizontal size of the ouputted figure,\n",
    "        the second determining the vertical size. Defaults to (10,7).\n",
    "    fontsize: int\n",
    "        Font size for axes labels. Defaults to 14.\n",
    "        \n",
    "    Returns\n",
    "    -------\n",
    "    matplotlib.figure.Figure\n",
    "        The resulting confusion matrix figure\n",
    "    \"\"\"\n",
    "    df_cm = pd.DataFrame(confusion_matrix, index=class_names, columns=class_names) \n",
    "    try:\n",
    "        heatmap = sns.heatmap(df_cm, annot=True, fmt=\"d\")\n",
    "    except ValueError:\n",
    "        raise ValueError(\"Confusion matrix values must be integers.\")\n",
    "    heatmap.yaxis.set_ticklabels(heatmap.yaxis.get_ticklabels(), rotation=0, ha='right', fontsize=fontsize)\n",
    "    heatmap.xaxis.set_ticklabels(heatmap.xaxis.get_ticklabels(), rotation=45, ha='right', fontsize=fontsize)\n",
    "    plt.ylabel('True label')\n",
    "    plt.xlabel('Predicted label');\n",
    "    return plt.figure(figsize=figsize);"
   ]
  },
  {
   "cell_type": "code",
   "execution_count": 56,
   "metadata": {
    "ExecuteTime": {
     "end_time": "2019-03-17T16:51:09.346858Z",
     "start_time": "2019-03-17T16:51:09.337066Z"
    }
   },
   "outputs": [],
   "source": [
    "def log_reg_errors(y_val, prediction, x_train, y_train):\n",
    "\n",
    "    '''Returns Accuracy, Precision, Recall and F1 Scores for Logistic \n",
    "    Regression and Cross Validation models. \n",
    "    \n",
    "    Inputs: Y validation data\n",
    "            Logistic Regression Predictions\n",
    "            X training data\n",
    "            Y training data'''\n",
    "    \n",
    "    cross_val_model = LogisticRegressionCV(random_state=14).fit(x_train, y_train)\n",
    "    \n",
    "    accuracy = (accuracy_score(y_val, prediction)).round(3)\n",
    "    #cross_val_acc = (cross_val_score(cross_val_model, x_train, y_train)).mean().round(3)\n",
    "    precision = (precision_score(y_val, prediction)).round(3)\n",
    "    #cross_val_prec = (cross_val_score(cross_val_model, x_train, y_train, scoring='precision')).mean().round(3)\n",
    "    recall = (recall_score(y_val, prediction)).round(3)\n",
    "    #cross_val_recall = (cross_val_score(cross_val_model, x_train, y_train, scoring='recall')).mean().round(3)\n",
    "    f1 = (f1_score(y_val, prediction)).round(3)\n",
    "    #cross_val_f1 = (cross_val_score(cross_val_model, x_train, y_train, scoring='f1')).mean().round(3)\n",
    "    \n",
    "    return(f'''Accuracy: {accuracy} \n",
    "    Precision: {precision} \n",
    "    Recall: {recall} \n",
    "    F1: {f1}''')"
   ]
  },
  {
   "cell_type": "code",
   "execution_count": null,
   "metadata": {},
   "outputs": [],
   "source": []
  }
 ],
 "metadata": {
  "kernelspec": {
   "display_name": "Python 3",
   "language": "python",
   "name": "python3"
  },
  "language_info": {
   "codemirror_mode": {
    "name": "ipython",
    "version": 3
   },
   "file_extension": ".py",
   "mimetype": "text/x-python",
   "name": "python",
   "nbconvert_exporter": "python",
   "pygments_lexer": "ipython3",
   "version": "3.6.8"
  },
  "toc": {
   "base_numbering": 1,
   "nav_menu": {},
   "number_sections": true,
   "sideBar": true,
   "skip_h1_title": false,
   "title_cell": "Table of Contents",
   "title_sidebar": "Contents",
   "toc_cell": false,
   "toc_position": {},
   "toc_section_display": true,
   "toc_window_display": false
  },
  "varInspector": {
   "cols": {
    "lenName": 16,
    "lenType": 16,
    "lenVar": 40
   },
   "kernels_config": {
    "python": {
     "delete_cmd_postfix": "",
     "delete_cmd_prefix": "del ",
     "library": "var_list.py",
     "varRefreshCmd": "print(var_dic_list())"
    },
    "r": {
     "delete_cmd_postfix": ") ",
     "delete_cmd_prefix": "rm(",
     "library": "var_list.r",
     "varRefreshCmd": "cat(var_dic_list()) "
    }
   },
   "types_to_exclude": [
    "module",
    "function",
    "builtin_function_or_method",
    "instance",
    "_Feature"
   ],
   "window_display": false
  }
 },
 "nbformat": 4,
 "nbformat_minor": 2
}
