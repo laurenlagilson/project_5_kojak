{
 "cells": [
  {
   "cell_type": "code",
   "execution_count": 91,
   "metadata": {
    "ExecuteTime": {
     "end_time": "2019-03-09T18:08:58.005049Z",
     "start_time": "2019-03-09T18:08:57.985774Z"
    }
   },
   "outputs": [],
   "source": [
    "## TESTING AREA\n",
    "import pandas as pd\n",
    "import numpy as np"
   ]
  },
  {
   "cell_type": "markdown",
   "metadata": {},
   "source": [
    "### function to check column values"
   ]
  },
  {
   "cell_type": "code",
   "execution_count": 92,
   "metadata": {
    "ExecuteTime": {
     "end_time": "2019-03-09T18:09:03.309723Z",
     "start_time": "2019-03-09T18:09:03.300808Z"
    }
   },
   "outputs": [],
   "source": [
    "birth_list = ['France', 'UK', np.nan, 'UK', 'Spain']\n",
    "cit_list = ['France', 'UK', 'Switzerland', 'UK', 'Germany']\n",
    "tups = list(zip(birth_list, cit_list))"
   ]
  },
  {
   "cell_type": "code",
   "execution_count": 93,
   "metadata": {
    "ExecuteTime": {
     "end_time": "2019-03-09T18:09:03.698149Z",
     "start_time": "2019-03-09T18:09:03.692682Z"
    }
   },
   "outputs": [],
   "source": [
    "df = pd.DataFrame(tups, columns=['birth', 'citizenship'])"
   ]
  },
  {
   "cell_type": "code",
   "execution_count": 94,
   "metadata": {
    "ExecuteTime": {
     "end_time": "2019-03-09T18:09:04.084268Z",
     "start_time": "2019-03-09T18:09:04.068001Z"
    }
   },
   "outputs": [
    {
     "data": {
      "text/html": [
       "<div>\n",
       "<style scoped>\n",
       "    .dataframe tbody tr th:only-of-type {\n",
       "        vertical-align: middle;\n",
       "    }\n",
       "\n",
       "    .dataframe tbody tr th {\n",
       "        vertical-align: top;\n",
       "    }\n",
       "\n",
       "    .dataframe thead th {\n",
       "        text-align: right;\n",
       "    }\n",
       "</style>\n",
       "<table border=\"1\" class=\"dataframe\">\n",
       "  <thead>\n",
       "    <tr style=\"text-align: right;\">\n",
       "      <th></th>\n",
       "      <th>birth</th>\n",
       "      <th>citizenship</th>\n",
       "    </tr>\n",
       "  </thead>\n",
       "  <tbody>\n",
       "    <tr>\n",
       "      <th>0</th>\n",
       "      <td>France</td>\n",
       "      <td>France</td>\n",
       "    </tr>\n",
       "    <tr>\n",
       "      <th>1</th>\n",
       "      <td>UK</td>\n",
       "      <td>UK</td>\n",
       "    </tr>\n",
       "    <tr>\n",
       "      <th>2</th>\n",
       "      <td>NaN</td>\n",
       "      <td>Switzerland</td>\n",
       "    </tr>\n",
       "    <tr>\n",
       "      <th>3</th>\n",
       "      <td>UK</td>\n",
       "      <td>UK</td>\n",
       "    </tr>\n",
       "    <tr>\n",
       "      <th>4</th>\n",
       "      <td>Spain</td>\n",
       "      <td>Germany</td>\n",
       "    </tr>\n",
       "  </tbody>\n",
       "</table>\n",
       "</div>"
      ],
      "text/plain": [
       "    birth  citizenship\n",
       "0  France       France\n",
       "1      UK           UK\n",
       "2     NaN  Switzerland\n",
       "3      UK           UK\n",
       "4   Spain      Germany"
      ]
     },
     "execution_count": 94,
     "metadata": {},
     "output_type": "execute_result"
    }
   ],
   "source": [
    "df.head()"
   ]
  },
  {
   "cell_type": "code",
   "execution_count": 99,
   "metadata": {
    "ExecuteTime": {
     "end_time": "2019-03-09T18:09:41.386688Z",
     "start_time": "2019-03-09T18:09:41.380347Z"
    }
   },
   "outputs": [],
   "source": [
    "def ColValueCheck(col_1, col_2):\n",
    "    '''Creates a new column from values of two other columns \n",
    "    dependent on whether columns have the same value\n",
    "    \n",
    "    Inputs: 2 columns from dataframe\n",
    "    \n",
    "    Assumptions: Assumes if there is a NaN value, it would be the same\n",
    "    as the other column value'''\n",
    "    col_1 = col_1.fillna('None')\n",
    "    col_2 = col_2.fillna('None')\n",
    "    \n",
    "    new_col = []\n",
    "    \n",
    "    for idx, value in enumerate(col_1):\n",
    "        if col_1[idx] == 'None' or col_2[idx] == 'None':\n",
    "            new_col.append(1)\n",
    "        elif col_1[idx] == col_2[idx]:\n",
    "            new_col.append(1)\n",
    "        else:\n",
    "            new_col.append(0)\n",
    "    \n",
    "    return new_col"
   ]
  },
  {
   "cell_type": "code",
   "execution_count": 100,
   "metadata": {
    "ExecuteTime": {
     "end_time": "2019-03-09T18:09:41.767837Z",
     "start_time": "2019-03-09T18:09:41.763301Z"
    }
   },
   "outputs": [
    {
     "data": {
      "text/plain": [
       "'UK'"
      ]
     },
     "execution_count": 100,
     "metadata": {},
     "output_type": "execute_result"
    }
   ],
   "source": [
    "df['birth'][1]"
   ]
  },
  {
   "cell_type": "code",
   "execution_count": 101,
   "metadata": {
    "ExecuteTime": {
     "end_time": "2019-03-09T18:09:42.157774Z",
     "start_time": "2019-03-09T18:09:42.147780Z"
    }
   },
   "outputs": [],
   "source": [
    "df['same_diff'] = ColValueCheck(df['birth'], df['citizenship'])"
   ]
  },
  {
   "cell_type": "code",
   "execution_count": 102,
   "metadata": {
    "ExecuteTime": {
     "end_time": "2019-03-09T18:09:42.662816Z",
     "start_time": "2019-03-09T18:09:42.653032Z"
    },
    "scrolled": true
   },
   "outputs": [
    {
     "data": {
      "text/html": [
       "<div>\n",
       "<style scoped>\n",
       "    .dataframe tbody tr th:only-of-type {\n",
       "        vertical-align: middle;\n",
       "    }\n",
       "\n",
       "    .dataframe tbody tr th {\n",
       "        vertical-align: top;\n",
       "    }\n",
       "\n",
       "    .dataframe thead th {\n",
       "        text-align: right;\n",
       "    }\n",
       "</style>\n",
       "<table border=\"1\" class=\"dataframe\">\n",
       "  <thead>\n",
       "    <tr style=\"text-align: right;\">\n",
       "      <th></th>\n",
       "      <th>birth</th>\n",
       "      <th>citizenship</th>\n",
       "      <th>same_diff</th>\n",
       "    </tr>\n",
       "  </thead>\n",
       "  <tbody>\n",
       "    <tr>\n",
       "      <th>0</th>\n",
       "      <td>France</td>\n",
       "      <td>France</td>\n",
       "      <td>1</td>\n",
       "    </tr>\n",
       "    <tr>\n",
       "      <th>1</th>\n",
       "      <td>UK</td>\n",
       "      <td>UK</td>\n",
       "      <td>1</td>\n",
       "    </tr>\n",
       "    <tr>\n",
       "      <th>2</th>\n",
       "      <td>NaN</td>\n",
       "      <td>Switzerland</td>\n",
       "      <td>1</td>\n",
       "    </tr>\n",
       "    <tr>\n",
       "      <th>3</th>\n",
       "      <td>UK</td>\n",
       "      <td>UK</td>\n",
       "      <td>1</td>\n",
       "    </tr>\n",
       "    <tr>\n",
       "      <th>4</th>\n",
       "      <td>Spain</td>\n",
       "      <td>Germany</td>\n",
       "      <td>0</td>\n",
       "    </tr>\n",
       "  </tbody>\n",
       "</table>\n",
       "</div>"
      ],
      "text/plain": [
       "    birth  citizenship  same_diff\n",
       "0  France       France          1\n",
       "1      UK           UK          1\n",
       "2     NaN  Switzerland          1\n",
       "3      UK           UK          1\n",
       "4   Spain      Germany          0"
      ]
     },
     "execution_count": 102,
     "metadata": {},
     "output_type": "execute_result"
    }
   ],
   "source": [
    "df"
   ]
  },
  {
   "cell_type": "code",
   "execution_count": 348,
   "metadata": {
    "ExecuteTime": {
     "end_time": "2019-03-10T19:53:03.343183Z",
     "start_time": "2019-03-10T19:53:03.338019Z"
    }
   },
   "outputs": [
    {
     "data": {
      "text/plain": [
       "Index(['birth', 'citizenship', 'same_diff'], dtype='object')"
      ]
     },
     "execution_count": 348,
     "metadata": {},
     "output_type": "execute_result"
    }
   ],
   "source": [
    "df.columns"
   ]
  },
  {
   "cell_type": "code",
   "execution_count": 346,
   "metadata": {
    "ExecuteTime": {
     "end_time": "2019-03-10T19:52:15.718351Z",
     "start_time": "2019-03-10T19:52:15.713694Z"
    }
   },
   "outputs": [
    {
     "data": {
      "text/plain": [
       "['birth', 'citizenship', 'same_diff']"
      ]
     },
     "execution_count": 346,
     "metadata": {},
     "output_type": "execute_result"
    }
   ],
   "source": [
    "list(df.columns)"
   ]
  },
  {
   "cell_type": "code",
   "execution_count": 350,
   "metadata": {
    "ExecuteTime": {
     "end_time": "2019-03-10T19:53:26.297210Z",
     "start_time": "2019-03-10T19:53:26.289602Z"
    }
   },
   "outputs": [],
   "source": [
    "df.columns = list(map(lambda header : header.upper(), df.columns))"
   ]
  },
  {
   "cell_type": "code",
   "execution_count": 351,
   "metadata": {
    "ExecuteTime": {
     "end_time": "2019-03-10T19:53:32.910859Z",
     "start_time": "2019-03-10T19:53:32.905805Z"
    }
   },
   "outputs": [
    {
     "data": {
      "text/plain": [
       "Index(['BIRTH', 'CITIZENSHIP', 'SAME_DIFF'], dtype='object')"
      ]
     },
     "execution_count": 351,
     "metadata": {},
     "output_type": "execute_result"
    }
   ],
   "source": [
    "df.columns"
   ]
  },
  {
   "cell_type": "code",
   "execution_count": 352,
   "metadata": {
    "ExecuteTime": {
     "end_time": "2019-03-10T19:54:58.634292Z",
     "start_time": "2019-03-10T19:54:58.625545Z"
    }
   },
   "outputs": [
    {
     "data": {
      "text/plain": [
       "Index(['BIRTH', 'CITIZENSHIP', 'SAME DIFF'], dtype='object')"
      ]
     },
     "execution_count": 352,
     "metadata": {},
     "output_type": "execute_result"
    }
   ],
   "source": [
    "df.columns.str.replace('_', ' ')"
   ]
  },
  {
   "cell_type": "markdown",
   "metadata": {},
   "source": [
    "---"
   ]
  },
  {
   "cell_type": "markdown",
   "metadata": {},
   "source": [
    "### change states to abbreviations"
   ]
  },
  {
   "cell_type": "code",
   "execution_count": 107,
   "metadata": {
    "ExecuteTime": {
     "end_time": "2019-03-10T15:39:15.386870Z",
     "start_time": "2019-03-10T15:39:15.374001Z"
    }
   },
   "outputs": [],
   "source": [
    "us_state_abbrev = {\n",
    "    'alabama': 'AL',\n",
    "    'alaska': 'AK',\n",
    "    'arizona': 'AZ',\n",
    "    'arkansas': 'AR',\n",
    "    'california': 'CA',\n",
    "    'colorado': 'CO',\n",
    "    'connecticut': 'CT',\n",
    "    'delaware': 'DE',\n",
    "    'district of columbia' : 'DC',\n",
    "    'florida': 'FL',\n",
    "    'georgia': 'GA',\n",
    "    'hawaii': 'HI',\n",
    "    'idaho': 'ID',\n",
    "    'illinois': 'IL',\n",
    "    'indiana': 'IN',\n",
    "    'iowa': 'IA',\n",
    "    'kansas': 'KS',\n",
    "    'kentucky': 'KY',\n",
    "    'louisiana': 'LA',\n",
    "    'maine': 'ME',\n",
    "    'maryland': 'MD',\n",
    "    'massachusetts': 'MA',\n",
    "    'michigan': 'MI',\n",
    "    'minnesota': 'MN',\n",
    "    'mississippi': 'MS',\n",
    "    'missouri': 'MO',\n",
    "    'montana': 'MT',\n",
    "    'nebraska': 'NE',\n",
    "    'nevada': 'NV',\n",
    "    'new hampshire': 'NH',\n",
    "    'new jersey': 'NJ',\n",
    "    'new mexico': 'NM',\n",
    "    'new york': 'NY',\n",
    "    'north carolina': 'NC',\n",
    "    'north dakota': 'ND',\n",
    "    'ohio': 'OH',\n",
    "    'oklahoma': 'OK',\n",
    "    'oregon': 'OR',\n",
    "    'pennsylvania': 'PA',\n",
    "    'rhode island': 'RI',\n",
    "    'south carolina': 'SC',\n",
    "    'south dakota': 'SD',\n",
    "    'tennessee': 'TN',\n",
    "    'texas': 'TX',\n",
    "    'utah': 'UT',\n",
    "    'vermont': 'VT',\n",
    "    'virginia': 'VA',\n",
    "    'washington': 'WA',\n",
    "    'west virginia': 'WV',\n",
    "    'wisconsin': 'WI',\n",
    "    'wyoming': 'WY',\n",
    "}"
   ]
  },
  {
   "cell_type": "code",
   "execution_count": 109,
   "metadata": {
    "ExecuteTime": {
     "end_time": "2019-03-10T15:41:07.073889Z",
     "start_time": "2019-03-10T15:41:07.069874Z"
    }
   },
   "outputs": [],
   "source": [
    "state_list = ['ALABAMA', 'WA', np.nan, 'WASHINGTON', 'OH', 'District of Columbia', 'FL']\n"
   ]
  },
  {
   "cell_type": "code",
   "execution_count": 110,
   "metadata": {
    "ExecuteTime": {
     "end_time": "2019-03-10T15:41:07.423775Z",
     "start_time": "2019-03-10T15:41:07.419836Z"
    }
   },
   "outputs": [],
   "source": [
    "state_df = pd.DataFrame(state_list, columns=['state'])"
   ]
  },
  {
   "cell_type": "code",
   "execution_count": 125,
   "metadata": {
    "ExecuteTime": {
     "end_time": "2019-03-10T15:48:20.249152Z",
     "start_time": "2019-03-10T15:48:20.243470Z"
    }
   },
   "outputs": [
    {
     "data": {
      "text/plain": [
       "0                 ALABAMA\n",
       "1                      WA\n",
       "2                     NaN\n",
       "3              WASHINGTON\n",
       "4                      OH\n",
       "5    District of Columbia\n",
       "6                      FL\n",
       "Name: state, dtype: object"
      ]
     },
     "execution_count": 125,
     "metadata": {},
     "output_type": "execute_result"
    }
   ],
   "source": [
    "state_df['state']"
   ]
  },
  {
   "cell_type": "code",
   "execution_count": 140,
   "metadata": {
    "ExecuteTime": {
     "end_time": "2019-03-10T15:54:40.981370Z",
     "start_time": "2019-03-10T15:54:40.975770Z"
    }
   },
   "outputs": [],
   "source": [
    "def StateAbbreviation(state_col):\n",
    "    \n",
    "    '''Abbreviates any full length state names into their corresponding\n",
    "    two letter code'''\n",
    "    \n",
    "    state_col = state_col.fillna(str('None')) # Fills NaN values with 'None'\n",
    "    state_col = list(map(str, state_col)) # Make all items a string\n",
    "    state_col = list(map(lambda state:state.lower(), state_col)) # Makes all items lowercase\n",
    "\n",
    "    abbrev_list = []\n",
    "    \n",
    "    for item in state_col:\n",
    "        \n",
    "        if item in us_state_abbrev:\n",
    "            abbrev_list.append(us_state_abbrev[item].upper())\n",
    "        else:\n",
    "            abbrev_list.append(item.upper())\n",
    "\n",
    "    return abbrev_list"
   ]
  },
  {
   "cell_type": "code",
   "execution_count": 141,
   "metadata": {
    "ExecuteTime": {
     "end_time": "2019-03-10T15:54:42.307852Z",
     "start_time": "2019-03-10T15:54:42.303197Z"
    }
   },
   "outputs": [
    {
     "data": {
      "text/plain": [
       "['AL', 'WA', 'NONE', 'WA', 'OH', 'DC', 'FL']"
      ]
     },
     "execution_count": 141,
     "metadata": {},
     "output_type": "execute_result"
    }
   ],
   "source": [
    "abbrev_list"
   ]
  },
  {
   "cell_type": "markdown",
   "metadata": {},
   "source": [
    "---"
   ]
  },
  {
   "cell_type": "markdown",
   "metadata": {},
   "source": [
    "### Separate letter from case number - processing centre"
   ]
  },
  {
   "cell_type": "code",
   "execution_count": 146,
   "metadata": {
    "ExecuteTime": {
     "end_time": "2019-03-10T16:38:15.467960Z",
     "start_time": "2019-03-10T16:38:15.460106Z"
    }
   },
   "outputs": [],
   "source": [
    "case_numbers = ['A-08271-91262', 'C-08721-94962', 'A-05671-91262', 'A-00941-91462', 'C-00471-93462']"
   ]
  },
  {
   "cell_type": "code",
   "execution_count": 147,
   "metadata": {
    "ExecuteTime": {
     "end_time": "2019-03-10T16:38:44.715607Z",
     "start_time": "2019-03-10T16:38:44.701733Z"
    }
   },
   "outputs": [],
   "source": [
    "case_df = pd.DataFrame(case_numbers, columns=['case_nos'])"
   ]
  },
  {
   "cell_type": "code",
   "execution_count": 148,
   "metadata": {
    "ExecuteTime": {
     "end_time": "2019-03-10T16:38:48.783911Z",
     "start_time": "2019-03-10T16:38:48.761409Z"
    }
   },
   "outputs": [
    {
     "data": {
      "text/html": [
       "<div>\n",
       "<style scoped>\n",
       "    .dataframe tbody tr th:only-of-type {\n",
       "        vertical-align: middle;\n",
       "    }\n",
       "\n",
       "    .dataframe tbody tr th {\n",
       "        vertical-align: top;\n",
       "    }\n",
       "\n",
       "    .dataframe thead th {\n",
       "        text-align: right;\n",
       "    }\n",
       "</style>\n",
       "<table border=\"1\" class=\"dataframe\">\n",
       "  <thead>\n",
       "    <tr style=\"text-align: right;\">\n",
       "      <th></th>\n",
       "      <th>case_nos</th>\n",
       "    </tr>\n",
       "  </thead>\n",
       "  <tbody>\n",
       "    <tr>\n",
       "      <th>0</th>\n",
       "      <td>A-08271-91262</td>\n",
       "    </tr>\n",
       "    <tr>\n",
       "      <th>1</th>\n",
       "      <td>C-08721-94962</td>\n",
       "    </tr>\n",
       "    <tr>\n",
       "      <th>2</th>\n",
       "      <td>A-05671-91262</td>\n",
       "    </tr>\n",
       "    <tr>\n",
       "      <th>3</th>\n",
       "      <td>A-00941-91462</td>\n",
       "    </tr>\n",
       "    <tr>\n",
       "      <th>4</th>\n",
       "      <td>C-00471-93462</td>\n",
       "    </tr>\n",
       "  </tbody>\n",
       "</table>\n",
       "</div>"
      ],
      "text/plain": [
       "        case_nos\n",
       "0  A-08271-91262\n",
       "1  C-08721-94962\n",
       "2  A-05671-91262\n",
       "3  A-00941-91462\n",
       "4  C-00471-93462"
      ]
     },
     "execution_count": 148,
     "metadata": {},
     "output_type": "execute_result"
    }
   ],
   "source": [
    "case_df"
   ]
  },
  {
   "cell_type": "code",
   "execution_count": 150,
   "metadata": {
    "ExecuteTime": {
     "end_time": "2019-03-10T16:40:45.974115Z",
     "start_time": "2019-03-10T16:40:45.968619Z"
    }
   },
   "outputs": [],
   "source": [
    "NPC = []\n",
    "for item in case_df['case_nos']:\n",
    "    NPC.append(str(item)[0])"
   ]
  },
  {
   "cell_type": "code",
   "execution_count": 151,
   "metadata": {
    "ExecuteTime": {
     "end_time": "2019-03-10T16:40:50.203204Z",
     "start_time": "2019-03-10T16:40:50.194197Z"
    }
   },
   "outputs": [
    {
     "data": {
      "text/plain": [
       "['A', 'C', 'A', 'A', 'C']"
      ]
     },
     "execution_count": 151,
     "metadata": {},
     "output_type": "execute_result"
    }
   ],
   "source": [
    "NPC"
   ]
  },
  {
   "cell_type": "markdown",
   "metadata": {},
   "source": [
    "---"
   ]
  },
  {
   "cell_type": "markdown",
   "metadata": {},
   "source": [
    "### Fill nans with column mean"
   ]
  },
  {
   "cell_type": "code",
   "execution_count": 153,
   "metadata": {
    "ExecuteTime": {
     "end_time": "2019-03-10T17:27:48.199674Z",
     "start_time": "2019-03-10T17:27:48.195552Z"
    }
   },
   "outputs": [],
   "source": [
    "random_list = [14,2, np.nan, 54, 23, 65, 3, np.nan, 21, 39]"
   ]
  },
  {
   "cell_type": "code",
   "execution_count": 155,
   "metadata": {
    "ExecuteTime": {
     "end_time": "2019-03-10T17:28:39.336206Z",
     "start_time": "2019-03-10T17:28:39.325905Z"
    }
   },
   "outputs": [
    {
     "data": {
      "text/html": [
       "<div>\n",
       "<style scoped>\n",
       "    .dataframe tbody tr th:only-of-type {\n",
       "        vertical-align: middle;\n",
       "    }\n",
       "\n",
       "    .dataframe tbody tr th {\n",
       "        vertical-align: top;\n",
       "    }\n",
       "\n",
       "    .dataframe thead th {\n",
       "        text-align: right;\n",
       "    }\n",
       "</style>\n",
       "<table border=\"1\" class=\"dataframe\">\n",
       "  <thead>\n",
       "    <tr style=\"text-align: right;\">\n",
       "      <th></th>\n",
       "      <th>rand</th>\n",
       "    </tr>\n",
       "  </thead>\n",
       "  <tbody>\n",
       "    <tr>\n",
       "      <th>0</th>\n",
       "      <td>14.0</td>\n",
       "    </tr>\n",
       "    <tr>\n",
       "      <th>1</th>\n",
       "      <td>2.0</td>\n",
       "    </tr>\n",
       "    <tr>\n",
       "      <th>2</th>\n",
       "      <td>NaN</td>\n",
       "    </tr>\n",
       "    <tr>\n",
       "      <th>3</th>\n",
       "      <td>54.0</td>\n",
       "    </tr>\n",
       "    <tr>\n",
       "      <th>4</th>\n",
       "      <td>23.0</td>\n",
       "    </tr>\n",
       "    <tr>\n",
       "      <th>5</th>\n",
       "      <td>65.0</td>\n",
       "    </tr>\n",
       "    <tr>\n",
       "      <th>6</th>\n",
       "      <td>3.0</td>\n",
       "    </tr>\n",
       "    <tr>\n",
       "      <th>7</th>\n",
       "      <td>NaN</td>\n",
       "    </tr>\n",
       "    <tr>\n",
       "      <th>8</th>\n",
       "      <td>21.0</td>\n",
       "    </tr>\n",
       "    <tr>\n",
       "      <th>9</th>\n",
       "      <td>39.0</td>\n",
       "    </tr>\n",
       "  </tbody>\n",
       "</table>\n",
       "</div>"
      ],
      "text/plain": [
       "   rand\n",
       "0  14.0\n",
       "1   2.0\n",
       "2   NaN\n",
       "3  54.0\n",
       "4  23.0\n",
       "5  65.0\n",
       "6   3.0\n",
       "7   NaN\n",
       "8  21.0\n",
       "9  39.0"
      ]
     },
     "execution_count": 155,
     "metadata": {},
     "output_type": "execute_result"
    }
   ],
   "source": [
    "random_df = pd.DataFrame(random_list, columns=['rand'])\n",
    "random_df"
   ]
  },
  {
   "cell_type": "code",
   "execution_count": 160,
   "metadata": {
    "ExecuteTime": {
     "end_time": "2019-03-10T17:31:01.750673Z",
     "start_time": "2019-03-10T17:31:01.735096Z"
    }
   },
   "outputs": [
    {
     "data": {
      "text/html": [
       "<div>\n",
       "<style scoped>\n",
       "    .dataframe tbody tr th:only-of-type {\n",
       "        vertical-align: middle;\n",
       "    }\n",
       "\n",
       "    .dataframe tbody tr th {\n",
       "        vertical-align: top;\n",
       "    }\n",
       "\n",
       "    .dataframe thead th {\n",
       "        text-align: right;\n",
       "    }\n",
       "</style>\n",
       "<table border=\"1\" class=\"dataframe\">\n",
       "  <thead>\n",
       "    <tr style=\"text-align: right;\">\n",
       "      <th></th>\n",
       "      <th>rand</th>\n",
       "    </tr>\n",
       "  </thead>\n",
       "  <tbody>\n",
       "    <tr>\n",
       "      <th>0</th>\n",
       "      <td>14.000</td>\n",
       "    </tr>\n",
       "    <tr>\n",
       "      <th>1</th>\n",
       "      <td>2.000</td>\n",
       "    </tr>\n",
       "    <tr>\n",
       "      <th>2</th>\n",
       "      <td>27.625</td>\n",
       "    </tr>\n",
       "    <tr>\n",
       "      <th>3</th>\n",
       "      <td>54.000</td>\n",
       "    </tr>\n",
       "    <tr>\n",
       "      <th>4</th>\n",
       "      <td>23.000</td>\n",
       "    </tr>\n",
       "    <tr>\n",
       "      <th>5</th>\n",
       "      <td>65.000</td>\n",
       "    </tr>\n",
       "    <tr>\n",
       "      <th>6</th>\n",
       "      <td>3.000</td>\n",
       "    </tr>\n",
       "    <tr>\n",
       "      <th>7</th>\n",
       "      <td>27.625</td>\n",
       "    </tr>\n",
       "    <tr>\n",
       "      <th>8</th>\n",
       "      <td>21.000</td>\n",
       "    </tr>\n",
       "    <tr>\n",
       "      <th>9</th>\n",
       "      <td>39.000</td>\n",
       "    </tr>\n",
       "  </tbody>\n",
       "</table>\n",
       "</div>"
      ],
      "text/plain": [
       "     rand\n",
       "0  14.000\n",
       "1   2.000\n",
       "2  27.625\n",
       "3  54.000\n",
       "4  23.000\n",
       "5  65.000\n",
       "6   3.000\n",
       "7  27.625\n",
       "8  21.000\n",
       "9  39.000"
      ]
     },
     "execution_count": 160,
     "metadata": {},
     "output_type": "execute_result"
    }
   ],
   "source": [
    "# fill employer_num_employees - with mean\n",
    "random_df['rand'] = random_df['rand'].fillna(random_df['rand'].mean(axis=0))\n",
    "random_df"
   ]
  },
  {
   "cell_type": "code",
   "execution_count": null,
   "metadata": {},
   "outputs": [],
   "source": []
  },
  {
   "cell_type": "code",
   "execution_count": null,
   "metadata": {},
   "outputs": [],
   "source": []
  },
  {
   "cell_type": "markdown",
   "metadata": {},
   "source": [
    "## Cleaning"
   ]
  },
  {
   "cell_type": "markdown",
   "metadata": {},
   "source": [
    "### Add fiscal year "
   ]
  },
  {
   "cell_type": "code",
   "execution_count": 163,
   "metadata": {
    "ExecuteTime": {
     "end_time": "2019-03-10T17:35:41.387419Z",
     "start_time": "2019-03-10T17:35:41.384672Z"
    }
   },
   "outputs": [],
   "source": [
    "## Do on import"
   ]
  },
  {
   "cell_type": "markdown",
   "metadata": {
    "ExecuteTime": {
     "end_time": "2019-03-10T17:34:07.966175Z",
     "start_time": "2019-03-10T17:34:07.963353Z"
    }
   },
   "source": [
    "### Case number - extract letter"
   ]
  },
  {
   "cell_type": "code",
   "execution_count": 166,
   "metadata": {
    "ExecuteTime": {
     "end_time": "2019-03-10T17:38:50.084379Z",
     "start_time": "2019-03-10T17:38:50.072843Z"
    }
   },
   "outputs": [],
   "source": [
    "def ProcessingCenter(df_col):\n",
    "    '''Extracts the processing centre from case number'''\n",
    "    nat_pros_center = []\n",
    "\n",
    "    for item in df_col:\n",
    "        nat_pros_center.append(str(item)[0])\n",
    "\n",
    "    return nat_pros_center"
   ]
  },
  {
   "cell_type": "code",
   "execution_count": 388,
   "metadata": {
    "ExecuteTime": {
     "end_time": "2019-03-11T02:19:21.698400Z",
     "start_time": "2019-03-11T02:19:21.683302Z"
    }
   },
   "outputs": [],
   "source": [
    "def ProcessingCenter2(df_col):\n",
    "    '''Extracts the processing centre from case number'''\n",
    "    return str(df_col)[0]"
   ]
  },
  {
   "cell_type": "code",
   "execution_count": 389,
   "metadata": {
    "ExecuteTime": {
     "end_time": "2019-03-11T02:19:33.902105Z",
     "start_time": "2019-03-11T02:19:33.896911Z"
    }
   },
   "outputs": [],
   "source": [
    "example_df['extracted']=example_df['state'].apply(ProcessingCenter2)"
   ]
  },
  {
   "cell_type": "code",
   "execution_count": 391,
   "metadata": {
    "ExecuteTime": {
     "end_time": "2019-03-11T02:19:43.692258Z",
     "start_time": "2019-03-11T02:19:43.680299Z"
    }
   },
   "outputs": [
    {
     "data": {
      "text/html": [
       "<div>\n",
       "<style scoped>\n",
       "    .dataframe tbody tr th:only-of-type {\n",
       "        vertical-align: middle;\n",
       "    }\n",
       "\n",
       "    .dataframe tbody tr th {\n",
       "        vertical-align: top;\n",
       "    }\n",
       "\n",
       "    .dataframe thead th {\n",
       "        text-align: right;\n",
       "    }\n",
       "</style>\n",
       "<table border=\"1\" class=\"dataframe\">\n",
       "  <thead>\n",
       "    <tr style=\"text-align: right;\">\n",
       "      <th></th>\n",
       "      <th>visa</th>\n",
       "      <th>state</th>\n",
       "      <th>rand</th>\n",
       "      <th>extracted</th>\n",
       "    </tr>\n",
       "  </thead>\n",
       "  <tbody>\n",
       "    <tr>\n",
       "      <th>0</th>\n",
       "      <td>H1b</td>\n",
       "      <td>ALABAMA</td>\n",
       "      <td>14.0</td>\n",
       "      <td>A</td>\n",
       "    </tr>\n",
       "    <tr>\n",
       "      <th>1</th>\n",
       "      <td>H1-b</td>\n",
       "      <td>WA</td>\n",
       "      <td>2.0</td>\n",
       "      <td>W</td>\n",
       "    </tr>\n",
       "    <tr>\n",
       "      <th>2</th>\n",
       "      <td>H2-a</td>\n",
       "      <td>NaN</td>\n",
       "      <td>NaN</td>\n",
       "      <td>n</td>\n",
       "    </tr>\n",
       "    <tr>\n",
       "      <th>3</th>\n",
       "      <td>K-1</td>\n",
       "      <td>WASHINGTON</td>\n",
       "      <td>54.0</td>\n",
       "      <td>W</td>\n",
       "    </tr>\n",
       "    <tr>\n",
       "      <th>4</th>\n",
       "      <td>K-1</td>\n",
       "      <td>OH</td>\n",
       "      <td>23.0</td>\n",
       "      <td>O</td>\n",
       "    </tr>\n",
       "    <tr>\n",
       "      <th>5</th>\n",
       "      <td>j1</td>\n",
       "      <td>District of Columbia</td>\n",
       "      <td>65.0</td>\n",
       "      <td>D</td>\n",
       "    </tr>\n",
       "    <tr>\n",
       "      <th>6</th>\n",
       "      <td>NaN</td>\n",
       "      <td>FL</td>\n",
       "      <td>3.0</td>\n",
       "      <td>F</td>\n",
       "    </tr>\n",
       "    <tr>\n",
       "      <th>7</th>\n",
       "      <td>H1-b</td>\n",
       "      <td>Washington</td>\n",
       "      <td>NaN</td>\n",
       "      <td>W</td>\n",
       "    </tr>\n",
       "    <tr>\n",
       "      <th>8</th>\n",
       "      <td>J1</td>\n",
       "      <td>Illinois</td>\n",
       "      <td>21.0</td>\n",
       "      <td>I</td>\n",
       "    </tr>\n",
       "    <tr>\n",
       "      <th>9</th>\n",
       "      <td>H2</td>\n",
       "      <td>oHio</td>\n",
       "      <td>39.0</td>\n",
       "      <td>o</td>\n",
       "    </tr>\n",
       "  </tbody>\n",
       "</table>\n",
       "</div>"
      ],
      "text/plain": [
       "   visa                 state  rand extracted\n",
       "0   H1b               ALABAMA  14.0         A\n",
       "1  H1-b                    WA   2.0         W\n",
       "2  H2-a                   NaN   NaN         n\n",
       "3   K-1            WASHINGTON  54.0         W\n",
       "4   K-1                    OH  23.0         O\n",
       "5    j1  District of Columbia  65.0         D\n",
       "6   NaN                    FL   3.0         F\n",
       "7  H1-b            Washington   NaN         W\n",
       "8    J1              Illinois  21.0         I\n",
       "9    H2                  oHio  39.0         o"
      ]
     },
     "execution_count": 391,
     "metadata": {},
     "output_type": "execute_result"
    }
   ],
   "source": [
    "example_df"
   ]
  },
  {
   "cell_type": "code",
   "execution_count": null,
   "metadata": {
    "ExecuteTime": {
     "end_time": "2019-03-10T17:42:46.794885Z",
     "start_time": "2019-03-10T17:42:46.780760Z"
    }
   },
   "outputs": [],
   "source": [
    "perm_to_edit['nat_processing_center'] = ProcessingCenter(perm_to_edit['case_number'])\n",
    "# Drop case number column"
   ]
  },
  {
   "cell_type": "markdown",
   "metadata": {},
   "source": [
    "### Case status - Y"
   ]
  },
  {
   "cell_type": "code",
   "execution_count": 265,
   "metadata": {
    "ExecuteTime": {
     "end_time": "2019-03-10T18:18:49.765308Z",
     "start_time": "2019-03-10T18:18:49.759015Z"
    }
   },
   "outputs": [
    {
     "data": {
      "text/plain": [
       "{'Certified': 3, 'Certified-Expired': 1, 'Denied': 1, 'Withdrawn': 2}"
      ]
     },
     "execution_count": 265,
     "metadata": {},
     "output_type": "execute_result"
    }
   ],
   "source": [
    "# Check values of each \n",
    "values, counts = np.unique(perm_to_edit['case_number'], return_counts=True)\n",
    "dict(zip(values, counts))"
   ]
  },
  {
   "cell_type": "code",
   "execution_count": 386,
   "metadata": {
    "ExecuteTime": {
     "end_time": "2019-03-11T02:05:42.907022Z",
     "start_time": "2019-03-11T02:05:42.744229Z"
    }
   },
   "outputs": [
    {
     "ename": "NameError",
     "evalue": "name 'perm_to_edit' is not defined",
     "output_type": "error",
     "traceback": [
      "\u001b[0;31m---------------------------------------------------------------------------\u001b[0m",
      "\u001b[0;31mNameError\u001b[0m                                 Traceback (most recent call last)",
      "\u001b[0;32m<ipython-input-386-5e28e32dd0df>\u001b[0m in \u001b[0;36m<module>\u001b[0;34m\u001b[0m\n\u001b[1;32m      1\u001b[0m \u001b[0;31m# Remove withdrawn cases\u001b[0m\u001b[0;34m\u001b[0m\u001b[0;34m\u001b[0m\u001b[0;34m\u001b[0m\u001b[0m\n\u001b[0;32m----> 2\u001b[0;31m \u001b[0mperm_to_edit\u001b[0m \u001b[0;34m=\u001b[0m \u001b[0mperm_to_edit\u001b[0m\u001b[0;34m.\u001b[0m\u001b[0mdrop\u001b[0m\u001b[0;34m(\u001b[0m\u001b[0mperm_to_edit\u001b[0m\u001b[0;34m[\u001b[0m\u001b[0mperm_to_edit\u001b[0m\u001b[0;34m[\u001b[0m\u001b[0;34m'case_number'\u001b[0m\u001b[0;34m]\u001b[0m \u001b[0;34m==\u001b[0m \u001b[0;34m'Withdrawn'\u001b[0m\u001b[0;34m]\u001b[0m\u001b[0;34m.\u001b[0m\u001b[0mindex\u001b[0m\u001b[0;34m)\u001b[0m\u001b[0;34m.\u001b[0m\u001b[0mreset_index\u001b[0m\u001b[0;34m(\u001b[0m\u001b[0mdrop\u001b[0m\u001b[0;34m=\u001b[0m\u001b[0;32mTrue\u001b[0m\u001b[0;34m)\u001b[0m\u001b[0;34m\u001b[0m\u001b[0;34m\u001b[0m\u001b[0m\n\u001b[0m\u001b[1;32m      3\u001b[0m \u001b[0mperm_to_edit\u001b[0m\u001b[0;34m\u001b[0m\u001b[0;34m\u001b[0m\u001b[0m\n",
      "\u001b[0;31mNameError\u001b[0m: name 'perm_to_edit' is not defined"
     ]
    }
   ],
   "source": [
    "# Remove withdrawn cases \n",
    "perm_to_edit = perm_to_edit.drop(perm_to_edit[perm_to_edit['case_number'] == 'Withdrawn'].index).reset_index(drop=True)\n",
    "perm_to_edit"
   ]
  },
  {
   "cell_type": "code",
   "execution_count": null,
   "metadata": {},
   "outputs": [],
   "source": [
    "for item in "
   ]
  },
  {
   "cell_type": "code",
   "execution_count": null,
   "metadata": {},
   "outputs": [],
   "source": [
    "## CHANGE TO 1S AND 0S FOR CLASSIFICATION ##"
   ]
  },
  {
   "cell_type": "markdown",
   "metadata": {},
   "source": [
    "### Clean up class of admission data"
   ]
  },
  {
   "cell_type": "code",
   "execution_count": 290,
   "metadata": {
    "ExecuteTime": {
     "end_time": "2019-03-10T19:17:05.150584Z",
     "start_time": "2019-03-10T19:17:05.139725Z"
    }
   },
   "outputs": [],
   "source": [
    "# Remove '-' in visa classes e.g. H1-b = H1b\n",
    "class_admission = ['H1b', 'H1-b', 'H2-a', 'K-1', 'K-1', 'j1', 'j1']\n",
    "\n",
    "class_admission = list(map(str, class_admission))\n",
    "class_admission = list(map(lambda x:x.lower(),class_admission))\n",
    "class_admission = [x.replace('-', '') for x in class_admission]"
   ]
  },
  {
   "cell_type": "code",
   "execution_count": 291,
   "metadata": {
    "ExecuteTime": {
     "end_time": "2019-03-10T19:17:06.357136Z",
     "start_time": "2019-03-10T19:17:06.352464Z"
    }
   },
   "outputs": [
    {
     "data": {
      "text/plain": [
       "['h1b', 'h1b', 'h2a', 'k1', 'k1', 'j1', 'j1']"
      ]
     },
     "execution_count": 291,
     "metadata": {},
     "output_type": "execute_result"
    }
   ],
   "source": [
    "class_admission"
   ]
  },
  {
   "cell_type": "code",
   "execution_count": 280,
   "metadata": {
    "ExecuteTime": {
     "end_time": "2019-03-10T19:04:36.515257Z",
     "start_time": "2019-03-10T19:04:36.511891Z"
    }
   },
   "outputs": [],
   "source": [
    "class_admission = list(map(str, class_admission))"
   ]
  },
  {
   "cell_type": "code",
   "execution_count": 281,
   "metadata": {
    "ExecuteTime": {
     "end_time": "2019-03-10T19:04:42.915963Z",
     "start_time": "2019-03-10T19:04:42.910859Z"
    }
   },
   "outputs": [
    {
     "data": {
      "text/plain": [
       "['H1b', 'H1-b', 'H2-a', 'K-1', 'K-1', 'j1', 'j1', '1', '34', '0.2', 'True']"
      ]
     },
     "execution_count": 281,
     "metadata": {},
     "output_type": "execute_result"
    }
   ],
   "source": [
    "class_admission"
   ]
  },
  {
   "cell_type": "code",
   "execution_count": 285,
   "metadata": {
    "ExecuteTime": {
     "end_time": "2019-03-10T19:06:48.442107Z",
     "start_time": "2019-03-10T19:06:48.438651Z"
    }
   },
   "outputs": [],
   "source": [
    "class_admission = list(map(lambda x:x.lower(),class_admission))"
   ]
  },
  {
   "cell_type": "code",
   "execution_count": 286,
   "metadata": {
    "ExecuteTime": {
     "end_time": "2019-03-10T19:06:48.906555Z",
     "start_time": "2019-03-10T19:06:48.902046Z"
    }
   },
   "outputs": [
    {
     "data": {
      "text/plain": [
       "['h1b', 'h1-b', 'h2-a', 'k-1', 'k-1', 'j1', 'j1', '1', '34', '0.2', 'true']"
      ]
     },
     "execution_count": 286,
     "metadata": {},
     "output_type": "execute_result"
    }
   ],
   "source": [
    "class_admission"
   ]
  },
  {
   "cell_type": "markdown",
   "metadata": {},
   "source": [
    "---"
   ]
  },
  {
   "cell_type": "markdown",
   "metadata": {},
   "source": [
    "### Fill na values and drop cols not of use anymore"
   ]
  },
  {
   "cell_type": "code",
   "execution_count": 335,
   "metadata": {
    "ExecuteTime": {
     "end_time": "2019-03-10T19:42:53.925710Z",
     "start_time": "2019-03-10T19:42:53.919978Z"
    }
   },
   "outputs": [],
   "source": [
    "def MergeDrop(dataframe, col_to_keep, col_to_merge):\n",
    "    '''Merges columns with same data and different headers\n",
    "    Inputs: \n",
    "    Dataframe \n",
    "    col_to_keep - string of column name e.g. \"column1\"\n",
    "    col_to_merge - string of column name e.g. \"column3\"\n",
    "    '''\n",
    "    \n",
    "    dataframe[col_to_keep].fillna(dataframe[col_to_merge], inplace = True)\n",
    "    dataframe.drop(col_to_merge, axis=1)\n",
    "    return dataframe"
   ]
  },
  {
   "cell_type": "markdown",
   "metadata": {},
   "source": [
    "---"
   ]
  },
  {
   "cell_type": "markdown",
   "metadata": {
    "ExecuteTime": {
     "end_time": "2019-03-10T20:04:58.516594Z",
     "start_time": "2019-03-10T20:04:58.499127Z"
    }
   },
   "source": [
    "## Converting lists of columns into new df"
   ]
  },
  {
   "cell_type": "code",
   "execution_count": 362,
   "metadata": {
    "ExecuteTime": {
     "end_time": "2019-03-10T20:07:58.088834Z",
     "start_time": "2019-03-10T20:07:58.084040Z"
    }
   },
   "outputs": [],
   "source": [
    "class_admission = ['H1b', 'H1-b', 'H2-a', 'K-1', 'K-1', 'j1', np.nan, 'H1-b', 'J1', 'H2']\n",
    "state_list = ['ALABAMA', 'WA', np.nan, 'WASHINGTON', 'OH', 'District of Columbia', 'FL', 'Washington', 'Illinois', 'oHio']\n",
    "random_list = [14,2, np.nan, 54, 23, 65, 3, np.nan, 21, 39]"
   ]
  },
  {
   "cell_type": "code",
   "execution_count": 363,
   "metadata": {
    "ExecuteTime": {
     "end_time": "2019-03-10T20:08:23.841040Z",
     "start_time": "2019-03-10T20:08:23.833822Z"
    }
   },
   "outputs": [],
   "source": [
    "for_df = list(zip(class_admission, state_list, random_list))"
   ]
  },
  {
   "cell_type": "code",
   "execution_count": 364,
   "metadata": {
    "ExecuteTime": {
     "end_time": "2019-03-10T20:09:00.335492Z",
     "start_time": "2019-03-10T20:09:00.315056Z"
    }
   },
   "outputs": [],
   "source": [
    "example_df = pd.DataFrame(for_df, columns=['visa', 'state', 'rand'])"
   ]
  },
  {
   "cell_type": "code",
   "execution_count": 365,
   "metadata": {
    "ExecuteTime": {
     "end_time": "2019-03-10T20:09:03.392017Z",
     "start_time": "2019-03-10T20:09:03.376430Z"
    }
   },
   "outputs": [
    {
     "data": {
      "text/html": [
       "<div>\n",
       "<style scoped>\n",
       "    .dataframe tbody tr th:only-of-type {\n",
       "        vertical-align: middle;\n",
       "    }\n",
       "\n",
       "    .dataframe tbody tr th {\n",
       "        vertical-align: top;\n",
       "    }\n",
       "\n",
       "    .dataframe thead th {\n",
       "        text-align: right;\n",
       "    }\n",
       "</style>\n",
       "<table border=\"1\" class=\"dataframe\">\n",
       "  <thead>\n",
       "    <tr style=\"text-align: right;\">\n",
       "      <th></th>\n",
       "      <th>visa</th>\n",
       "      <th>state</th>\n",
       "      <th>rand</th>\n",
       "    </tr>\n",
       "  </thead>\n",
       "  <tbody>\n",
       "    <tr>\n",
       "      <th>0</th>\n",
       "      <td>H1b</td>\n",
       "      <td>ALABAMA</td>\n",
       "      <td>14.0</td>\n",
       "    </tr>\n",
       "    <tr>\n",
       "      <th>1</th>\n",
       "      <td>H1-b</td>\n",
       "      <td>WA</td>\n",
       "      <td>2.0</td>\n",
       "    </tr>\n",
       "    <tr>\n",
       "      <th>2</th>\n",
       "      <td>H2-a</td>\n",
       "      <td>NaN</td>\n",
       "      <td>NaN</td>\n",
       "    </tr>\n",
       "    <tr>\n",
       "      <th>3</th>\n",
       "      <td>K-1</td>\n",
       "      <td>WASHINGTON</td>\n",
       "      <td>54.0</td>\n",
       "    </tr>\n",
       "    <tr>\n",
       "      <th>4</th>\n",
       "      <td>K-1</td>\n",
       "      <td>OH</td>\n",
       "      <td>23.0</td>\n",
       "    </tr>\n",
       "    <tr>\n",
       "      <th>5</th>\n",
       "      <td>j1</td>\n",
       "      <td>District of Columbia</td>\n",
       "      <td>65.0</td>\n",
       "    </tr>\n",
       "    <tr>\n",
       "      <th>6</th>\n",
       "      <td>NaN</td>\n",
       "      <td>FL</td>\n",
       "      <td>3.0</td>\n",
       "    </tr>\n",
       "    <tr>\n",
       "      <th>7</th>\n",
       "      <td>H1-b</td>\n",
       "      <td>Washington</td>\n",
       "      <td>NaN</td>\n",
       "    </tr>\n",
       "    <tr>\n",
       "      <th>8</th>\n",
       "      <td>J1</td>\n",
       "      <td>Illinois</td>\n",
       "      <td>21.0</td>\n",
       "    </tr>\n",
       "    <tr>\n",
       "      <th>9</th>\n",
       "      <td>H2</td>\n",
       "      <td>oHio</td>\n",
       "      <td>39.0</td>\n",
       "    </tr>\n",
       "  </tbody>\n",
       "</table>\n",
       "</div>"
      ],
      "text/plain": [
       "   visa                 state  rand\n",
       "0   H1b               ALABAMA  14.0\n",
       "1  H1-b                    WA   2.0\n",
       "2  H2-a                   NaN   NaN\n",
       "3   K-1            WASHINGTON  54.0\n",
       "4   K-1                    OH  23.0\n",
       "5    j1  District of Columbia  65.0\n",
       "6   NaN                    FL   3.0\n",
       "7  H1-b            Washington   NaN\n",
       "8    J1              Illinois  21.0\n",
       "9    H2                  oHio  39.0"
      ]
     },
     "execution_count": 365,
     "metadata": {},
     "output_type": "execute_result"
    }
   ],
   "source": [
    "example_df"
   ]
  },
  {
   "cell_type": "code",
   "execution_count": 481,
   "metadata": {
    "ExecuteTime": {
     "end_time": "2019-03-11T20:09:27.885130Z",
     "start_time": "2019-03-11T20:09:27.797719Z"
    }
   },
   "outputs": [],
   "source": [
    "example_df['rand'] = list(map(str, example_df['rand']))"
   ]
  },
  {
   "cell_type": "code",
   "execution_count": 482,
   "metadata": {
    "ExecuteTime": {
     "end_time": "2019-03-11T20:09:57.519952Z",
     "start_time": "2019-03-11T20:09:57.504161Z"
    }
   },
   "outputs": [],
   "source": [
    "nan_num = len(example_df) - example_df['rand'].count()"
   ]
  },
  {
   "cell_type": "code",
   "execution_count": 483,
   "metadata": {
    "ExecuteTime": {
     "end_time": "2019-03-11T20:10:01.612638Z",
     "start_time": "2019-03-11T20:10:01.597376Z"
    }
   },
   "outputs": [
    {
     "data": {
      "text/plain": [
       "0"
      ]
     },
     "execution_count": 483,
     "metadata": {},
     "output_type": "execute_result"
    }
   ],
   "source": [
    "nan_num"
   ]
  },
  {
   "cell_type": "code",
   "execution_count": 382,
   "metadata": {
    "ExecuteTime": {
     "end_time": "2019-03-10T20:13:45.153913Z",
     "start_time": "2019-03-10T20:13:45.151058Z"
    }
   },
   "outputs": [],
   "source": [
    "new_df_list = []"
   ]
  },
  {
   "cell_type": "code",
   "execution_count": 383,
   "metadata": {
    "ExecuteTime": {
     "end_time": "2019-03-10T20:13:45.586080Z",
     "start_time": "2019-03-10T20:13:45.582218Z"
    },
    "scrolled": true
   },
   "outputs": [],
   "source": [
    "# append columns to new list\n",
    "new_df_list.append(example_df['state'])\n",
    "new_df_list.append(example_df['rand'])"
   ]
  },
  {
   "cell_type": "code",
   "execution_count": 384,
   "metadata": {
    "ExecuteTime": {
     "end_time": "2019-03-10T20:13:46.080390Z",
     "start_time": "2019-03-10T20:13:46.070303Z"
    }
   },
   "outputs": [],
   "source": [
    "# create new df from list of columns & transpose\n",
    "new_df = pd.DataFrame(new_df_list)\n",
    "new_df = new_df.transpose()"
   ]
  },
  {
   "cell_type": "code",
   "execution_count": 385,
   "metadata": {
    "ExecuteTime": {
     "end_time": "2019-03-10T20:13:46.983228Z",
     "start_time": "2019-03-10T20:13:46.974523Z"
    },
    "scrolled": true
   },
   "outputs": [
    {
     "data": {
      "text/html": [
       "<div>\n",
       "<style scoped>\n",
       "    .dataframe tbody tr th:only-of-type {\n",
       "        vertical-align: middle;\n",
       "    }\n",
       "\n",
       "    .dataframe tbody tr th {\n",
       "        vertical-align: top;\n",
       "    }\n",
       "\n",
       "    .dataframe thead th {\n",
       "        text-align: right;\n",
       "    }\n",
       "</style>\n",
       "<table border=\"1\" class=\"dataframe\">\n",
       "  <thead>\n",
       "    <tr style=\"text-align: right;\">\n",
       "      <th></th>\n",
       "      <th>state</th>\n",
       "      <th>rand</th>\n",
       "    </tr>\n",
       "  </thead>\n",
       "  <tbody>\n",
       "    <tr>\n",
       "      <th>0</th>\n",
       "      <td>ALABAMA</td>\n",
       "      <td>14</td>\n",
       "    </tr>\n",
       "    <tr>\n",
       "      <th>1</th>\n",
       "      <td>WA</td>\n",
       "      <td>2</td>\n",
       "    </tr>\n",
       "    <tr>\n",
       "      <th>2</th>\n",
       "      <td>NaN</td>\n",
       "      <td>NaN</td>\n",
       "    </tr>\n",
       "    <tr>\n",
       "      <th>3</th>\n",
       "      <td>WASHINGTON</td>\n",
       "      <td>54</td>\n",
       "    </tr>\n",
       "    <tr>\n",
       "      <th>4</th>\n",
       "      <td>OH</td>\n",
       "      <td>23</td>\n",
       "    </tr>\n",
       "    <tr>\n",
       "      <th>5</th>\n",
       "      <td>District of Columbia</td>\n",
       "      <td>65</td>\n",
       "    </tr>\n",
       "    <tr>\n",
       "      <th>6</th>\n",
       "      <td>FL</td>\n",
       "      <td>3</td>\n",
       "    </tr>\n",
       "    <tr>\n",
       "      <th>7</th>\n",
       "      <td>Washington</td>\n",
       "      <td>NaN</td>\n",
       "    </tr>\n",
       "    <tr>\n",
       "      <th>8</th>\n",
       "      <td>Illinois</td>\n",
       "      <td>21</td>\n",
       "    </tr>\n",
       "    <tr>\n",
       "      <th>9</th>\n",
       "      <td>oHio</td>\n",
       "      <td>39</td>\n",
       "    </tr>\n",
       "  </tbody>\n",
       "</table>\n",
       "</div>"
      ],
      "text/plain": [
       "                  state rand\n",
       "0               ALABAMA   14\n",
       "1                    WA    2\n",
       "2                   NaN  NaN\n",
       "3            WASHINGTON   54\n",
       "4                    OH   23\n",
       "5  District of Columbia   65\n",
       "6                    FL    3\n",
       "7            Washington  NaN\n",
       "8              Illinois   21\n",
       "9                  oHio   39"
      ]
     },
     "execution_count": 385,
     "metadata": {},
     "output_type": "execute_result"
    }
   ],
   "source": [
    "new_df"
   ]
  },
  {
   "cell_type": "code",
   "execution_count": null,
   "metadata": {},
   "outputs": [],
   "source": [
    "# Dealing with pay\n",
    "# Find out whether it's hourly or salary \n",
    "# if hourly - multiply by 2080\n",
    "# if bi weekly - multiply by 26\n",
    "# if monthly - multiply by 12\n",
    "# if weekly - multiply by 52\n",
    "# if none "
   ]
  },
  {
   "cell_type": "code",
   "execution_count": 474,
   "metadata": {
    "ExecuteTime": {
     "end_time": "2019-03-11T16:34:20.072249Z",
     "start_time": "2019-03-11T16:34:20.066722Z"
    }
   },
   "outputs": [],
   "source": [
    "wage = [6.5, '100,000', '500', 7.23, 45.89, 0]\n",
    "how = ['hourly', 'year', 'bi-weekly', 'hourly', 'HR', 'hour']\n",
    "wage_df = (pd.DataFrame(list(zip(wage, how)), columns=['wage', 'how']))"
   ]
  },
  {
   "cell_type": "code",
   "execution_count": 475,
   "metadata": {
    "ExecuteTime": {
     "end_time": "2019-03-11T16:34:20.549626Z",
     "start_time": "2019-03-11T16:34:20.540989Z"
    }
   },
   "outputs": [
    {
     "data": {
      "text/html": [
       "<div>\n",
       "<style scoped>\n",
       "    .dataframe tbody tr th:only-of-type {\n",
       "        vertical-align: middle;\n",
       "    }\n",
       "\n",
       "    .dataframe tbody tr th {\n",
       "        vertical-align: top;\n",
       "    }\n",
       "\n",
       "    .dataframe thead th {\n",
       "        text-align: right;\n",
       "    }\n",
       "</style>\n",
       "<table border=\"1\" class=\"dataframe\">\n",
       "  <thead>\n",
       "    <tr style=\"text-align: right;\">\n",
       "      <th></th>\n",
       "      <th>wage</th>\n",
       "      <th>how</th>\n",
       "    </tr>\n",
       "  </thead>\n",
       "  <tbody>\n",
       "    <tr>\n",
       "      <th>0</th>\n",
       "      <td>6.5</td>\n",
       "      <td>hourly</td>\n",
       "    </tr>\n",
       "    <tr>\n",
       "      <th>1</th>\n",
       "      <td>100,000</td>\n",
       "      <td>year</td>\n",
       "    </tr>\n",
       "    <tr>\n",
       "      <th>2</th>\n",
       "      <td>500</td>\n",
       "      <td>bi-weekly</td>\n",
       "    </tr>\n",
       "    <tr>\n",
       "      <th>3</th>\n",
       "      <td>7.23</td>\n",
       "      <td>hourly</td>\n",
       "    </tr>\n",
       "    <tr>\n",
       "      <th>4</th>\n",
       "      <td>45.89</td>\n",
       "      <td>HR</td>\n",
       "    </tr>\n",
       "    <tr>\n",
       "      <th>5</th>\n",
       "      <td>0</td>\n",
       "      <td>hour</td>\n",
       "    </tr>\n",
       "  </tbody>\n",
       "</table>\n",
       "</div>"
      ],
      "text/plain": [
       "      wage        how\n",
       "0      6.5     hourly\n",
       "1  100,000       year\n",
       "2      500  bi-weekly\n",
       "3     7.23     hourly\n",
       "4    45.89         HR\n",
       "5        0       hour"
      ]
     },
     "execution_count": 475,
     "metadata": {},
     "output_type": "execute_result"
    }
   ],
   "source": [
    "wage_df"
   ]
  },
  {
   "cell_type": "code",
   "execution_count": 476,
   "metadata": {
    "ExecuteTime": {
     "end_time": "2019-03-11T16:35:11.948942Z",
     "start_time": "2019-03-11T16:35:11.936542Z"
    }
   },
   "outputs": [],
   "source": [
    "def WageFunction(col1, col2):\n",
    "    \n",
    "    # Clean col1\n",
    "    col1 = list(map(str, col1))\n",
    "    col1 = [x.replace(',', '') for x in col1]\n",
    "    col1 = [x.replace('#', '0') for x in col1]\n",
    "    col1 = list(map(float, col1))\n",
    "    \n",
    "    # Clean col2\n",
    "    col2 = list(map(lambda x:x.lower(), col2))\n",
    "    col2 = [i[0] for i in col2]\n",
    "    col2 = list(map(str, col2))\n",
    "    \n",
    "    tups = list(zip(col1, col2))\n",
    "    \n",
    "    total_salary = []\n",
    "    \n",
    "    for idx, value in enumerate(tups):\n",
    "        if tups[idx][1] == 'h':\n",
    "            total_salary.append((tups[idx][0]*2080))\n",
    "        elif tups[idx][1] == 'w':\n",
    "            total_salary.append((tups[idx][0]*52))\n",
    "        elif tups[idx][1] == 'b':\n",
    "            total_salary.append((tups[idx][0]*26))\n",
    "        elif tups[idx][1] == 'm':\n",
    "            total_salary.append((tups[idx][0]*12))\n",
    "        else:\n",
    "            total_salary.append(tups[idx][0])\n",
    "    \n",
    "    rounded_list = [ '%.2f' % elem for elem in total_salary]\n",
    "    rounded_list = list(map(float, rounded_list))\n",
    "    rounded_list = [59039 if x == 0 else x for x in rounded_list]\n",
    "    \n",
    "    return rounded_list\n",
    "        "
   ]
  },
  {
   "cell_type": "code",
   "execution_count": 477,
   "metadata": {
    "ExecuteTime": {
     "end_time": "2019-03-11T16:35:12.563966Z",
     "start_time": "2019-03-11T16:35:12.559536Z"
    }
   },
   "outputs": [],
   "source": [
    "wage_df['year_sal'] = WageFunction(wage_df['wage'], wage_df['how'])"
   ]
  },
  {
   "cell_type": "code",
   "execution_count": 478,
   "metadata": {
    "ExecuteTime": {
     "end_time": "2019-03-11T16:35:13.058305Z",
     "start_time": "2019-03-11T16:35:13.047965Z"
    }
   },
   "outputs": [
    {
     "data": {
      "text/html": [
       "<div>\n",
       "<style scoped>\n",
       "    .dataframe tbody tr th:only-of-type {\n",
       "        vertical-align: middle;\n",
       "    }\n",
       "\n",
       "    .dataframe tbody tr th {\n",
       "        vertical-align: top;\n",
       "    }\n",
       "\n",
       "    .dataframe thead th {\n",
       "        text-align: right;\n",
       "    }\n",
       "</style>\n",
       "<table border=\"1\" class=\"dataframe\">\n",
       "  <thead>\n",
       "    <tr style=\"text-align: right;\">\n",
       "      <th></th>\n",
       "      <th>wage</th>\n",
       "      <th>how</th>\n",
       "      <th>year_sal</th>\n",
       "    </tr>\n",
       "  </thead>\n",
       "  <tbody>\n",
       "    <tr>\n",
       "      <th>0</th>\n",
       "      <td>6.5</td>\n",
       "      <td>hourly</td>\n",
       "      <td>13520.0</td>\n",
       "    </tr>\n",
       "    <tr>\n",
       "      <th>1</th>\n",
       "      <td>100,000</td>\n",
       "      <td>year</td>\n",
       "      <td>100000.0</td>\n",
       "    </tr>\n",
       "    <tr>\n",
       "      <th>2</th>\n",
       "      <td>500</td>\n",
       "      <td>bi-weekly</td>\n",
       "      <td>13000.0</td>\n",
       "    </tr>\n",
       "    <tr>\n",
       "      <th>3</th>\n",
       "      <td>7.23</td>\n",
       "      <td>hourly</td>\n",
       "      <td>15038.4</td>\n",
       "    </tr>\n",
       "    <tr>\n",
       "      <th>4</th>\n",
       "      <td>45.89</td>\n",
       "      <td>HR</td>\n",
       "      <td>95451.2</td>\n",
       "    </tr>\n",
       "    <tr>\n",
       "      <th>5</th>\n",
       "      <td>0</td>\n",
       "      <td>hour</td>\n",
       "      <td>59039.0</td>\n",
       "    </tr>\n",
       "  </tbody>\n",
       "</table>\n",
       "</div>"
      ],
      "text/plain": [
       "      wage        how  year_sal\n",
       "0      6.5     hourly   13520.0\n",
       "1  100,000       year  100000.0\n",
       "2      500  bi-weekly   13000.0\n",
       "3     7.23     hourly   15038.4\n",
       "4    45.89         HR   95451.2\n",
       "5        0       hour   59039.0"
      ]
     },
     "execution_count": 478,
     "metadata": {},
     "output_type": "execute_result"
    }
   ],
   "source": [
    "wage_df"
   ]
  },
  {
   "cell_type": "code",
   "execution_count": 466,
   "metadata": {
    "ExecuteTime": {
     "end_time": "2019-03-11T16:31:10.141357Z",
     "start_time": "2019-03-11T16:31:10.136881Z"
    }
   },
   "outputs": [
    {
     "data": {
      "text/plain": [
       "[13520.0, 100000.0, 13000.0, 15038.4, 95451.2, 0.0]"
      ]
     },
     "execution_count": 466,
     "metadata": {},
     "output_type": "execute_result"
    }
   ],
   "source": [
    "tuples"
   ]
  },
  {
   "cell_type": "code",
   "execution_count": 405,
   "metadata": {
    "ExecuteTime": {
     "end_time": "2019-03-11T16:18:04.634834Z",
     "start_time": "2019-03-11T16:18:04.628450Z"
    }
   },
   "outputs": [],
   "source": [
    "list_of_tups = [(6.5, 'hourly'), ('100,000', 'year')]"
   ]
  },
  {
   "cell_type": "code",
   "execution_count": 440,
   "metadata": {
    "ExecuteTime": {
     "end_time": "2019-03-11T16:24:34.040906Z",
     "start_time": "2019-03-11T16:24:34.036194Z"
    }
   },
   "outputs": [
    {
     "data": {
      "text/plain": [
       "6.5"
      ]
     },
     "execution_count": 440,
     "metadata": {},
     "output_type": "execute_result"
    }
   ],
   "source": [
    "list_of_tups[0][0]"
   ]
  },
  {
   "cell_type": "code",
   "execution_count": 479,
   "metadata": {
    "ExecuteTime": {
     "end_time": "2019-03-11T16:59:48.118564Z",
     "start_time": "2019-03-11T16:59:48.007774Z"
    }
   },
   "outputs": [
    {
     "ename": "NameError",
     "evalue": "name 'perm_df' is not defined",
     "output_type": "error",
     "traceback": [
      "\u001b[0;31m---------------------------------------------------------------------------\u001b[0m",
      "\u001b[0;31mNameError\u001b[0m                                 Traceback (most recent call last)",
      "\u001b[0;32m<ipython-input-479-e5895eb7e2ce>\u001b[0m in \u001b[0;36m<module>\u001b[0;34m\u001b[0m\n\u001b[1;32m      1\u001b[0m \u001b[0;31m# Check values\u001b[0m\u001b[0;34m\u001b[0m\u001b[0;34m\u001b[0m\u001b[0;34m\u001b[0m\u001b[0m\n\u001b[0;32m----> 2\u001b[0;31m \u001b[0mvalues\u001b[0m\u001b[0;34m,\u001b[0m \u001b[0mcounts\u001b[0m \u001b[0;34m=\u001b[0m \u001b[0mnp\u001b[0m\u001b[0;34m.\u001b[0m\u001b[0munique\u001b[0m\u001b[0;34m(\u001b[0m\u001b[0mperm_df\u001b[0m\u001b[0;34m[\u001b[0m\u001b[0;34m'case_status'\u001b[0m\u001b[0;34m]\u001b[0m\u001b[0;34m,\u001b[0m \u001b[0mreturn_counts\u001b[0m\u001b[0;34m=\u001b[0m\u001b[0;32mTrue\u001b[0m\u001b[0;34m)\u001b[0m\u001b[0;34m\u001b[0m\u001b[0;34m\u001b[0m\u001b[0m\n\u001b[0m\u001b[1;32m      3\u001b[0m \u001b[0mdict\u001b[0m\u001b[0;34m(\u001b[0m\u001b[0mzip\u001b[0m\u001b[0;34m(\u001b[0m\u001b[0mvalues\u001b[0m\u001b[0;34m,\u001b[0m \u001b[0mcounts\u001b[0m\u001b[0;34m)\u001b[0m\u001b[0;34m)\u001b[0m\u001b[0;34m\u001b[0m\u001b[0;34m\u001b[0m\u001b[0m\n",
      "\u001b[0;31mNameError\u001b[0m: name 'perm_df' is not defined"
     ]
    }
   ],
   "source": [
    "# Check values\n",
    "values, counts = np.unique(perm_df['case_status'], return_counts=True)\n",
    "dict(zip(values, counts))"
   ]
  },
  {
   "cell_type": "code",
   "execution_count": null,
   "metadata": {},
   "outputs": [],
   "source": []
  }
 ],
 "metadata": {
  "kernelspec": {
   "display_name": "Python 3",
   "language": "python",
   "name": "python3"
  },
  "language_info": {
   "codemirror_mode": {
    "name": "ipython",
    "version": 3
   },
   "file_extension": ".py",
   "mimetype": "text/x-python",
   "name": "python",
   "nbconvert_exporter": "python",
   "pygments_lexer": "ipython3",
   "version": "3.6.8"
  },
  "toc": {
   "base_numbering": 1,
   "nav_menu": {},
   "number_sections": true,
   "sideBar": true,
   "skip_h1_title": false,
   "title_cell": "Table of Contents",
   "title_sidebar": "Contents",
   "toc_cell": false,
   "toc_position": {},
   "toc_section_display": true,
   "toc_window_display": false
  },
  "varInspector": {
   "cols": {
    "lenName": 16,
    "lenType": 16,
    "lenVar": 40
   },
   "kernels_config": {
    "python": {
     "delete_cmd_postfix": "",
     "delete_cmd_prefix": "del ",
     "library": "var_list.py",
     "varRefreshCmd": "print(var_dic_list())"
    },
    "r": {
     "delete_cmd_postfix": ") ",
     "delete_cmd_prefix": "rm(",
     "library": "var_list.r",
     "varRefreshCmd": "cat(var_dic_list()) "
    }
   },
   "types_to_exclude": [
    "module",
    "function",
    "builtin_function_or_method",
    "instance",
    "_Feature"
   ],
   "window_display": false
  }
 },
 "nbformat": 4,
 "nbformat_minor": 2
}
