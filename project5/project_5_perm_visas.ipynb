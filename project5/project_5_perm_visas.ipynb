{
 "cells": [
  {
   "cell_type": "code",
   "execution_count": 3,
   "metadata": {
    "ExecuteTime": {
     "end_time": "2019-03-17T16:34:29.070047Z",
     "start_time": "2019-03-17T16:34:29.066289Z"
    }
   },
   "outputs": [],
   "source": [
    "import pandas as pd\n",
    "import numpy as np\n",
    "\n",
    "import pickle\n",
    "\n",
    "import warnings\n",
    "\n",
    "warnings.filterwarnings('ignore')"
   ]
  },
  {
   "cell_type": "markdown",
   "metadata": {},
   "source": [
    "## Import Data"
   ]
  },
  {
   "cell_type": "code",
   "execution_count": 129,
   "metadata": {
    "ExecuteTime": {
     "end_time": "2019-03-14T20:50:24.613423Z",
     "start_time": "2019-03-14T20:50:24.575753Z"
    }
   },
   "outputs": [],
   "source": [
    "def GetPermData(years):\n",
    "    \n",
    "    location = '/Users/laurengilson/Desktop/perm_data/PERM_FY{}.xlsx'\n",
    "    dfs = []\n",
    "        \n",
    "    for year in years:\n",
    "        print(f\"{year} in progress...\")\n",
    "        \n",
    "        # Read in excel for particular year\n",
    "        read_data = pd.read_excel(location.format(year))\n",
    "        \n",
    "        # set column headers to lower case and remove spaces\n",
    "        read_data.columns = list(map(lambda header : header.lower(), read_data.columns)) # make all lowercase\n",
    "        read_data.colums = read_data.columns.str.replace(' ','_') # replace spaces with underscores\n",
    "\n",
    "        # add column of fiscal year to df\n",
    "        read_data['fiscal_year'] = str(year) \n",
    "        dfs.append(read_data) # append to list\n",
    "        print(f\"Number of dataframes in dfd: {len(dfs)}\")\n",
    "        print(f\"{year}: Done\")\n",
    "    \n",
    "    return pd.concat(dfs, axis=0, ignore_index=True)"
   ]
  },
  {
   "cell_type": "code",
   "execution_count": 5,
   "metadata": {
    "ExecuteTime": {
     "end_time": "2019-03-10T20:02:00.471631Z",
     "start_time": "2019-03-10T20:02:00.467492Z"
    }
   },
   "outputs": [],
   "source": [
    "years = [2008, 2009, 2010, 2011, 2012, 2013, 2014, 2015, 2016, 2017, 2018, 2019]"
   ]
  },
  {
   "cell_type": "code",
   "execution_count": 6,
   "metadata": {
    "ExecuteTime": {
     "end_time": "2019-03-10T20:18:24.552929Z",
     "start_time": "2019-03-10T20:02:29.099312Z"
    }
   },
   "outputs": [
    {
     "name": "stdout",
     "output_type": "stream",
     "text": [
      "2008 in progress...\n",
      "Number of dataframes in dfd: 1\n",
      "2008: Done\n",
      "2009 in progress...\n",
      "Number of dataframes in dfd: 2\n",
      "2009: Done\n",
      "2010 in progress...\n",
      "Number of dataframes in dfd: 3\n",
      "2010: Done\n",
      "2011 in progress...\n",
      "Number of dataframes in dfd: 4\n",
      "2011: Done\n",
      "2012 in progress...\n",
      "Number of dataframes in dfd: 5\n",
      "2012: Done\n",
      "2013 in progress...\n",
      "Number of dataframes in dfd: 6\n",
      "2013: Done\n",
      "2014 in progress...\n",
      "Number of dataframes in dfd: 7\n",
      "2014: Done\n",
      "2015 in progress...\n",
      "Number of dataframes in dfd: 8\n",
      "2015: Done\n",
      "2016 in progress...\n",
      "Number of dataframes in dfd: 9\n",
      "2016: Done\n",
      "2017 in progress...\n",
      "Number of dataframes in dfd: 10\n",
      "2017: Done\n",
      "2018 in progress...\n",
      "Number of dataframes in dfd: 11\n",
      "2018: Done\n",
      "2019 in progress...\n",
      "Number of dataframes in dfd: 12\n",
      "2019: Done\n"
     ]
    }
   ],
   "source": [
    "perm_df = GetPermData(years)"
   ]
  },
  {
   "cell_type": "code",
   "execution_count": 15,
   "metadata": {
    "ExecuteTime": {
     "end_time": "2019-03-10T20:21:10.980192Z",
     "start_time": "2019-03-10T20:20:47.330235Z"
    }
   },
   "outputs": [],
   "source": [
    "# pickle original imported df\n",
    "perm_df.to_pickle(\"./perm_df.pkl\")"
   ]
  },
  {
   "cell_type": "code",
   "execution_count": 270,
   "metadata": {
    "ExecuteTime": {
     "end_time": "2019-03-15T19:53:17.788160Z",
     "start_time": "2019-03-15T19:52:26.306632Z"
    }
   },
   "outputs": [],
   "source": [
    "# Unpickle\n",
    "perm_df = pd.read_pickle(\"./perm_df.pkl\")"
   ]
  },
  {
   "cell_type": "code",
   "execution_count": 271,
   "metadata": {
    "ExecuteTime": {
     "end_time": "2019-03-15T19:53:21.766778Z",
     "start_time": "2019-03-15T19:53:21.721307Z"
    }
   },
   "outputs": [
    {
     "data": {
      "text/html": [
       "<div>\n",
       "<style scoped>\n",
       "    .dataframe tbody tr th:only-of-type {\n",
       "        vertical-align: middle;\n",
       "    }\n",
       "\n",
       "    .dataframe tbody tr th {\n",
       "        vertical-align: top;\n",
       "    }\n",
       "\n",
       "    .dataframe thead th {\n",
       "        text-align: right;\n",
       "    }\n",
       "</style>\n",
       "<table border=\"1\" class=\"dataframe\">\n",
       "  <thead>\n",
       "    <tr style=\"text-align: right;\">\n",
       "      <th></th>\n",
       "      <th>2007_naics_us_code</th>\n",
       "      <th>2007_naics_us_title</th>\n",
       "      <th>add_these_pw_job_title_9089</th>\n",
       "      <th>agent_city</th>\n",
       "      <th>agent_firm_name</th>\n",
       "      <th>agent_state</th>\n",
       "      <th>application_type</th>\n",
       "      <th>case_no</th>\n",
       "      <th>case_number</th>\n",
       "      <th>case_received_date</th>\n",
       "      <th>...</th>\n",
       "      <th>ri_pvt_employment_firm_to</th>\n",
       "      <th>ri_us_workers_considered</th>\n",
       "      <th>schd_a_sheepherder</th>\n",
       "      <th>us_economic_sector</th>\n",
       "      <th>wage_offer_from_9089</th>\n",
       "      <th>wage_offer_to_9089</th>\n",
       "      <th>wage_offer_unit_of_pay_9089</th>\n",
       "      <th>wage_offered_from_9089</th>\n",
       "      <th>wage_offered_to_9089</th>\n",
       "      <th>wage_offered_unit_of_pay_9089</th>\n",
       "    </tr>\n",
       "  </thead>\n",
       "  <tbody>\n",
       "    <tr>\n",
       "      <th>0</th>\n",
       "      <td>NaN</td>\n",
       "      <td>UNCLASSIFIED</td>\n",
       "      <td>NaN</td>\n",
       "      <td>NaN</td>\n",
       "      <td>NaN</td>\n",
       "      <td>NaN</td>\n",
       "      <td>PERM</td>\n",
       "      <td>NaN</td>\n",
       "      <td>A-08271-91262</td>\n",
       "      <td>NaT</td>\n",
       "      <td>...</td>\n",
       "      <td>NaN</td>\n",
       "      <td>NaN</td>\n",
       "      <td>NaN</td>\n",
       "      <td>UNCLASSIFIED</td>\n",
       "      <td>10.23</td>\n",
       "      <td>NaN</td>\n",
       "      <td>HR</td>\n",
       "      <td>NaN</td>\n",
       "      <td>NaN</td>\n",
       "      <td>NaN</td>\n",
       "    </tr>\n",
       "    <tr>\n",
       "      <th>1</th>\n",
       "      <td>NaN</td>\n",
       "      <td>UNCLASSIFIED</td>\n",
       "      <td>NaN</td>\n",
       "      <td>NaN</td>\n",
       "      <td>NaN</td>\n",
       "      <td>NaN</td>\n",
       "      <td>PERM</td>\n",
       "      <td>NaN</td>\n",
       "      <td>C-07327-98303</td>\n",
       "      <td>NaT</td>\n",
       "      <td>...</td>\n",
       "      <td>NaN</td>\n",
       "      <td>NaN</td>\n",
       "      <td>NaN</td>\n",
       "      <td>UNCLASSIFIED</td>\n",
       "      <td>54000</td>\n",
       "      <td>NaN</td>\n",
       "      <td>YR</td>\n",
       "      <td>NaN</td>\n",
       "      <td>NaN</td>\n",
       "      <td>NaN</td>\n",
       "    </tr>\n",
       "    <tr>\n",
       "      <th>2</th>\n",
       "      <td>NaN</td>\n",
       "      <td>UNCLASSIFIED</td>\n",
       "      <td>NaN</td>\n",
       "      <td>NaN</td>\n",
       "      <td>NaN</td>\n",
       "      <td>NaN</td>\n",
       "      <td>PERM</td>\n",
       "      <td>NaN</td>\n",
       "      <td>A-08029-18103</td>\n",
       "      <td>NaT</td>\n",
       "      <td>...</td>\n",
       "      <td>NaN</td>\n",
       "      <td>NaN</td>\n",
       "      <td>NaN</td>\n",
       "      <td>UNCLASSIFIED</td>\n",
       "      <td>9.8</td>\n",
       "      <td>NaN</td>\n",
       "      <td>HR</td>\n",
       "      <td>NaN</td>\n",
       "      <td>NaN</td>\n",
       "      <td>NaN</td>\n",
       "    </tr>\n",
       "    <tr>\n",
       "      <th>3</th>\n",
       "      <td>NaN</td>\n",
       "      <td>UNCLASSIFIED</td>\n",
       "      <td>NaN</td>\n",
       "      <td>NaN</td>\n",
       "      <td>NaN</td>\n",
       "      <td>NaN</td>\n",
       "      <td>PERM</td>\n",
       "      <td>NaN</td>\n",
       "      <td>A-07262-76878</td>\n",
       "      <td>NaT</td>\n",
       "      <td>...</td>\n",
       "      <td>NaN</td>\n",
       "      <td>NaN</td>\n",
       "      <td>NaN</td>\n",
       "      <td>UNCLASSIFIED</td>\n",
       "      <td>11.42</td>\n",
       "      <td>NaN</td>\n",
       "      <td>HR</td>\n",
       "      <td>NaN</td>\n",
       "      <td>NaN</td>\n",
       "      <td>NaN</td>\n",
       "    </tr>\n",
       "    <tr>\n",
       "      <th>4</th>\n",
       "      <td>NaN</td>\n",
       "      <td>UNCLASSIFIED</td>\n",
       "      <td>NaN</td>\n",
       "      <td>NaN</td>\n",
       "      <td>NaN</td>\n",
       "      <td>NaN</td>\n",
       "      <td>PERM</td>\n",
       "      <td>NaN</td>\n",
       "      <td>A-08273-91603</td>\n",
       "      <td>NaT</td>\n",
       "      <td>...</td>\n",
       "      <td>NaN</td>\n",
       "      <td>NaN</td>\n",
       "      <td>NaN</td>\n",
       "      <td>UNCLASSIFIED</td>\n",
       "      <td>6</td>\n",
       "      <td>6</td>\n",
       "      <td>HR</td>\n",
       "      <td>NaN</td>\n",
       "      <td>NaN</td>\n",
       "      <td>NaN</td>\n",
       "    </tr>\n",
       "  </tbody>\n",
       "</table>\n",
       "<p>5 rows × 142 columns</p>\n",
       "</div>"
      ],
      "text/plain": [
       "  2007_naics_us_code 2007_naics_us_title add_these_pw_job_title_9089  \\\n",
       "0                NaN        UNCLASSIFIED                         NaN   \n",
       "1                NaN        UNCLASSIFIED                         NaN   \n",
       "2                NaN        UNCLASSIFIED                         NaN   \n",
       "3                NaN        UNCLASSIFIED                         NaN   \n",
       "4                NaN        UNCLASSIFIED                         NaN   \n",
       "\n",
       "  agent_city agent_firm_name agent_state application_type case_no  \\\n",
       "0        NaN             NaN         NaN             PERM     NaN   \n",
       "1        NaN             NaN         NaN             PERM     NaN   \n",
       "2        NaN             NaN         NaN             PERM     NaN   \n",
       "3        NaN             NaN         NaN             PERM     NaN   \n",
       "4        NaN             NaN         NaN             PERM     NaN   \n",
       "\n",
       "     case_number case_received_date  ... ri_pvt_employment_firm_to  \\\n",
       "0  A-08271-91262                NaT  ...                       NaN   \n",
       "1  C-07327-98303                NaT  ...                       NaN   \n",
       "2  A-08029-18103                NaT  ...                       NaN   \n",
       "3  A-07262-76878                NaT  ...                       NaN   \n",
       "4  A-08273-91603                NaT  ...                       NaN   \n",
       "\n",
       "  ri_us_workers_considered schd_a_sheepherder us_economic_sector  \\\n",
       "0                      NaN                NaN       UNCLASSIFIED   \n",
       "1                      NaN                NaN       UNCLASSIFIED   \n",
       "2                      NaN                NaN       UNCLASSIFIED   \n",
       "3                      NaN                NaN       UNCLASSIFIED   \n",
       "4                      NaN                NaN       UNCLASSIFIED   \n",
       "\n",
       "  wage_offer_from_9089 wage_offer_to_9089 wage_offer_unit_of_pay_9089  \\\n",
       "0                10.23                NaN                          HR   \n",
       "1                54000                NaN                          YR   \n",
       "2                  9.8                NaN                          HR   \n",
       "3                11.42                NaN                          HR   \n",
       "4                    6                  6                          HR   \n",
       "\n",
       "  wage_offered_from_9089 wage_offered_to_9089 wage_offered_unit_of_pay_9089  \n",
       "0                    NaN                  NaN                           NaN  \n",
       "1                    NaN                  NaN                           NaN  \n",
       "2                    NaN                  NaN                           NaN  \n",
       "3                    NaN                  NaN                           NaN  \n",
       "4                    NaN                  NaN                           NaN  \n",
       "\n",
       "[5 rows x 142 columns]"
      ]
     },
     "execution_count": 271,
     "metadata": {},
     "output_type": "execute_result"
    }
   ],
   "source": [
    "perm_df.head()"
   ]
  },
  {
   "cell_type": "markdown",
   "metadata": {},
   "source": [
    "## Clean data"
   ]
  },
  {
   "cell_type": "markdown",
   "metadata": {},
   "source": [
    "### Create new dataframe of cleaned columns"
   ]
  },
  {
   "cell_type": "code",
   "execution_count": 272,
   "metadata": {
    "ExecuteTime": {
     "end_time": "2019-03-15T19:54:09.788871Z",
     "start_time": "2019-03-15T19:54:09.784802Z"
    }
   },
   "outputs": [],
   "source": [
    "perm_cleaned_df = pd.DataFrame()"
   ]
  },
  {
   "cell_type": "code",
   "execution_count": 273,
   "metadata": {
    "ExecuteTime": {
     "end_time": "2019-03-15T19:54:11.820264Z",
     "start_time": "2019-03-15T19:54:11.779182Z"
    }
   },
   "outputs": [
    {
     "data": {
      "text/html": [
       "<div>\n",
       "<style scoped>\n",
       "    .dataframe tbody tr th:only-of-type {\n",
       "        vertical-align: middle;\n",
       "    }\n",
       "\n",
       "    .dataframe tbody tr th {\n",
       "        vertical-align: top;\n",
       "    }\n",
       "\n",
       "    .dataframe thead th {\n",
       "        text-align: right;\n",
       "    }\n",
       "</style>\n",
       "<table border=\"1\" class=\"dataframe\">\n",
       "  <thead>\n",
       "    <tr style=\"text-align: right;\">\n",
       "      <th></th>\n",
       "      <th>2007_naics_us_code</th>\n",
       "      <th>2007_naics_us_title</th>\n",
       "      <th>add_these_pw_job_title_9089</th>\n",
       "      <th>agent_city</th>\n",
       "      <th>agent_firm_name</th>\n",
       "      <th>agent_state</th>\n",
       "      <th>application_type</th>\n",
       "      <th>case_no</th>\n",
       "      <th>case_number</th>\n",
       "      <th>case_received_date</th>\n",
       "      <th>...</th>\n",
       "      <th>ri_pvt_employment_firm_to</th>\n",
       "      <th>ri_us_workers_considered</th>\n",
       "      <th>schd_a_sheepherder</th>\n",
       "      <th>us_economic_sector</th>\n",
       "      <th>wage_offer_from_9089</th>\n",
       "      <th>wage_offer_to_9089</th>\n",
       "      <th>wage_offer_unit_of_pay_9089</th>\n",
       "      <th>wage_offered_from_9089</th>\n",
       "      <th>wage_offered_to_9089</th>\n",
       "      <th>wage_offered_unit_of_pay_9089</th>\n",
       "    </tr>\n",
       "  </thead>\n",
       "  <tbody>\n",
       "    <tr>\n",
       "      <th>0</th>\n",
       "      <td>NaN</td>\n",
       "      <td>UNCLASSIFIED</td>\n",
       "      <td>NaN</td>\n",
       "      <td>NaN</td>\n",
       "      <td>NaN</td>\n",
       "      <td>NaN</td>\n",
       "      <td>PERM</td>\n",
       "      <td>NaN</td>\n",
       "      <td>A-08271-91262</td>\n",
       "      <td>NaT</td>\n",
       "      <td>...</td>\n",
       "      <td>NaN</td>\n",
       "      <td>NaN</td>\n",
       "      <td>NaN</td>\n",
       "      <td>UNCLASSIFIED</td>\n",
       "      <td>10.23</td>\n",
       "      <td>NaN</td>\n",
       "      <td>HR</td>\n",
       "      <td>NaN</td>\n",
       "      <td>NaN</td>\n",
       "      <td>NaN</td>\n",
       "    </tr>\n",
       "    <tr>\n",
       "      <th>1</th>\n",
       "      <td>NaN</td>\n",
       "      <td>UNCLASSIFIED</td>\n",
       "      <td>NaN</td>\n",
       "      <td>NaN</td>\n",
       "      <td>NaN</td>\n",
       "      <td>NaN</td>\n",
       "      <td>PERM</td>\n",
       "      <td>NaN</td>\n",
       "      <td>C-07327-98303</td>\n",
       "      <td>NaT</td>\n",
       "      <td>...</td>\n",
       "      <td>NaN</td>\n",
       "      <td>NaN</td>\n",
       "      <td>NaN</td>\n",
       "      <td>UNCLASSIFIED</td>\n",
       "      <td>54000</td>\n",
       "      <td>NaN</td>\n",
       "      <td>YR</td>\n",
       "      <td>NaN</td>\n",
       "      <td>NaN</td>\n",
       "      <td>NaN</td>\n",
       "    </tr>\n",
       "    <tr>\n",
       "      <th>2</th>\n",
       "      <td>NaN</td>\n",
       "      <td>UNCLASSIFIED</td>\n",
       "      <td>NaN</td>\n",
       "      <td>NaN</td>\n",
       "      <td>NaN</td>\n",
       "      <td>NaN</td>\n",
       "      <td>PERM</td>\n",
       "      <td>NaN</td>\n",
       "      <td>A-08029-18103</td>\n",
       "      <td>NaT</td>\n",
       "      <td>...</td>\n",
       "      <td>NaN</td>\n",
       "      <td>NaN</td>\n",
       "      <td>NaN</td>\n",
       "      <td>UNCLASSIFIED</td>\n",
       "      <td>9.8</td>\n",
       "      <td>NaN</td>\n",
       "      <td>HR</td>\n",
       "      <td>NaN</td>\n",
       "      <td>NaN</td>\n",
       "      <td>NaN</td>\n",
       "    </tr>\n",
       "    <tr>\n",
       "      <th>3</th>\n",
       "      <td>NaN</td>\n",
       "      <td>UNCLASSIFIED</td>\n",
       "      <td>NaN</td>\n",
       "      <td>NaN</td>\n",
       "      <td>NaN</td>\n",
       "      <td>NaN</td>\n",
       "      <td>PERM</td>\n",
       "      <td>NaN</td>\n",
       "      <td>A-07262-76878</td>\n",
       "      <td>NaT</td>\n",
       "      <td>...</td>\n",
       "      <td>NaN</td>\n",
       "      <td>NaN</td>\n",
       "      <td>NaN</td>\n",
       "      <td>UNCLASSIFIED</td>\n",
       "      <td>11.42</td>\n",
       "      <td>NaN</td>\n",
       "      <td>HR</td>\n",
       "      <td>NaN</td>\n",
       "      <td>NaN</td>\n",
       "      <td>NaN</td>\n",
       "    </tr>\n",
       "    <tr>\n",
       "      <th>4</th>\n",
       "      <td>NaN</td>\n",
       "      <td>UNCLASSIFIED</td>\n",
       "      <td>NaN</td>\n",
       "      <td>NaN</td>\n",
       "      <td>NaN</td>\n",
       "      <td>NaN</td>\n",
       "      <td>PERM</td>\n",
       "      <td>NaN</td>\n",
       "      <td>A-08273-91603</td>\n",
       "      <td>NaT</td>\n",
       "      <td>...</td>\n",
       "      <td>NaN</td>\n",
       "      <td>NaN</td>\n",
       "      <td>NaN</td>\n",
       "      <td>UNCLASSIFIED</td>\n",
       "      <td>6</td>\n",
       "      <td>6</td>\n",
       "      <td>HR</td>\n",
       "      <td>NaN</td>\n",
       "      <td>NaN</td>\n",
       "      <td>NaN</td>\n",
       "    </tr>\n",
       "  </tbody>\n",
       "</table>\n",
       "<p>5 rows × 142 columns</p>\n",
       "</div>"
      ],
      "text/plain": [
       "  2007_naics_us_code 2007_naics_us_title add_these_pw_job_title_9089  \\\n",
       "0                NaN        UNCLASSIFIED                         NaN   \n",
       "1                NaN        UNCLASSIFIED                         NaN   \n",
       "2                NaN        UNCLASSIFIED                         NaN   \n",
       "3                NaN        UNCLASSIFIED                         NaN   \n",
       "4                NaN        UNCLASSIFIED                         NaN   \n",
       "\n",
       "  agent_city agent_firm_name agent_state application_type case_no  \\\n",
       "0        NaN             NaN         NaN             PERM     NaN   \n",
       "1        NaN             NaN         NaN             PERM     NaN   \n",
       "2        NaN             NaN         NaN             PERM     NaN   \n",
       "3        NaN             NaN         NaN             PERM     NaN   \n",
       "4        NaN             NaN         NaN             PERM     NaN   \n",
       "\n",
       "     case_number case_received_date  ... ri_pvt_employment_firm_to  \\\n",
       "0  A-08271-91262                NaT  ...                       NaN   \n",
       "1  C-07327-98303                NaT  ...                       NaN   \n",
       "2  A-08029-18103                NaT  ...                       NaN   \n",
       "3  A-07262-76878                NaT  ...                       NaN   \n",
       "4  A-08273-91603                NaT  ...                       NaN   \n",
       "\n",
       "  ri_us_workers_considered schd_a_sheepherder us_economic_sector  \\\n",
       "0                      NaN                NaN       UNCLASSIFIED   \n",
       "1                      NaN                NaN       UNCLASSIFIED   \n",
       "2                      NaN                NaN       UNCLASSIFIED   \n",
       "3                      NaN                NaN       UNCLASSIFIED   \n",
       "4                      NaN                NaN       UNCLASSIFIED   \n",
       "\n",
       "  wage_offer_from_9089 wage_offer_to_9089 wage_offer_unit_of_pay_9089  \\\n",
       "0                10.23                NaN                          HR   \n",
       "1                54000                NaN                          YR   \n",
       "2                  9.8                NaN                          HR   \n",
       "3                11.42                NaN                          HR   \n",
       "4                    6                  6                          HR   \n",
       "\n",
       "  wage_offered_from_9089 wage_offered_to_9089 wage_offered_unit_of_pay_9089  \n",
       "0                    NaN                  NaN                           NaN  \n",
       "1                    NaN                  NaN                           NaN  \n",
       "2                    NaN                  NaN                           NaN  \n",
       "3                    NaN                  NaN                           NaN  \n",
       "4                    NaN                  NaN                           NaN  \n",
       "\n",
       "[5 rows x 142 columns]"
      ]
     },
     "execution_count": 273,
     "metadata": {},
     "output_type": "execute_result"
    }
   ],
   "source": [
    "perm_df.head()"
   ]
  },
  {
   "cell_type": "markdown",
   "metadata": {
    "ExecuteTime": {
     "end_time": "2019-03-11T02:02:14.158912Z",
     "start_time": "2019-03-11T02:02:11.830008Z"
    }
   },
   "source": [
    "### Clean Y predictor column "
   ]
  },
  {
   "cell_type": "code",
   "execution_count": 274,
   "metadata": {
    "ExecuteTime": {
     "end_time": "2019-03-15T19:54:15.696067Z",
     "start_time": "2019-03-15T19:54:13.646980Z"
    }
   },
   "outputs": [
    {
     "data": {
      "text/plain": [
       "{'certified': 367855,\n",
       " 'certified-expired': 401154,\n",
       " 'denied': 79243,\n",
       " 'withdrawn': 38951}"
      ]
     },
     "execution_count": 274,
     "metadata": {},
     "output_type": "execute_result"
    }
   ],
   "source": [
    "# lowercase whole column\n",
    "perm_df['case_status'] = list(map(lambda value : value.lower(), perm_df['case_status']))\n",
    "\n",
    "# Check values\n",
    "values, counts = np.unique(perm_df['case_status'], return_counts=True)\n",
    "dict(zip(values, counts))"
   ]
  },
  {
   "cell_type": "code",
   "execution_count": 275,
   "metadata": {
    "ExecuteTime": {
     "end_time": "2019-03-15T19:55:08.939103Z",
     "start_time": "2019-03-15T19:54:17.627433Z"
    }
   },
   "outputs": [],
   "source": [
    "# Remove rows where application was withdrawn\n",
    "perm_df = perm_df.drop(perm_df[perm_df['case_status'] == 'withdrawn'].index).reset_index(drop=True)"
   ]
  },
  {
   "cell_type": "code",
   "execution_count": 276,
   "metadata": {
    "ExecuteTime": {
     "end_time": "2019-03-15T19:55:10.825189Z",
     "start_time": "2019-03-15T19:55:10.783493Z"
    }
   },
   "outputs": [],
   "source": [
    "def Predictor(outcome):\n",
    "    ''' Classes case outcome into 1 for denied, 0 for certified'''\n",
    "    if outcome == 'denied':\n",
    "        return 1\n",
    "    else:\n",
    "        return 0"
   ]
  },
  {
   "cell_type": "code",
   "execution_count": 277,
   "metadata": {
    "ExecuteTime": {
     "end_time": "2019-03-15T19:55:12.324748Z",
     "start_time": "2019-03-15T19:55:11.894704Z"
    }
   },
   "outputs": [],
   "source": [
    "# Create outcomes into 0 and 1\n",
    "perm_df[\"case_outcome\"] = perm_df[\"case_status\"].apply(Predictor)\n",
    "# Certified = 769009 (90.66%, Denied = 79243 (9.34%) - BEWARE OF CLASS IMBALANCE"
   ]
  },
  {
   "cell_type": "code",
   "execution_count": 278,
   "metadata": {
    "ExecuteTime": {
     "end_time": "2019-03-15T19:55:13.372746Z",
     "start_time": "2019-03-15T19:55:13.196452Z"
    }
   },
   "outputs": [],
   "source": [
    "# add to clean dataframe \n",
    "perm_cleaned_df['case_outcome'] = perm_df['case_outcome'].astype('category')"
   ]
  },
  {
   "cell_type": "code",
   "execution_count": 279,
   "metadata": {
    "ExecuteTime": {
     "end_time": "2019-03-15T19:55:14.380144Z",
     "start_time": "2019-03-15T19:55:14.319686Z"
    }
   },
   "outputs": [],
   "source": [
    "# append fiscal year\n",
    "perm_cleaned_df['fiscal_year_of_application'] = perm_df['fiscal_year'].astype('category')"
   ]
  },
  {
   "cell_type": "markdown",
   "metadata": {},
   "source": [
    "### Add National Processing Center - extract from case_number"
   ]
  },
  {
   "cell_type": "code",
   "execution_count": 280,
   "metadata": {
    "ExecuteTime": {
     "end_time": "2019-03-15T19:55:15.517771Z",
     "start_time": "2019-03-15T19:55:15.317858Z"
    }
   },
   "outputs": [],
   "source": [
    "# merge case_number and case_no columns\n",
    "perm_df['case_number'].fillna(perm_df['case_no'], inplace=True)"
   ]
  },
  {
   "cell_type": "code",
   "execution_count": 281,
   "metadata": {
    "ExecuteTime": {
     "end_time": "2019-03-15T19:55:16.993925Z",
     "start_time": "2019-03-15T19:55:16.789587Z"
    }
   },
   "outputs": [],
   "source": [
    "perm_df['processing_center'] = [i[0] for i in perm_df['case_number']]"
   ]
  },
  {
   "cell_type": "code",
   "execution_count": 282,
   "metadata": {
    "ExecuteTime": {
     "end_time": "2019-03-15T19:55:18.690348Z",
     "start_time": "2019-03-15T19:55:18.633639Z"
    }
   },
   "outputs": [],
   "source": [
    "perm_cleaned_df['processing_center'] = perm_df['processing_center'].astype('category')"
   ]
  },
  {
   "cell_type": "markdown",
   "metadata": {},
   "source": [
    "### Clean class of admission"
   ]
  },
  {
   "cell_type": "code",
   "execution_count": 283,
   "metadata": {
    "ExecuteTime": {
     "end_time": "2019-03-15T19:55:22.809909Z",
     "start_time": "2019-03-15T19:55:20.279960Z"
    }
   },
   "outputs": [],
   "source": [
    "perm_df['class_of_admission'] = perm_df['class_of_admission'].fillna(str('unknown'))\n",
    "perm_df['class_of_admission'] = list(map(str, perm_df['class_of_admission']))\n",
    "perm_df['class_of_admission'] = list(map(lambda x:x.lower(), perm_df['class_of_admission']))\n",
    "perm_df['class_of_admission'] = [x.replace('-', '') for x in perm_df['class_of_admission']]"
   ]
  },
  {
   "cell_type": "code",
   "execution_count": 284,
   "metadata": {
    "ExecuteTime": {
     "end_time": "2019-03-15T19:55:24.437465Z",
     "start_time": "2019-03-15T19:55:24.363463Z"
    }
   },
   "outputs": [],
   "source": [
    "perm_cleaned_df['class_of_admission'] = perm_df['class_of_admission'].astype('category')"
   ]
  },
  {
   "cell_type": "markdown",
   "metadata": {},
   "source": [
    "### Clean country of citizenship columns"
   ]
  },
  {
   "cell_type": "code",
   "execution_count": 285,
   "metadata": {
    "ExecuteTime": {
     "end_time": "2019-03-15T19:55:25.976985Z",
     "start_time": "2019-03-15T19:55:25.773228Z"
    }
   },
   "outputs": [],
   "source": [
    "perm_df['country_of_citizenship'].fillna(perm_df['country_of_citzenship'], inplace=True)"
   ]
  },
  {
   "cell_type": "code",
   "execution_count": 286,
   "metadata": {
    "ExecuteTime": {
     "end_time": "2019-03-15T19:55:29.010957Z",
     "start_time": "2019-03-15T19:55:27.558443Z"
    }
   },
   "outputs": [],
   "source": [
    "perm_df['country_of_citizenship'] = perm_df['country_of_citizenship'].fillna(str('unknown'))\n",
    "perm_df['country_of_citizenship'] = list(map(lambda x:x.lower(), perm_df['country_of_citizenship']))\n",
    "perm_df['country_of_citizenship'] = perm_df['country_of_citizenship'].str.replace('(', '')\n",
    "perm_df['country_of_citizenship'] = perm_df['country_of_citizenship'].str.replace(')', '')\n"
   ]
  },
  {
   "cell_type": "code",
   "execution_count": 287,
   "metadata": {
    "ExecuteTime": {
     "end_time": "2019-03-15T19:55:30.477557Z",
     "start_time": "2019-03-15T19:55:30.468081Z"
    }
   },
   "outputs": [],
   "source": [
    "def CountryCode(key):\n",
    "    return country_code_dict[key]"
   ]
  },
  {
   "cell_type": "code",
   "execution_count": 288,
   "metadata": {
    "ExecuteTime": {
     "end_time": "2019-03-15T19:55:32.051895Z",
     "start_time": "2019-03-15T19:55:31.784709Z"
    }
   },
   "outputs": [],
   "source": [
    "perm_df['citizenship_code'] = perm_df['country_of_citizenship'].apply(CountryCode)"
   ]
  },
  {
   "cell_type": "code",
   "execution_count": 289,
   "metadata": {
    "ExecuteTime": {
     "end_time": "2019-03-15T19:55:33.380720Z",
     "start_time": "2019-03-15T19:55:33.332589Z"
    }
   },
   "outputs": [],
   "source": [
    "perm_cleaned_df['country_of_citizenship'] = perm_df['citizenship_code'].astype(str)"
   ]
  },
  {
   "cell_type": "markdown",
   "metadata": {},
   "source": [
    "### Add column based on whether citizenship and place of birth are the same"
   ]
  },
  {
   "cell_type": "code",
   "execution_count": 290,
   "metadata": {
    "ExecuteTime": {
     "end_time": "2019-03-15T19:55:35.586943Z",
     "start_time": "2019-03-15T19:55:34.619104Z"
    }
   },
   "outputs": [],
   "source": [
    "perm_df['fw_info_birth_country'] = perm_df['fw_info_birth_country'].fillna(str('unknown'))\n",
    "perm_df['fw_info_birth_country'] = list(map(lambda x:x.lower(), perm_df['fw_info_birth_country']))"
   ]
  },
  {
   "cell_type": "code",
   "execution_count": 291,
   "metadata": {
    "ExecuteTime": {
     "end_time": "2019-03-15T19:55:37.062987Z",
     "start_time": "2019-03-15T19:55:37.035527Z"
    }
   },
   "outputs": [],
   "source": [
    "def ColValueCheck(col_1, col_2):\n",
    "    \n",
    "    '''Creates a new column from values of two other columns \n",
    "    dependent on whether columns have the same value.\n",
    "    1 = Yes 0 = No\n",
    "    \n",
    "    Inputs: 2 columns from dataframe\n",
    "    \n",
    "    Assumptions: Assumes if there is a NaN value, it would be the same\n",
    "    as the other column value'''\n",
    "    \n",
    "    col_1 = col_1.fillna('unknown')\n",
    "    col_2 = col_2.fillna('unknown')\n",
    "    \n",
    "    new_col = []\n",
    "    \n",
    "    for idx, value in enumerate(col_1):\n",
    "        if col_1[idx] == 'unknown' or col_2[idx] == 'unknown': # if unknown assume they're the same\n",
    "            new_col.append(1)\n",
    "        elif col_1[idx] == col_2[idx]:\n",
    "            new_col.append(1)\n",
    "        else:\n",
    "            new_col.append(0)\n",
    "    \n",
    "    return new_col"
   ]
  },
  {
   "cell_type": "code",
   "execution_count": 292,
   "metadata": {
    "ExecuteTime": {
     "end_time": "2019-03-15T19:56:22.742801Z",
     "start_time": "2019-03-15T19:55:38.279042Z"
    }
   },
   "outputs": [],
   "source": [
    "citizenship_same_as_birth = list(ColValueCheck(perm_df['country_of_citizenship'], perm_df['fw_info_birth_country']))\n",
    "perm_df['citizenship_same_as_birth'] = citizenship_same_as_birth"
   ]
  },
  {
   "cell_type": "code",
   "execution_count": 293,
   "metadata": {
    "ExecuteTime": {
     "end_time": "2019-03-15T19:56:22.768310Z",
     "start_time": "2019-03-15T19:56:22.747987Z"
    }
   },
   "outputs": [],
   "source": [
    "perm_cleaned_df['citizenship_same_as_birth'] = perm_df['citizenship_same_as_birth'].astype('category')"
   ]
  },
  {
   "cell_type": "markdown",
   "metadata": {},
   "source": [
    "### Get tax bracket of wage requested - categorises wages"
   ]
  },
  {
   "cell_type": "code",
   "execution_count": 294,
   "metadata": {
    "ExecuteTime": {
     "end_time": "2019-03-15T19:56:25.643277Z",
     "start_time": "2019-03-15T19:56:25.599137Z"
    }
   },
   "outputs": [],
   "source": [
    "def WageFunction(col1, col2):\n",
    "    \n",
    "    # Clean col1\n",
    "    col1 = col1.fillna(0)\n",
    "    col1 = list(map(str, col1)) # In order remove non numeric characters\n",
    "    col1 = [x.replace(',', '') for x in col1]\n",
    "    col1 = [x.replace('#', '0') for x in col1]\n",
    "    col1 = list(map(float, col1))\n",
    "    \n",
    "    # Clean col2\n",
    "    col2 = col2.fillna(0)\n",
    "    col2 = list(map(str, col2))\n",
    "    col2 = list(map(lambda x:x.lower(), col2))\n",
    "    col2 = [i[0] for i in col2] # Reduce to one letter to get unit of pay\n",
    "    col2 = list(map(str, col2))\n",
    "    \n",
    "    tups = list(zip(col1, col2))\n",
    "    \n",
    "    total_salary = []\n",
    "    av_us_salary = 53039 # Assume average US salary for NaN or 0 values \n",
    "    \n",
    "    \n",
    "    for idx, value in enumerate(tups):\n",
    "        if tups[idx][1] == 'h': # Hourly\n",
    "            total_salary.append((tups[idx][0]*2080))\n",
    "        elif tups[idx][1] == 'w': # Weekly\n",
    "            total_salary.append((tups[idx][0]*52))\n",
    "        elif tups[idx][1] == 'b': # Bi-Weekly\n",
    "            total_salary.append((tups[idx][0]*26))\n",
    "        elif tups[idx][1] == 'm': # Monthly\n",
    "            total_salary.append((tups[idx][0]*12))\n",
    "        elif tups[idx][1] == 'y': # Yearly\n",
    "            total_salary.append(tups[idx][0])\n",
    "        else:\n",
    "            total_salary.append(av_us_salary) # Assume nulls have average salary\n",
    "    \n",
    "    rounded_list = [ '%.2f' % elem for elem in total_salary]\n",
    "    rounded_list = list(map(float, rounded_list))\n",
    "    rounded_list = [av_us_salary if x == 0 else x for x in rounded_list] # Assume zeros have av salary\n",
    "    \n",
    "    return rounded_list"
   ]
  },
  {
   "cell_type": "code",
   "execution_count": 295,
   "metadata": {
    "ExecuteTime": {
     "end_time": "2019-03-15T19:56:31.680720Z",
     "start_time": "2019-03-15T19:56:25.646852Z"
    }
   },
   "outputs": [],
   "source": [
    "perm_df['salary_for_job_requested'] = WageFunction(perm_df['pw_amount_9089'], perm_df['pw_unit_of_pay_9089'])"
   ]
  },
  {
   "cell_type": "code",
   "execution_count": 296,
   "metadata": {
    "ExecuteTime": {
     "end_time": "2019-03-15T19:56:34.547660Z",
     "start_time": "2019-03-15T19:56:34.538768Z"
    }
   },
   "outputs": [],
   "source": [
    "perm_cleaned_df['wage_for_job'] = perm_df['salary_for_job_requested'].astype(float)"
   ]
  },
  {
   "cell_type": "markdown",
   "metadata": {},
   "source": [
    "### pw_soc_code"
   ]
  },
  {
   "cell_type": "code",
   "execution_count": 297,
   "metadata": {
    "ExecuteTime": {
     "end_time": "2019-03-15T19:56:35.470748Z",
     "start_time": "2019-03-15T19:56:34.551225Z"
    }
   },
   "outputs": [],
   "source": [
    "# Reduce 'Standard Occupational Classification' to major group\n",
    "perm_df['pw_soc_code'] = list(map(str, perm_df['pw_soc_code']))\n",
    "perm_df['pw_soc_code'] = [i[0:2] for i in perm_df['pw_soc_code']]\n",
    "perm_df['pw_soc_code'] = [x.replace('na', '00') for x in perm_df['pw_soc_code']]"
   ]
  },
  {
   "cell_type": "code",
   "execution_count": 298,
   "metadata": {
    "ExecuteTime": {
     "end_time": "2019-03-15T19:56:36.687392Z",
     "start_time": "2019-03-15T19:56:36.630688Z"
    }
   },
   "outputs": [],
   "source": [
    "perm_cleaned_df['job_soc_code'] = perm_df['pw_soc_code'].astype('category')"
   ]
  },
  {
   "cell_type": "code",
   "execution_count": 299,
   "metadata": {
    "ExecuteTime": {
     "end_time": "2019-03-15T19:56:36.748582Z",
     "start_time": "2019-03-15T19:56:36.689716Z"
    }
   },
   "outputs": [
    {
     "data": {
      "text/plain": [
       "array(['35', '19', '47', '99', '37', '39', '51', '27', '53', '43', '45',\n",
       "       '21', '41', '49', '29', '31', '13', '11', '17', '15', '25', '23',\n",
       "       '33', '00', '55', '20', '30', '90', '91'], dtype=object)"
      ]
     },
     "execution_count": 299,
     "metadata": {},
     "output_type": "execute_result"
    }
   ],
   "source": [
    "perm_df['pw_soc_code'].unique()"
   ]
  },
  {
   "cell_type": "markdown",
   "metadata": {},
   "source": [
    "### US Economic Sector"
   ]
  },
  {
   "cell_type": "code",
   "execution_count": 300,
   "metadata": {
    "ExecuteTime": {
     "end_time": "2019-03-15T19:56:41.598481Z",
     "start_time": "2019-03-15T19:56:40.290437Z"
    }
   },
   "outputs": [],
   "source": [
    "# Check values\n",
    "perm_df['us_economic_sector'] = list(map(str, perm_df['us_economic_sector']))\n",
    "perm_df['us_economic_sector'] = list(map(lambda x:x.lower(), perm_df['us_economic_sector']))\n",
    "perm_df['us_economic_sector'] = [x.replace('nan', 'unclassified') for x in perm_df['us_economic_sector']]"
   ]
  },
  {
   "cell_type": "code",
   "execution_count": 301,
   "metadata": {
    "ExecuteTime": {
     "end_time": "2019-03-15T19:56:42.949184Z",
     "start_time": "2019-03-15T19:56:42.892854Z"
    }
   },
   "outputs": [],
   "source": [
    "perm_cleaned_df['job_economic_sector'] = perm_df['us_economic_sector'].astype(str)"
   ]
  },
  {
   "cell_type": "markdown",
   "metadata": {},
   "source": [
    "### prepared_by_employer - NAN assume No"
   ]
  },
  {
   "cell_type": "code",
   "execution_count": 302,
   "metadata": {
    "ExecuteTime": {
     "end_time": "2019-03-15T19:56:45.877536Z",
     "start_time": "2019-03-15T19:56:44.152584Z"
    }
   },
   "outputs": [],
   "source": [
    "perm_df['preparer_info_emp_completed'] = list(map(str, perm_df['preparer_info_emp_completed']))\n",
    "perm_df['preparer_info_emp_completed'] = list(map(lambda x:x.lower(), perm_df['preparer_info_emp_completed']))\n",
    "perm_df['preparer_info_emp_completed'] = [x.replace('nan', 'n') for x in perm_df['preparer_info_emp_completed']]"
   ]
  },
  {
   "cell_type": "code",
   "execution_count": 303,
   "metadata": {
    "ExecuteTime": {
     "end_time": "2019-03-15T19:56:45.891680Z",
     "start_time": "2019-03-15T19:56:45.880404Z"
    }
   },
   "outputs": [],
   "source": [
    "def EmployerCompleted(outcome):\n",
    "    ''' Classes case outcome into 1 for employer completed, 0 for not'''\n",
    "    if outcome == 'y':\n",
    "        return 1\n",
    "    else:\n",
    "        return 0"
   ]
  },
  {
   "cell_type": "code",
   "execution_count": 304,
   "metadata": {
    "ExecuteTime": {
     "end_time": "2019-03-15T19:56:58.542874Z",
     "start_time": "2019-03-15T19:56:47.256553Z"
    }
   },
   "outputs": [],
   "source": [
    "perm_df[\"preparer_info_emp_completed\"] = perm_df[\"preparer_info_emp_completed\"].apply(EmployerCompleted)"
   ]
  },
  {
   "cell_type": "code",
   "execution_count": 305,
   "metadata": {
    "ExecuteTime": {
     "end_time": "2019-03-15T19:57:01.430003Z",
     "start_time": "2019-03-15T19:57:01.390736Z"
    }
   },
   "outputs": [],
   "source": [
    "perm_cleaned_df['employer_completed_application'] = perm_df['preparer_info_emp_completed'].astype('category')"
   ]
  },
  {
   "cell_type": "markdown",
   "metadata": {},
   "source": [
    "### Decision Date"
   ]
  },
  {
   "cell_type": "code",
   "execution_count": 306,
   "metadata": {
    "ExecuteTime": {
     "end_time": "2019-03-15T19:57:13.498410Z",
     "start_time": "2019-03-15T19:57:02.657301Z"
    }
   },
   "outputs": [],
   "source": [
    "perm_df['decision_date'] = pd.to_datetime(perm_df['decision_date'])"
   ]
  },
  {
   "cell_type": "code",
   "execution_count": 307,
   "metadata": {
    "ExecuteTime": {
     "end_time": "2019-03-15T19:57:16.628888Z",
     "start_time": "2019-03-15T19:57:13.514349Z"
    }
   },
   "outputs": [],
   "source": [
    "# Reduce decision date to month and year as a code \n",
    "perm_df['decision_date'] = perm_df['decision_date'].map(lambda x: 100*x.year + x.month)"
   ]
  },
  {
   "cell_type": "code",
   "execution_count": 308,
   "metadata": {
    "ExecuteTime": {
     "end_time": "2019-03-15T19:57:19.355301Z",
     "start_time": "2019-03-15T19:57:19.326229Z"
    }
   },
   "outputs": [],
   "source": [
    "perm_cleaned_df['decision_month_year'] = perm_df['decision_date'].astype('category')"
   ]
  },
  {
   "cell_type": "markdown",
   "metadata": {},
   "source": [
    "### foreign info worker education & other"
   ]
  },
  {
   "cell_type": "code",
   "execution_count": 309,
   "metadata": {
    "ExecuteTime": {
     "end_time": "2019-03-15T19:57:21.616436Z",
     "start_time": "2019-03-15T19:57:20.543321Z"
    }
   },
   "outputs": [],
   "source": [
    "perm_df['foreign_worker_info_education'] = list(map(str, perm_df['foreign_worker_info_education']))\n",
    "perm_df['foreign_worker_info_education'] = list(map(lambda x:x.lower(), perm_df['foreign_worker_info_education']))\n",
    "perm_df['foreign_worker_info_education'] = [x.replace('nan', 'unknown') for x in perm_df['foreign_worker_info_education']]"
   ]
  },
  {
   "cell_type": "code",
   "execution_count": 310,
   "metadata": {
    "ExecuteTime": {
     "end_time": "2019-03-15T19:57:22.996210Z",
     "start_time": "2019-03-15T19:57:22.932303Z"
    }
   },
   "outputs": [],
   "source": [
    "perm_cleaned_df['applicant_highest_education'] = perm_df['foreign_worker_info_education'].astype('category')"
   ]
  },
  {
   "cell_type": "markdown",
   "metadata": {},
   "source": [
    "###  job_info_training (is training needed for job)"
   ]
  },
  {
   "cell_type": "code",
   "execution_count": 311,
   "metadata": {
    "ExecuteTime": {
     "end_time": "2019-03-15T19:57:25.207720Z",
     "start_time": "2019-03-15T19:57:24.144864Z"
    }
   },
   "outputs": [],
   "source": [
    "perm_df['job_info_training'] = list(map(str, perm_df['job_info_training']))\n",
    "perm_df['job_info_training'] = list(map(lambda x:x.lower(), perm_df['job_info_training']))\n",
    "perm_df['job_info_training'] = [x.replace('nan', 'n') for x in perm_df['job_info_training']] # Assume nans as n"
   ]
  },
  {
   "cell_type": "code",
   "execution_count": 312,
   "metadata": {
    "ExecuteTime": {
     "end_time": "2019-03-15T19:57:32.454975Z",
     "start_time": "2019-03-15T19:57:25.210023Z"
    }
   },
   "outputs": [],
   "source": [
    "perm_df['job_info_training'] = perm_df['job_info_training'].apply(EmployerCompleted)"
   ]
  },
  {
   "cell_type": "code",
   "execution_count": 313,
   "metadata": {
    "ExecuteTime": {
     "end_time": "2019-03-15T19:57:32.504606Z",
     "start_time": "2019-03-15T19:57:32.464768Z"
    }
   },
   "outputs": [],
   "source": [
    "perm_cleaned_df['training_required'] = perm_df['job_info_training'].astype('category')"
   ]
  },
  {
   "cell_type": "markdown",
   "metadata": {},
   "source": [
    "### - ri_layoff_in_past_six_months (Null - assumed no)"
   ]
  },
  {
   "cell_type": "code",
   "execution_count": 314,
   "metadata": {
    "ExecuteTime": {
     "end_time": "2019-03-15T19:57:37.354934Z",
     "start_time": "2019-03-15T19:57:36.329667Z"
    }
   },
   "outputs": [],
   "source": [
    "perm_df['ri_layoff_in_past_six_months'] = list(map(str, perm_df['ri_layoff_in_past_six_months']))\n",
    "perm_df['ri_layoff_in_past_six_months'] = list(map(lambda x:x.lower(), perm_df['ri_layoff_in_past_six_months']))\n",
    "perm_df['ri_layoff_in_past_six_months'] = [x.replace('nan', 'n') for x in perm_df['ri_layoff_in_past_six_months']] # Assume nans as n"
   ]
  },
  {
   "cell_type": "code",
   "execution_count": 315,
   "metadata": {
    "ExecuteTime": {
     "end_time": "2019-03-15T19:57:43.197252Z",
     "start_time": "2019-03-15T19:57:37.359207Z"
    }
   },
   "outputs": [],
   "source": [
    "perm_df['ri_layoff_in_past_six_months'] = perm_df['ri_layoff_in_past_six_months'].apply(EmployerCompleted)"
   ]
  },
  {
   "cell_type": "code",
   "execution_count": 316,
   "metadata": {
    "ExecuteTime": {
     "end_time": "2019-03-15T19:57:43.231481Z",
     "start_time": "2019-03-15T19:57:43.203365Z"
    }
   },
   "outputs": [],
   "source": [
    "perm_cleaned_df['layoff_in_past_six_months'] = perm_df['ri_layoff_in_past_six_months'].astype('category')\n"
   ]
  },
  {
   "cell_type": "markdown",
   "metadata": {},
   "source": [
    "### fw_ownership_interest"
   ]
  },
  {
   "cell_type": "code",
   "execution_count": 317,
   "metadata": {
    "ExecuteTime": {
     "end_time": "2019-03-15T19:57:46.893765Z",
     "start_time": "2019-03-15T19:57:45.841761Z"
    }
   },
   "outputs": [],
   "source": [
    "perm_df['fw_ownership_interest'] = list(map(str, perm_df['fw_ownership_interest']))\n",
    "perm_df['fw_ownership_interest'] = list(map(lambda x:x.lower(), perm_df['fw_ownership_interest']))\n",
    "perm_df['fw_ownership_interest'] = [x.replace('nan', 'n') for x in perm_df['fw_ownership_interest']] # Assume nans as n"
   ]
  },
  {
   "cell_type": "code",
   "execution_count": 318,
   "metadata": {
    "ExecuteTime": {
     "end_time": "2019-03-15T19:57:52.408053Z",
     "start_time": "2019-03-15T19:57:46.897649Z"
    }
   },
   "outputs": [],
   "source": [
    "perm_df['fw_ownership_interest'] = perm_df['fw_ownership_interest'].apply(EmployerCompleted)"
   ]
  },
  {
   "cell_type": "code",
   "execution_count": 319,
   "metadata": {
    "ExecuteTime": {
     "end_time": "2019-03-15T19:57:52.446822Z",
     "start_time": "2019-03-15T19:57:52.419846Z"
    }
   },
   "outputs": [],
   "source": [
    "perm_cleaned_df['ownership_interest'] = perm_df['fw_ownership_interest'].astype('category')"
   ]
  },
  {
   "cell_type": "markdown",
   "metadata": {},
   "source": [
    "### number employees "
   ]
  },
  {
   "cell_type": "code",
   "execution_count": 320,
   "metadata": {
    "ExecuteTime": {
     "end_time": "2019-03-15T19:57:57.274095Z",
     "start_time": "2019-03-15T19:57:57.176955Z"
    }
   },
   "outputs": [],
   "source": [
    "perm_df['employer_num_employees'] = perm_df['employer_num_employees'].fillna(perm_df['employer_num_employees'].mean(axis=0))"
   ]
  },
  {
   "cell_type": "code",
   "execution_count": 321,
   "metadata": {
    "ExecuteTime": {
     "end_time": "2019-03-15T19:57:57.289876Z",
     "start_time": "2019-03-15T19:57:57.276776Z"
    }
   },
   "outputs": [],
   "source": [
    "perm_cleaned_df['employer_num_employees'] = perm_df['employer_num_employees'].astype(int)"
   ]
  },
  {
   "cell_type": "markdown",
   "metadata": {},
   "source": [
    "### Add state of foreign worker"
   ]
  },
  {
   "cell_type": "code",
   "execution_count": 322,
   "metadata": {
    "ExecuteTime": {
     "end_time": "2019-03-15T19:57:59.583710Z",
     "start_time": "2019-03-15T19:57:59.538469Z"
    }
   },
   "outputs": [],
   "source": [
    "us_state_abbrev = {\n",
    "    'alabama': 'AL',\n",
    "    'alaska': 'AK',\n",
    "    'american samoa' : 'AS',\n",
    "    'arizona': 'AZ',\n",
    "    'arkansas': 'AR',\n",
    "    'british columbia' : 'BC',\n",
    "    'california': 'CA',\n",
    "    'colorado': 'CO',\n",
    "    'connecticut': 'CT',\n",
    "    'delaware': 'DE',\n",
    "    'district of columbia' : 'DC',\n",
    "    'florida': 'FL',\n",
    "    'georgia': 'GA',\n",
    "    'guam' : 'GU',\n",
    "    'hawaii': 'HI',\n",
    "    'idaho': 'ID',\n",
    "    'illinois': 'IL',\n",
    "    'indiana': 'IN',\n",
    "    'iowa': 'IA',\n",
    "    'kansas': 'KS',\n",
    "    'kentucky': 'KY',\n",
    "    'louisiana': 'LA',\n",
    "    'maine': 'ME',\n",
    "    'marshall islands' : 'MH',\n",
    "    'maryland': 'MD',\n",
    "    'massachusetts': 'MA',\n",
    "    'michigan': 'MI',\n",
    "    'minnesota': 'MN',\n",
    "    'mississippi': 'MS',\n",
    "    'missouri': 'MO',\n",
    "    'montana': 'MT',\n",
    "    'nebraska': 'NE',\n",
    "    'nevada': 'NV',\n",
    "    'new hampshire': 'NH',\n",
    "    'new jersey': 'NJ',\n",
    "    'new mexico': 'NM',\n",
    "    'new york': 'NY',\n",
    "    'north carolina': 'NC',\n",
    "    'north dakota': 'ND',\n",
    "    'northern mariana islands' : 'MP',\n",
    "    'ohio': 'OH',\n",
    "    'oklahoma': 'OK',\n",
    "    'oregon': 'OR',\n",
    "    'pennsylvania': 'PA',\n",
    "    'puerto rico' : 'PR',\n",
    "    'rhode island': 'RI',\n",
    "    'south carolina': 'SC',\n",
    "    'south dakota': 'SD',\n",
    "    'tennessee': 'TN',\n",
    "    'texas': 'TX',\n",
    "    'utah': 'UT',\n",
    "    'vermont': 'VT',\n",
    "    'virginia': 'VA',\n",
    "    'virgin islands' : 'VI',\n",
    "    'washington': 'WA',\n",
    "    'west virginia': 'WV',\n",
    "    'wisconsin': 'WI',\n",
    "    'wyoming': 'WY',\n",
    "}"
   ]
  },
  {
   "cell_type": "code",
   "execution_count": 323,
   "metadata": {
    "ExecuteTime": {
     "end_time": "2019-03-15T19:57:59.617932Z",
     "start_time": "2019-03-15T19:57:59.588203Z"
    }
   },
   "outputs": [],
   "source": [
    "def StateAbbreviation(state_col):\n",
    "    \n",
    "    '''Abbreviates any full length state names into their corresponding\n",
    "    two letter code'''\n",
    "    \n",
    "    state_col = state_col.fillna(str('none'))\n",
    "    state_col = list(map(str, state_col))\n",
    "    state_col = list(map(lambda state:state.lower(), state_col))\n",
    "\n",
    "    abbrev_list = []\n",
    "    \n",
    "    for item in state_col:\n",
    "        \n",
    "        if item in us_state_abbrev:\n",
    "            abbrev_list.append(us_state_abbrev[item].upper())\n",
    "        else:\n",
    "            abbrev_list.append(item.upper())\n",
    "\n",
    "    return abbrev_list"
   ]
  },
  {
   "cell_type": "code",
   "execution_count": 324,
   "metadata": {
    "ExecuteTime": {
     "end_time": "2019-03-15T19:58:02.718664Z",
     "start_time": "2019-03-15T19:58:01.832039Z"
    }
   },
   "outputs": [],
   "source": [
    "perm_df['fw_worker_state_abv'] = StateAbbreviation(perm_df['foreign_worker_info_state'])\n"
   ]
  },
  {
   "cell_type": "code",
   "execution_count": 325,
   "metadata": {
    "ExecuteTime": {
     "end_time": "2019-03-15T19:58:03.125796Z",
     "start_time": "2019-03-15T19:58:02.720860Z"
    }
   },
   "outputs": [],
   "source": [
    "perm_df['fw_worker_state_abv'] = [x.replace('NONE', 'unknown') for x in perm_df['fw_worker_state_abv']] # Assume nans as n"
   ]
  },
  {
   "cell_type": "code",
   "execution_count": 326,
   "metadata": {
    "ExecuteTime": {
     "end_time": "2019-03-15T19:58:05.591285Z",
     "start_time": "2019-03-15T19:58:05.530984Z"
    }
   },
   "outputs": [],
   "source": [
    "perm_cleaned_df['worker_state_abv'] = perm_df['fw_worker_state_abv'].astype('category')"
   ]
  },
  {
   "cell_type": "markdown",
   "metadata": {},
   "source": [
    "### Add column of whether job is in same state"
   ]
  },
  {
   "cell_type": "code",
   "execution_count": 327,
   "metadata": {
    "ExecuteTime": {
     "end_time": "2019-03-15T19:58:08.101001Z",
     "start_time": "2019-03-15T19:58:06.775168Z"
    }
   },
   "outputs": [],
   "source": [
    "# clean job state\n",
    "perm_df['job_state_abv'] = StateAbbreviation(perm_df['job_info_work_state'])"
   ]
  },
  {
   "cell_type": "code",
   "execution_count": 328,
   "metadata": {
    "ExecuteTime": {
     "end_time": "2019-03-15T19:58:44.970143Z",
     "start_time": "2019-03-15T19:58:09.387673Z"
    }
   },
   "outputs": [],
   "source": [
    "# is job in same state - nans - assume they are\n",
    "job_in_same_state = list(ColValueCheck(perm_df['fw_worker_state_abv'], perm_df['job_state_abv']))\n",
    "perm_df['job_same_state'] = job_in_same_state"
   ]
  },
  {
   "cell_type": "code",
   "execution_count": 329,
   "metadata": {
    "ExecuteTime": {
     "end_time": "2019-03-15T19:58:46.590656Z",
     "start_time": "2019-03-15T19:58:46.569282Z"
    }
   },
   "outputs": [],
   "source": [
    "perm_cleaned_df['job_same_state'] = perm_df['job_same_state'].astype('category')"
   ]
  },
  {
   "cell_type": "markdown",
   "metadata": {},
   "source": [
    "### fw_info_req_experience"
   ]
  },
  {
   "cell_type": "code",
   "execution_count": 330,
   "metadata": {
    "ExecuteTime": {
     "end_time": "2019-03-15T19:58:48.089281Z",
     "start_time": "2019-03-15T19:58:47.853343Z"
    }
   },
   "outputs": [],
   "source": [
    "# merge cols that should be the same\n",
    "perm_df['fw_info_rel_occup_exp'].fillna(perm_df['fw_info_rel_occup_experience'], inplace = True)"
   ]
  },
  {
   "cell_type": "code",
   "execution_count": 331,
   "metadata": {
    "ExecuteTime": {
     "end_time": "2019-03-15T19:58:49.710255Z",
     "start_time": "2019-03-15T19:58:49.529504Z"
    }
   },
   "outputs": [],
   "source": [
    "# merge FW_INFO_REL_OCCUP_EXP and FW_INFO_REQ_EXPERIENCE (apparently same col according to schema)\n",
    "perm_df['fw_info_req_experience'].fillna(perm_df['fw_info_rel_occup_exp'], inplace = True)"
   ]
  },
  {
   "cell_type": "code",
   "execution_count": 332,
   "metadata": {
    "ExecuteTime": {
     "end_time": "2019-03-15T19:58:50.001225Z",
     "start_time": "2019-03-15T19:58:49.714184Z"
    }
   },
   "outputs": [],
   "source": [
    "perm_df['fw_info_req_experience'] = list(map(str, perm_df['fw_info_req_experience']))\n"
   ]
  },
  {
   "cell_type": "code",
   "execution_count": 333,
   "metadata": {
    "ExecuteTime": {
     "end_time": "2019-03-15T19:58:54.281728Z",
     "start_time": "2019-03-15T19:58:53.109131Z"
    }
   },
   "outputs": [],
   "source": [
    "perm_df['fw_info_req_experience'] = [x.replace('nan', 'N') for x in perm_df['fw_info_req_experience']] # Assume nans as n\n",
    "perm_df['fw_info_req_experience'] = list(map(lambda x:x.lower(), perm_df['fw_info_req_experience']))\n"
   ]
  },
  {
   "cell_type": "code",
   "execution_count": 334,
   "metadata": {
    "ExecuteTime": {
     "end_time": "2019-03-15T19:58:55.841140Z",
     "start_time": "2019-03-15T19:58:55.778597Z"
    }
   },
   "outputs": [],
   "source": [
    "perm_cleaned_df['has_required_experience'] = perm_df['fw_info_req_experience'].astype('category')"
   ]
  },
  {
   "cell_type": "markdown",
   "metadata": {},
   "source": [
    "### Drop rows where citizenship is NA from cleaned df"
   ]
  },
  {
   "cell_type": "code",
   "execution_count": 335,
   "metadata": {
    "ExecuteTime": {
     "end_time": "2019-03-15T19:58:57.955909Z",
     "start_time": "2019-03-15T19:58:57.202400Z"
    }
   },
   "outputs": [],
   "source": [
    "perm_cleaned_df = perm_cleaned_df.drop(perm_cleaned_df[perm_cleaned_df['country_of_citizenship'] == 'NA'].index).reset_index(drop=True)"
   ]
  },
  {
   "cell_type": "markdown",
   "metadata": {},
   "source": [
    "### Save clean df"
   ]
  },
  {
   "cell_type": "code",
   "execution_count": 336,
   "metadata": {
    "ExecuteTime": {
     "end_time": "2019-03-15T19:58:59.387117Z",
     "start_time": "2019-03-15T19:58:59.341790Z"
    },
    "scrolled": false
   },
   "outputs": [
    {
     "data": {
      "text/html": [
       "<div>\n",
       "<style scoped>\n",
       "    .dataframe tbody tr th:only-of-type {\n",
       "        vertical-align: middle;\n",
       "    }\n",
       "\n",
       "    .dataframe tbody tr th {\n",
       "        vertical-align: top;\n",
       "    }\n",
       "\n",
       "    .dataframe thead th {\n",
       "        text-align: right;\n",
       "    }\n",
       "</style>\n",
       "<table border=\"1\" class=\"dataframe\">\n",
       "  <thead>\n",
       "    <tr style=\"text-align: right;\">\n",
       "      <th></th>\n",
       "      <th>case_outcome</th>\n",
       "      <th>fiscal_year_of_application</th>\n",
       "      <th>processing_center</th>\n",
       "      <th>class_of_admission</th>\n",
       "      <th>country_of_citizenship</th>\n",
       "      <th>citizenship_same_as_birth</th>\n",
       "      <th>wage_for_job</th>\n",
       "      <th>job_soc_code</th>\n",
       "      <th>job_economic_sector</th>\n",
       "      <th>employer_completed_application</th>\n",
       "      <th>decision_month_year</th>\n",
       "      <th>applicant_highest_education</th>\n",
       "      <th>training_required</th>\n",
       "      <th>layoff_in_past_six_months</th>\n",
       "      <th>ownership_interest</th>\n",
       "      <th>employer_num_employees</th>\n",
       "      <th>worker_state_abv</th>\n",
       "      <th>job_same_state</th>\n",
       "      <th>has_required_experience</th>\n",
       "    </tr>\n",
       "  </thead>\n",
       "  <tbody>\n",
       "    <tr>\n",
       "      <th>848076</th>\n",
       "      <td>0</td>\n",
       "      <td>2019</td>\n",
       "      <td>A</td>\n",
       "      <td>e2</td>\n",
       "      <td>NLD</td>\n",
       "      <td>1</td>\n",
       "      <td>91520.0</td>\n",
       "      <td>17</td>\n",
       "      <td>unclassified</td>\n",
       "      <td>0</td>\n",
       "      <td>201812</td>\n",
       "      <td>bachelor's</td>\n",
       "      <td>0</td>\n",
       "      <td>0</td>\n",
       "      <td>0</td>\n",
       "      <td>8</td>\n",
       "      <td>CA</td>\n",
       "      <td>1</td>\n",
       "      <td>y</td>\n",
       "    </tr>\n",
       "    <tr>\n",
       "      <th>848077</th>\n",
       "      <td>1</td>\n",
       "      <td>2019</td>\n",
       "      <td>A</td>\n",
       "      <td>h1b</td>\n",
       "      <td>IND</td>\n",
       "      <td>1</td>\n",
       "      <td>109325.0</td>\n",
       "      <td>15</td>\n",
       "      <td>unclassified</td>\n",
       "      <td>1</td>\n",
       "      <td>201812</td>\n",
       "      <td>bachelor's</td>\n",
       "      <td>0</td>\n",
       "      <td>0</td>\n",
       "      <td>0</td>\n",
       "      <td>72</td>\n",
       "      <td>CA</td>\n",
       "      <td>1</td>\n",
       "      <td>y</td>\n",
       "    </tr>\n",
       "    <tr>\n",
       "      <th>848078</th>\n",
       "      <td>1</td>\n",
       "      <td>2019</td>\n",
       "      <td>A</td>\n",
       "      <td>j1</td>\n",
       "      <td>MEX</td>\n",
       "      <td>1</td>\n",
       "      <td>23379.0</td>\n",
       "      <td>39</td>\n",
       "      <td>unclassified</td>\n",
       "      <td>0</td>\n",
       "      <td>201812</td>\n",
       "      <td>bachelor's</td>\n",
       "      <td>0</td>\n",
       "      <td>0</td>\n",
       "      <td>0</td>\n",
       "      <td>1</td>\n",
       "      <td>FL</td>\n",
       "      <td>0</td>\n",
       "      <td>y</td>\n",
       "    </tr>\n",
       "    <tr>\n",
       "      <th>848079</th>\n",
       "      <td>1</td>\n",
       "      <td>2019</td>\n",
       "      <td>A</td>\n",
       "      <td>unknown</td>\n",
       "      <td>IRN</td>\n",
       "      <td>1</td>\n",
       "      <td>74277.0</td>\n",
       "      <td>13</td>\n",
       "      <td>unclassified</td>\n",
       "      <td>0</td>\n",
       "      <td>201812</td>\n",
       "      <td>master's</td>\n",
       "      <td>0</td>\n",
       "      <td>0</td>\n",
       "      <td>0</td>\n",
       "      <td>3</td>\n",
       "      <td>unknown</td>\n",
       "      <td>1</td>\n",
       "      <td>a</td>\n",
       "    </tr>\n",
       "    <tr>\n",
       "      <th>848080</th>\n",
       "      <td>1</td>\n",
       "      <td>2019</td>\n",
       "      <td>A</td>\n",
       "      <td>ewi</td>\n",
       "      <td>ECU</td>\n",
       "      <td>1</td>\n",
       "      <td>44491.0</td>\n",
       "      <td>51</td>\n",
       "      <td>unclassified</td>\n",
       "      <td>0</td>\n",
       "      <td>201812</td>\n",
       "      <td>none</td>\n",
       "      <td>0</td>\n",
       "      <td>0</td>\n",
       "      <td>0</td>\n",
       "      <td>10</td>\n",
       "      <td>NY</td>\n",
       "      <td>1</td>\n",
       "      <td>y</td>\n",
       "    </tr>\n",
       "    <tr>\n",
       "      <th>848081</th>\n",
       "      <td>1</td>\n",
       "      <td>2019</td>\n",
       "      <td>A</td>\n",
       "      <td>h1b</td>\n",
       "      <td>BRA</td>\n",
       "      <td>1</td>\n",
       "      <td>112350.0</td>\n",
       "      <td>53</td>\n",
       "      <td>unclassified</td>\n",
       "      <td>0</td>\n",
       "      <td>201812</td>\n",
       "      <td>none</td>\n",
       "      <td>0</td>\n",
       "      <td>0</td>\n",
       "      <td>0</td>\n",
       "      <td>1</td>\n",
       "      <td>FL</td>\n",
       "      <td>1</td>\n",
       "      <td>y</td>\n",
       "    </tr>\n",
       "    <tr>\n",
       "      <th>848082</th>\n",
       "      <td>1</td>\n",
       "      <td>2019</td>\n",
       "      <td>A</td>\n",
       "      <td>h1b</td>\n",
       "      <td>CHN</td>\n",
       "      <td>1</td>\n",
       "      <td>113381.0</td>\n",
       "      <td>15</td>\n",
       "      <td>unclassified</td>\n",
       "      <td>0</td>\n",
       "      <td>201812</td>\n",
       "      <td>master's</td>\n",
       "      <td>0</td>\n",
       "      <td>0</td>\n",
       "      <td>0</td>\n",
       "      <td>2000</td>\n",
       "      <td>CA</td>\n",
       "      <td>1</td>\n",
       "      <td>y</td>\n",
       "    </tr>\n",
       "    <tr>\n",
       "      <th>848083</th>\n",
       "      <td>1</td>\n",
       "      <td>2019</td>\n",
       "      <td>A</td>\n",
       "      <td>unknown</td>\n",
       "      <td>ITA</td>\n",
       "      <td>1</td>\n",
       "      <td>56430.0</td>\n",
       "      <td>35</td>\n",
       "      <td>unclassified</td>\n",
       "      <td>0</td>\n",
       "      <td>201812</td>\n",
       "      <td>none</td>\n",
       "      <td>0</td>\n",
       "      <td>0</td>\n",
       "      <td>0</td>\n",
       "      <td>8</td>\n",
       "      <td>NY</td>\n",
       "      <td>1</td>\n",
       "      <td>y</td>\n",
       "    </tr>\n",
       "    <tr>\n",
       "      <th>848084</th>\n",
       "      <td>1</td>\n",
       "      <td>2019</td>\n",
       "      <td>A</td>\n",
       "      <td>unknown</td>\n",
       "      <td>GEO</td>\n",
       "      <td>1</td>\n",
       "      <td>27102.0</td>\n",
       "      <td>47</td>\n",
       "      <td>unclassified</td>\n",
       "      <td>0</td>\n",
       "      <td>201812</td>\n",
       "      <td>none</td>\n",
       "      <td>0</td>\n",
       "      <td>0</td>\n",
       "      <td>0</td>\n",
       "      <td>104</td>\n",
       "      <td>unknown</td>\n",
       "      <td>1</td>\n",
       "      <td>a</td>\n",
       "    </tr>\n",
       "    <tr>\n",
       "      <th>848085</th>\n",
       "      <td>1</td>\n",
       "      <td>2019</td>\n",
       "      <td>A</td>\n",
       "      <td>unknown</td>\n",
       "      <td>CHN</td>\n",
       "      <td>1</td>\n",
       "      <td>93870.0</td>\n",
       "      <td>15</td>\n",
       "      <td>unclassified</td>\n",
       "      <td>1</td>\n",
       "      <td>201812</td>\n",
       "      <td>master's</td>\n",
       "      <td>0</td>\n",
       "      <td>0</td>\n",
       "      <td>0</td>\n",
       "      <td>8</td>\n",
       "      <td>unknown</td>\n",
       "      <td>1</td>\n",
       "      <td>a</td>\n",
       "    </tr>\n",
       "  </tbody>\n",
       "</table>\n",
       "</div>"
      ],
      "text/plain": [
       "       case_outcome fiscal_year_of_application processing_center  \\\n",
       "848076            0                       2019                 A   \n",
       "848077            1                       2019                 A   \n",
       "848078            1                       2019                 A   \n",
       "848079            1                       2019                 A   \n",
       "848080            1                       2019                 A   \n",
       "848081            1                       2019                 A   \n",
       "848082            1                       2019                 A   \n",
       "848083            1                       2019                 A   \n",
       "848084            1                       2019                 A   \n",
       "848085            1                       2019                 A   \n",
       "\n",
       "       class_of_admission country_of_citizenship citizenship_same_as_birth  \\\n",
       "848076                 e2                    NLD                         1   \n",
       "848077                h1b                    IND                         1   \n",
       "848078                 j1                    MEX                         1   \n",
       "848079            unknown                    IRN                         1   \n",
       "848080                ewi                    ECU                         1   \n",
       "848081                h1b                    BRA                         1   \n",
       "848082                h1b                    CHN                         1   \n",
       "848083            unknown                    ITA                         1   \n",
       "848084            unknown                    GEO                         1   \n",
       "848085            unknown                    CHN                         1   \n",
       "\n",
       "        wage_for_job job_soc_code job_economic_sector  \\\n",
       "848076       91520.0           17        unclassified   \n",
       "848077      109325.0           15        unclassified   \n",
       "848078       23379.0           39        unclassified   \n",
       "848079       74277.0           13        unclassified   \n",
       "848080       44491.0           51        unclassified   \n",
       "848081      112350.0           53        unclassified   \n",
       "848082      113381.0           15        unclassified   \n",
       "848083       56430.0           35        unclassified   \n",
       "848084       27102.0           47        unclassified   \n",
       "848085       93870.0           15        unclassified   \n",
       "\n",
       "       employer_completed_application decision_month_year  \\\n",
       "848076                              0              201812   \n",
       "848077                              1              201812   \n",
       "848078                              0              201812   \n",
       "848079                              0              201812   \n",
       "848080                              0              201812   \n",
       "848081                              0              201812   \n",
       "848082                              0              201812   \n",
       "848083                              0              201812   \n",
       "848084                              0              201812   \n",
       "848085                              1              201812   \n",
       "\n",
       "       applicant_highest_education training_required  \\\n",
       "848076                  bachelor's                 0   \n",
       "848077                  bachelor's                 0   \n",
       "848078                  bachelor's                 0   \n",
       "848079                    master's                 0   \n",
       "848080                        none                 0   \n",
       "848081                        none                 0   \n",
       "848082                    master's                 0   \n",
       "848083                        none                 0   \n",
       "848084                        none                 0   \n",
       "848085                    master's                 0   \n",
       "\n",
       "       layoff_in_past_six_months ownership_interest  employer_num_employees  \\\n",
       "848076                         0                  0                       8   \n",
       "848077                         0                  0                      72   \n",
       "848078                         0                  0                       1   \n",
       "848079                         0                  0                       3   \n",
       "848080                         0                  0                      10   \n",
       "848081                         0                  0                       1   \n",
       "848082                         0                  0                    2000   \n",
       "848083                         0                  0                       8   \n",
       "848084                         0                  0                     104   \n",
       "848085                         0                  0                       8   \n",
       "\n",
       "       worker_state_abv job_same_state has_required_experience  \n",
       "848076               CA              1                       y  \n",
       "848077               CA              1                       y  \n",
       "848078               FL              0                       y  \n",
       "848079          unknown              1                       a  \n",
       "848080               NY              1                       y  \n",
       "848081               FL              1                       y  \n",
       "848082               CA              1                       y  \n",
       "848083               NY              1                       y  \n",
       "848084          unknown              1                       a  \n",
       "848085          unknown              1                       a  "
      ]
     },
     "execution_count": 336,
     "metadata": {},
     "output_type": "execute_result"
    }
   ],
   "source": [
    "perm_cleaned_df.tail(10)"
   ]
  },
  {
   "cell_type": "code",
   "execution_count": 337,
   "metadata": {
    "ExecuteTime": {
     "end_time": "2019-03-15T19:59:01.236365Z",
     "start_time": "2019-03-15T19:59:00.729491Z"
    }
   },
   "outputs": [],
   "source": [
    "# pickle clean df\n",
    "perm_cleaned_df.to_pickle(\"./perm_clean_df.pkl\")"
   ]
  },
  {
   "cell_type": "markdown",
   "metadata": {},
   "source": [
    "### Check nulls"
   ]
  },
  {
   "cell_type": "code",
   "execution_count": 109,
   "metadata": {
    "ExecuteTime": {
     "end_time": "2019-03-11T20:06:33.230215Z",
     "start_time": "2019-03-11T20:06:21.563252Z"
    },
    "scrolled": true
   },
   "outputs": [
    {
     "name": "stdout",
     "output_type": "stream",
     "text": [
      "2007_naics_us_code : There are 436276 NaN values out of 848252\n",
      "2007_naics_us_title : There are 506155 NaN values out of 848252\n",
      "add_these_pw_job_title_9089 : There are 808957 NaN values out of 848252\n",
      "agent_city : There are 457968 NaN values out of 848252\n",
      "agent_firm_name : There are 466142 NaN values out of 848252\n",
      "agent_state : There are 466679 NaN values out of 848252\n",
      "application_type : There are 433255 NaN values out of 848252\n",
      "case_no : There are 528047 NaN values out of 848252\n",
      "case_number : There are 0 NaN values out of 848252\n",
      "case_received_date : There are 414997 NaN values out of 848252\n",
      "case_status : There are 0 NaN values out of 848252\n",
      "class_of_admission : There are 0 NaN values out of 848252\n",
      "country_of_citizenship : There are 0 NaN values out of 848252\n",
      "country_of_citzenship : There are 541394 NaN values out of 848252\n",
      "decision_date : There are 0 NaN values out of 848252\n",
      "employer_address_1 : There are 73 NaN values out of 848252\n",
      "employer_address_2 : There are 595905 NaN values out of 848252\n",
      "employer_city : There are 33 NaN values out of 848252\n",
      "employer_country : There are 415143 NaN values out of 848252\n",
      "employer_decl_info_title : There are 415093 NaN values out of 848252\n",
      "employer_name : There are 31 NaN values out of 848252\n",
      "employer_num_employees : There are 0 NaN values out of 848252\n",
      "employer_phone : There are 415042 NaN values out of 848252\n",
      "employer_phone_ext : There are 806061 NaN values out of 848252\n",
      "employer_postal_code : There are 1079 NaN values out of 848252\n",
      "employer_state : There are 74 NaN values out of 848252\n",
      "employer_yr_estab : There are 415277 NaN values out of 848252\n",
      "fiscal_year : There are 0 NaN values out of 848252\n",
      "foreign_worker_info_city : There are 415362 NaN values out of 848252\n",
      "foreign_worker_info_education : There are 0 NaN values out of 848252\n",
      "foreign_worker_info_inst : There are 452835 NaN values out of 848252\n",
      "foreign_worker_info_major : There are 454678 NaN values out of 848252\n",
      "foreign_worker_info_state : There are 446990 NaN values out of 848252\n",
      "fw_info_alt_edu_experience : There are 415360 NaN values out of 848252\n",
      "fw_info_birth_country : There are 0 NaN values out of 848252\n",
      "fw_info_education_other : There are 830652 NaN values out of 848252\n",
      "fw_info_postal_code : There are 420698 NaN values out of 848252\n",
      "fw_info_rel_occup_exp : There are 536843 NaN values out of 848252\n",
      "fw_info_rel_occup_experience : There are 726767 NaN values out of 848252\n",
      "fw_info_req_experience : There are 0 NaN values out of 848252\n",
      "fw_info_training_comp : There are 415351 NaN values out of 848252\n",
      "fw_info_yr_rel_edu_completed : There are 452472 NaN values out of 848252\n",
      "fw_ownership_interest : There are 0 NaN values out of 848252\n",
      "ji_foreign_worker_live_on_premises : There are 763620 NaN values out of 848252\n",
      "ji_fw_live_on_premises : There are 499963 NaN values out of 848252\n",
      "ji_live_in_dom_svc_contract : There are 843803 NaN values out of 848252\n",
      "ji_live_in_domestic_service : There are 415325 NaN values out of 848252\n",
      "ji_offered_to_sec_j_foreign_worker : There are 763317 NaN values out of 848252\n",
      "ji_offered_to_sec_j_fw : There are 499950 NaN values out of 848252\n",
      "job_info_alt_cmb_ed_oth_yrs : There are 719793 NaN values out of 848252\n",
      "job_info_alt_combo_ed : There are 718954 NaN values out of 848252\n",
      "job_info_alt_combo_ed_exp : There are 415070 NaN values out of 848252\n",
      "job_info_alt_combo_ed_other : There are 833592 NaN values out of 848252\n",
      "job_info_alt_field : There are 415058 NaN values out of 848252\n",
      "job_info_alt_field_name : There are 671958 NaN values out of 848252\n",
      "job_info_alt_occ : There are 618779 NaN values out of 848252\n",
      "job_info_alt_occ_job_title : There are 572125 NaN values out of 848252\n",
      "job_info_alt_occ_num_months : There are 572422 NaN values out of 848252\n",
      "job_info_combo_occupation : There are 415012 NaN values out of 848252\n",
      "job_info_education : There are 415023 NaN values out of 848252\n",
      "job_info_education_other : There are 835025 NaN values out of 848252\n",
      "job_info_experience : There are 415016 NaN values out of 848252\n",
      "job_info_experience_num_months : There are 600954 NaN values out of 848252\n",
      "job_info_foreign_ed : There are 415288 NaN values out of 848252\n",
      "job_info_foreign_lang_req : There are 415026 NaN values out of 848252\n",
      "job_info_job_req_normal : There are 415021 NaN values out of 848252\n",
      "job_info_job_title : There are 415100 NaN values out of 848252\n",
      "job_info_major : There are 466338 NaN values out of 848252\n",
      "job_info_training : There are 0 NaN values out of 848252\n",
      "job_info_training_field : There are 840580 NaN values out of 848252\n",
      "job_info_training_num_months : There are 842439 NaN values out of 848252\n",
      "job_info_traning_num_months : There are 846104 NaN values out of 848252\n",
      "job_info_work_city : There are 328 NaN values out of 848252\n",
      "job_info_work_postal_code : There are 415126 NaN values out of 848252\n",
      "job_info_work_state : There are 309 NaN values out of 848252\n",
      "naics_us_code : There are 415795 NaN values out of 848252\n",
      "naics_us_title : There are 415795 NaN values out of 848252\n",
      "orig_case_no : There are 847751 NaN values out of 848252\n",
      "orig_file_date : There are 847776 NaN values out of 848252\n",
      "preparer_info_emp_completed : There are 0 NaN values out of 848252\n",
      "preparer_info_title : There are 460519 NaN values out of 848252\n",
      "pw_amount_9089 : There are 7883 NaN values out of 848252\n",
      "pw_determ_date : There are 415568 NaN values out of 848252\n",
      "pw_expire_date : There are 415684 NaN values out of 848252\n",
      "pw_job_title_9089 : There are 5019 NaN values out of 848252\n",
      "pw_level_9089 : There are 53850 NaN values out of 848252\n",
      "pw_soc_code : There are 0 NaN values out of 848252\n",
      "pw_soc_title : There are 160734 NaN values out of 848252\n",
      "pw_source_name_9089 : There are 100174 NaN values out of 848252\n",
      "pw_source_name_other_9089 : There are 819180 NaN values out of 848252\n",
      "pw_track_num : There are 417940 NaN values out of 848252\n",
      "pw_unit_of_pay_9089 : There are 7162 NaN values out of 848252\n",
      "rec_info_barg_rep_notified : There are 763376 NaN values out of 848252\n",
      "recr_info_barg_rep_notified : There are 499995 NaN values out of 848252\n",
      "recr_info_coll_teach_comp_proc : There are 835181 NaN values out of 848252\n",
      "recr_info_coll_univ_teacher : There are 415060 NaN values out of 848252\n",
      "recr_info_employer_rec_payment : There are 415032 NaN values out of 848252\n",
      "recr_info_first_ad_start : There are 426137 NaN values out of 848252\n",
      "recr_info_job_fair_from : There are 845327 NaN values out of 848252\n",
      "recr_info_job_fair_to : There are 845331 NaN values out of 848252\n",
      "recr_info_on_campus_recr_from : There are 845365 NaN values out of 848252\n",
      "recr_info_on_campus_recr_to : There are 845373 NaN values out of 848252\n",
      "recr_info_pro_org_advert_from : There are 771726 NaN values out of 848252\n",
      "recr_info_pro_org_advert_to : There are 771741 NaN values out of 848252\n",
      "recr_info_professional_occ : There are 415024 NaN values out of 848252\n",
      "recr_info_radio_tv_ad_from : There are 807108 NaN values out of 848252\n",
      "recr_info_radio_tv_ad_to : There are 807106 NaN values out of 848252\n",
      "recr_info_second_ad_start : There are 426224 NaN values out of 848252\n",
      "recr_info_sunday_newspaper : There are 425964 NaN values out of 848252\n",
      "recr_info_swa_job_order_end : There are 426238 NaN values out of 848252\n",
      "recr_info_swa_job_order_start : There are 426188 NaN values out of 848252\n",
      "refile : There are 536502 NaN values out of 848252\n",
      "ri_1st_ad_newspaper_name : There are 426391 NaN values out of 848252\n",
      "ri_2nd_ad_newspaper_name : There are 426273 NaN values out of 848252\n",
      "ri_2nd_ad_newspaper_or_journal : There are 426151 NaN values out of 848252\n",
      "ri_campus_placement_from : There are 797115 NaN values out of 848252\n",
      "ri_campus_placement_to : There are 797126 NaN values out of 848252\n",
      "ri_coll_tch_basic_process : There are 835197 NaN values out of 848252\n",
      "ri_coll_teach_pro_jnl : There are 837739 NaN values out of 848252\n",
      "ri_coll_teach_select_date : There are 837760 NaN values out of 848252\n",
      "ri_employee_referral_prog_from : There are 726469 NaN values out of 848252\n",
      "ri_employee_referral_prog_to : There are 730991 NaN values out of 848252\n",
      "ri_employee_referral_prog_to_date : There are 843727 NaN values out of 848252\n",
      "ri_employer_web_post_from : There are 617521 NaN values out of 848252\n",
      "ri_employer_web_post_to : There are 617558 NaN values out of 848252\n"
     ]
    },
    {
     "name": "stdout",
     "output_type": "stream",
     "text": [
      "ri_job_search_website_from : There are 494077 NaN values out of 848252\n",
      "ri_job_search_website_to : There are 494089 NaN values out of 848252\n",
      "ri_layoff_in_past_six_months : There are 0 NaN values out of 848252\n",
      "ri_local_ethnic_paper_from : There are 616746 NaN values out of 848252\n",
      "ri_local_ethnic_paper_to : There are 616750 NaN values out of 848252\n",
      "ri_posted_notice_at_worksite : There are 415120 NaN values out of 848252\n",
      "ri_pvt_employment_firm_from : There are 821686 NaN values out of 848252\n",
      "ri_pvt_employment_firm_to : There are 821690 NaN values out of 848252\n",
      "ri_us_workers_considered : There are 819588 NaN values out of 848252\n",
      "schd_a_sheepherder : There are 415029 NaN values out of 848252\n",
      "us_economic_sector : There are 0 NaN values out of 848252\n",
      "wage_offer_from_9089 : There are 111401 NaN values out of 848252\n",
      "wage_offer_to_9089 : There are 659345 NaN values out of 848252\n",
      "wage_offer_unit_of_pay_9089 : There are 112446 NaN values out of 848252\n",
      "wage_offered_from_9089 : There are 740236 NaN values out of 848252\n",
      "wage_offered_to_9089 : There are 818813 NaN values out of 848252\n",
      "wage_offered_unit_of_pay_9089 : There are 781287 NaN values out of 848252\n",
      "case_outcome : There are 0 NaN values out of 848252\n",
      "processing_center : There are 0 NaN values out of 848252\n",
      "citizenship_same_as_birth : There are 0 NaN values out of 848252\n",
      "salary_for_job_requested : There are 0 NaN values out of 848252\n",
      "tax_bracket : There are 0 NaN values out of 848252\n",
      "decision_month : There are 0 NaN values out of 848252\n",
      "fw_worker_state_abv : There are 0 NaN values out of 848252\n",
      "job_state_abv : There are 0 NaN values out of 848252\n",
      "job_same_state : There are 0 NaN values out of 848252\n",
      "business_size : There are 0 NaN values out of 848252\n",
      "decision_code : There are 0 NaN values out of 848252\n"
     ]
    }
   ],
   "source": [
    "for column in list(perm_df.columns):\n",
    "    nan_num = len(perm_df) - perm_df[column].count()\n",
    "    print(f\"{column} : There are {nan_num} NaN values out of {len(perm_df)}\")"
   ]
  },
  {
   "cell_type": "code",
   "execution_count": 151,
   "metadata": {
    "ExecuteTime": {
     "end_time": "2019-03-14T20:55:54.256180Z",
     "start_time": "2019-03-14T20:55:54.215968Z"
    }
   },
   "outputs": [],
   "source": [
    "country_code_dict = {'afghanistan': 'AFG',\n",
    "            'albania': 'ALB',\n",
    "             'algeria': 'DZA',\n",
    "             'andorra': 'AND',\n",
    "             'angola':'AGO',\n",
    "             'anguilla': 'GBR',\n",
    "             'antigua and barbuda': 'ATG',\n",
    "             'argentina': 'ARG',\n",
    "             'armenia': 'ARM',\n",
    "             'aruba': 'ARW',\n",
    "             'australia': 'AUS',\n",
    "             'austria': 'AUT',\n",
    "             'azerbaijan': 'AZE',\n",
    "             'bahamas': 'BHS',\n",
    "             'bahrain': 'BHR',\n",
    "             'bangladesh': 'BGD',\n",
    "             'barbados': 'BRB',\n",
    "             'belarus': 'BLR',\n",
    "             'belgium': 'BEL',\n",
    "             'belize': 'BLZ',\n",
    "             'benin': 'BEN',\n",
    "             'bermuda': 'BMU',\n",
    "             'bhutan': 'BTN',\n",
    "             'bolivia': 'BOL',\n",
    "             'bosnia and herzegovina': 'BIH',\n",
    "             'botswana':'BWA',\n",
    "             'brazil': 'BRA',\n",
    "             'british virgin islands': 'VGB',\n",
    "             'brunei' : 'BRN',\n",
    "             'bulgaria' : 'BGR',\n",
    "             'burkina faso': 'BFA',\n",
    "             'burma myanmar': 'MMR',\n",
    "             'burundi': 'BDI',\n",
    "             'cambodia': 'KHM',\n",
    "             'cameroon': 'CMR',\n",
    "             'canada': 'CAN',\n",
    "             'cape verde': 'CPV',\n",
    "             'cayman islands': 'CYM',\n",
    "             'central african republic': 'CAF',\n",
    "             'chad': 'TCD',\n",
    "             'chile': 'CHL',\n",
    "             'china': 'CHN',\n",
    "             'colombia': 'COL',\n",
    "             'comoros': 'COM',\n",
    "             'costa rica':'CRI',\n",
    "             \"cote d'ivoire\": 'CIV',\n",
    "             'croatia':'HRV',\n",
    "             'cuba': 'CUB',\n",
    "             'cyprus': 'CYP',\n",
    "             'czech republic' : 'CZE',\n",
    "             'czechoslovakia' : 'CZE',\n",
    "             'democratic republic of congo': 'COD',\n",
    "             'denmark': 'DNK',\n",
    "             'dependant territory' : 'NA',\n",
    "             'dominica': 'DMA',\n",
    "             'dominican republic': 'DOM',\n",
    "             'ecuador': 'ECU',\n",
    "             'egypt': 'EGY',\n",
    "             'el salvador': 'SLV',\n",
    "             'equatorial guinea': 'GNQ',\n",
    "             'eritrea' : 'ERI',\n",
    "             'estonia' : 'EST',\n",
    "             'ethiopia' : 'ETH',\n",
    "             'fiji' : 'FJI',\n",
    "             'finland': 'FIN',\n",
    "             'france': 'FRA',\n",
    "             'gabon': 'GAB',\n",
    "             'gambia': 'GMB',\n",
    "             'georgia': 'GEO',\n",
    "             'germany': 'DEU',\n",
    "             'ghana': 'GHA',\n",
    "             'greece': 'GRC',\n",
    "             'grenada': 'GRD',\n",
    "             'guatemala': 'GTM',\n",
    "             'guinea': 'GIN',\n",
    "             'guinea-bissau': 'GNB',\n",
    "             'guyana': 'GUY',\n",
    "             'haiti': 'HTI',\n",
    "             'honduras': 'HND',\n",
    "             'hong kong': 'HKG',\n",
    "             'hungary': 'HUN',\n",
    "             'iceland': 'ISL',\n",
    "             'india': 'IND',\n",
    "             'indonesia': 'IDN',\n",
    "             'iran': 'IRN',\n",
    "             'iraq': 'IRQ',\n",
    "             'ireland': 'IRL',\n",
    "             'israel': 'ISR',\n",
    "             'italy': 'ITA',\n",
    "             'ivory coast': 'CIV',\n",
    "             'jamaica': 'JAM',\n",
    "             'japan': 'JPN',\n",
    "             'jordan': 'JOR',\n",
    "             'kazakhstan': 'KAZ',\n",
    "             'kenya': 'KEN',\n",
    "             'kiribati' : 'KIR',\n",
    "             'kosovo': 'XKX',\n",
    "             'kuwait': 'KWT',\n",
    "             'kyrgyzstan': 'KGZ',\n",
    "             'laos': 'LAO',\n",
    "             'latvia': 'LVA',\n",
    "             'lebanon' : 'LBN',\n",
    "             'lesotho': 'LSO',\n",
    "             'liberia': 'LBR',\n",
    "             'libya': 'LBY',\n",
    "             'liechtenstein': 'LIE',\n",
    "             'lithuania': 'LTU',\n",
    "             'luxembourg': 'LUX',\n",
    "             'macau': 'MAC',\n",
    "             'macedonia': 'MKD',\n",
    "             'madagascar': 'MDG',\n",
    "             'malawi': 'MWI',\n",
    "             'malaysia': 'MYS',\n",
    "             'maldives': 'MDV',\n",
    "             'mali': 'MLI',\n",
    "             'malta': 'MLT',\n",
    "             'marshall islands': 'MHL',\n",
    "             'mauritania': 'MRT',\n",
    "             'mauritius': 'MUS',\n",
    "             'mexico': 'MEX',\n",
    "             'micronesia' : 'FSM',\n",
    "             'moldova': 'MDA',\n",
    "             'monaco': 'MCO',\n",
    "             'mongolia': 'MNG',\n",
    "             'montenegro': 'MNE',\n",
    "             'montserrat': 'GBR',\n",
    "             'morocco': 'MAR',\n",
    "             'mozambique': 'MOZ',\n",
    "             'namibia': 'NAM',\n",
    "             'nauru': 'NRU',\n",
    "             'nepal': 'NPL',\n",
    "             'netherlands': 'NLD',\n",
    "             'netherlands antilles': 'NLD',\n",
    "             'new zealand': 'NZL',\n",
    "             'nicaragua': 'NIC',\n",
    "             'niger': 'NER',\n",
    "             'nigeria' : 'NGA',\n",
    "             'north korea': 'PRK',\n",
    "             'norway': 'NOR',\n",
    "             'oman': 'OMN',\n",
    "             'pakistan': 'PAK',\n",
    "             'palestine':'PSE',\n",
    "             'palestinian territories': 'PSE',\n",
    "             'panama': 'PAN',\n",
    "             'papua new guinea': 'PNG',\n",
    "             'paraguay': 'PRY',\n",
    "             'peru': 'PER',\n",
    "             'philippines': 'PHL',\n",
    "             'pitcairn islands': 'NA',\n",
    "             'poland': 'POL',\n",
    "             'portugal': 'PRT',\n",
    "             'qatar': 'QAT',\n",
    "             'republic of congo': 'COG',\n",
    "             'romania': 'ROU',\n",
    "             'russia': 'RUS',\n",
    "             'rwanda': 'RWA',\n",
    "             'saint vincent and the grenadines': 'VCT',\n",
    "             'samoa' : 'WSM',\n",
    "             'sao tome and principe': 'STP',\n",
    "             'saudi arabia': 'SAU',\n",
    "             'senegal': 'SEN',\n",
    "             'serbia': 'SRB',\n",
    "             'serbia and montenegro': 'MNE',\n",
    "             'seychelles': 'SYC',\n",
    "             'sierra leone': 'SLE',\n",
    "             'singapore': 'SGP',\n",
    "             'slovakia': 'SVK',\n",
    "             'slovenia': 'SVN',\n",
    "             'solomon islands': 'SLB',\n",
    "             'somalia': 'SOM',\n",
    "             'south africa': 'ZAF',\n",
    "             'south korea': 'KOR',\n",
    "             'south sudan': 'SSD',\n",
    "             'soviet union': 'RUS',\n",
    "             'spain': 'ESP',\n",
    "             'sri lanka': 'LKA',\n",
    "             'st helena' : 'GBR',\n",
    "             'st kitts and nevis' :'KNA',\n",
    "             'st lucia': 'LCA',\n",
    "             'st vincent': 'VCT',\n",
    "             'sudan': 'SDN',\n",
    "             'suriname': 'SUR',\n",
    "             'swaziland': 'SWZ',\n",
    "             'sweden': 'SWE',\n",
    "             'switzerland': 'CHE',\n",
    "             'syria': 'SYR',\n",
    "             'taiwan': 'CHN',\n",
    "             'tajikistan': 'TJK',\n",
    "             'tanzania': 'TZA',\n",
    "             'thailand': 'THA',\n",
    "             'togo': 'TGO',\n",
    "             'tonga': 'TON',\n",
    "             'trinidad and tobago': 'TTO',\n",
    "             'tunisia': 'TUN',\n",
    "             'turkey': 'TUR',\n",
    "             'turkmenistan': 'TKM',\n",
    "             'turks and caicos islands': 'TCA',\n",
    "             'uganda': 'UGA',\n",
    "             'ukraine': 'UKR',\n",
    "             'united arab emirates': 'ARE',\n",
    "             'united kingdom': 'GBR',\n",
    "             'united states of america': 'USA',\n",
    "             'unknown' :'NA',\n",
    "             'uruguay': 'URY',\n",
    "             'uzbekistan': 'UZB',\n",
    "             'vanuatu': 'VUT',\n",
    "             'venezuela': 'VEN',\n",
    "             'vietnam': 'VNM',\n",
    "             'yemen': 'YEM',\n",
    "             'yugoslavia': 'MNE',\n",
    "             'zambia': 'ZMB',\n",
    "             'zimbabwe': 'ZWE'}"
   ]
  },
  {
   "cell_type": "markdown",
   "metadata": {},
   "source": [
    "---"
   ]
  },
  {
   "cell_type": "markdown",
   "metadata": {},
   "source": [
    "### Import and clean economic data"
   ]
  },
  {
   "cell_type": "code",
   "execution_count": 39,
   "metadata": {
    "ExecuteTime": {
     "end_time": "2019-03-17T16:43:03.763816Z",
     "start_time": "2019-03-17T16:43:03.487585Z"
    }
   },
   "outputs": [],
   "source": [
    "perm_df_cleaned = pd.read_pickle(\"./perm_clean_df.pkl\")"
   ]
  },
  {
   "cell_type": "code",
   "execution_count": 40,
   "metadata": {
    "ExecuteTime": {
     "end_time": "2019-03-17T16:43:04.006532Z",
     "start_time": "2019-03-17T16:43:03.973509Z"
    }
   },
   "outputs": [
    {
     "data": {
      "text/html": [
       "<div>\n",
       "<style scoped>\n",
       "    .dataframe tbody tr th:only-of-type {\n",
       "        vertical-align: middle;\n",
       "    }\n",
       "\n",
       "    .dataframe tbody tr th {\n",
       "        vertical-align: top;\n",
       "    }\n",
       "\n",
       "    .dataframe thead th {\n",
       "        text-align: right;\n",
       "    }\n",
       "</style>\n",
       "<table border=\"1\" class=\"dataframe\">\n",
       "  <thead>\n",
       "    <tr style=\"text-align: right;\">\n",
       "      <th></th>\n",
       "      <th>case_outcome</th>\n",
       "      <th>fiscal_year_of_application</th>\n",
       "      <th>processing_center</th>\n",
       "      <th>class_of_admission</th>\n",
       "      <th>country_of_citizenship</th>\n",
       "      <th>citizenship_same_as_birth</th>\n",
       "      <th>wage_for_job</th>\n",
       "      <th>job_soc_code</th>\n",
       "      <th>job_economic_sector</th>\n",
       "      <th>employer_completed_application</th>\n",
       "      <th>decision_month_year</th>\n",
       "      <th>applicant_highest_education</th>\n",
       "      <th>training_required</th>\n",
       "      <th>layoff_in_past_six_months</th>\n",
       "      <th>ownership_interest</th>\n",
       "      <th>employer_num_employees</th>\n",
       "      <th>worker_state_abv</th>\n",
       "      <th>job_same_state</th>\n",
       "      <th>has_required_experience</th>\n",
       "    </tr>\n",
       "  </thead>\n",
       "  <tbody>\n",
       "    <tr>\n",
       "      <th>848081</th>\n",
       "      <td>1</td>\n",
       "      <td>2019</td>\n",
       "      <td>A</td>\n",
       "      <td>h1b</td>\n",
       "      <td>BRA</td>\n",
       "      <td>1</td>\n",
       "      <td>112350.0</td>\n",
       "      <td>53</td>\n",
       "      <td>unclassified</td>\n",
       "      <td>0</td>\n",
       "      <td>201812</td>\n",
       "      <td>none</td>\n",
       "      <td>0</td>\n",
       "      <td>0</td>\n",
       "      <td>0</td>\n",
       "      <td>1</td>\n",
       "      <td>FL</td>\n",
       "      <td>1</td>\n",
       "      <td>y</td>\n",
       "    </tr>\n",
       "    <tr>\n",
       "      <th>848082</th>\n",
       "      <td>1</td>\n",
       "      <td>2019</td>\n",
       "      <td>A</td>\n",
       "      <td>h1b</td>\n",
       "      <td>CHN</td>\n",
       "      <td>1</td>\n",
       "      <td>113381.0</td>\n",
       "      <td>15</td>\n",
       "      <td>unclassified</td>\n",
       "      <td>0</td>\n",
       "      <td>201812</td>\n",
       "      <td>master's</td>\n",
       "      <td>0</td>\n",
       "      <td>0</td>\n",
       "      <td>0</td>\n",
       "      <td>2000</td>\n",
       "      <td>CA</td>\n",
       "      <td>1</td>\n",
       "      <td>y</td>\n",
       "    </tr>\n",
       "    <tr>\n",
       "      <th>848083</th>\n",
       "      <td>1</td>\n",
       "      <td>2019</td>\n",
       "      <td>A</td>\n",
       "      <td>unknown</td>\n",
       "      <td>ITA</td>\n",
       "      <td>1</td>\n",
       "      <td>56430.0</td>\n",
       "      <td>35</td>\n",
       "      <td>unclassified</td>\n",
       "      <td>0</td>\n",
       "      <td>201812</td>\n",
       "      <td>none</td>\n",
       "      <td>0</td>\n",
       "      <td>0</td>\n",
       "      <td>0</td>\n",
       "      <td>8</td>\n",
       "      <td>NY</td>\n",
       "      <td>1</td>\n",
       "      <td>y</td>\n",
       "    </tr>\n",
       "    <tr>\n",
       "      <th>848084</th>\n",
       "      <td>1</td>\n",
       "      <td>2019</td>\n",
       "      <td>A</td>\n",
       "      <td>unknown</td>\n",
       "      <td>GEO</td>\n",
       "      <td>1</td>\n",
       "      <td>27102.0</td>\n",
       "      <td>47</td>\n",
       "      <td>unclassified</td>\n",
       "      <td>0</td>\n",
       "      <td>201812</td>\n",
       "      <td>none</td>\n",
       "      <td>0</td>\n",
       "      <td>0</td>\n",
       "      <td>0</td>\n",
       "      <td>104</td>\n",
       "      <td>unknown</td>\n",
       "      <td>1</td>\n",
       "      <td>a</td>\n",
       "    </tr>\n",
       "    <tr>\n",
       "      <th>848085</th>\n",
       "      <td>1</td>\n",
       "      <td>2019</td>\n",
       "      <td>A</td>\n",
       "      <td>unknown</td>\n",
       "      <td>CHN</td>\n",
       "      <td>1</td>\n",
       "      <td>93870.0</td>\n",
       "      <td>15</td>\n",
       "      <td>unclassified</td>\n",
       "      <td>1</td>\n",
       "      <td>201812</td>\n",
       "      <td>master's</td>\n",
       "      <td>0</td>\n",
       "      <td>0</td>\n",
       "      <td>0</td>\n",
       "      <td>8</td>\n",
       "      <td>unknown</td>\n",
       "      <td>1</td>\n",
       "      <td>a</td>\n",
       "    </tr>\n",
       "  </tbody>\n",
       "</table>\n",
       "</div>"
      ],
      "text/plain": [
       "       case_outcome fiscal_year_of_application processing_center  \\\n",
       "848081            1                       2019                 A   \n",
       "848082            1                       2019                 A   \n",
       "848083            1                       2019                 A   \n",
       "848084            1                       2019                 A   \n",
       "848085            1                       2019                 A   \n",
       "\n",
       "       class_of_admission country_of_citizenship citizenship_same_as_birth  \\\n",
       "848081                h1b                    BRA                         1   \n",
       "848082                h1b                    CHN                         1   \n",
       "848083            unknown                    ITA                         1   \n",
       "848084            unknown                    GEO                         1   \n",
       "848085            unknown                    CHN                         1   \n",
       "\n",
       "        wage_for_job job_soc_code job_economic_sector  \\\n",
       "848081      112350.0           53        unclassified   \n",
       "848082      113381.0           15        unclassified   \n",
       "848083       56430.0           35        unclassified   \n",
       "848084       27102.0           47        unclassified   \n",
       "848085       93870.0           15        unclassified   \n",
       "\n",
       "       employer_completed_application decision_month_year  \\\n",
       "848081                              0              201812   \n",
       "848082                              0              201812   \n",
       "848083                              0              201812   \n",
       "848084                              0              201812   \n",
       "848085                              1              201812   \n",
       "\n",
       "       applicant_highest_education training_required  \\\n",
       "848081                        none                 0   \n",
       "848082                    master's                 0   \n",
       "848083                        none                 0   \n",
       "848084                        none                 0   \n",
       "848085                    master's                 0   \n",
       "\n",
       "       layoff_in_past_six_months ownership_interest  employer_num_employees  \\\n",
       "848081                         0                  0                       1   \n",
       "848082                         0                  0                    2000   \n",
       "848083                         0                  0                       8   \n",
       "848084                         0                  0                     104   \n",
       "848085                         0                  0                       8   \n",
       "\n",
       "       worker_state_abv job_same_state has_required_experience  \n",
       "848081               FL              1                       y  \n",
       "848082               CA              1                       y  \n",
       "848083               NY              1                       y  \n",
       "848084          unknown              1                       a  \n",
       "848085          unknown              1                       a  "
      ]
     },
     "execution_count": 40,
     "metadata": {},
     "output_type": "execute_result"
    }
   ],
   "source": [
    "perm_df_cleaned.tail()"
   ]
  },
  {
   "cell_type": "code",
   "execution_count": 41,
   "metadata": {
    "ExecuteTime": {
     "end_time": "2019-03-17T16:43:04.320534Z",
     "start_time": "2019-03-17T16:43:04.317401Z"
    }
   },
   "outputs": [],
   "source": [
    "economic_list = ['GDP_data','employment_to_pop_ratio','gov_expenditure_education','percentage_of_immigrants','net_migration']"
   ]
  },
  {
   "cell_type": "code",
   "execution_count": 42,
   "metadata": {
    "ExecuteTime": {
     "end_time": "2019-03-17T16:43:05.100323Z",
     "start_time": "2019-03-17T16:43:05.073221Z"
    }
   },
   "outputs": [],
   "source": [
    "def CleanEconomic(data):\n",
    "    \n",
    "    # Read data\n",
    "    economic_data = pd.read_csv(f'/Users/laurengilson/Desktop/perm_data/{data}.csv')\n",
    "    \n",
    "    # remove last 5 rows\n",
    "    economic_data = economic_data[:-5]\n",
    "\n",
    "    # drop unnecessary columns \n",
    "    economic_data.drop(['Series Name', 'Series Code', 'Country Name'], axis=1, inplace=True)\n",
    "    \n",
    "    # Turn to strings and replace '..' with '0'\n",
    "    for column in list(economic_data.columns):\n",
    "        economic_data[column] = list(map(str, economic_data[column]))\n",
    "        economic_data[column] = [x.replace('..', '0') for x in economic_data[column]]\n",
    "        \n",
    "    if data == 'percentage_of_immigrants':\n",
    "        \n",
    "        economic_data['2007 [YR2007]'] = economic_data['2005 [YR2005]']\n",
    "        economic_data.drop(['2005 [YR2005]', '2006 [YR2006]'], axis=1, inplace=True)\n",
    "    \n",
    "    elif data == 'net_migration':\n",
    "        \n",
    "        for idx, column in enumerate(list(economic_data.columns)[2:]):\n",
    "            economic_data[column] = economic_data[column].astype(float)\n",
    "            economic_data[column] = economic_data[column].replace(to_replace=0, value=economic_data.iloc[-1][column])\n",
    "            economic_data[column] = economic_data[column].replace(0, np.nan) # replace 0 with NaNs\n",
    "            economic_data.loc[economic_data[column].isnull(), column] = economic_data.iloc[:,economic_data.columns.get_loc(column)-1] # rest of nans with value from prev column\n",
    "            economic_data[column] = economic_data[column].astype(float)\n",
    "            \n",
    "        economic_data.drop(['2002 [YR2002]', '2003 [YR2003]', '2004 [YR2004]', '2005 [YR2005]', '2006 [YR2006]'], axis=1, inplace=True)\n",
    "\n",
    "    else: \n",
    "        None\n",
    "    \n",
    "    # dict of new columns to replace current column headers \n",
    "    years = ['2008', '2009', '2010', '2011', '2012', '2013', '2014', '2015', '2016', '2017', '2018', '2019']\n",
    "    col_list = list(economic_data.columns[1:])\n",
    "    new_cols = dict(zip(col_list, years))\n",
    "    \n",
    "    # Change column head to fiscal years \n",
    "    economic_data.rename(columns=new_cols, inplace=True)\n",
    "    \n",
    "    \n",
    "    if data == 'GDP_data':\n",
    "        \n",
    "        # Change 2019 - to have 3.1% growth on 2018.\n",
    "        economic_data['2019'] = economic_data['2018'].astype(float) * 1.031\n",
    "        \n",
    "        # Put data in billions & round to 2dp \n",
    "        for column in list(economic_data.columns)[1:]:\n",
    "            economic_data[column] = economic_data[column].astype(float)/1000000000 # Put in terms of billions\n",
    "            economic_data[column] = economic_data[column].apply(lambda x: round(x, 2))\n",
    "        \n",
    "        # Transform df\n",
    "        economic_data = pd.melt(economic_data, id_vars=['Country Code'], var_name='year', value_name='gdp')\n",
    "        \n",
    "        return economic_data\n",
    "    \n",
    "    elif data == 'employment_to_pop_ratio':\n",
    "        \n",
    "        for column in list(economic_data.columns)[1:]:\n",
    "            economic_data[column] = economic_data[column].astype(float)\n",
    "            economic_data[column] = economic_data[column].replace(to_replace=0, value=economic_data[column].mean())\n",
    "            economic_data[column] = economic_data[column].apply(lambda x: round(x, 2))\n",
    "           \n",
    "        # Transform df\n",
    "        economic_data = pd.melt(economic_data, id_vars=['Country Code'], var_name='year', value_name='employment')\n",
    "        \n",
    "        return economic_data\n",
    "    \n",
    "    elif data == 'gov_expenditure_education' or data == 'percentage_of_immigrants':\n",
    "\n",
    "        for idx, column in enumerate(list(economic_data.columns)[1:]):\n",
    "            economic_data[column] = economic_data[column].astype(float)\n",
    "            economic_data[column] = economic_data[column].replace(to_replace=0, value=economic_data.iloc[-1][column]) # Replace zero with world average for that year\n",
    "            economic_data[column] = economic_data[column].replace(0, np.nan) # replace 0 with NaNs\n",
    "            economic_data.loc[economic_data[column].isnull(), column] = economic_data.iloc[:,economic_data.columns.get_loc(column)-1] # rest of nans with value from prev column\n",
    "            economic_data[column] = economic_data[column].apply(lambda x: round(x, 2))\n",
    "        \n",
    "        # Transform df\n",
    "        if data == 'gov_expenditure_education':\n",
    "            economic_data = pd.melt(economic_data, id_vars=['Country Code'], var_name='year', value_name='gov_expen')\n",
    "            return economic_data\n",
    "        else:\n",
    "            economic_data = pd.melt(economic_data, id_vars=['Country Code'], var_name='year', value_name='percentage_of_immigrants')\n",
    "            return economic_data\n",
    "    \n",
    "    else: \n",
    "         # Transform df\n",
    "        economic_data = pd.melt(economic_data, id_vars=['Country Code'], var_name='year', value_name='net_migration')\n",
    "        return economic_data"
   ]
  },
  {
   "cell_type": "code",
   "execution_count": 43,
   "metadata": {
    "ExecuteTime": {
     "end_time": "2019-03-17T16:43:06.175577Z",
     "start_time": "2019-03-17T16:43:05.969351Z"
    }
   },
   "outputs": [
    {
     "data": {
      "text/html": [
       "<div>\n",
       "<style scoped>\n",
       "    .dataframe tbody tr th:only-of-type {\n",
       "        vertical-align: middle;\n",
       "    }\n",
       "\n",
       "    .dataframe tbody tr th {\n",
       "        vertical-align: top;\n",
       "    }\n",
       "\n",
       "    .dataframe thead th {\n",
       "        text-align: right;\n",
       "    }\n",
       "</style>\n",
       "<table border=\"1\" class=\"dataframe\">\n",
       "  <thead>\n",
       "    <tr style=\"text-align: right;\">\n",
       "      <th></th>\n",
       "      <th>Country Code</th>\n",
       "      <th>year</th>\n",
       "      <th>net_migration</th>\n",
       "    </tr>\n",
       "  </thead>\n",
       "  <tbody>\n",
       "    <tr>\n",
       "      <th>0</th>\n",
       "      <td>USA</td>\n",
       "      <td>2008</td>\n",
       "      <td>5033689.0</td>\n",
       "    </tr>\n",
       "    <tr>\n",
       "      <th>1</th>\n",
       "      <td>AFG</td>\n",
       "      <td>2008</td>\n",
       "      <td>-777497.0</td>\n",
       "    </tr>\n",
       "    <tr>\n",
       "      <th>2</th>\n",
       "      <td>ALB</td>\n",
       "      <td>2008</td>\n",
       "      <td>-217358.0</td>\n",
       "    </tr>\n",
       "    <tr>\n",
       "      <th>3</th>\n",
       "      <td>DZA</td>\n",
       "      <td>2008</td>\n",
       "      <td>-357340.0</td>\n",
       "    </tr>\n",
       "    <tr>\n",
       "      <th>4</th>\n",
       "      <td>ASM</td>\n",
       "      <td>2008</td>\n",
       "      <td>0.0</td>\n",
       "    </tr>\n",
       "    <tr>\n",
       "      <th>5</th>\n",
       "      <td>AND</td>\n",
       "      <td>2008</td>\n",
       "      <td>0.0</td>\n",
       "    </tr>\n",
       "    <tr>\n",
       "      <th>6</th>\n",
       "      <td>AGO</td>\n",
       "      <td>2008</td>\n",
       "      <td>85286.0</td>\n",
       "    </tr>\n",
       "    <tr>\n",
       "      <th>7</th>\n",
       "      <td>ATG</td>\n",
       "      <td>2008</td>\n",
       "      <td>-92.0</td>\n",
       "    </tr>\n",
       "    <tr>\n",
       "      <th>8</th>\n",
       "      <td>ARG</td>\n",
       "      <td>2008</td>\n",
       "      <td>-84998.0</td>\n",
       "    </tr>\n",
       "    <tr>\n",
       "      <th>9</th>\n",
       "      <td>ARM</td>\n",
       "      <td>2008</td>\n",
       "      <td>-183361.0</td>\n",
       "    </tr>\n",
       "    <tr>\n",
       "      <th>10</th>\n",
       "      <td>ABW</td>\n",
       "      <td>2008</td>\n",
       "      <td>-441.0</td>\n",
       "    </tr>\n",
       "    <tr>\n",
       "      <th>11</th>\n",
       "      <td>AUS</td>\n",
       "      <td>2008</td>\n",
       "      <td>1122688.0</td>\n",
       "    </tr>\n",
       "    <tr>\n",
       "      <th>12</th>\n",
       "      <td>AUT</td>\n",
       "      <td>2008</td>\n",
       "      <td>153763.0</td>\n",
       "    </tr>\n",
       "    <tr>\n",
       "      <th>13</th>\n",
       "      <td>AZE</td>\n",
       "      <td>2008</td>\n",
       "      <td>53580.0</td>\n",
       "    </tr>\n",
       "    <tr>\n",
       "      <th>14</th>\n",
       "      <td>BHS</td>\n",
       "      <td>2008</td>\n",
       "      <td>14363.0</td>\n",
       "    </tr>\n",
       "    <tr>\n",
       "      <th>15</th>\n",
       "      <td>BHR</td>\n",
       "      <td>2008</td>\n",
       "      <td>272000.0</td>\n",
       "    </tr>\n",
       "    <tr>\n",
       "      <th>16</th>\n",
       "      <td>BGD</td>\n",
       "      <td>2008</td>\n",
       "      <td>-3570954.0</td>\n",
       "    </tr>\n",
       "    <tr>\n",
       "      <th>17</th>\n",
       "      <td>BRB</td>\n",
       "      <td>2008</td>\n",
       "      <td>2050.0</td>\n",
       "    </tr>\n",
       "    <tr>\n",
       "      <th>18</th>\n",
       "      <td>BLR</td>\n",
       "      <td>2008</td>\n",
       "      <td>63933.0</td>\n",
       "    </tr>\n",
       "    <tr>\n",
       "      <th>19</th>\n",
       "      <td>BEL</td>\n",
       "      <td>2008</td>\n",
       "      <td>294270.0</td>\n",
       "    </tr>\n",
       "    <tr>\n",
       "      <th>20</th>\n",
       "      <td>BLZ</td>\n",
       "      <td>2008</td>\n",
       "      <td>8722.0</td>\n",
       "    </tr>\n",
       "    <tr>\n",
       "      <th>21</th>\n",
       "      <td>BEN</td>\n",
       "      <td>2008</td>\n",
       "      <td>-48776.0</td>\n",
       "    </tr>\n",
       "    <tr>\n",
       "      <th>22</th>\n",
       "      <td>BMU</td>\n",
       "      <td>2008</td>\n",
       "      <td>0.0</td>\n",
       "    </tr>\n",
       "    <tr>\n",
       "      <th>23</th>\n",
       "      <td>BTN</td>\n",
       "      <td>2008</td>\n",
       "      <td>16829.0</td>\n",
       "    </tr>\n",
       "    <tr>\n",
       "      <th>24</th>\n",
       "      <td>BOL</td>\n",
       "      <td>2008</td>\n",
       "      <td>-84003.0</td>\n",
       "    </tr>\n",
       "    <tr>\n",
       "      <th>25</th>\n",
       "      <td>BIH</td>\n",
       "      <td>2008</td>\n",
       "      <td>-59246.0</td>\n",
       "    </tr>\n",
       "    <tr>\n",
       "      <th>26</th>\n",
       "      <td>BWA</td>\n",
       "      <td>2008</td>\n",
       "      <td>18730.0</td>\n",
       "    </tr>\n",
       "    <tr>\n",
       "      <th>27</th>\n",
       "      <td>BRA</td>\n",
       "      <td>2008</td>\n",
       "      <td>0.0</td>\n",
       "    </tr>\n",
       "    <tr>\n",
       "      <th>28</th>\n",
       "      <td>VGB</td>\n",
       "      <td>2008</td>\n",
       "      <td>0.0</td>\n",
       "    </tr>\n",
       "    <tr>\n",
       "      <th>29</th>\n",
       "      <td>BRN</td>\n",
       "      <td>2008</td>\n",
       "      <td>-2089.0</td>\n",
       "    </tr>\n",
       "    <tr>\n",
       "      <th>...</th>\n",
       "      <td>...</td>\n",
       "      <td>...</td>\n",
       "      <td>...</td>\n",
       "    </tr>\n",
       "    <tr>\n",
       "      <th>3138</th>\n",
       "      <td>IDB</td>\n",
       "      <td>2019</td>\n",
       "      <td>-1704262.0</td>\n",
       "    </tr>\n",
       "    <tr>\n",
       "      <th>3139</th>\n",
       "      <td>IDX</td>\n",
       "      <td>2019</td>\n",
       "      <td>-6865972.0</td>\n",
       "    </tr>\n",
       "    <tr>\n",
       "      <th>3140</th>\n",
       "      <td>IDA</td>\n",
       "      <td>2019</td>\n",
       "      <td>-8570234.0</td>\n",
       "    </tr>\n",
       "    <tr>\n",
       "      <th>3141</th>\n",
       "      <td>LTE</td>\n",
       "      <td>2019</td>\n",
       "      <td>-1098140.0</td>\n",
       "    </tr>\n",
       "    <tr>\n",
       "      <th>3142</th>\n",
       "      <td>LCN</td>\n",
       "      <td>2019</td>\n",
       "      <td>-1671839.0</td>\n",
       "    </tr>\n",
       "    <tr>\n",
       "      <th>3143</th>\n",
       "      <td>LAC</td>\n",
       "      <td>2019</td>\n",
       "      <td>-1731412.0</td>\n",
       "    </tr>\n",
       "    <tr>\n",
       "      <th>3144</th>\n",
       "      <td>TLA</td>\n",
       "      <td>2019</td>\n",
       "      <td>-1500234.0</td>\n",
       "    </tr>\n",
       "    <tr>\n",
       "      <th>3145</th>\n",
       "      <td>LDC</td>\n",
       "      <td>2019</td>\n",
       "      <td>-5247506.0</td>\n",
       "    </tr>\n",
       "    <tr>\n",
       "      <th>3146</th>\n",
       "      <td>LMY</td>\n",
       "      <td>2019</td>\n",
       "      <td>-14639694.0</td>\n",
       "    </tr>\n",
       "    <tr>\n",
       "      <th>3147</th>\n",
       "      <td>LIC</td>\n",
       "      <td>2019</td>\n",
       "      <td>-3675622.0</td>\n",
       "    </tr>\n",
       "    <tr>\n",
       "      <th>3148</th>\n",
       "      <td>LMC</td>\n",
       "      <td>2019</td>\n",
       "      <td>-10438795.0</td>\n",
       "    </tr>\n",
       "    <tr>\n",
       "      <th>3149</th>\n",
       "      <td>MEA</td>\n",
       "      <td>2019</td>\n",
       "      <td>-330734.0</td>\n",
       "    </tr>\n",
       "    <tr>\n",
       "      <th>3150</th>\n",
       "      <td>MNA</td>\n",
       "      <td>2019</td>\n",
       "      <td>-2416237.0</td>\n",
       "    </tr>\n",
       "    <tr>\n",
       "      <th>3151</th>\n",
       "      <td>TMN</td>\n",
       "      <td>2019</td>\n",
       "      <td>-2383421.0</td>\n",
       "    </tr>\n",
       "    <tr>\n",
       "      <th>3152</th>\n",
       "      <td>MIC</td>\n",
       "      <td>2019</td>\n",
       "      <td>-10964072.0</td>\n",
       "    </tr>\n",
       "    <tr>\n",
       "      <th>3153</th>\n",
       "      <td>NAC</td>\n",
       "      <td>2019</td>\n",
       "      <td>5600000.0</td>\n",
       "    </tr>\n",
       "    <tr>\n",
       "      <th>3154</th>\n",
       "      <td>INX</td>\n",
       "      <td>2019</td>\n",
       "      <td>0.0</td>\n",
       "    </tr>\n",
       "    <tr>\n",
       "      <th>3155</th>\n",
       "      <td>OED</td>\n",
       "      <td>2019</td>\n",
       "      <td>13232046.0</td>\n",
       "    </tr>\n",
       "    <tr>\n",
       "      <th>3156</th>\n",
       "      <td>OSS</td>\n",
       "      <td>2019</td>\n",
       "      <td>446398.0</td>\n",
       "    </tr>\n",
       "    <tr>\n",
       "      <th>3157</th>\n",
       "      <td>PSS</td>\n",
       "      <td>2019</td>\n",
       "      <td>-56855.0</td>\n",
       "    </tr>\n",
       "    <tr>\n",
       "      <th>3158</th>\n",
       "      <td>PST</td>\n",
       "      <td>2019</td>\n",
       "      <td>12156364.0</td>\n",
       "    </tr>\n",
       "    <tr>\n",
       "      <th>3159</th>\n",
       "      <td>PRE</td>\n",
       "      <td>2019</td>\n",
       "      <td>-2004805.0</td>\n",
       "    </tr>\n",
       "    <tr>\n",
       "      <th>3160</th>\n",
       "      <td>SST</td>\n",
       "      <td>2019</td>\n",
       "      <td>269888.0</td>\n",
       "    </tr>\n",
       "    <tr>\n",
       "      <th>3161</th>\n",
       "      <td>SAS</td>\n",
       "      <td>2019</td>\n",
       "      <td>-6962017.0</td>\n",
       "    </tr>\n",
       "    <tr>\n",
       "      <th>3162</th>\n",
       "      <td>TSA</td>\n",
       "      <td>2019</td>\n",
       "      <td>-6962017.0</td>\n",
       "    </tr>\n",
       "    <tr>\n",
       "      <th>3163</th>\n",
       "      <td>SSF</td>\n",
       "      <td>2019</td>\n",
       "      <td>-1724595.0</td>\n",
       "    </tr>\n",
       "    <tr>\n",
       "      <th>3164</th>\n",
       "      <td>SSA</td>\n",
       "      <td>2019</td>\n",
       "      <td>-1723595.0</td>\n",
       "    </tr>\n",
       "    <tr>\n",
       "      <th>3165</th>\n",
       "      <td>TSS</td>\n",
       "      <td>2019</td>\n",
       "      <td>-1724595.0</td>\n",
       "    </tr>\n",
       "    <tr>\n",
       "      <th>3166</th>\n",
       "      <td>UMC</td>\n",
       "      <td>2019</td>\n",
       "      <td>-525277.0</td>\n",
       "    </tr>\n",
       "    <tr>\n",
       "      <th>3167</th>\n",
       "      <td>WLD</td>\n",
       "      <td>2019</td>\n",
       "      <td>0.0</td>\n",
       "    </tr>\n",
       "  </tbody>\n",
       "</table>\n",
       "<p>3168 rows × 3 columns</p>\n",
       "</div>"
      ],
      "text/plain": [
       "     Country Code  year  net_migration\n",
       "0             USA  2008      5033689.0\n",
       "1             AFG  2008      -777497.0\n",
       "2             ALB  2008      -217358.0\n",
       "3             DZA  2008      -357340.0\n",
       "4             ASM  2008            0.0\n",
       "5             AND  2008            0.0\n",
       "6             AGO  2008        85286.0\n",
       "7             ATG  2008          -92.0\n",
       "8             ARG  2008       -84998.0\n",
       "9             ARM  2008      -183361.0\n",
       "10            ABW  2008         -441.0\n",
       "11            AUS  2008      1122688.0\n",
       "12            AUT  2008       153763.0\n",
       "13            AZE  2008        53580.0\n",
       "14            BHS  2008        14363.0\n",
       "15            BHR  2008       272000.0\n",
       "16            BGD  2008     -3570954.0\n",
       "17            BRB  2008         2050.0\n",
       "18            BLR  2008        63933.0\n",
       "19            BEL  2008       294270.0\n",
       "20            BLZ  2008         8722.0\n",
       "21            BEN  2008       -48776.0\n",
       "22            BMU  2008            0.0\n",
       "23            BTN  2008        16829.0\n",
       "24            BOL  2008       -84003.0\n",
       "25            BIH  2008       -59246.0\n",
       "26            BWA  2008        18730.0\n",
       "27            BRA  2008            0.0\n",
       "28            VGB  2008            0.0\n",
       "29            BRN  2008        -2089.0\n",
       "...           ...   ...            ...\n",
       "3138          IDB  2019     -1704262.0\n",
       "3139          IDX  2019     -6865972.0\n",
       "3140          IDA  2019     -8570234.0\n",
       "3141          LTE  2019     -1098140.0\n",
       "3142          LCN  2019     -1671839.0\n",
       "3143          LAC  2019     -1731412.0\n",
       "3144          TLA  2019     -1500234.0\n",
       "3145          LDC  2019     -5247506.0\n",
       "3146          LMY  2019    -14639694.0\n",
       "3147          LIC  2019     -3675622.0\n",
       "3148          LMC  2019    -10438795.0\n",
       "3149          MEA  2019      -330734.0\n",
       "3150          MNA  2019     -2416237.0\n",
       "3151          TMN  2019     -2383421.0\n",
       "3152          MIC  2019    -10964072.0\n",
       "3153          NAC  2019      5600000.0\n",
       "3154          INX  2019            0.0\n",
       "3155          OED  2019     13232046.0\n",
       "3156          OSS  2019       446398.0\n",
       "3157          PSS  2019       -56855.0\n",
       "3158          PST  2019     12156364.0\n",
       "3159          PRE  2019     -2004805.0\n",
       "3160          SST  2019       269888.0\n",
       "3161          SAS  2019     -6962017.0\n",
       "3162          TSA  2019     -6962017.0\n",
       "3163          SSF  2019     -1724595.0\n",
       "3164          SSA  2019     -1723595.0\n",
       "3165          TSS  2019     -1724595.0\n",
       "3166          UMC  2019      -525277.0\n",
       "3167          WLD  2019            0.0\n",
       "\n",
       "[3168 rows x 3 columns]"
      ]
     },
     "execution_count": 43,
     "metadata": {},
     "output_type": "execute_result"
    }
   ],
   "source": [
    "CleanEconomic('net_migration')"
   ]
  },
  {
   "cell_type": "code",
   "execution_count": 44,
   "metadata": {
    "ExecuteTime": {
     "end_time": "2019-03-17T16:43:12.329293Z",
     "start_time": "2019-03-17T16:43:11.656270Z"
    }
   },
   "outputs": [],
   "source": [
    "cleaned_econ_dfs = []\n",
    "\n",
    "for data in economic_list:\n",
    "    cleaned_econ_dfs.append(CleanEconomic(data))"
   ]
  },
  {
   "cell_type": "code",
   "execution_count": 45,
   "metadata": {
    "ExecuteTime": {
     "end_time": "2019-03-17T16:43:12.538498Z",
     "start_time": "2019-03-17T16:43:12.528477Z"
    }
   },
   "outputs": [
    {
     "data": {
      "text/html": [
       "<div>\n",
       "<style scoped>\n",
       "    .dataframe tbody tr th:only-of-type {\n",
       "        vertical-align: middle;\n",
       "    }\n",
       "\n",
       "    .dataframe tbody tr th {\n",
       "        vertical-align: top;\n",
       "    }\n",
       "\n",
       "    .dataframe thead th {\n",
       "        text-align: right;\n",
       "    }\n",
       "</style>\n",
       "<table border=\"1\" class=\"dataframe\">\n",
       "  <thead>\n",
       "    <tr style=\"text-align: right;\">\n",
       "      <th></th>\n",
       "      <th>Country Code</th>\n",
       "      <th>year</th>\n",
       "      <th>gdp</th>\n",
       "    </tr>\n",
       "  </thead>\n",
       "  <tbody>\n",
       "    <tr>\n",
       "      <th>0</th>\n",
       "      <td>USA</td>\n",
       "      <td>2008</td>\n",
       "      <td>14477.64</td>\n",
       "    </tr>\n",
       "    <tr>\n",
       "      <th>1</th>\n",
       "      <td>AFG</td>\n",
       "      <td>2008</td>\n",
       "      <td>9.75</td>\n",
       "    </tr>\n",
       "    <tr>\n",
       "      <th>2</th>\n",
       "      <td>ALB</td>\n",
       "      <td>2008</td>\n",
       "      <td>10.68</td>\n",
       "    </tr>\n",
       "    <tr>\n",
       "      <th>3</th>\n",
       "      <td>DZA</td>\n",
       "      <td>2008</td>\n",
       "      <td>134.98</td>\n",
       "    </tr>\n",
       "    <tr>\n",
       "      <th>4</th>\n",
       "      <td>ASM</td>\n",
       "      <td>2008</td>\n",
       "      <td>0.52</td>\n",
       "    </tr>\n",
       "  </tbody>\n",
       "</table>\n",
       "</div>"
      ],
      "text/plain": [
       "  Country Code  year       gdp\n",
       "0          USA  2008  14477.64\n",
       "1          AFG  2008      9.75\n",
       "2          ALB  2008     10.68\n",
       "3          DZA  2008    134.98\n",
       "4          ASM  2008      0.52"
      ]
     },
     "execution_count": 45,
     "metadata": {},
     "output_type": "execute_result"
    }
   ],
   "source": [
    "cleaned_econ_dfs[0].head()"
   ]
  },
  {
   "cell_type": "code",
   "execution_count": 46,
   "metadata": {
    "ExecuteTime": {
     "end_time": "2019-03-17T16:43:13.838992Z",
     "start_time": "2019-03-17T16:43:13.809214Z"
    }
   },
   "outputs": [
    {
     "data": {
      "text/html": [
       "<div>\n",
       "<style scoped>\n",
       "    .dataframe tbody tr th:only-of-type {\n",
       "        vertical-align: middle;\n",
       "    }\n",
       "\n",
       "    .dataframe tbody tr th {\n",
       "        vertical-align: top;\n",
       "    }\n",
       "\n",
       "    .dataframe thead th {\n",
       "        text-align: right;\n",
       "    }\n",
       "</style>\n",
       "<table border=\"1\" class=\"dataframe\">\n",
       "  <thead>\n",
       "    <tr style=\"text-align: right;\">\n",
       "      <th></th>\n",
       "      <th>case_outcome</th>\n",
       "      <th>fiscal_year_of_application</th>\n",
       "      <th>processing_center</th>\n",
       "      <th>class_of_admission</th>\n",
       "      <th>country_of_citizenship</th>\n",
       "      <th>citizenship_same_as_birth</th>\n",
       "      <th>wage_for_job</th>\n",
       "      <th>job_soc_code</th>\n",
       "      <th>job_economic_sector</th>\n",
       "      <th>employer_completed_application</th>\n",
       "      <th>decision_month_year</th>\n",
       "      <th>applicant_highest_education</th>\n",
       "      <th>training_required</th>\n",
       "      <th>layoff_in_past_six_months</th>\n",
       "      <th>ownership_interest</th>\n",
       "      <th>employer_num_employees</th>\n",
       "      <th>worker_state_abv</th>\n",
       "      <th>job_same_state</th>\n",
       "      <th>has_required_experience</th>\n",
       "    </tr>\n",
       "  </thead>\n",
       "  <tbody>\n",
       "    <tr>\n",
       "      <th>0</th>\n",
       "      <td>1</td>\n",
       "      <td>2008</td>\n",
       "      <td>A</td>\n",
       "      <td>a1/a2</td>\n",
       "      <td>MRT</td>\n",
       "      <td>1</td>\n",
       "      <td>53039.0</td>\n",
       "      <td>35</td>\n",
       "      <td>unclassified</td>\n",
       "      <td>0</td>\n",
       "      <td>200809</td>\n",
       "      <td>unknown</td>\n",
       "      <td>0</td>\n",
       "      <td>0</td>\n",
       "      <td>0</td>\n",
       "      <td>28602</td>\n",
       "      <td>unknown</td>\n",
       "      <td>1</td>\n",
       "      <td>n</td>\n",
       "    </tr>\n",
       "    <tr>\n",
       "      <th>1</th>\n",
       "      <td>1</td>\n",
       "      <td>2008</td>\n",
       "      <td>C</td>\n",
       "      <td>a1/a2</td>\n",
       "      <td>PAK</td>\n",
       "      <td>1</td>\n",
       "      <td>53039.0</td>\n",
       "      <td>19</td>\n",
       "      <td>unclassified</td>\n",
       "      <td>0</td>\n",
       "      <td>200711</td>\n",
       "      <td>unknown</td>\n",
       "      <td>0</td>\n",
       "      <td>0</td>\n",
       "      <td>0</td>\n",
       "      <td>28602</td>\n",
       "      <td>unknown</td>\n",
       "      <td>1</td>\n",
       "      <td>n</td>\n",
       "    </tr>\n",
       "    <tr>\n",
       "      <th>2</th>\n",
       "      <td>0</td>\n",
       "      <td>2008</td>\n",
       "      <td>A</td>\n",
       "      <td>a3</td>\n",
       "      <td>PHL</td>\n",
       "      <td>1</td>\n",
       "      <td>53039.0</td>\n",
       "      <td>35</td>\n",
       "      <td>unclassified</td>\n",
       "      <td>0</td>\n",
       "      <td>200807</td>\n",
       "      <td>unknown</td>\n",
       "      <td>0</td>\n",
       "      <td>0</td>\n",
       "      <td>0</td>\n",
       "      <td>28602</td>\n",
       "      <td>unknown</td>\n",
       "      <td>1</td>\n",
       "      <td>n</td>\n",
       "    </tr>\n",
       "    <tr>\n",
       "      <th>3</th>\n",
       "      <td>1</td>\n",
       "      <td>2008</td>\n",
       "      <td>A</td>\n",
       "      <td>a3</td>\n",
       "      <td>PRT</td>\n",
       "      <td>1</td>\n",
       "      <td>53039.0</td>\n",
       "      <td>47</td>\n",
       "      <td>unclassified</td>\n",
       "      <td>0</td>\n",
       "      <td>200710</td>\n",
       "      <td>unknown</td>\n",
       "      <td>0</td>\n",
       "      <td>0</td>\n",
       "      <td>0</td>\n",
       "      <td>28602</td>\n",
       "      <td>unknown</td>\n",
       "      <td>1</td>\n",
       "      <td>n</td>\n",
       "    </tr>\n",
       "    <tr>\n",
       "      <th>4</th>\n",
       "      <td>1</td>\n",
       "      <td>2008</td>\n",
       "      <td>A</td>\n",
       "      <td>b1</td>\n",
       "      <td>SLE</td>\n",
       "      <td>1</td>\n",
       "      <td>53039.0</td>\n",
       "      <td>99</td>\n",
       "      <td>unclassified</td>\n",
       "      <td>0</td>\n",
       "      <td>200809</td>\n",
       "      <td>unknown</td>\n",
       "      <td>0</td>\n",
       "      <td>0</td>\n",
       "      <td>0</td>\n",
       "      <td>28602</td>\n",
       "      <td>unknown</td>\n",
       "      <td>1</td>\n",
       "      <td>n</td>\n",
       "    </tr>\n",
       "  </tbody>\n",
       "</table>\n",
       "</div>"
      ],
      "text/plain": [
       "  case_outcome fiscal_year_of_application processing_center  \\\n",
       "0            1                       2008                 A   \n",
       "1            1                       2008                 C   \n",
       "2            0                       2008                 A   \n",
       "3            1                       2008                 A   \n",
       "4            1                       2008                 A   \n",
       "\n",
       "  class_of_admission country_of_citizenship citizenship_same_as_birth  \\\n",
       "0              a1/a2                    MRT                         1   \n",
       "1              a1/a2                    PAK                         1   \n",
       "2                 a3                    PHL                         1   \n",
       "3                 a3                    PRT                         1   \n",
       "4                 b1                    SLE                         1   \n",
       "\n",
       "   wage_for_job job_soc_code job_economic_sector  \\\n",
       "0       53039.0           35        unclassified   \n",
       "1       53039.0           19        unclassified   \n",
       "2       53039.0           35        unclassified   \n",
       "3       53039.0           47        unclassified   \n",
       "4       53039.0           99        unclassified   \n",
       "\n",
       "  employer_completed_application decision_month_year  \\\n",
       "0                              0              200809   \n",
       "1                              0              200711   \n",
       "2                              0              200807   \n",
       "3                              0              200710   \n",
       "4                              0              200809   \n",
       "\n",
       "  applicant_highest_education training_required layoff_in_past_six_months  \\\n",
       "0                     unknown                 0                         0   \n",
       "1                     unknown                 0                         0   \n",
       "2                     unknown                 0                         0   \n",
       "3                     unknown                 0                         0   \n",
       "4                     unknown                 0                         0   \n",
       "\n",
       "  ownership_interest  employer_num_employees worker_state_abv job_same_state  \\\n",
       "0                  0                   28602          unknown              1   \n",
       "1                  0                   28602          unknown              1   \n",
       "2                  0                   28602          unknown              1   \n",
       "3                  0                   28602          unknown              1   \n",
       "4                  0                   28602          unknown              1   \n",
       "\n",
       "  has_required_experience  \n",
       "0                       n  \n",
       "1                       n  \n",
       "2                       n  \n",
       "3                       n  \n",
       "4                       n  "
      ]
     },
     "execution_count": 46,
     "metadata": {},
     "output_type": "execute_result"
    }
   ],
   "source": [
    "perm_df_cleaned.head()"
   ]
  },
  {
   "cell_type": "code",
   "execution_count": 47,
   "metadata": {
    "ExecuteTime": {
     "end_time": "2019-03-17T16:43:14.837562Z",
     "start_time": "2019-03-17T16:43:14.832625Z"
    }
   },
   "outputs": [
    {
     "data": {
      "text/plain": [
       "Index(['case_outcome', 'fiscal_year_of_application', 'processing_center',\n",
       "       'class_of_admission', 'country_of_citizenship',\n",
       "       'citizenship_same_as_birth', 'wage_for_job', 'job_soc_code',\n",
       "       'job_economic_sector', 'employer_completed_application',\n",
       "       'decision_month_year', 'applicant_highest_education',\n",
       "       'training_required', 'layoff_in_past_six_months', 'ownership_interest',\n",
       "       'employer_num_employees', 'worker_state_abv', 'job_same_state',\n",
       "       'has_required_experience'],\n",
       "      dtype='object')"
      ]
     },
     "execution_count": 47,
     "metadata": {},
     "output_type": "execute_result"
    }
   ],
   "source": [
    "perm_df_cleaned.columns"
   ]
  },
  {
   "cell_type": "code",
   "execution_count": 48,
   "metadata": {
    "ExecuteTime": {
     "end_time": "2019-03-17T16:43:16.690138Z",
     "start_time": "2019-03-17T16:43:16.249137Z"
    }
   },
   "outputs": [
    {
     "name": "stdout",
     "output_type": "stream",
     "text": [
      "<class 'pandas.core.frame.DataFrame'>\n",
      "RangeIndex: 848086 entries, 0 to 848085\n",
      "Data columns (total 19 columns):\n",
      "case_outcome                      848086 non-null category\n",
      "fiscal_year_of_application        848086 non-null category\n",
      "processing_center                 848086 non-null category\n",
      "class_of_admission                848086 non-null category\n",
      "country_of_citizenship            848086 non-null object\n",
      "citizenship_same_as_birth         848086 non-null category\n",
      "wage_for_job                      848086 non-null float64\n",
      "job_soc_code                      848086 non-null category\n",
      "job_economic_sector               848086 non-null object\n",
      "employer_completed_application    848086 non-null category\n",
      "decision_month_year               848086 non-null category\n",
      "applicant_highest_education       848086 non-null category\n",
      "training_required                 848086 non-null category\n",
      "layoff_in_past_six_months         848086 non-null category\n",
      "ownership_interest                848086 non-null category\n",
      "employer_num_employees            848086 non-null int64\n",
      "worker_state_abv                  848086 non-null category\n",
      "job_same_state                    848086 non-null category\n",
      "has_required_experience           848086 non-null category\n",
      "dtypes: category(15), float64(1), int64(1), object(2)\n",
      "memory usage: 38.8+ MB\n"
     ]
    }
   ],
   "source": [
    "perm_df_cleaned.info()"
   ]
  },
  {
   "cell_type": "code",
   "execution_count": 49,
   "metadata": {
    "ExecuteTime": {
     "end_time": "2019-03-17T16:43:26.437181Z",
     "start_time": "2019-03-17T16:43:22.224289Z"
    },
    "scrolled": true
   },
   "outputs": [],
   "source": [
    "for cleaned_df in cleaned_econ_dfs:\n",
    "    perm_df_cleaned  = pd.merge(perm_df_cleaned, cleaned_df,  how='left', left_on=['country_of_citizenship','fiscal_year_of_application'], right_on = ['Country Code','year'])\n",
    "    perm_df_cleaned.drop(['Country Code','year'], axis=1, inplace=True)"
   ]
  },
  {
   "cell_type": "code",
   "execution_count": 50,
   "metadata": {
    "ExecuteTime": {
     "end_time": "2019-03-17T16:43:27.048297Z",
     "start_time": "2019-03-17T16:43:27.001590Z"
    },
    "scrolled": true
   },
   "outputs": [
    {
     "data": {
      "text/html": [
       "<div>\n",
       "<style scoped>\n",
       "    .dataframe tbody tr th:only-of-type {\n",
       "        vertical-align: middle;\n",
       "    }\n",
       "\n",
       "    .dataframe tbody tr th {\n",
       "        vertical-align: top;\n",
       "    }\n",
       "\n",
       "    .dataframe thead th {\n",
       "        text-align: right;\n",
       "    }\n",
       "</style>\n",
       "<table border=\"1\" class=\"dataframe\">\n",
       "  <thead>\n",
       "    <tr style=\"text-align: right;\">\n",
       "      <th></th>\n",
       "      <th>case_outcome</th>\n",
       "      <th>fiscal_year_of_application</th>\n",
       "      <th>processing_center</th>\n",
       "      <th>class_of_admission</th>\n",
       "      <th>country_of_citizenship</th>\n",
       "      <th>citizenship_same_as_birth</th>\n",
       "      <th>wage_for_job</th>\n",
       "      <th>job_soc_code</th>\n",
       "      <th>job_economic_sector</th>\n",
       "      <th>employer_completed_application</th>\n",
       "      <th>...</th>\n",
       "      <th>ownership_interest</th>\n",
       "      <th>employer_num_employees</th>\n",
       "      <th>worker_state_abv</th>\n",
       "      <th>job_same_state</th>\n",
       "      <th>has_required_experience</th>\n",
       "      <th>gdp</th>\n",
       "      <th>employment</th>\n",
       "      <th>gov_expen</th>\n",
       "      <th>percentage_of_immigrants</th>\n",
       "      <th>net_migration</th>\n",
       "    </tr>\n",
       "  </thead>\n",
       "  <tbody>\n",
       "    <tr>\n",
       "      <th>0</th>\n",
       "      <td>1</td>\n",
       "      <td>2008</td>\n",
       "      <td>A</td>\n",
       "      <td>a1/a2</td>\n",
       "      <td>MRT</td>\n",
       "      <td>1</td>\n",
       "      <td>53039.0</td>\n",
       "      <td>35</td>\n",
       "      <td>unclassified</td>\n",
       "      <td>0</td>\n",
       "      <td>...</td>\n",
       "      <td>0</td>\n",
       "      <td>28602</td>\n",
       "      <td>unknown</td>\n",
       "      <td>1</td>\n",
       "      <td>n</td>\n",
       "      <td>3.36</td>\n",
       "      <td>13.74</td>\n",
       "      <td>4.23</td>\n",
       "      <td>1.84</td>\n",
       "      <td>10005.0</td>\n",
       "    </tr>\n",
       "    <tr>\n",
       "      <th>1</th>\n",
       "      <td>1</td>\n",
       "      <td>2008</td>\n",
       "      <td>C</td>\n",
       "      <td>a1/a2</td>\n",
       "      <td>PAK</td>\n",
       "      <td>1</td>\n",
       "      <td>53039.0</td>\n",
       "      <td>19</td>\n",
       "      <td>unclassified</td>\n",
       "      <td>0</td>\n",
       "      <td>...</td>\n",
       "      <td>0</td>\n",
       "      <td>28602</td>\n",
       "      <td>unknown</td>\n",
       "      <td>1</td>\n",
       "      <td>n</td>\n",
       "      <td>152.39</td>\n",
       "      <td>40.94</td>\n",
       "      <td>2.64</td>\n",
       "      <td>2.07</td>\n",
       "      <td>-1396377.0</td>\n",
       "    </tr>\n",
       "    <tr>\n",
       "      <th>2</th>\n",
       "      <td>0</td>\n",
       "      <td>2008</td>\n",
       "      <td>A</td>\n",
       "      <td>a3</td>\n",
       "      <td>PHL</td>\n",
       "      <td>1</td>\n",
       "      <td>53039.0</td>\n",
       "      <td>35</td>\n",
       "      <td>unclassified</td>\n",
       "      <td>0</td>\n",
       "      <td>...</td>\n",
       "      <td>0</td>\n",
       "      <td>28602</td>\n",
       "      <td>unknown</td>\n",
       "      <td>1</td>\n",
       "      <td>n</td>\n",
       "      <td>149.36</td>\n",
       "      <td>38.22</td>\n",
       "      <td>2.60</td>\n",
       "      <td>0.30</td>\n",
       "      <td>-1500002.0</td>\n",
       "    </tr>\n",
       "    <tr>\n",
       "      <th>3</th>\n",
       "      <td>1</td>\n",
       "      <td>2008</td>\n",
       "      <td>A</td>\n",
       "      <td>a3</td>\n",
       "      <td>PRT</td>\n",
       "      <td>1</td>\n",
       "      <td>53039.0</td>\n",
       "      <td>47</td>\n",
       "      <td>unclassified</td>\n",
       "      <td>0</td>\n",
       "      <td>...</td>\n",
       "      <td>0</td>\n",
       "      <td>28602</td>\n",
       "      <td>unknown</td>\n",
       "      <td>1</td>\n",
       "      <td>n</td>\n",
       "      <td>240.17</td>\n",
       "      <td>34.41</td>\n",
       "      <td>4.92</td>\n",
       "      <td>7.36</td>\n",
       "      <td>92133.0</td>\n",
       "    </tr>\n",
       "    <tr>\n",
       "      <th>4</th>\n",
       "      <td>1</td>\n",
       "      <td>2008</td>\n",
       "      <td>A</td>\n",
       "      <td>b1</td>\n",
       "      <td>SLE</td>\n",
       "      <td>1</td>\n",
       "      <td>53039.0</td>\n",
       "      <td>99</td>\n",
       "      <td>unclassified</td>\n",
       "      <td>0</td>\n",
       "      <td>...</td>\n",
       "      <td>0</td>\n",
       "      <td>28602</td>\n",
       "      <td>unknown</td>\n",
       "      <td>1</td>\n",
       "      <td>n</td>\n",
       "      <td>2.16</td>\n",
       "      <td>13.74</td>\n",
       "      <td>2.56</td>\n",
       "      <td>2.95</td>\n",
       "      <td>60000.0</td>\n",
       "    </tr>\n",
       "  </tbody>\n",
       "</table>\n",
       "<p>5 rows × 24 columns</p>\n",
       "</div>"
      ],
      "text/plain": [
       "  case_outcome fiscal_year_of_application processing_center  \\\n",
       "0            1                       2008                 A   \n",
       "1            1                       2008                 C   \n",
       "2            0                       2008                 A   \n",
       "3            1                       2008                 A   \n",
       "4            1                       2008                 A   \n",
       "\n",
       "  class_of_admission country_of_citizenship citizenship_same_as_birth  \\\n",
       "0              a1/a2                    MRT                         1   \n",
       "1              a1/a2                    PAK                         1   \n",
       "2                 a3                    PHL                         1   \n",
       "3                 a3                    PRT                         1   \n",
       "4                 b1                    SLE                         1   \n",
       "\n",
       "   wage_for_job job_soc_code job_economic_sector  \\\n",
       "0       53039.0           35        unclassified   \n",
       "1       53039.0           19        unclassified   \n",
       "2       53039.0           35        unclassified   \n",
       "3       53039.0           47        unclassified   \n",
       "4       53039.0           99        unclassified   \n",
       "\n",
       "  employer_completed_application  ... ownership_interest  \\\n",
       "0                              0  ...                  0   \n",
       "1                              0  ...                  0   \n",
       "2                              0  ...                  0   \n",
       "3                              0  ...                  0   \n",
       "4                              0  ...                  0   \n",
       "\n",
       "  employer_num_employees worker_state_abv job_same_state  \\\n",
       "0                  28602          unknown              1   \n",
       "1                  28602          unknown              1   \n",
       "2                  28602          unknown              1   \n",
       "3                  28602          unknown              1   \n",
       "4                  28602          unknown              1   \n",
       "\n",
       "  has_required_experience     gdp employment gov_expen  \\\n",
       "0                       n    3.36      13.74      4.23   \n",
       "1                       n  152.39      40.94      2.64   \n",
       "2                       n  149.36      38.22      2.60   \n",
       "3                       n  240.17      34.41      4.92   \n",
       "4                       n    2.16      13.74      2.56   \n",
       "\n",
       "  percentage_of_immigrants  net_migration  \n",
       "0                     1.84        10005.0  \n",
       "1                     2.07     -1396377.0  \n",
       "2                     0.30     -1500002.0  \n",
       "3                     7.36        92133.0  \n",
       "4                     2.95        60000.0  \n",
       "\n",
       "[5 rows x 24 columns]"
      ]
     },
     "execution_count": 50,
     "metadata": {},
     "output_type": "execute_result"
    }
   ],
   "source": [
    "perm_df_cleaned.head()"
   ]
  },
  {
   "cell_type": "code",
   "execution_count": 51,
   "metadata": {
    "ExecuteTime": {
     "end_time": "2019-03-17T16:43:28.121802Z",
     "start_time": "2019-03-17T16:43:27.587355Z"
    }
   },
   "outputs": [
    {
     "name": "stdout",
     "output_type": "stream",
     "text": [
      "<class 'pandas.core.frame.DataFrame'>\n",
      "Int64Index: 848086 entries, 0 to 848085\n",
      "Data columns (total 24 columns):\n",
      "case_outcome                      848086 non-null category\n",
      "fiscal_year_of_application        848086 non-null object\n",
      "processing_center                 848086 non-null category\n",
      "class_of_admission                848086 non-null category\n",
      "country_of_citizenship            848086 non-null object\n",
      "citizenship_same_as_birth         848086 non-null category\n",
      "wage_for_job                      848086 non-null float64\n",
      "job_soc_code                      848086 non-null category\n",
      "job_economic_sector               848086 non-null object\n",
      "employer_completed_application    848086 non-null category\n",
      "decision_month_year               848086 non-null category\n",
      "applicant_highest_education       848086 non-null category\n",
      "training_required                 848086 non-null category\n",
      "layoff_in_past_six_months         848086 non-null category\n",
      "ownership_interest                848086 non-null category\n",
      "employer_num_employees            848086 non-null int64\n",
      "worker_state_abv                  848086 non-null category\n",
      "job_same_state                    848086 non-null category\n",
      "has_required_experience           848086 non-null category\n",
      "gdp                               848083 non-null float64\n",
      "employment                        848083 non-null float64\n",
      "gov_expen                         848083 non-null float64\n",
      "percentage_of_immigrants          848083 non-null float64\n",
      "net_migration                     848083 non-null float64\n",
      "dtypes: category(14), float64(6), int64(1), object(3)\n",
      "memory usage: 83.3+ MB\n"
     ]
    }
   ],
   "source": [
    "perm_df_cleaned.info()"
   ]
  },
  {
   "cell_type": "code",
   "execution_count": 52,
   "metadata": {
    "ExecuteTime": {
     "end_time": "2019-03-17T16:43:43.011481Z",
     "start_time": "2019-03-17T16:43:43.006517Z"
    }
   },
   "outputs": [
    {
     "data": {
      "text/plain": [
       "['case_outcome',\n",
       " 'fiscal_year_of_application',\n",
       " 'processing_center',\n",
       " 'class_of_admission',\n",
       " 'country_of_citizenship',\n",
       " 'citizenship_same_as_birth',\n",
       " 'wage_for_job',\n",
       " 'job_soc_code',\n",
       " 'job_economic_sector',\n",
       " 'employer_completed_application',\n",
       " 'decision_month_year',\n",
       " 'applicant_highest_education',\n",
       " 'training_required',\n",
       " 'layoff_in_past_six_months',\n",
       " 'ownership_interest',\n",
       " 'employer_num_employees',\n",
       " 'worker_state_abv',\n",
       " 'job_same_state',\n",
       " 'has_required_experience',\n",
       " 'gdp',\n",
       " 'employment',\n",
       " 'gov_expen',\n",
       " 'percentage_of_immigrants',\n",
       " 'net_migration']"
      ]
     },
     "execution_count": 52,
     "metadata": {},
     "output_type": "execute_result"
    }
   ],
   "source": [
    "list(perm_df_cleaned.columns)"
   ]
  },
  {
   "cell_type": "code",
   "execution_count": 53,
   "metadata": {
    "ExecuteTime": {
     "end_time": "2019-03-17T16:43:45.820191Z",
     "start_time": "2019-03-17T16:43:45.816579Z"
    }
   },
   "outputs": [],
   "source": [
    "### Add political party at time of decision\n",
    "# 1 - Republican 0 - Democratic\n",
    "def PoliticalParty(date):\n",
    "    \n",
    "    if 200902 <= date <= 201701:\n",
    "        return 0\n",
    "    else:\n",
    "        return 1"
   ]
  },
  {
   "cell_type": "code",
   "execution_count": 54,
   "metadata": {
    "ExecuteTime": {
     "end_time": "2019-03-17T16:43:46.570739Z",
     "start_time": "2019-03-17T16:43:46.542501Z"
    }
   },
   "outputs": [],
   "source": [
    "perm_df_cleaned['political_party'] = (perm_df_cleaned['decision_month_year'].apply(PoliticalParty).astype('category'))"
   ]
  },
  {
   "cell_type": "code",
   "execution_count": 55,
   "metadata": {
    "ExecuteTime": {
     "end_time": "2019-03-17T16:43:47.892255Z",
     "start_time": "2019-03-17T16:43:47.187648Z"
    }
   },
   "outputs": [],
   "source": [
    "perm_df_cleaned.dropna(inplace=True)"
   ]
  },
  {
   "cell_type": "code",
   "execution_count": 56,
   "metadata": {
    "ExecuteTime": {
     "end_time": "2019-03-17T16:43:49.107056Z",
     "start_time": "2019-03-17T16:43:48.559105Z"
    }
   },
   "outputs": [
    {
     "name": "stdout",
     "output_type": "stream",
     "text": [
      "<class 'pandas.core.frame.DataFrame'>\n",
      "Int64Index: 848083 entries, 0 to 848085\n",
      "Data columns (total 25 columns):\n",
      "case_outcome                      848083 non-null category\n",
      "fiscal_year_of_application        848083 non-null object\n",
      "processing_center                 848083 non-null category\n",
      "class_of_admission                848083 non-null category\n",
      "country_of_citizenship            848083 non-null object\n",
      "citizenship_same_as_birth         848083 non-null category\n",
      "wage_for_job                      848083 non-null float64\n",
      "job_soc_code                      848083 non-null category\n",
      "job_economic_sector               848083 non-null object\n",
      "employer_completed_application    848083 non-null category\n",
      "decision_month_year               848083 non-null category\n",
      "applicant_highest_education       848083 non-null category\n",
      "training_required                 848083 non-null category\n",
      "layoff_in_past_six_months         848083 non-null category\n",
      "ownership_interest                848083 non-null category\n",
      "employer_num_employees            848083 non-null int64\n",
      "worker_state_abv                  848083 non-null category\n",
      "job_same_state                    848083 non-null category\n",
      "has_required_experience           848083 non-null category\n",
      "gdp                               848083 non-null float64\n",
      "employment                        848083 non-null float64\n",
      "gov_expen                         848083 non-null float64\n",
      "percentage_of_immigrants          848083 non-null float64\n",
      "net_migration                     848083 non-null float64\n",
      "political_party                   848083 non-null category\n",
      "dtypes: category(15), float64(6), int64(1), object(3)\n",
      "memory usage: 84.1+ MB\n"
     ]
    }
   ],
   "source": [
    "perm_df_cleaned.info()"
   ]
  },
  {
   "cell_type": "code",
   "execution_count": 57,
   "metadata": {
    "ExecuteTime": {
     "end_time": "2019-03-17T16:43:53.506939Z",
     "start_time": "2019-03-17T16:43:52.847698Z"
    }
   },
   "outputs": [],
   "source": [
    "# pickle clean df\n",
    "perm_df_cleaned.to_pickle(\"./final_clean_df.pkl\")"
   ]
  },
  {
   "cell_type": "code",
   "execution_count": null,
   "metadata": {},
   "outputs": [],
   "source": []
  }
 ],
 "metadata": {
  "kernelspec": {
   "display_name": "Python 3",
   "language": "python",
   "name": "python3"
  },
  "language_info": {
   "codemirror_mode": {
    "name": "ipython",
    "version": 3
   },
   "file_extension": ".py",
   "mimetype": "text/x-python",
   "name": "python",
   "nbconvert_exporter": "python",
   "pygments_lexer": "ipython3",
   "version": "3.6.8"
  },
  "toc": {
   "base_numbering": 1,
   "nav_menu": {},
   "number_sections": true,
   "sideBar": true,
   "skip_h1_title": false,
   "title_cell": "Table of Contents",
   "title_sidebar": "Contents",
   "toc_cell": false,
   "toc_position": {},
   "toc_section_display": true,
   "toc_window_display": false
  },
  "varInspector": {
   "cols": {
    "lenName": 16,
    "lenType": 16,
    "lenVar": 40
   },
   "kernels_config": {
    "python": {
     "delete_cmd_postfix": "",
     "delete_cmd_prefix": "del ",
     "library": "var_list.py",
     "varRefreshCmd": "print(var_dic_list())"
    },
    "r": {
     "delete_cmd_postfix": ") ",
     "delete_cmd_prefix": "rm(",
     "library": "var_list.r",
     "varRefreshCmd": "cat(var_dic_list()) "
    }
   },
   "types_to_exclude": [
    "module",
    "function",
    "builtin_function_or_method",
    "instance",
    "_Feature"
   ],
   "window_display": false
  }
 },
 "nbformat": 4,
 "nbformat_minor": 2
}
